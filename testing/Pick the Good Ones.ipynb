{
 "cells": [
  {
   "cell_type": "code",
   "execution_count": 2,
   "metadata": {
    "scrolled": true
   },
   "outputs": [
    {
     "name": "stdout",
     "output_type": "stream",
     "text": [
      "daq\n",
      "uniphase\n",
      "{'outlet_pressure': <L2.PressureControl.ArduinoPressure object at 0x0000024C641C4AC8>, 'xy_stage': <L2.XYControl.PycromanagerXY object at 0x0000024C641C4A08>, 'objective': <L2.ZControl.PycromanagerZ object at 0x0000024C641C4B88>, 'outlet_z': <L2.ZControl.ArduinoZ object at 0x0000024C641C4C08>, 'inlet_z': <L2.ZControl.ArduinoZ object at 0x0000024C641C4B08>, 'inlet_rgb': <L2.LightControl.RGBArduino object at 0x0000024C641C4C48>, 'filter_wheel': <L2.FilterWheelControl.PycromanagerFilter object at 0x0000024C641C4F08>, 'excitation_shutter': <L2.ShutterControl.PycromanagerShutter object at 0x0000024C641C4D88>, 'camera': <L2.CameraControl.PycromanagerControl object at 0x0000024C641C4E08>, 'high_voltage': <L2.HighVoltageControl.SpellmanPowerSupply object at 0x0000024C641C4E48>, 'detector': <L2.DetectorControl.PhotomultiplierDetector object at 0x0000024C641C4D48>, 'lysis_laser': <L2.LaserControl.Uniphase object at 0x0000024C641C91C8>}\n",
      "OPENING:  mmc1 <L1.Controllers.PycromanagerController object at 0x0000024C641BA6C8> using port: pycromanager\n",
      "OPENING:  daq1 <L1.DAQControllers.NiDaq object at 0x0000024C641BA648>\n",
      "OPENING:  ard1 <L1.Controllers.ArduinoController object at 0x0000024C641BA808> using port: COM4\n",
      "OPENING:  ard2 <L1.Controllers.ArduinoController object at 0x0000024C641BA708> using port: COM7\n",
      "Starting up: outlet_pressure, <L2.PressureControl.ArduinoPressure object at 0x0000024C641C4AC8>\n",
      "Starting up: xy_stage, <L2.XYControl.PycromanagerXY object at 0x0000024C641C4A08>\n",
      "Starting up: objective, <L2.ZControl.PycromanagerZ object at 0x0000024C641C4B88>\n",
      "Starting up: outlet_z, <L2.ZControl.ArduinoZ object at 0x0000024C641C4C08>\n",
      "Starting up: inlet_z, <L2.ZControl.ArduinoZ object at 0x0000024C641C4B08>\n",
      "Starting up: inlet_rgb, <L2.LightControl.RGBArduino object at 0x0000024C641C4C48>\n",
      "Starting up: filter_wheel, <L2.FilterWheelControl.PycromanagerFilter object at 0x0000024C641C4F08>\n",
      "Starting up: excitation_shutter, <L2.ShutterControl.PycromanagerShutter object at 0x0000024C641C4D88>\n",
      "Starting up: camera, <L2.CameraControl.PycromanagerControl object at 0x0000024C641C4E08>\n",
      "Starting up: high_voltage, <L2.HighVoltageControl.SpellmanPowerSupply object at 0x0000024C641C4E48>\n",
      "Starting up: detector, <L2.DetectorControl.PhotomultiplierDetector object at 0x0000024C641C4D48>\n",
      "Starting up: lysis_laser, <L2.LaserControl.Uniphase object at 0x0000024C641C91C8>\n"
     ]
    }
   ],
   "source": [
    "# Reset and Restart \n",
    "import sys\n",
    "import os\n",
    "import numpy as np\n",
    "import time\n",
    "from imp import reload\n",
    "\n",
    "# Set the working directory to the AutomatedCE folder so we have access to L1-L4 modules\n",
    "resp = os.getcwd()\n",
    "if 'testing' in resp[-7:]:\n",
    "    os.chdir(os.path.abspath(os.path.join(os.getcwd(), '..')))\n",
    "    print(f\"new directory is: {os.getcwd()}\")\n",
    "\n",
    "from testing.inputs import *\n",
    "from L4 import DisplayWindows\n",
    "reload(DisplayWindows)\n",
    "import testing.inputs  \n",
    "reload(testing.inputs)\n",
    "\n",
    "import threading\n",
    "from L4 import FileIO\n",
    "from skimage import io\n",
    "\n",
    "CONFIG_PATH = r\"C:\\Users\\Luke\\Desktop\\Barracuda\\AutomatedCE\\var\\Eclipse.cfg\"\n",
    "from L3 import SystemsBuilder\n",
    "reload(SystemsBuilder)\n",
    "\n",
    "ce_system = SystemsBuilder.CESystem()\n",
    "\n",
    "ce_system.load_config(CONFIG_PATH)\n",
    "ce_system.open_controllers()\n",
    "ce_system.startup_utilities()\n",
    "\n",
    "%matplotlib qt"
   ]
  },
  {
   "cell_type": "code",
   "execution_count": 3,
   "metadata": {},
   "outputs": [],
   "source": [
    "\n",
    "class ImageSaver:\n",
    "    \n",
    "    def __init__(self, system:SystemsBuilder.CESystem, folder_prefix=None, data_folder=None):\n",
    "        self.system = system\n",
    "        self.prefix = folder_prefix\n",
    "        self.data_folder = data_folder\n",
    "        self.images = []\n",
    "        self._lock = threading.RLock()\n",
    "        \n",
    "    def add_callback(self):\n",
    "        self.system.camera.add_callback(self.callback, tag='save_img')\n",
    "        \n",
    "    def remove_callback(self):\n",
    "        self.system.camera.remove_callback(tag='save_img')\n",
    "    \n",
    "    def callback(self, img, *args, **kwargs):\n",
    "        with self._lock:\n",
    "            self.images.append(img)\n",
    "    \n",
    "    def save_image(self, image_prefix='img', folder_prefix=None, data_folder=None, unique_folder=True):\n",
    "        \"\"\"\n",
    "        Saves the images into an folder with incrementing image names:\n",
    "        \n",
    "        image_prefix: what the image filename should be caleld\n",
    "        folder_prefix: what the data folder will be called\n",
    "        data_folder: where the parent_directory resides\n",
    "        unique_folder: When true, create a new folder everytime the function is called\n",
    "        \n",
    "        \"\"\"\n",
    "        \n",
    "        if folder_prefix is None:\n",
    "            prefix = self.prefix\n",
    "        if data_folder is None:\n",
    "            data_folder = self.data_folder\n",
    "    \n",
    "        if unique_folder:\n",
    "            data_dir = FileIO.get_data_folder(prefix, data_folder)\n",
    "        else:\n",
    "            data_dir = data_folder\n",
    "        for image in self.images:\n",
    "            data_file = FileIO.get_data_filename(image_prefix, data_dir, extension='.tiff')\n",
    "            io.imsave(data_file, image)\n",
    "            \n",
    "    \n",
    "    "
   ]
  },
  {
   "cell_type": "code",
   "execution_count": 4,
   "metadata": {},
   "outputs": [
    {
     "data": {
      "text/plain": [
       "<module 'L4.Focus' from 'C:\\\\Users\\\\Luke\\\\Desktop\\\\Barracuda\\\\AutomatedCE\\\\L4\\\\Focus.py'>"
      ]
     },
     "execution_count": 4,
     "metadata": {},
     "output_type": "execute_result"
    }
   ],
   "source": [
    "from pathlib import Path\n",
    "import numpy as np\n",
    "from scipy.ndimage import label, distance_transform_edt\n",
    "from skimage import io, img_as_float, filters, morphology\n",
    "from skimage.feature import peak_local_max\n",
    "from skimage.measure import regionprops, regionprops_table\n",
    "from skimage.morphology import watershed\n",
    "import pandas as pd\n",
    "import glob\n",
    "import skimage.measure as measure\n",
    "\n",
    "import matplotlib.pyplot as plt\n",
    "\n",
    "from L4 import Focus\n",
    "reload(Focus)"
   ]
  },
  {
   "cell_type": "markdown",
   "metadata": {},
   "source": [
    "# Automation Objects"
   ]
  },
  {
   "cell_type": "code",
   "execution_count": 5,
   "metadata": {},
   "outputs": [
    {
     "name": "stderr",
     "output_type": "stream",
     "text": [
      "WARNING:root:Adding step cell\tcells\t240\t7 mm\t0\t0\t0\t3\twait\t0\n",
      "WARNING:root:Adding step auto_cell\tw_c1\t240\t7 mm\t0\t0\t20\t200\t\t1\n",
      "WARNING:root:Adding step rinse_cell\tw_c7\t240\t7 mm\t0\t1\t0\t15\t\t0\n",
      "WARNING:root:Adding step rinse_buffer\tw_c0\t240\t7 mm\t1\t0\t0\t45\t\t0\n"
     ]
    },
    {
     "name": "stdout",
     "output_type": "stream",
     "text": [
      "WHASSUZ ['cell\\tcells\\t240\\t7 mm\\t0\\t0\\t0\\t3\\twait\\t0', 'auto_cell\\tw_c1\\t240\\t7 mm\\t0\\t0\\t20\\t200\\t\\t1', 'rinse_cell\\tw_c7\\t240\\t7 mm\\t0\\t1\\t0\\t15\\t\\t0', 'rinse_buffer\\tw_c0\\t240\\t7 mm\\t1\\t0\\t0\\t45\\t\\t0']\n",
      "ADDING\n",
      "ADDING\n",
      "ADDING\n",
      "ADDING\n"
     ]
    }
   ],
   "source": [
    "# Set up the Automation Method & Template \n",
    "TEMPLATE_PATH = r\"C:\\Users\\Luke\\Desktop\\Barracuda\\AutomatedCE\\var\\EclipseCellTemplate.txt\"\n",
    "METHOD_PATH = r\"C:\\Users\\Luke\\Desktop\\Barracuda\\AutomatedCE\\var\\Brae\\Cell.txt\"\n",
    "\n",
    "from L4 import AutomatedControl\n",
    "from L4 import Trajectory\n",
    "reload(AutomatedControl)\n",
    "reload(Trajectory)\n",
    "\n",
    "auto_program = AutomatedControl.AutoRun(ce_system)\n",
    "auto_program.set_template(TEMPLATE_PATH)\n",
    "auto_program.add_method(METHOD_PATH)\n",
    "auto_program.repetitions=36"
   ]
  },
  {
   "cell_type": "code",
   "execution_count": 89,
   "metadata": {},
   "outputs": [
    {
     "name": "stdout",
     "output_type": "stream",
     "text": [
      "After special True\n",
      "Time to wait is  3\n",
      "After special True\n",
      "Time to wait is  100\n"
     ]
    }
   ],
   "source": [
    "# Start the Method\n",
    "if not auto_program.continue_event.is_set():\n",
    "    auto_program.continue_event.set()\n",
    "else:\n",
    "    auto_program.start_run()"
   ]
  },
  {
   "cell_type": "code",
   "execution_count": 97,
   "metadata": {
    "scrolled": true
   },
   "outputs": [
    {
     "name": "stderr",
     "output_type": "stream",
     "text": [
      "WARNING:root:STOP not implemented\n",
      "WARNING:root:STOP not implemented\n",
      "ERROR:root:Error while moving during System Move. Aborting\n",
      "WARNING:root:STOP not implemented\n",
      "WARNING:root:STOP not implemented\n",
      "ERROR:root:Exiting the run...\n"
     ]
    }
   ],
   "source": [
    "# Stop the Method\n",
    "auto_program.stop_run()"
   ]
  },
  {
   "cell_type": "code",
   "execution_count": 100,
   "metadata": {},
   "outputs": [
    {
     "data": {
      "text/plain": [
       "False"
      ]
     },
     "execution_count": 100,
     "metadata": {},
     "output_type": "execute_result"
    }
   ],
   "source": [
    "auto_program.continue_event.is_set()"
   ]
  },
  {
   "cell_type": "code",
   "execution_count": 101,
   "metadata": {},
   "outputs": [
    {
     "data": {
      "text/plain": [
       "<bound method AutoRun.wait_to_continue of <L4.AutomatedControl.AutoRun object at 0x000001E903FA78C8>>"
      ]
     },
     "execution_count": 101,
     "metadata": {},
     "output_type": "execute_result"
    }
   ],
   "source": []
  },
  {
   "cell_type": "code",
   "execution_count": 6,
   "metadata": {},
   "outputs": [],
   "source": [
    "auto_program.start_run()"
   ]
  },
  {
   "cell_type": "code",
   "execution_count": 14,
   "metadata": {},
   "outputs": [
    {
     "name": "stdout",
     "output_type": "stream",
     "text": [
      "Please enter the well name to move to (press enter to see a list): w_c0\n",
      "Please move the capillary using the fine adjustment knobs, or the z-stage base so that capillary is centered over this well.\n"
     ]
    }
   ],
   "source": [
    "name = get_value(\"Please enter the well name to move to (press enter to see a list): \", auto_program.template.wells.keys())\n",
    "well = auto_program.template.wells[name]\n",
    "ce_system.xy_stage.set_xy(well.xy)\n",
    "resp = input(\"Please move the capillary using the fine adjustment knobs, or the z-stage base so that capillary is centered over this well.\")\n"
   ]
  },
  {
   "cell_type": "code",
   "execution_count": 90,
   "metadata": {
    "scrolled": true
   },
   "outputs": [
    {
     "name": "stderr",
     "output_type": "stream",
     "text": [
      "Exception in thread AutoRun:\n",
      "Traceback (most recent call last):\n",
      "  File \"C:\\Users\\Luke\\Anaconda3\\envs\\CEpy37\\lib\\threading.py\", line 926, in _bootstrap_inner\n",
      "    self.run()\n",
      "  File \"C:\\Users\\Luke\\Desktop\\Barracuda\\AutomatedCE\\L4\\Util.py\", line 19, in __run\n",
      "    self.__run_backup()\n",
      "  File \"C:\\Users\\Luke\\Anaconda3\\envs\\CEpy37\\lib\\threading.py\", line 870, in run\n",
      "    self._target(*self._args, **self._kwargs)\n",
      "  File \"C:\\Users\\Luke\\Desktop\\Barracuda\\AutomatedCE\\L4\\AutomatedControl.py\", line 645, in _run\n",
      "    FileIO.OutputElectropherogram(self.system, file_path)\n",
      "  File \"C:\\Users\\Luke\\Desktop\\Barracuda\\AutomatedCE\\L4\\FileIO.py\", line 88, in __init__\n",
      "    data = self.get_data(system)\n",
      "  File \"C:\\Users\\Luke\\Desktop\\Barracuda\\AutomatedCE\\L4\\FileIO.py\", line 129, in get_data\n",
      "    fx = interp1d(power_time, power_data[channel], kind='cubic')\n",
      "  File \"C:\\Users\\Luke\\AppData\\Roaming\\Python\\Python37\\site-packages\\scipy\\interpolate\\interpolate.py\", line 529, in __init__\n",
      "    check_finite=False)\n",
      "  File \"C:\\Users\\Luke\\AppData\\Roaming\\Python\\Python37\\site-packages\\scipy\\interpolate\\_bsplines.py\", line 789, in make_interp_spline\n",
      "    raise ValueError(\"Expect x to not have duplicates\")\n",
      "ValueError: Expect x to not have duplicates\n",
      "\n"
     ]
    }
   ],
   "source": [
    "# CE Display\n",
    "ce_gram = DisplayWindows.PLTCEDisplay(ce_system)\n",
    "#ce_disp.stop()\n",
    "#ce_disp.show()\n",
    "ce_gram.start_live_view()\n",
    "#ce_system.detector.start()"
   ]
  },
  {
   "cell_type": "code",
   "execution_count": 7,
   "metadata": {},
   "outputs": [
    {
     "name": "stdout",
     "output_type": "stream",
     "text": [
      "HEYYOO\n"
     ]
    }
   ],
   "source": [
    "# Microscope Display\n",
    "cam = DisplayWindows.PLTMicroscopeDisplay(ce_system)\n",
    "ce_system.camera.stop()\n",
    "cam.show()\n",
    "cam.live_image()"
   ]
  },
  {
   "cell_type": "markdown",
   "metadata": {},
   "source": [
    "# Set the Focus Plane for the cells"
   ]
  },
  {
   "cell_type": "code",
   "execution_count": 8,
   "metadata": {},
   "outputs": [],
   "source": [
    "focus_plane = Focus.PlaneFocus(ce_system)\n",
    "\n",
    "focus_plane.get_three_points()\n"
   ]
  },
  {
   "cell_type": "code",
   "execution_count": 11,
   "metadata": {},
   "outputs": [],
   "source": [
    "# run this three times\n",
    "focus_plane.give_response()"
   ]
  },
  {
   "cell_type": "code",
   "execution_count": 12,
   "metadata": {},
   "outputs": [
    {
     "data": {
      "text/plain": [
       "True"
      ]
     },
     "execution_count": 12,
     "metadata": {},
     "output_type": "execute_result"
    }
   ],
   "source": [
    "focus_plane.find_a_plane()"
   ]
  },
  {
   "cell_type": "code",
   "execution_count": 13,
   "metadata": {},
   "outputs": [],
   "source": [
    "focus_search = Focus.FindFocus(ce_system)"
   ]
  },
  {
   "cell_type": "code",
   "execution_count": 18,
   "metadata": {},
   "outputs": [],
   "source": [
    "\n",
    "        \n",
    "        "
   ]
  },
  {
   "cell_type": "code",
   "execution_count": 36,
   "metadata": {},
   "outputs": [],
   "source": [
    "mv = CellMover(ce_system)"
   ]
  },
  {
   "cell_type": "code",
   "execution_count": 37,
   "metadata": {},
   "outputs": [],
   "source": [
    "mv.load_focus_points(focus_plane._plane_vectors)"
   ]
  },
  {
   "cell_type": "code",
   "execution_count": 47,
   "metadata": {},
   "outputs": [
    {
     "data": {
      "text/plain": [
       "(30.728066045446113, 3.5969499895412476)"
      ]
     },
     "execution_count": 47,
     "metadata": {},
     "output_type": "execute_result"
    }
   ],
   "source": [
    "mv.find_spot()"
   ]
  },
  {
   "cell_type": "code",
   "execution_count": 40,
   "metadata": {},
   "outputs": [
    {
     "data": {
      "text/plain": [
       "[31.948200476065278, 4.212400062769651]"
      ]
     },
     "execution_count": 40,
     "metadata": {},
     "output_type": "execute_result"
    }
   ],
   "source": [
    "ce_system.xy_stage.read_xy()"
   ]
  },
  {
   "cell_type": "markdown",
   "metadata": {},
   "source": [
    "# Set the Capillary Adjustments"
   ]
  },
  {
   "cell_type": "code",
   "execution_count": 28,
   "metadata": {},
   "outputs": [],
   "source": [
    "# Move the objective to the height and run this cell to record it for next time\n",
    "obj_height = ce_system.objective.read_z()\n",
    "ce_system.objective.set_rel_z(+.05)"
   ]
  },
  {
   "cell_type": "code",
   "execution_count": 64,
   "metadata": {},
   "outputs": [],
   "source": [
    "ce_system.inlet_z.set_rel_z(-0.005)"
   ]
  },
  {
   "cell_type": "code",
   "execution_count": null,
   "metadata": {},
   "outputs": [],
   "source": []
  },
  {
   "cell_type": "code",
   "execution_count": 66,
   "metadata": {},
   "outputs": [],
   "source": [
    "ce_system.inlet_z.set_z(4)"
   ]
  },
  {
   "cell_type": "code",
   "execution_count": 65,
   "metadata": {},
   "outputs": [],
   "source": [
    "# and record this height for next time \n",
    "cap_height = ce_system.inlet_z.read_z()\n",
    "cap_difference = obj_height - cap_height"
   ]
  },
  {
   "cell_type": "code",
   "execution_count": 67,
   "metadata": {},
   "outputs": [
    {
     "data": {
      "text/plain": [
       "8.376150132488458"
      ]
     },
     "execution_count": 67,
     "metadata": {},
     "output_type": "execute_result"
    }
   ],
   "source": [
    "cap_difference"
   ]
  },
  {
   "cell_type": "code",
   "execution_count": 179,
   "metadata": {},
   "outputs": [],
   "source": [
    "import csv"
   ]
  },
  {
   "cell_type": "code",
   "execution_count": 68,
   "metadata": {},
   "outputs": [],
   "source": [
    "with open('save_me','w') as fout:\n",
    "    fout.write(f'cap_difference,{cap_difference}')"
   ]
  },
  {
   "cell_type": "code",
   "execution_count": 14,
   "metadata": {},
   "outputs": [],
   "source": [
    "with open('save_me','r') as fin:\n",
    "    cap_difference= float(fin.readline().split(',')[1])\n",
    "    "
   ]
  },
  {
   "cell_type": "code",
   "execution_count": 26,
   "metadata": {},
   "outputs": [
    {
     "data": {
      "text/plain": [
       "8.376150132488458"
      ]
     },
     "execution_count": 26,
     "metadata": {},
     "output_type": "execute_result"
    }
   ],
   "source": [
    "cap_difference"
   ]
  },
  {
   "cell_type": "code",
   "execution_count": 27,
   "metadata": {},
   "outputs": [],
   "source": [
    "# PARAMETERS\n",
    "target_x = 871\n",
    "target_y = 585\n",
    "rgb_chnl = 'R'\n",
    "fluor_channel = 1\n",
    "wait = 0.25\n",
    "exp = 500\n",
    "_old_exp=10\n",
    "_old_bin = 1\n",
    "_old_channel = 0\n",
    "bins = 1\n",
    "conversion =0.0003125\n",
    "obj_40x = 0.0001607717041800643\n",
    "\n",
    "def get_cap_height(obj_height, cap_difference):\n",
    "    cap_height = obj_height - cap_difference\n",
    "    return cap_height\n",
    "\n",
    "def pre_fluoresence(chnl):\n",
    "    # SNAP a FLUOR IMAGE\n",
    "    # Set to new values\n",
    "    ce_system.inlet_rgb.turn_off_channel(rgb_chnl)\n",
    "    ce_system.camera.stop()\n",
    "    ce_system.filter_wheel.set_channel(chnl)\n",
    "    ce_system.excitation_shutter.set_auto_on()\n",
    "    #_old_exp = ce_system.camera.exposure\n",
    "    ce_system.camera.set_exposure(exp)\n",
    "    #ce_system.camera.set_binning(bins)\n",
    "    #_old_bin = ce_system.camera.bin_size\n",
    "    time.sleep(wait)\n",
    "    \n",
    "def post_fluoresence():\n",
    "    # Return to old values\n",
    "    ce_system.camera.set_exposure(_old_exp)\n",
    "    #ce_system.camera.set_binning(_old_bin)\n",
    "    ce_system.excitation_shutter.set_auto_off()\n",
    "    ce_system.filter_wheel.set_channel(_old_channel)\n",
    "    ce_system.inlet_rgb.turn_on_channel(rgb_chnl)\n",
    "\n",
    "    ce_system.camera.continuous_snap()\n",
    "\n",
    "def get_brightest_blobs(img):\n",
    "    close_size=5\n",
    "    open_size=5\n",
    "    watershed_footprint = (5,5)\n",
    "    # Make sure types are the same\n",
    "    input_image = img_as_float(img)\n",
    "\n",
    "    # Filter Image\n",
    "    filtered_image = filters.median(input_image, behavior='ndimage')\n",
    "\n",
    "    # Edge Detection\n",
    "    edge_sobel = filters.sobel(filtered_image)\n",
    "\n",
    "    # Threshold\n",
    "    thresh = filters.threshold_otsu(filtered_image)\n",
    "    binary_otsu = filtered_image > thresh\n",
    "\n",
    "    # Binary Morphology Operations\n",
    "    structure_element = morphology.disk(close_size)\n",
    "    closed_image = morphology.binary_closing(binary_otsu, structure_element)\n",
    "    structure_element = morphology.disk(open_size)\n",
    "    opened_image = morphology.binary_opening(closed_image, structure_element)\n",
    "\n",
    "    # Watershed\n",
    "    distance = distance_transform_edt(opened_image)\n",
    "    local_maxi = peak_local_max(distance, indices=False, footprint=np.ones(watershed_footprint), labels=opened_image)\n",
    "    markers = label(local_maxi)[0]\n",
    "    labels = watershed(-distance, markers, mask=opened_image)\n",
    "    \n",
    "    # Labeling and Sorting\n",
    "    regions = regionprops_table(labels, intensity_image=img, properties=('label', 'centroid', 'max_intensity', 'mean_intensity'))\n",
    "    df = pd.DataFrame(regions)\n",
    "    df = df.sort_values(by=['mean_intensity','max_intensity'], ascending=False)\n",
    "    \n",
    "    return df\n",
    "\n",
    "def move_to_blob(df):\n",
    "    if df.shape[0] > 0:\n",
    "        y=df['centroid-0'][0]*bins\n",
    "        x=df['centroid-1'][0]*bins\n",
    "\n",
    "        movex = (x-target_x)*conversion\n",
    "        movey = (y-target_y)*conversion\n",
    "        ce_system.xy_stage.set_rel_x(movex)\n",
    "        ce_system.xy_stage.set_rel_y(-movey)\n",
    "        \n",
    "def limited_fire(ce_system, gravity_drop, voltage_level, injection_time):\n",
    "    time.sleep(delay)\n",
    "    print('Fire')\n",
    "    ce_system.outlet_z.set_rel_z(-gravity_drop)\n",
    "    ce_system.high_voltage.set_voltage(voltage_level)\n",
    "    ce_system.high_voltage.start()\n",
    "    start_time = time.time()\n",
    "    ce_system.lysis_laser.laser_fire()\n",
    "    ce_system.objective.set_rel_z(-0.010)\n",
    "\n",
    "    while time.time()-start_time < injection_time:\n",
    "        if time.time()-start_time < 3:\n",
    "            ce_system.objective.set_rel_z(0.005)\n",
    "            ce_system.xy_stage.set_rel_x(0.001)\n",
    "            ce_system.lysis_laser.laser_fire()\n",
    "        time.sleep(0.35)\n",
    "    ce_system.high_voltage.stop()\n",
    "    print(f\"Finished {time.time()-start_time}\")\n",
    "    ce_system.outlet_z.set_rel_z(gravity_drop)\n",
    "    \n",
    "class CellMover:\n",
    "    \n",
    "    def __init__(self, ce_system:SystemsBuilder.CESystem):\n",
    "    \n",
    "        self.system = ce_system\n",
    "        self.x_min = None\n",
    "        self.x_max = None\n",
    "        self.y_min = None\n",
    "        self.y_max = None\n",
    "    \n",
    "    def load_focus_points(self,focus_points):\n",
    "        assert len(focus_points)>=3, \"requires three points\"\n",
    "        points = np.asarray(focus_points)\n",
    "        \n",
    "        self.x_min, self.y_min, _ = points.min(axis=0)\n",
    "        self.x_max, self.y_max, _ = points.max(axis=0)\n",
    "        \n",
    "        \n",
    "    def find_spot(self):\n",
    "        assert None not in [self.x_min, self.x_max, self.y_min, self.y_max], \"Please connect the focal plane\"\n",
    "        \n",
    "        rx, ry = np.random.rand(2)\n",
    "        x = rx*(self.x_max-self.x_min)+self.x_min\n",
    "        y = ry*(self.y_max-self.y_min)+self.y_min\n",
    "        \n",
    "        return [x, y]"
   ]
  },
  {
   "cell_type": "code",
   "execution_count": 16,
   "metadata": {
    "scrolled": true
   },
   "outputs": [],
   "source": [
    "# Bring the Cells into focus\n",
    "fluor_channel = 3\n",
    "focus_plane.get_plane_focus()\n"
   ]
  },
  {
   "cell_type": "code",
   "execution_count": 26,
   "metadata": {},
   "outputs": [
    {
     "ename": "NameError",
     "evalue": "name 'fluor_saver' is not defined",
     "output_type": "error",
     "traceback": [
      "\u001b[1;31m---------------------------------------------------------------------------\u001b[0m",
      "\u001b[1;31mNameError\u001b[0m                                 Traceback (most recent call last)",
      "\u001b[1;32m<ipython-input-26-2c256037d677>\u001b[0m in \u001b[0;36m<module>\u001b[1;34m\u001b[0m\n\u001b[0;32m      1\u001b[0m \u001b[0mfluor_channel\u001b[0m \u001b[1;33m=\u001b[0m \u001b[1;36m1\u001b[0m\u001b[1;33m\u001b[0m\u001b[1;33m\u001b[0m\u001b[0m\n\u001b[0;32m      2\u001b[0m \u001b[0mpre_fluoresence\u001b[0m\u001b[1;33m(\u001b[0m\u001b[1;33m)\u001b[0m\u001b[1;33m\u001b[0m\u001b[1;33m\u001b[0m\u001b[0m\n\u001b[1;32m----> 3\u001b[1;33m \u001b[0mfluor_saver\u001b[0m\u001b[1;33m.\u001b[0m\u001b[0madd_callback\u001b[0m\u001b[1;33m(\u001b[0m\u001b[1;33m)\u001b[0m\u001b[1;33m\u001b[0m\u001b[1;33m\u001b[0m\u001b[0m\n\u001b[0m\u001b[0;32m      4\u001b[0m \u001b[0mimg\u001b[0m \u001b[1;33m=\u001b[0m \u001b[0mce_system\u001b[0m\u001b[1;33m.\u001b[0m\u001b[0mcamera\u001b[0m\u001b[1;33m.\u001b[0m\u001b[0msnap\u001b[0m\u001b[1;33m(\u001b[0m\u001b[1;33m)\u001b[0m\u001b[1;33m\u001b[0m\u001b[1;33m\u001b[0m\u001b[0m\n\u001b[0;32m      5\u001b[0m \u001b[0mfluor_saver\u001b[0m\u001b[1;33m.\u001b[0m\u001b[0mremove_callback\u001b[0m\u001b[1;33m(\u001b[0m\u001b[1;33m)\u001b[0m\u001b[1;33m\u001b[0m\u001b[1;33m\u001b[0m\u001b[0m\n",
      "\u001b[1;31mNameError\u001b[0m: name 'fluor_saver' is not defined"
     ]
    }
   ],
   "source": [
    "fluor_channel = 1\n",
    "pre_fluoresence(fluor_channel)\n",
    "fluor_saver.add_callback()\n",
    "img = ce_system.camera.snap()\n",
    "fluor_saver.remove_callback()\n",
    "post_fluoresence()"
   ]
  },
  {
   "cell_type": "code",
   "execution_count": 28,
   "metadata": {
    "scrolled": false
   },
   "outputs": [],
   "source": [
    "data_dir = r\"C:\\Users\\Luke\\Documents\\Brae\\9-20-2020\\Images\"\n",
    "\n",
    "\n",
    "mv = CellMover(ce_system)\n",
    "mv.load_focus_points(focus_plane._plane_vectors)\n",
    "\n",
    "# General Injection Parameters\n",
    "injection_time = 5 # in seconds\n",
    "gravity_drop = 0 # in millimeters\n",
    "voltage_level = 10 # in kilovolts\n",
    "delay = 1 # inseconds\n",
    "\n",
    "def automatic_sampling():\n",
    "    fluor_saver = ImageSaver(ce_system, folder_prefix='Picking', data_folder=data_dir)\n",
    "    focus_saver = ImageSaver(ce_system, folder_prefix='Focusing', data_folder=data_dir)\n",
    "    lysis_saver = ImageSaver(ce_system, folder_prefix='Lysis', data_folder=data_dir)\n",
    "    \n",
    "    xy = mv.find_spot()\n",
    "    ce_system.xy_stage.set_xy(xy)\n",
    "    \n",
    "    # Bring the Cells into focus\n",
    "    fluor_channel = 1\n",
    "    focus_plane.get_plane_focus()\n",
    "    time.sleep(3)\n",
    "    \n",
    "    # Test Alec's Focus and get data\n",
    "    pre_fluoresence(1)\n",
    "    focus_saver.add_callback()\n",
    "    focus_search = Focus.FindFocus(ce_system)\n",
    "    focus_search.search_step_global()\n",
    "    focus_saver.remove_callback()\n",
    "    post_fluoresence()\n",
    "    focus_saver.save_image()\n",
    "    \n",
    "    # We don't Trust Alec's function yet\n",
    "    fluor_channel = 1\n",
    "    focus_plane.get_plane_focus()\n",
    "    \n",
    "    # Get Fluoresence Image for Best chance\n",
    "    fluor_channel = 1\n",
    "    pre_fluoresence(1)\n",
    "    fluor_saver.add_callback()\n",
    "    img = ce_system.camera.snap()\n",
    "    fluor_saver.remove_callback()\n",
    "    post_fluoresence()\n",
    "    \n",
    "    \n",
    "    # Move to the brighest blob\n",
    "    blobs = get_brightest_blobs(img)\n",
    "    move_to_blob(blobs)\n",
    "    \n",
    "    \n",
    "    # Bring the Cells into focus\n",
    "    fluor_channel = 3\n",
    "    focus_plane.get_plane_focus()\n",
    "    lysis_saver.add_callback()\n",
    "    time.sleep(0.5)\n",
    "    \n",
    "    # on reruns, you just need to run this command when you have the cells in focus\n",
    "    resp= True\n",
    "    if resp:\n",
    "        obj_height = ce_system.objective.read_z()\n",
    "        print(obj_height)\n",
    "        cap_z = get_cap_height(obj_height, cap_difference)\n",
    "        z = ce_system.inlet_z.read_z()\n",
    "        rel_z = cap_z-z\n",
    "        rel_z += 0.02\n",
    "        ce_system.inlet_z.set_rel_z(rel_z)\n",
    "    else:\n",
    "        print(\"Bring cells into focus.\")\n",
    "        raise RuntimeError(\"Cells not in Focus\")\n",
    "\n",
    "    time.sleep(5)\n",
    "    \n",
    "    # Start the Single Cell Injection\n",
    "    limited_fire(ce_system, gravity_drop, voltage_level, injection_time)\n",
    "    \n",
    "    # Prepare to start the method\n",
    "    ce_system.inlet_z.set_rel_z(3)\n",
    "    time.sleep(3)\n",
    "    lysis_saver.remove_callback()\n",
    "    lysis_saver.save_image()\n",
    "    \n",
    "    # Start the Method\n",
    "    ce_system.objective.set_rel_z(-3)\n",
    "    if not auto_program.continue_event.is_set():\n",
    "        auto_program.continue_event.set()\n",
    "    else:\n",
    "        auto_program.start_run()"
   ]
  },
  {
   "cell_type": "code",
   "execution_count": 29,
   "metadata": {},
   "outputs": [],
   "source": [
    "threading.Thread(target=automatic_sampling).start()"
   ]
  },
  {
   "cell_type": "code",
   "execution_count": 75,
   "metadata": {},
   "outputs": [
    {
     "data": {
      "text/plain": [
       "[array([700, 684, 690, ..., 471, 470, 469], dtype=uint16),\n",
       " array([636, 666, 647, ..., 443, 439, 431], dtype=uint16),\n",
       " array([646, 639, 640, ..., 417, 416, 406], dtype=uint16),\n",
       " array([639, 621, 630, ..., 417, 407, 397], dtype=uint16),\n",
       " array([596, 594, 611, ..., 390, 393, 377], dtype=uint16),\n",
       " array([589, 589, 619, ..., 385, 389, 386], dtype=uint16),\n",
       " array([572, 599, 625, ..., 392, 387, 381], dtype=uint16),\n",
       " array([554, 573, 622, ..., 394, 390, 390], dtype=uint16)]"
      ]
     },
     "execution_count": 75,
     "metadata": {},
     "output_type": "execute_result"
    }
   ],
   "source": [
    "focus_saver.images"
   ]
  },
  {
   "cell_type": "markdown",
   "metadata": {},
   "source": [
    "# Find the Brightest Cell"
   ]
  },
  {
   "cell_type": "code",
   "execution_count": 194,
   "metadata": {},
   "outputs": [],
   "source": []
  },
  {
   "cell_type": "code",
   "execution_count": 271,
   "metadata": {},
   "outputs": [],
   "source": [
    "# Bring the Cells into focus\n",
    "fluor_channel = 3\n",
    "focus_plane.get_plane_focus()\n"
   ]
  },
  {
   "cell_type": "code",
   "execution_count": 236,
   "metadata": {},
   "outputs": [
    {
     "name": "stdout",
     "output_type": "stream",
     "text": [
      "HEYYOO\n"
     ]
    }
   ],
   "source": [
    "# Search for the best focal plane near here\n",
    "pre_fluoresence()\n",
    "focus_search.search_step_global()\n",
    "post_fluoresence()"
   ]
  },
  {
   "cell_type": "code",
   "execution_count": 258,
   "metadata": {},
   "outputs": [
    {
     "name": "stdout",
     "output_type": "stream",
     "text": [
      "HEYYOO\n"
     ]
    }
   ],
   "source": [
    "fluor_channel = 1\n",
    "pre_fluoresence()\n",
    "img = ce_system.camera.snap()\n",
    "post_fluoresence()\n"
   ]
  },
  {
   "cell_type": "code",
   "execution_count": 184,
   "metadata": {},
   "outputs": [
    {
     "data": {
      "text/plain": [
       "<matplotlib.image.AxesImage at 0x2394716c148>"
      ]
     },
     "execution_count": 184,
     "metadata": {},
     "output_type": "execute_result"
    }
   ],
   "source": [
    "plt.figure()\n",
    "plt.imshow(img)"
   ]
  },
  {
   "cell_type": "code",
   "execution_count": 259,
   "metadata": {},
   "outputs": [],
   "source": [
    "close_size=5\n",
    "open_size=5\n",
    "watershed_footprint = (5,5)\n",
    "# Make sure types are the same\n",
    "input_image = img_as_float(img)\n",
    "\n",
    "# Filter Image\n",
    "filtered_image = filters.median(input_image, behavior='ndimage')\n",
    "\n",
    "# Edge Detection\n",
    "edge_sobel = filters.sobel(filtered_image)\n",
    "\n",
    "# Threshold\n",
    "thresh = filters.threshold_otsu(filtered_image)\n",
    "binary_otsu = filtered_image > thresh\n",
    "\n",
    "# Binary Morphology Operations\n",
    "structure_element = morphology.disk(close_size)\n",
    "closed_image = morphology.binary_closing(binary_otsu, structure_element)\n",
    "structure_element = morphology.disk(open_size)\n",
    "opened_image = morphology.binary_opening(closed_image, structure_element)\n",
    "\n",
    "# Watershed\n",
    "distance = distance_transform_edt(opened_image)\n",
    "local_maxi = peak_local_max(distance, indices=False, footprint=np.ones(watershed_footprint), labels=opened_image)\n",
    "markers = label(local_maxi)[0]\n",
    "labels = watershed(-distance, markers, mask=opened_image)\n",
    "\n",
    "plt.figure()\n",
    "plt.imshow(labels)\n",
    "\n",
    "regions = regionprops_table(labels, intensity_image=img, properties=('label', 'centroid', 'max_intensity', 'mean_intensity'))\n",
    "\n",
    "\n",
    "df = pd.DataFrame(regions)\n",
    "\n",
    "df = df.sort_values(by=['mean_intensity','max_intensity'], ascending=False)"
   ]
  },
  {
   "cell_type": "code",
   "execution_count": 260,
   "metadata": {},
   "outputs": [],
   "source": [
    "if df.shape[0] > 0:\n",
    "    y=df['centroid-0'][0]*bins\n",
    "    x=df['centroid-1'][0]*bins\n",
    "    \n",
    "    movex = (x-target_x)*conversion\n",
    "    movey = (y-target_y)*conversion\n",
    "    ce_system.xy_stage.set_rel_x(movex)\n",
    "    ce_system.xy_stage.set_rel_y(-movey)"
   ]
  },
  {
   "cell_type": "markdown",
   "metadata": {},
   "source": [
    "# Single Cell Injection/Load "
   ]
  },
  {
   "cell_type": "code",
   "execution_count": 261,
   "metadata": {},
   "outputs": [
    {
     "name": "stdout",
     "output_type": "stream",
     "text": [
      "are the cells in focus? (You may crush the capillary if not...) y\n",
      "9.00415013417229\n"
     ]
    }
   ],
   "source": [
    "# on reruns, you just need to run this command when you have the cells in focus\n",
    "resp = get_yes_no(\"are the cells in focus? (You may crush the capillary if not...)\")\n",
    "if resp:\n",
    "    obj_height = ce_system.objective.read_z()\n",
    "    print(obj_height)\n",
    "    cap_z = get_cap_height(obj_height, cap_difference)\n",
    "    z = ce_system.inlet_z.read_z()\n",
    "    rel_z = cap_z-z\n",
    "    rel_z += 0.02\n",
    "    ce_system.inlet_z.set_rel_z(rel_z)\n",
    "else:\n",
    "    print(\"Bring cells into focus.\")"
   ]
  },
  {
   "cell_type": "code",
   "execution_count": 225,
   "metadata": {},
   "outputs": [],
   "source": [
    "# Raise the objective for optimal plasma formation\n",
    "ce_system.objective.set_rel_z(-.01)"
   ]
  },
  {
   "cell_type": "code",
   "execution_count": 139,
   "metadata": {},
   "outputs": [],
   "source": [
    "# Lower the capillary (ADJUSTMENT)\n",
    "ce_system.inlet_z.set_rel_z(-0.03)"
   ]
  },
  {
   "cell_type": "code",
   "execution_count": 262,
   "metadata": {},
   "outputs": [],
   "source": [
    "# General Injection Parameters\n",
    "injection_time = 5 # in seconds\n",
    "gravity_drop = 0 # in millimeters\n",
    "voltage_level = 7 # in kilovolts\n",
    "delay = 1 # inseconds"
   ]
  },
  {
   "cell_type": "code",
   "execution_count": 263,
   "metadata": {},
   "outputs": [
    {
     "name": "stdout",
     "output_type": "stream",
     "text": [
      "Fire\n"
     ]
    },
    {
     "name": "stderr",
     "output_type": "stream",
     "text": [
      "WARNING:root:No data to plot\n"
     ]
    },
    {
     "name": "stdout",
     "output_type": "stream",
     "text": [
      "Finished 5.284869194030762\n"
     ]
    }
   ],
   "source": [
    "# Start the Single Cell Injection\n",
    "import threading\n",
    "\n",
    "def limited_fire(ce_system, gravity_drop, voltage_level, injection_time):\n",
    "    time.sleep(delay)\n",
    "    print('Fire')\n",
    "    ce_system.outlet_z.set_rel_z(-gravity_drop)\n",
    "    ce_system.high_voltage.set_voltage(voltage_level)\n",
    "    ce_system.high_voltage.start()\n",
    "    ce_system.objective.set_rel_z(-0.02)\n",
    "    start_time = time.time()\n",
    "    while time.time()-start_time < injection_time:\n",
    "        time.sleep(0.5)\n",
    "        ce_system.objective.set_rel_z(0.005)\n",
    "        ce_system.xy_stage.set_rel_x(0.001)\n",
    "        ce_system.lysis_laser.laser_fire()\n",
    "    ce_system.high_voltage.stop()\n",
    "    print(f\"Finished {time.time()-start_time}\")\n",
    "    ce_system.outlet_z.set_rel_z(gravity_drop)\n",
    "    \n",
    "\n",
    "threading.Thread(target=limited_fire, args=(ce_system, gravity_drop, voltage_level, injection_time)).start()"
   ]
  },
  {
   "cell_type": "code",
   "execution_count": 244,
   "metadata": {},
   "outputs": [
    {
     "name": "stdout",
     "output_type": "stream",
     "text": [
      "Press enter to fire, press q to exitq\n"
     ]
    }
   ],
   "source": [
    "resp = \"\"\n",
    "while resp != 'q':\n",
    "    resp=input(\"Press enter to fire, press q to exit\")\n",
    "    if resp != 'q':\n",
    "        ce_system.lysis_laser.laser_fire()"
   ]
  },
  {
   "cell_type": "code",
   "execution_count": 264,
   "metadata": {},
   "outputs": [],
   "source": [
    "\n",
    "\n"
   ]
  },
  {
   "cell_type": "code",
   "execution_count": 265,
   "metadata": {},
   "outputs": [
    {
     "name": "stdout",
     "output_type": "stream",
     "text": [
      "After special True\n",
      "Time to wait is  3\n"
     ]
    },
    {
     "name": "stderr",
     "output_type": "stream",
     "text": [
      "WARNING:root:No data to plot\n"
     ]
    },
    {
     "name": "stdout",
     "output_type": "stream",
     "text": [
      "After special True\n",
      "Time to wait is  80\n"
     ]
    },
    {
     "name": "stderr",
     "output_type": "stream",
     "text": [
      "WARNING:root:No data to plot\n"
     ]
    }
   ],
   "source": [
    "# Start the Method\n",
    "ce_system.objective.set_rel_z(-3)\n",
    "if not auto_program.continue_event.is_set():\n",
    "    auto_program.continue_event.set()\n",
    "else:\n",
    "    auto_program.start_run()"
   ]
  },
  {
   "cell_type": "markdown",
   "metadata": {},
   "source": [
    "# PUT YOUR CRAP FUNCTIONS HERE"
   ]
  },
  {
   "cell_type": "code",
   "execution_count": 31,
   "metadata": {},
   "outputs": [],
   "source": [
    "# Start Rinse\n",
    "ce_system.outlet_pressure.rinse_pressure()"
   ]
  },
  {
   "cell_type": "code",
   "execution_count": 30,
   "metadata": {},
   "outputs": [],
   "source": [
    "# Stop Rinse \n",
    "ce_system.outlet_pressure.release()"
   ]
  },
  {
   "cell_type": "code",
   "execution_count": 4,
   "metadata": {},
   "outputs": [],
   "source": [
    "ce_system.lysis_laser.startup()"
   ]
  },
  {
   "cell_type": "code",
   "execution_count": 20,
   "metadata": {},
   "outputs": [],
   "source": [
    "laser = ce_system.lysis_laser"
   ]
  },
  {
   "cell_type": "code",
   "execution_count": 22,
   "metadata": {},
   "outputs": [],
   "source": [
    "laser.laser_standby()"
   ]
  },
  {
   "cell_type": "code",
   "execution_count": 21,
   "metadata": {},
   "outputs": [],
   "source": [
    "laser.laser_stop()"
   ]
  },
  {
   "cell_type": "code",
   "execution_count": 24,
   "metadata": {},
   "outputs": [],
   "source": [
    "laser.laser_fire()"
   ]
  },
  {
   "cell_type": "code",
   "execution_count": 11,
   "metadata": {},
   "outputs": [],
   "source": [
    "ce_system.objective.set_rel_z(-3)"
   ]
  },
  {
   "cell_type": "code",
   "execution_count": 127,
   "metadata": {},
   "outputs": [
    {
     "data": {
      "text/plain": [
       "'R:On, G:Off, B:Off'"
      ]
     },
     "execution_count": 127,
     "metadata": {},
     "output_type": "execute_result"
    }
   ],
   "source": [
    "ce_system.inlet_rgb.turn_on_channel('R')\n"
   ]
  },
  {
   "cell_type": "code",
   "execution_count": 126,
   "metadata": {
    "scrolled": true
   },
   "outputs": [
    {
     "data": {
      "text/plain": [
       "'R:Off, G:Off, B:Off'"
      ]
     },
     "execution_count": 126,
     "metadata": {},
     "output_type": "execute_result"
    }
   ],
   "source": [
    "ce_system.inlet_rgb.turn_off_channel('R')\n"
   ]
  },
  {
   "cell_type": "code",
   "execution_count": 58,
   "metadata": {},
   "outputs": [
    {
     "data": {
      "text/plain": [
       "[28.52200042501092, -1.8983000282868743]"
      ]
     },
     "execution_count": 58,
     "metadata": {},
     "output_type": "execute_result"
    }
   ],
   "source": [
    "xy = ce_system.xy_stage.read_xy()\n",
    "xy"
   ]
  },
  {
   "cell_type": "code",
   "execution_count": 68,
   "metadata": {},
   "outputs": [],
   "source": [
    "ce_system.xy_stage.set_xy(xy)"
   ]
  },
  {
   "cell_type": "code",
   "execution_count": 33,
   "metadata": {},
   "outputs": [],
   "source": [
    "ce_system.inlet_z.set_z(15)"
   ]
  },
  {
   "cell_type": "code",
   "execution_count": 34,
   "metadata": {},
   "outputs": [],
   "source": [
    "ce_system.outlet_pressure.seal()"
   ]
  },
  {
   "cell_type": "code",
   "execution_count": 6,
   "metadata": {},
   "outputs": [],
   "source": [
    "cam = ce_system.camera"
   ]
  },
  {
   "cell_type": "code",
   "execution_count": 7,
   "metadata": {},
   "outputs": [],
   "source": [
    "ce_system.inlet_z.controller.open()"
   ]
  },
  {
   "cell_type": "code",
   "execution_count": 9,
   "metadata": {},
   "outputs": [],
   "source": [
    "ce_system.inlet_z.startup()"
   ]
  },
  {
   "cell_type": "code",
   "execution_count": 3,
   "metadata": {},
   "outputs": [],
   "source": [
    "output = r\"C:\\Users\\Luke\\Documents\\Data\\images\"\n",
    "im_sav = ImageSaver(ce_system, data_folder=output, prefix='testing')"
   ]
  },
  {
   "cell_type": "code",
   "execution_count": 4,
   "metadata": {},
   "outputs": [],
   "source": [
    "im_sav.add_callback()"
   ]
  },
  {
   "cell_type": "code",
   "execution_count": 7,
   "metadata": {},
   "outputs": [
    {
     "name": "stdout",
     "output_type": "stream",
     "text": [
      "HEYYOO\n"
     ]
    },
    {
     "data": {
      "text/plain": [
       "True"
      ]
     },
     "execution_count": 7,
     "metadata": {},
     "output_type": "execute_result"
    }
   ],
   "source": [
    "cam.continuous_snap()"
   ]
  },
  {
   "cell_type": "code",
   "execution_count": 8,
   "metadata": {},
   "outputs": [
    {
     "data": {
      "text/plain": [
       "True"
      ]
     },
     "execution_count": 8,
     "metadata": {},
     "output_type": "execute_result"
    }
   ],
   "source": [
    "cam.stop()"
   ]
  },
  {
   "cell_type": "code",
   "execution_count": 9,
   "metadata": {},
   "outputs": [],
   "source": [
    "im_sav.remove_callback()"
   ]
  },
  {
   "cell_type": "code",
   "execution_count": 14,
   "metadata": {},
   "outputs": [
    {
     "name": "stderr",
     "output_type": "stream",
     "text": [
      "C:\\Users\\Luke\\AppData\\Roaming\\Python\\Python37\\site-packages\\ipykernel_launcher.py:35: UserWarning: C:\\Users\\Luke\\Documents\\Data\\images\\img.tiff is a low contrast image\n",
      "C:\\Users\\Luke\\AppData\\Roaming\\Python\\Python37\\site-packages\\ipykernel_launcher.py:35: UserWarning: C:\\Users\\Luke\\Documents\\Data\\images\\img_00000.tiff is a low contrast image\n",
      "C:\\Users\\Luke\\AppData\\Roaming\\Python\\Python37\\site-packages\\ipykernel_launcher.py:35: UserWarning: C:\\Users\\Luke\\Documents\\Data\\images\\img_00001.tiff is a low contrast image\n",
      "C:\\Users\\Luke\\AppData\\Roaming\\Python\\Python37\\site-packages\\ipykernel_launcher.py:35: UserWarning: C:\\Users\\Luke\\Documents\\Data\\images\\img_00002.tiff is a low contrast image\n",
      "C:\\Users\\Luke\\AppData\\Roaming\\Python\\Python37\\site-packages\\ipykernel_launcher.py:35: UserWarning: C:\\Users\\Luke\\Documents\\Data\\images\\img_00003.tiff is a low contrast image\n",
      "C:\\Users\\Luke\\AppData\\Roaming\\Python\\Python37\\site-packages\\ipykernel_launcher.py:35: UserWarning: C:\\Users\\Luke\\Documents\\Data\\images\\img_00004.tiff is a low contrast image\n",
      "C:\\Users\\Luke\\AppData\\Roaming\\Python\\Python37\\site-packages\\ipykernel_launcher.py:35: UserWarning: C:\\Users\\Luke\\Documents\\Data\\images\\img_00005.tiff is a low contrast image\n",
      "C:\\Users\\Luke\\AppData\\Roaming\\Python\\Python37\\site-packages\\ipykernel_launcher.py:35: UserWarning: C:\\Users\\Luke\\Documents\\Data\\images\\img_00006.tiff is a low contrast image\n",
      "C:\\Users\\Luke\\AppData\\Roaming\\Python\\Python37\\site-packages\\ipykernel_launcher.py:35: UserWarning: C:\\Users\\Luke\\Documents\\Data\\images\\img_00007.tiff is a low contrast image\n",
      "C:\\Users\\Luke\\AppData\\Roaming\\Python\\Python37\\site-packages\\ipykernel_launcher.py:35: UserWarning: C:\\Users\\Luke\\Documents\\Data\\images\\img_00008.tiff is a low contrast image\n",
      "C:\\Users\\Luke\\AppData\\Roaming\\Python\\Python37\\site-packages\\ipykernel_launcher.py:35: UserWarning: C:\\Users\\Luke\\Documents\\Data\\images\\img_00009.tiff is a low contrast image\n"
     ]
    }
   ],
   "source": [
    "im_sav.save_image(unique_folder=False)"
   ]
  },
  {
   "cell_type": "code",
   "execution_count": 20,
   "metadata": {},
   "outputs": [],
   "source": [
    "ce_system.inlet_z.set_rel_z(-5)"
   ]
  },
  {
   "cell_type": "code",
   "execution_count": 19,
   "metadata": {},
   "outputs": [],
   "source": [
    "ce_system.inlet_z.startup()"
   ]
  },
  {
   "cell_type": "code",
   "execution_count": 22,
   "metadata": {},
   "outputs": [],
   "source": [
    "ce_system.outlet_z.controller.close()"
   ]
  },
  {
   "cell_type": "code",
   "execution_count": 23,
   "metadata": {},
   "outputs": [],
   "source": [
    "ce_system.outlet_z.controller.open()"
   ]
  },
  {
   "cell_type": "code",
   "execution_count": 24,
   "metadata": {},
   "outputs": [],
   "source": [
    "ce_system.outlet_z.startup()"
   ]
  },
  {
   "cell_type": "code",
   "execution_count": 30,
   "metadata": {},
   "outputs": [
    {
     "ename": "ZMQError",
     "evalue": "Operation cannot be accomplished in current state",
     "output_type": "error",
     "traceback": [
      "\u001b[1;31m---------------------------------------------------------------------------\u001b[0m",
      "\u001b[1;31mZMQError\u001b[0m                                  Traceback (most recent call last)",
      "\u001b[1;32m<ipython-input-30-be1c9ff30172>\u001b[0m in \u001b[0;36m<module>\u001b[1;34m\u001b[0m\n\u001b[1;32m----> 1\u001b[1;33m \u001b[0mce_system\u001b[0m\u001b[1;33m.\u001b[0m\u001b[0mxy_stage\u001b[0m\u001b[1;33m.\u001b[0m\u001b[0mcontroller\u001b[0m\u001b[1;33m.\u001b[0m\u001b[0mclose\u001b[0m\u001b[1;33m(\u001b[0m\u001b[1;33m)\u001b[0m\u001b[1;33m\u001b[0m\u001b[1;33m\u001b[0m\u001b[0m\n\u001b[0m",
      "\u001b[1;32m~\\Desktop\\Barracuda\\AutomatedCE\\L1\\Controllers.py\u001b[0m in \u001b[0;36mclose\u001b[1;34m(self)\u001b[0m\n\u001b[0;32m    199\u001b[0m             \u001b[0mself\u001b[0m\u001b[1;33m.\u001b[0m\u001b[0mcore\u001b[0m\u001b[1;33m.\u001b[0m\u001b[0mload_system_configuration\u001b[0m\u001b[1;33m(\u001b[0m\u001b[0mself\u001b[0m\u001b[1;33m.\u001b[0m\u001b[0m_config\u001b[0m\u001b[1;33m)\u001b[0m\u001b[1;33m\u001b[0m\u001b[1;33m\u001b[0m\u001b[0m\n\u001b[0;32m    200\u001b[0m \u001b[1;33m\u001b[0m\u001b[0m\n\u001b[1;32m--> 201\u001b[1;33m     \u001b[1;32mdef\u001b[0m \u001b[0mclose\u001b[0m\u001b[1;33m(\u001b[0m\u001b[0mself\u001b[0m\u001b[1;33m)\u001b[0m\u001b[1;33m:\u001b[0m\u001b[1;33m\u001b[0m\u001b[1;33m\u001b[0m\u001b[0m\n\u001b[0m\u001b[0;32m    202\u001b[0m         \"\"\"\n\u001b[0;32m    203\u001b[0m         \u001b[0mCloses\u001b[0m \u001b[0mthe\u001b[0m \u001b[0mpycromanager\u001b[0m \u001b[0mresources\u001b[0m\u001b[1;33m.\u001b[0m\u001b[1;33m\u001b[0m\u001b[1;33m\u001b[0m\u001b[0m\n",
      "\u001b[1;32m~\\Anaconda3\\envs\\CEpy37\\lib\\site-packages\\pycromanager\\core.py\u001b[0m in \u001b[0;36m<lambda>\u001b[1;34m(instance, signatures_list, *args)\u001b[0m\n\u001b[0;32m    261\u001b[0m                 \u001b[0mparams\u001b[0m\u001b[1;33m,\u001b[0m \u001b[0mmethods_with_name\u001b[0m\u001b[1;33m,\u001b[0m \u001b[0mmethod_name_modified\u001b[0m \u001b[1;33m=\u001b[0m \u001b[0m_parse_arg_names\u001b[0m\u001b[1;33m(\u001b[0m\u001b[0mmethodSpecs\u001b[0m\u001b[1;33m,\u001b[0m \u001b[0mmethod_name\u001b[0m\u001b[1;33m,\u001b[0m \u001b[0mconvert_camel_case\u001b[0m\u001b[1;33m)\u001b[0m\u001b[1;33m\u001b[0m\u001b[1;33m\u001b[0m\u001b[0m\n\u001b[0;32m    262\u001b[0m                 \u001b[0mreturn_type\u001b[0m \u001b[1;33m=\u001b[0m \u001b[0mmethods_with_name\u001b[0m\u001b[1;33m[\u001b[0m\u001b[1;36m0\u001b[0m\u001b[1;33m]\u001b[0m\u001b[1;33m[\u001b[0m\u001b[1;34m'return-type'\u001b[0m\u001b[1;33m]\u001b[0m\u001b[1;33m\u001b[0m\u001b[1;33m\u001b[0m\u001b[0m\n\u001b[1;32m--> 263\u001b[1;33m                 \u001b[0mfn\u001b[0m \u001b[1;33m=\u001b[0m \u001b[1;32mlambda\u001b[0m \u001b[0minstance\u001b[0m\u001b[1;33m,\u001b[0m \u001b[1;33m*\u001b[0m\u001b[0margs\u001b[0m\u001b[1;33m,\u001b[0m \u001b[0msignatures_list\u001b[0m\u001b[1;33m=\u001b[0m\u001b[0mtuple\u001b[0m\u001b[1;33m(\u001b[0m\u001b[0mmethods_with_name\u001b[0m\u001b[1;33m)\u001b[0m\u001b[1;33m:\u001b[0m \u001b[0minstance\u001b[0m\u001b[1;33m.\u001b[0m\u001b[0m_translate_call\u001b[0m\u001b[1;33m(\u001b[0m\u001b[0msignatures_list\u001b[0m\u001b[1;33m,\u001b[0m \u001b[0margs\u001b[0m\u001b[1;33m)\u001b[0m\u001b[1;33m\u001b[0m\u001b[1;33m\u001b[0m\u001b[0m\n\u001b[0m\u001b[0;32m    264\u001b[0m                 \u001b[0mfn\u001b[0m\u001b[1;33m.\u001b[0m\u001b[0m__name__\u001b[0m \u001b[1;33m=\u001b[0m \u001b[0mmethod_name_modified\u001b[0m\u001b[1;33m\u001b[0m\u001b[1;33m\u001b[0m\u001b[0m\n\u001b[0;32m    265\u001b[0m                 \u001b[0mfn\u001b[0m\u001b[1;33m.\u001b[0m\u001b[0m__doc__\u001b[0m \u001b[1;33m=\u001b[0m \u001b[1;34m\"{}.{}: A dynamically generated Java method.\"\u001b[0m\u001b[1;33m.\u001b[0m\u001b[0mformat\u001b[0m\u001b[1;33m(\u001b[0m\u001b[0m_java_class\u001b[0m\u001b[1;33m,\u001b[0m \u001b[0mmethod_name_modified\u001b[0m\u001b[1;33m)\u001b[0m\u001b[1;33m\u001b[0m\u001b[1;33m\u001b[0m\u001b[0m\n",
      "\u001b[1;32m~\\Anaconda3\\envs\\CEpy37\\lib\\site-packages\\pycromanager\\core.py\u001b[0m in \u001b[0;36m_translate_call\u001b[1;34m(self, method_specs, fn_args)\u001b[0m\n\u001b[0;32m    347\u001b[0m         \u001b[0mmessage\u001b[0m\u001b[1;33m[\u001b[0m\u001b[1;34m'arguments'\u001b[0m\u001b[1;33m]\u001b[0m \u001b[1;33m=\u001b[0m \u001b[0m_package_arguments\u001b[0m\u001b[1;33m(\u001b[0m\u001b[0mvalid_method_spec\u001b[0m\u001b[1;33m,\u001b[0m \u001b[0mfn_args\u001b[0m\u001b[1;33m)\u001b[0m\u001b[1;33m\u001b[0m\u001b[1;33m\u001b[0m\u001b[0m\n\u001b[0;32m    348\u001b[0m \u001b[1;33m\u001b[0m\u001b[0m\n\u001b[1;32m--> 349\u001b[1;33m         \u001b[0mself\u001b[0m\u001b[1;33m.\u001b[0m\u001b[0m_socket\u001b[0m\u001b[1;33m.\u001b[0m\u001b[0msend\u001b[0m\u001b[1;33m(\u001b[0m\u001b[0mmessage\u001b[0m\u001b[1;33m)\u001b[0m\u001b[1;33m\u001b[0m\u001b[1;33m\u001b[0m\u001b[0m\n\u001b[0m\u001b[0;32m    350\u001b[0m         \u001b[1;32mreturn\u001b[0m \u001b[0mself\u001b[0m\u001b[1;33m.\u001b[0m\u001b[0m_deserialize\u001b[0m\u001b[1;33m(\u001b[0m\u001b[0mself\u001b[0m\u001b[1;33m.\u001b[0m\u001b[0m_socket\u001b[0m\u001b[1;33m.\u001b[0m\u001b[0mreceive\u001b[0m\u001b[1;33m(\u001b[0m\u001b[1;33m)\u001b[0m\u001b[1;33m)\u001b[0m\u001b[1;33m\u001b[0m\u001b[1;33m\u001b[0m\u001b[0m\n\u001b[0;32m    351\u001b[0m \u001b[1;33m\u001b[0m\u001b[0m\n",
      "\u001b[1;32m~\\Anaconda3\\envs\\CEpy37\\lib\\site-packages\\pycromanager\\core.py\u001b[0m in \u001b[0;36msend\u001b[1;34m(self, message, timeout)\u001b[0m\n\u001b[0;32m     68\u001b[0m         \u001b[0mself\u001b[0m\u001b[1;33m.\u001b[0m\u001b[0m_convert_np_to_python\u001b[0m\u001b[1;33m(\u001b[0m\u001b[0mmessage\u001b[0m\u001b[1;33m)\u001b[0m\u001b[1;33m\u001b[0m\u001b[1;33m\u001b[0m\u001b[0m\n\u001b[0;32m     69\u001b[0m         \u001b[1;32mif\u001b[0m \u001b[0mtimeout\u001b[0m \u001b[1;33m==\u001b[0m \u001b[1;36m0\u001b[0m\u001b[1;33m:\u001b[0m\u001b[1;33m\u001b[0m\u001b[1;33m\u001b[0m\u001b[0m\n\u001b[1;32m---> 70\u001b[1;33m             \u001b[0mself\u001b[0m\u001b[1;33m.\u001b[0m\u001b[0m_socket\u001b[0m\u001b[1;33m.\u001b[0m\u001b[0msend\u001b[0m\u001b[1;33m(\u001b[0m\u001b[0mbytes\u001b[0m\u001b[1;33m(\u001b[0m\u001b[0mjson\u001b[0m\u001b[1;33m.\u001b[0m\u001b[0mdumps\u001b[0m\u001b[1;33m(\u001b[0m\u001b[0mmessage\u001b[0m\u001b[1;33m)\u001b[0m\u001b[1;33m,\u001b[0m \u001b[1;34m'utf-8'\u001b[0m\u001b[1;33m)\u001b[0m\u001b[1;33m)\u001b[0m\u001b[1;33m\u001b[0m\u001b[1;33m\u001b[0m\u001b[0m\n\u001b[0m\u001b[0;32m     71\u001b[0m         \u001b[1;32melse\u001b[0m\u001b[1;33m:\u001b[0m\u001b[1;33m\u001b[0m\u001b[1;33m\u001b[0m\u001b[0m\n\u001b[0;32m     72\u001b[0m             \u001b[0mstart\u001b[0m \u001b[1;33m=\u001b[0m \u001b[0mtime\u001b[0m\u001b[1;33m.\u001b[0m\u001b[0mtime\u001b[0m\u001b[1;33m(\u001b[0m\u001b[1;33m)\u001b[0m\u001b[1;33m\u001b[0m\u001b[1;33m\u001b[0m\u001b[0m\n",
      "\u001b[1;32m~\\AppData\\Roaming\\Python\\Python37\\site-packages\\zmq\\sugar\\socket.py\u001b[0m in \u001b[0;36msend\u001b[1;34m(self, data, flags, copy, track, routing_id, group)\u001b[0m\n\u001b[0;32m    414\u001b[0m                                  copy_threshold=self.copy_threshold)\n\u001b[0;32m    415\u001b[0m             \u001b[0mdata\u001b[0m\u001b[1;33m.\u001b[0m\u001b[0mgroup\u001b[0m \u001b[1;33m=\u001b[0m \u001b[0mgroup\u001b[0m\u001b[1;33m\u001b[0m\u001b[1;33m\u001b[0m\u001b[0m\n\u001b[1;32m--> 416\u001b[1;33m         \u001b[1;32mreturn\u001b[0m \u001b[0msuper\u001b[0m\u001b[1;33m(\u001b[0m\u001b[0mSocket\u001b[0m\u001b[1;33m,\u001b[0m \u001b[0mself\u001b[0m\u001b[1;33m)\u001b[0m\u001b[1;33m.\u001b[0m\u001b[0msend\u001b[0m\u001b[1;33m(\u001b[0m\u001b[0mdata\u001b[0m\u001b[1;33m,\u001b[0m \u001b[0mflags\u001b[0m\u001b[1;33m=\u001b[0m\u001b[0mflags\u001b[0m\u001b[1;33m,\u001b[0m \u001b[0mcopy\u001b[0m\u001b[1;33m=\u001b[0m\u001b[0mcopy\u001b[0m\u001b[1;33m,\u001b[0m \u001b[0mtrack\u001b[0m\u001b[1;33m=\u001b[0m\u001b[0mtrack\u001b[0m\u001b[1;33m)\u001b[0m\u001b[1;33m\u001b[0m\u001b[1;33m\u001b[0m\u001b[0m\n\u001b[0m\u001b[0;32m    417\u001b[0m \u001b[1;33m\u001b[0m\u001b[0m\n\u001b[0;32m    418\u001b[0m     \u001b[1;32mdef\u001b[0m \u001b[0msend_multipart\u001b[0m\u001b[1;33m(\u001b[0m\u001b[0mself\u001b[0m\u001b[1;33m,\u001b[0m \u001b[0mmsg_parts\u001b[0m\u001b[1;33m,\u001b[0m \u001b[0mflags\u001b[0m\u001b[1;33m=\u001b[0m\u001b[1;36m0\u001b[0m\u001b[1;33m,\u001b[0m \u001b[0mcopy\u001b[0m\u001b[1;33m=\u001b[0m\u001b[1;32mTrue\u001b[0m\u001b[1;33m,\u001b[0m \u001b[0mtrack\u001b[0m\u001b[1;33m=\u001b[0m\u001b[1;32mFalse\u001b[0m\u001b[1;33m,\u001b[0m \u001b[1;33m**\u001b[0m\u001b[0mkwargs\u001b[0m\u001b[1;33m)\u001b[0m\u001b[1;33m:\u001b[0m\u001b[1;33m\u001b[0m\u001b[1;33m\u001b[0m\u001b[0m\n",
      "\u001b[1;32mzmq\\backend\\cython\\socket.pyx\u001b[0m in \u001b[0;36mzmq.backend.cython.socket.Socket.send\u001b[1;34m()\u001b[0m\n",
      "\u001b[1;32mzmq\\backend\\cython\\socket.pyx\u001b[0m in \u001b[0;36mzmq.backend.cython.socket.Socket.send\u001b[1;34m()\u001b[0m\n",
      "\u001b[1;32mzmq\\backend\\cython\\socket.pyx\u001b[0m in \u001b[0;36mzmq.backend.cython.socket._send_copy\u001b[1;34m()\u001b[0m\n",
      "\u001b[1;32mzmq\\backend\\cython\\socket.pyx\u001b[0m in \u001b[0;36mzmq.backend.cython.socket._send_copy\u001b[1;34m()\u001b[0m\n",
      "\u001b[1;32m~\\AppData\\Roaming\\Python\\Python37\\site-packages\\zmq\\backend\\cython\\checkrc.pxd\u001b[0m in \u001b[0;36mzmq.backend.cython.checkrc._check_rc\u001b[1;34m()\u001b[0m\n",
      "\u001b[1;31mZMQError\u001b[0m: Operation cannot be accomplished in current state"
     ]
    }
   ],
   "source": [
    "ce_system.xy_stage.controller.close()"
   ]
  },
  {
   "cell_type": "code",
   "execution_count": 6,
   "metadata": {},
   "outputs": [],
   "source": [
    "ce_system.inlet_z.set_z(23)"
   ]
  },
  {
   "cell_type": "code",
   "execution_count": 118,
   "metadata": {},
   "outputs": [],
   "source": [
    "mmc = ce_system.camera.controller"
   ]
  },
  {
   "cell_type": "code",
   "execution_count": 119,
   "metadata": {},
   "outputs": [
    {
     "ename": "ZMQError",
     "evalue": "Operation cannot be accomplished in current state",
     "output_type": "error",
     "traceback": [
      "\u001b[1;31m---------------------------------------------------------------------------\u001b[0m",
      "\u001b[1;31mZMQError\u001b[0m                                  Traceback (most recent call last)",
      "\u001b[1;32m~\\Desktop\\Barracuda\\AutomatedCE\\L1\\Controllers.py\u001b[0m in \u001b[0;36mopen\u001b[1;34m(self)\u001b[0m\n\u001b[0;32m    195\u001b[0m         \u001b[1;32mtry\u001b[0m\u001b[1;33m:\u001b[0m\u001b[1;33m\u001b[0m\u001b[1;33m\u001b[0m\u001b[0m\n\u001b[1;32m--> 196\u001b[1;33m             \u001b[0mself\u001b[0m\u001b[1;33m.\u001b[0m\u001b[0mcore\u001b[0m\u001b[1;33m.\u001b[0m\u001b[0mload_system_configuration\u001b[0m\u001b[1;33m(\u001b[0m\u001b[0mself\u001b[0m\u001b[1;33m.\u001b[0m\u001b[0m_config\u001b[0m\u001b[1;33m)\u001b[0m\u001b[1;33m\u001b[0m\u001b[1;33m\u001b[0m\u001b[0m\n\u001b[0m\u001b[0;32m    197\u001b[0m         \u001b[1;32mexcept\u001b[0m \u001b[0mException\u001b[0m \u001b[1;32mas\u001b[0m \u001b[0me\u001b[0m\u001b[1;33m:\u001b[0m\u001b[1;33m\u001b[0m\u001b[1;33m\u001b[0m\u001b[0m\n",
      "\u001b[1;32m~\\Anaconda3\\envs\\CEpy37\\lib\\site-packages\\pycromanager\\core.py\u001b[0m in \u001b[0;36m<lambda>\u001b[1;34m(instance, signatures_list, *args)\u001b[0m\n\u001b[0;32m    279\u001b[0m                 \u001b[0mreturn_type\u001b[0m \u001b[1;33m=\u001b[0m \u001b[0mmethods_with_name\u001b[0m\u001b[1;33m[\u001b[0m\u001b[1;36m0\u001b[0m\u001b[1;33m]\u001b[0m\u001b[1;33m[\u001b[0m\u001b[1;34m'return-type'\u001b[0m\u001b[1;33m]\u001b[0m\u001b[1;33m\u001b[0m\u001b[1;33m\u001b[0m\u001b[0m\n\u001b[1;32m--> 280\u001b[1;33m                 \u001b[0mfn\u001b[0m \u001b[1;33m=\u001b[0m \u001b[1;32mlambda\u001b[0m \u001b[0minstance\u001b[0m\u001b[1;33m,\u001b[0m \u001b[1;33m*\u001b[0m\u001b[0margs\u001b[0m\u001b[1;33m,\u001b[0m \u001b[0msignatures_list\u001b[0m\u001b[1;33m=\u001b[0m\u001b[0mtuple\u001b[0m\u001b[1;33m(\u001b[0m\u001b[0mmethods_with_name\u001b[0m\u001b[1;33m)\u001b[0m\u001b[1;33m:\u001b[0m \u001b[0minstance\u001b[0m\u001b[1;33m.\u001b[0m\u001b[0m_translate_call\u001b[0m\u001b[1;33m(\u001b[0m\u001b[0msignatures_list\u001b[0m\u001b[1;33m,\u001b[0m \u001b[0margs\u001b[0m\u001b[1;33m)\u001b[0m\u001b[1;33m\u001b[0m\u001b[1;33m\u001b[0m\u001b[0m\n\u001b[0m\u001b[0;32m    281\u001b[0m                 \u001b[0mfn\u001b[0m\u001b[1;33m.\u001b[0m\u001b[0m__name__\u001b[0m \u001b[1;33m=\u001b[0m \u001b[0mmethod_name_modified\u001b[0m\u001b[1;33m\u001b[0m\u001b[1;33m\u001b[0m\u001b[0m\n",
      "\u001b[1;32m~\\Anaconda3\\envs\\CEpy37\\lib\\site-packages\\pycromanager\\core.py\u001b[0m in \u001b[0;36m_translate_call\u001b[1;34m(self, method_specs, fn_args)\u001b[0m\n\u001b[0;32m    365\u001b[0m \u001b[1;33m\u001b[0m\u001b[0m\n\u001b[1;32m--> 366\u001b[1;33m         \u001b[0mself\u001b[0m\u001b[1;33m.\u001b[0m\u001b[0m_socket\u001b[0m\u001b[1;33m.\u001b[0m\u001b[0msend\u001b[0m\u001b[1;33m(\u001b[0m\u001b[0mmessage\u001b[0m\u001b[1;33m)\u001b[0m\u001b[1;33m\u001b[0m\u001b[1;33m\u001b[0m\u001b[0m\n\u001b[0m\u001b[0;32m    367\u001b[0m         \u001b[1;32mreturn\u001b[0m \u001b[0mself\u001b[0m\u001b[1;33m.\u001b[0m\u001b[0m_deserialize\u001b[0m\u001b[1;33m(\u001b[0m\u001b[0mself\u001b[0m\u001b[1;33m.\u001b[0m\u001b[0m_socket\u001b[0m\u001b[1;33m.\u001b[0m\u001b[0mreceive\u001b[0m\u001b[1;33m(\u001b[0m\u001b[1;33m)\u001b[0m\u001b[1;33m)\u001b[0m\u001b[1;33m\u001b[0m\u001b[1;33m\u001b[0m\u001b[0m\n",
      "\u001b[1;32m~\\Anaconda3\\envs\\CEpy37\\lib\\site-packages\\pycromanager\\core.py\u001b[0m in \u001b[0;36msend\u001b[1;34m(self, message, timeout)\u001b[0m\n\u001b[0;32m     70\u001b[0m         \u001b[1;32mif\u001b[0m \u001b[0mtimeout\u001b[0m \u001b[1;33m==\u001b[0m \u001b[1;36m0\u001b[0m\u001b[1;33m:\u001b[0m\u001b[1;33m\u001b[0m\u001b[1;33m\u001b[0m\u001b[0m\n\u001b[1;32m---> 71\u001b[1;33m             \u001b[0mself\u001b[0m\u001b[1;33m.\u001b[0m\u001b[0m_socket\u001b[0m\u001b[1;33m.\u001b[0m\u001b[0msend\u001b[0m\u001b[1;33m(\u001b[0m\u001b[0mbytes\u001b[0m\u001b[1;33m(\u001b[0m\u001b[0mjson\u001b[0m\u001b[1;33m.\u001b[0m\u001b[0mdumps\u001b[0m\u001b[1;33m(\u001b[0m\u001b[0mmessage\u001b[0m\u001b[1;33m)\u001b[0m\u001b[1;33m,\u001b[0m \u001b[1;34m'utf-8'\u001b[0m\u001b[1;33m)\u001b[0m\u001b[1;33m)\u001b[0m\u001b[1;33m\u001b[0m\u001b[1;33m\u001b[0m\u001b[0m\n\u001b[0m\u001b[0;32m     72\u001b[0m         \u001b[1;32melse\u001b[0m\u001b[1;33m:\u001b[0m\u001b[1;33m\u001b[0m\u001b[1;33m\u001b[0m\u001b[0m\n",
      "\u001b[1;32m~\\AppData\\Roaming\\Python\\Python37\\site-packages\\zmq\\sugar\\socket.py\u001b[0m in \u001b[0;36msend\u001b[1;34m(self, data, flags, copy, track, routing_id, group)\u001b[0m\n\u001b[0;32m    415\u001b[0m             \u001b[0mdata\u001b[0m\u001b[1;33m.\u001b[0m\u001b[0mgroup\u001b[0m \u001b[1;33m=\u001b[0m \u001b[0mgroup\u001b[0m\u001b[1;33m\u001b[0m\u001b[1;33m\u001b[0m\u001b[0m\n\u001b[1;32m--> 416\u001b[1;33m         \u001b[1;32mreturn\u001b[0m \u001b[0msuper\u001b[0m\u001b[1;33m(\u001b[0m\u001b[0mSocket\u001b[0m\u001b[1;33m,\u001b[0m \u001b[0mself\u001b[0m\u001b[1;33m)\u001b[0m\u001b[1;33m.\u001b[0m\u001b[0msend\u001b[0m\u001b[1;33m(\u001b[0m\u001b[0mdata\u001b[0m\u001b[1;33m,\u001b[0m \u001b[0mflags\u001b[0m\u001b[1;33m=\u001b[0m\u001b[0mflags\u001b[0m\u001b[1;33m,\u001b[0m \u001b[0mcopy\u001b[0m\u001b[1;33m=\u001b[0m\u001b[0mcopy\u001b[0m\u001b[1;33m,\u001b[0m \u001b[0mtrack\u001b[0m\u001b[1;33m=\u001b[0m\u001b[0mtrack\u001b[0m\u001b[1;33m)\u001b[0m\u001b[1;33m\u001b[0m\u001b[1;33m\u001b[0m\u001b[0m\n\u001b[0m\u001b[0;32m    417\u001b[0m \u001b[1;33m\u001b[0m\u001b[0m\n",
      "\u001b[1;32mzmq\\backend\\cython\\socket.pyx\u001b[0m in \u001b[0;36mzmq.backend.cython.socket.Socket.send\u001b[1;34m()\u001b[0m\n",
      "\u001b[1;32mzmq\\backend\\cython\\socket.pyx\u001b[0m in \u001b[0;36mzmq.backend.cython.socket.Socket.send\u001b[1;34m()\u001b[0m\n",
      "\u001b[1;32mzmq\\backend\\cython\\socket.pyx\u001b[0m in \u001b[0;36mzmq.backend.cython.socket._send_copy\u001b[1;34m()\u001b[0m\n",
      "\u001b[1;32mzmq\\backend\\cython\\socket.pyx\u001b[0m in \u001b[0;36mzmq.backend.cython.socket._send_copy\u001b[1;34m()\u001b[0m\n",
      "\u001b[1;32m~\\AppData\\Roaming\\Python\\Python37\\site-packages\\zmq\\backend\\cython\\checkrc.pxd\u001b[0m in \u001b[0;36mzmq.backend.cython.checkrc._check_rc\u001b[1;34m()\u001b[0m\n",
      "\u001b[1;31mZMQError\u001b[0m: Operation cannot be accomplished in current state",
      "\nDuring handling of the above exception, another exception occurred:\n",
      "\u001b[1;31mZMQError\u001b[0m                                  Traceback (most recent call last)",
      "\u001b[1;32m<ipython-input-119-9b7b9a3505e1>\u001b[0m in \u001b[0;36m<module>\u001b[1;34m\u001b[0m\n\u001b[1;32m----> 1\u001b[1;33m \u001b[0mmmc\u001b[0m\u001b[1;33m.\u001b[0m\u001b[0mopen\u001b[0m\u001b[1;33m(\u001b[0m\u001b[1;33m)\u001b[0m\u001b[1;33m\u001b[0m\u001b[1;33m\u001b[0m\u001b[0m\n\u001b[0m",
      "\u001b[1;32m~\\Desktop\\Barracuda\\AutomatedCE\\L1\\Controllers.py\u001b[0m in \u001b[0;36mopen\u001b[1;34m(self)\u001b[0m\n\u001b[0;32m    197\u001b[0m         \u001b[1;32mexcept\u001b[0m \u001b[0mException\u001b[0m \u001b[1;32mas\u001b[0m \u001b[0me\u001b[0m\u001b[1;33m:\u001b[0m\u001b[1;33m\u001b[0m\u001b[1;33m\u001b[0m\u001b[0m\n\u001b[0;32m    198\u001b[0m             \u001b[1;31m# Try to load twice for the Intensilight Source\u001b[0m\u001b[1;33m\u001b[0m\u001b[1;33m\u001b[0m\u001b[1;33m\u001b[0m\u001b[0m\n\u001b[1;32m--> 199\u001b[1;33m             \u001b[0mself\u001b[0m\u001b[1;33m.\u001b[0m\u001b[0mcore\u001b[0m\u001b[1;33m.\u001b[0m\u001b[0mload_system_configuration\u001b[0m\u001b[1;33m(\u001b[0m\u001b[0mself\u001b[0m\u001b[1;33m.\u001b[0m\u001b[0m_config\u001b[0m\u001b[1;33m)\u001b[0m\u001b[1;33m\u001b[0m\u001b[1;33m\u001b[0m\u001b[0m\n\u001b[0m\u001b[0;32m    200\u001b[0m \u001b[1;33m\u001b[0m\u001b[0m\n\u001b[0;32m    201\u001b[0m     \u001b[1;32mdef\u001b[0m \u001b[0mclose\u001b[0m\u001b[1;33m(\u001b[0m\u001b[0mself\u001b[0m\u001b[1;33m)\u001b[0m\u001b[1;33m:\u001b[0m\u001b[1;33m\u001b[0m\u001b[1;33m\u001b[0m\u001b[0m\n",
      "\u001b[1;32m~\\Anaconda3\\envs\\CEpy37\\lib\\site-packages\\pycromanager\\core.py\u001b[0m in \u001b[0;36m<lambda>\u001b[1;34m(instance, signatures_list, *args)\u001b[0m\n\u001b[0;32m    278\u001b[0m                 \u001b[0mparams\u001b[0m\u001b[1;33m,\u001b[0m \u001b[0mmethods_with_name\u001b[0m\u001b[1;33m,\u001b[0m \u001b[0mmethod_name_modified\u001b[0m \u001b[1;33m=\u001b[0m \u001b[0m_parse_arg_names\u001b[0m\u001b[1;33m(\u001b[0m\u001b[0mmethodSpecs\u001b[0m\u001b[1;33m,\u001b[0m \u001b[0mmethod_name\u001b[0m\u001b[1;33m,\u001b[0m \u001b[0mconvert_camel_case\u001b[0m\u001b[1;33m)\u001b[0m\u001b[1;33m\u001b[0m\u001b[1;33m\u001b[0m\u001b[0m\n\u001b[0;32m    279\u001b[0m                 \u001b[0mreturn_type\u001b[0m \u001b[1;33m=\u001b[0m \u001b[0mmethods_with_name\u001b[0m\u001b[1;33m[\u001b[0m\u001b[1;36m0\u001b[0m\u001b[1;33m]\u001b[0m\u001b[1;33m[\u001b[0m\u001b[1;34m'return-type'\u001b[0m\u001b[1;33m]\u001b[0m\u001b[1;33m\u001b[0m\u001b[1;33m\u001b[0m\u001b[0m\n\u001b[1;32m--> 280\u001b[1;33m                 \u001b[0mfn\u001b[0m \u001b[1;33m=\u001b[0m \u001b[1;32mlambda\u001b[0m \u001b[0minstance\u001b[0m\u001b[1;33m,\u001b[0m \u001b[1;33m*\u001b[0m\u001b[0margs\u001b[0m\u001b[1;33m,\u001b[0m \u001b[0msignatures_list\u001b[0m\u001b[1;33m=\u001b[0m\u001b[0mtuple\u001b[0m\u001b[1;33m(\u001b[0m\u001b[0mmethods_with_name\u001b[0m\u001b[1;33m)\u001b[0m\u001b[1;33m:\u001b[0m \u001b[0minstance\u001b[0m\u001b[1;33m.\u001b[0m\u001b[0m_translate_call\u001b[0m\u001b[1;33m(\u001b[0m\u001b[0msignatures_list\u001b[0m\u001b[1;33m,\u001b[0m \u001b[0margs\u001b[0m\u001b[1;33m)\u001b[0m\u001b[1;33m\u001b[0m\u001b[1;33m\u001b[0m\u001b[0m\n\u001b[0m\u001b[0;32m    281\u001b[0m                 \u001b[0mfn\u001b[0m\u001b[1;33m.\u001b[0m\u001b[0m__name__\u001b[0m \u001b[1;33m=\u001b[0m \u001b[0mmethod_name_modified\u001b[0m\u001b[1;33m\u001b[0m\u001b[1;33m\u001b[0m\u001b[0m\n\u001b[0;32m    282\u001b[0m                 \u001b[0mfn\u001b[0m\u001b[1;33m.\u001b[0m\u001b[0m__doc__\u001b[0m \u001b[1;33m=\u001b[0m \u001b[1;34m\"{}.{}: A dynamically generated Java method.\"\u001b[0m\u001b[1;33m.\u001b[0m\u001b[0mformat\u001b[0m\u001b[1;33m(\u001b[0m\u001b[0m_java_class\u001b[0m\u001b[1;33m,\u001b[0m \u001b[0mmethod_name_modified\u001b[0m\u001b[1;33m)\u001b[0m\u001b[1;33m\u001b[0m\u001b[1;33m\u001b[0m\u001b[0m\n",
      "\u001b[1;32m~\\Anaconda3\\envs\\CEpy37\\lib\\site-packages\\pycromanager\\core.py\u001b[0m in \u001b[0;36m_translate_call\u001b[1;34m(self, method_specs, fn_args)\u001b[0m\n\u001b[0;32m    364\u001b[0m         \u001b[0mmessage\u001b[0m\u001b[1;33m[\u001b[0m\u001b[1;34m'arguments'\u001b[0m\u001b[1;33m]\u001b[0m \u001b[1;33m=\u001b[0m \u001b[0m_package_arguments\u001b[0m\u001b[1;33m(\u001b[0m\u001b[0mvalid_method_spec\u001b[0m\u001b[1;33m,\u001b[0m \u001b[0mfn_args\u001b[0m\u001b[1;33m)\u001b[0m\u001b[1;33m\u001b[0m\u001b[1;33m\u001b[0m\u001b[0m\n\u001b[0;32m    365\u001b[0m \u001b[1;33m\u001b[0m\u001b[0m\n\u001b[1;32m--> 366\u001b[1;33m         \u001b[0mself\u001b[0m\u001b[1;33m.\u001b[0m\u001b[0m_socket\u001b[0m\u001b[1;33m.\u001b[0m\u001b[0msend\u001b[0m\u001b[1;33m(\u001b[0m\u001b[0mmessage\u001b[0m\u001b[1;33m)\u001b[0m\u001b[1;33m\u001b[0m\u001b[1;33m\u001b[0m\u001b[0m\n\u001b[0m\u001b[0;32m    367\u001b[0m         \u001b[1;32mreturn\u001b[0m \u001b[0mself\u001b[0m\u001b[1;33m.\u001b[0m\u001b[0m_deserialize\u001b[0m\u001b[1;33m(\u001b[0m\u001b[0mself\u001b[0m\u001b[1;33m.\u001b[0m\u001b[0m_socket\u001b[0m\u001b[1;33m.\u001b[0m\u001b[0mreceive\u001b[0m\u001b[1;33m(\u001b[0m\u001b[1;33m)\u001b[0m\u001b[1;33m)\u001b[0m\u001b[1;33m\u001b[0m\u001b[1;33m\u001b[0m\u001b[0m\n\u001b[0;32m    368\u001b[0m \u001b[1;33m\u001b[0m\u001b[0m\n",
      "\u001b[1;32m~\\Anaconda3\\envs\\CEpy37\\lib\\site-packages\\pycromanager\\core.py\u001b[0m in \u001b[0;36msend\u001b[1;34m(self, message, timeout)\u001b[0m\n\u001b[0;32m     69\u001b[0m         \u001b[0mself\u001b[0m\u001b[1;33m.\u001b[0m\u001b[0m_convert_np_to_python\u001b[0m\u001b[1;33m(\u001b[0m\u001b[0mmessage\u001b[0m\u001b[1;33m)\u001b[0m\u001b[1;33m\u001b[0m\u001b[1;33m\u001b[0m\u001b[0m\n\u001b[0;32m     70\u001b[0m         \u001b[1;32mif\u001b[0m \u001b[0mtimeout\u001b[0m \u001b[1;33m==\u001b[0m \u001b[1;36m0\u001b[0m\u001b[1;33m:\u001b[0m\u001b[1;33m\u001b[0m\u001b[1;33m\u001b[0m\u001b[0m\n\u001b[1;32m---> 71\u001b[1;33m             \u001b[0mself\u001b[0m\u001b[1;33m.\u001b[0m\u001b[0m_socket\u001b[0m\u001b[1;33m.\u001b[0m\u001b[0msend\u001b[0m\u001b[1;33m(\u001b[0m\u001b[0mbytes\u001b[0m\u001b[1;33m(\u001b[0m\u001b[0mjson\u001b[0m\u001b[1;33m.\u001b[0m\u001b[0mdumps\u001b[0m\u001b[1;33m(\u001b[0m\u001b[0mmessage\u001b[0m\u001b[1;33m)\u001b[0m\u001b[1;33m,\u001b[0m \u001b[1;34m'utf-8'\u001b[0m\u001b[1;33m)\u001b[0m\u001b[1;33m)\u001b[0m\u001b[1;33m\u001b[0m\u001b[1;33m\u001b[0m\u001b[0m\n\u001b[0m\u001b[0;32m     72\u001b[0m         \u001b[1;32melse\u001b[0m\u001b[1;33m:\u001b[0m\u001b[1;33m\u001b[0m\u001b[1;33m\u001b[0m\u001b[0m\n\u001b[0;32m     73\u001b[0m             \u001b[0mstart\u001b[0m \u001b[1;33m=\u001b[0m \u001b[0mtime\u001b[0m\u001b[1;33m.\u001b[0m\u001b[0mtime\u001b[0m\u001b[1;33m(\u001b[0m\u001b[1;33m)\u001b[0m\u001b[1;33m\u001b[0m\u001b[1;33m\u001b[0m\u001b[0m\n",
      "\u001b[1;32m~\\AppData\\Roaming\\Python\\Python37\\site-packages\\zmq\\sugar\\socket.py\u001b[0m in \u001b[0;36msend\u001b[1;34m(self, data, flags, copy, track, routing_id, group)\u001b[0m\n\u001b[0;32m    414\u001b[0m                                  copy_threshold=self.copy_threshold)\n\u001b[0;32m    415\u001b[0m             \u001b[0mdata\u001b[0m\u001b[1;33m.\u001b[0m\u001b[0mgroup\u001b[0m \u001b[1;33m=\u001b[0m \u001b[0mgroup\u001b[0m\u001b[1;33m\u001b[0m\u001b[1;33m\u001b[0m\u001b[0m\n\u001b[1;32m--> 416\u001b[1;33m         \u001b[1;32mreturn\u001b[0m \u001b[0msuper\u001b[0m\u001b[1;33m(\u001b[0m\u001b[0mSocket\u001b[0m\u001b[1;33m,\u001b[0m \u001b[0mself\u001b[0m\u001b[1;33m)\u001b[0m\u001b[1;33m.\u001b[0m\u001b[0msend\u001b[0m\u001b[1;33m(\u001b[0m\u001b[0mdata\u001b[0m\u001b[1;33m,\u001b[0m \u001b[0mflags\u001b[0m\u001b[1;33m=\u001b[0m\u001b[0mflags\u001b[0m\u001b[1;33m,\u001b[0m \u001b[0mcopy\u001b[0m\u001b[1;33m=\u001b[0m\u001b[0mcopy\u001b[0m\u001b[1;33m,\u001b[0m \u001b[0mtrack\u001b[0m\u001b[1;33m=\u001b[0m\u001b[0mtrack\u001b[0m\u001b[1;33m)\u001b[0m\u001b[1;33m\u001b[0m\u001b[1;33m\u001b[0m\u001b[0m\n\u001b[0m\u001b[0;32m    417\u001b[0m \u001b[1;33m\u001b[0m\u001b[0m\n\u001b[0;32m    418\u001b[0m     \u001b[1;32mdef\u001b[0m \u001b[0msend_multipart\u001b[0m\u001b[1;33m(\u001b[0m\u001b[0mself\u001b[0m\u001b[1;33m,\u001b[0m \u001b[0mmsg_parts\u001b[0m\u001b[1;33m,\u001b[0m \u001b[0mflags\u001b[0m\u001b[1;33m=\u001b[0m\u001b[1;36m0\u001b[0m\u001b[1;33m,\u001b[0m \u001b[0mcopy\u001b[0m\u001b[1;33m=\u001b[0m\u001b[1;32mTrue\u001b[0m\u001b[1;33m,\u001b[0m \u001b[0mtrack\u001b[0m\u001b[1;33m=\u001b[0m\u001b[1;32mFalse\u001b[0m\u001b[1;33m,\u001b[0m \u001b[1;33m**\u001b[0m\u001b[0mkwargs\u001b[0m\u001b[1;33m)\u001b[0m\u001b[1;33m:\u001b[0m\u001b[1;33m\u001b[0m\u001b[1;33m\u001b[0m\u001b[0m\n",
      "\u001b[1;32mzmq\\backend\\cython\\socket.pyx\u001b[0m in \u001b[0;36mzmq.backend.cython.socket.Socket.send\u001b[1;34m()\u001b[0m\n",
      "\u001b[1;32mzmq\\backend\\cython\\socket.pyx\u001b[0m in \u001b[0;36mzmq.backend.cython.socket.Socket.send\u001b[1;34m()\u001b[0m\n",
      "\u001b[1;32mzmq\\backend\\cython\\socket.pyx\u001b[0m in \u001b[0;36mzmq.backend.cython.socket._send_copy\u001b[1;34m()\u001b[0m\n",
      "\u001b[1;32mzmq\\backend\\cython\\socket.pyx\u001b[0m in \u001b[0;36mzmq.backend.cython.socket._send_copy\u001b[1;34m()\u001b[0m\n",
      "\u001b[1;32m~\\AppData\\Roaming\\Python\\Python37\\site-packages\\zmq\\backend\\cython\\checkrc.pxd\u001b[0m in \u001b[0;36mzmq.backend.cython.checkrc._check_rc\u001b[1;34m()\u001b[0m\n",
      "\u001b[1;31mZMQError\u001b[0m: Operation cannot be accomplished in current state"
     ]
    }
   ],
   "source": [
    "mmc.open()"
   ]
  },
  {
   "cell_type": "code",
   "execution_count": null,
   "metadata": {},
   "outputs": [],
   "source": [
    "mmc._"
   ]
  }
 ],
 "metadata": {
  "kernelspec": {
   "display_name": "Python 3",
   "language": "python",
   "name": "python3"
  },
  "language_info": {
   "codemirror_mode": {
    "name": "ipython",
    "version": 3
   },
   "file_extension": ".py",
   "mimetype": "text/x-python",
   "name": "python",
   "nbconvert_exporter": "python",
   "pygments_lexer": "ipython3",
   "version": "3.7.9"
  }
 },
 "nbformat": 4,
 "nbformat_minor": 2
}
