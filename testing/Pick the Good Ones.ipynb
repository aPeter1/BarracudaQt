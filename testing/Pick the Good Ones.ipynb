{
 "cells": [
  {
   "cell_type": "code",
   "execution_count": null,
   "metadata": {
    "scrolled": true
   },
   "outputs": [],
   "source": [
    "# Reset and Restart \n",
    "\n",
    "import sys\n",
    "import os\n",
    "import numpy as np\n",
    "import time\n",
    "from imp import reload\n",
    "import threading\n",
    "from L4 import FileIO\n",
    "from skimage import io\n",
    "\n",
    "# Set the working directory to the AutomatedCE folder so we have access to L1-L4 modules\n",
    "resp = os.getcwd()\n",
    "if 'testing' in resp[-7:]:\n",
    "    os.chdir(os.path.abspath(os.path.join(os.getcwd(), '..')))\n",
    "    print(f\"new directory is: {os.getcwd()}\")\n",
    "import testing.inputs  \n",
    "reload(testing.inputs)\n",
    "from testing.inputs import *\n",
    "from L4 import DisplayWindows\n",
    "reload(DisplayWindows)\n",
    "\n",
    "CONFIG_PATH = r\"C:\\Users\\Luke\\Desktop\\Barracuda\\AutomatedCE\\var\\Eclipse.cfg\"\n",
    "from L3 import SystemsBuilder\n",
    "reload(SystemsBuilder)\n",
    "\n",
    "ce_system = SystemsBuilder.CESystem()\n",
    "\n",
    "ce_system.load_config(CONFIG_PATH)\n",
    "ce_system.open_controllers()\n",
    "ce_system.startup_utilities()\n",
    "\n",
    "%matplotlib qt"
   ]
  },
  {
   "cell_type": "code",
   "execution_count": null,
   "metadata": {},
   "outputs": [
    {
     "name": "stderr",
     "output_type": "stream",
     "text": [
      "C:\\Users\\Luke\\Anaconda3\\envs\\CEpy37\\lib\\site-packages\\nidaqmx\\task.py:105: ResourceWarning: Task of name \"_unnamedTask<0>\" was not explicitly closed before it was destructed. Resources on the task device may still be reserved.\n",
      "  'reserved.'.format(self.name), DaqResourceWarning)\n",
      "C:\\Users\\Luke\\Anaconda3\\envs\\CEpy37\\lib\\site-packages\\nidaqmx\\task.py:105: ResourceWarning: Task of name \"_unnamedTask<1>\" was not explicitly closed before it was destructed. Resources on the task device may still be reserved.\n",
      "  'reserved.'.format(self.name), DaqResourceWarning)\n",
      "C:\\Users\\Luke\\Anaconda3\\envs\\CEpy37\\lib\\site-packages\\nidaqmx\\task.py:105: ResourceWarning: Task of name \"_unnamedTask<2>\" was not explicitly closed before it was destructed. Resources on the task device may still be reserved.\n",
      "  'reserved.'.format(self.name), DaqResourceWarning)\n"
     ]
    }
   ],
   "source": [
    "\n",
    "class ImageSaver:\n",
    "    \n",
    "    def __init__(self, system:SystemsBuilder.CESystem, folder_prefix=None, data_folder=None):\n",
    "        self.system = system\n",
    "        self.prefix = folder_prefix\n",
    "        self.data_folder = data_folder\n",
    "        self.images = []\n",
    "        self._lock = threading.RLock()\n",
    "        \n",
    "    def add_callback(self):\n",
    "        self.system.camera.add_callback(self.callback, tag='save_img')\n",
    "        \n",
    "    def remove_callback(self):\n",
    "        self.system.camera.remove_callback(tag='save_img')\n",
    "    \n",
    "    def callback(self, img, *args, **kwargs):\n",
    "        with self._lock:\n",
    "            self.images.append(img)\n",
    "    \n",
    "    def save_image(self, image_prefix='img', folder_prefix=None, data_folder=None, unique_folder=True):\n",
    "        \"\"\"\n",
    "        Saves the images into an folder with incrementing image names:\n",
    "        \n",
    "        image_prefix: what the image filename should be caleld\n",
    "        folder_prefix: what the data folder will be called\n",
    "        data_folder: where the parent_directory resides\n",
    "        unique_folder: When true, create a new folder everytime the function is called\n",
    "        \n",
    "        \"\"\"\n",
    "        \n",
    "        if folder_prefix is None:\n",
    "            prefix = self.prefix\n",
    "        if data_folder is None:\n",
    "            data_folder = self.data_folder\n",
    "    \n",
    "        if unique_folder:\n",
    "            data_dir = FileIO.get_data_folder(prefix, data_folder)\n",
    "        else:\n",
    "            data_dir = data_folder\n",
    "        for image in self.images:\n",
    "            data_file = FileIO.get_data_filename(image_prefix, data_dir, extension='.tiff')\n",
    "            io.imsave(data_file, image)\n",
    "            \n",
    "    \n",
    "    "
   ]
  },
  {
   "cell_type": "code",
   "execution_count": 3,
   "metadata": {},
   "outputs": [],
   "source": [
    "from pathlib import Path\n",
    "import numpy as np\n",
    "from scipy.ndimage import label, distance_transform_edt\n",
    "from skimage import io, img_as_float, filters, morphology\n",
    "from skimage.feature import peak_local_max\n",
    "from skimage.measure import regionprops, regionprops_table\n",
    "from skimage.morphology import watershed\n",
    "import pandas as pd\n",
    "import glob\n",
    "import skimage.measure as measure\n",
    "\n",
    "import matplotlib.pyplot as plt"
   ]
  },
  {
   "cell_type": "code",
   "execution_count": 19,
   "metadata": {},
   "outputs": [
    {
     "data": {
      "text/plain": [
       "<module 'L4.Focus' from 'C:\\\\Users\\\\Luke\\\\Desktop\\\\Barracuda\\\\AutomatedCE\\\\L4\\\\Focus.py'>"
      ]
     },
     "execution_count": 19,
     "metadata": {},
     "output_type": "execute_result"
    }
   ],
   "source": [
    "from L4 import Focus\n",
    "reload(Focus)"
   ]
  },
  {
   "cell_type": "markdown",
   "metadata": {},
   "source": [
    "# Automation Objects"
   ]
  },
  {
   "cell_type": "code",
   "execution_count": 281,
   "metadata": {},
   "outputs": [
    {
     "name": "stderr",
     "output_type": "stream",
     "text": [
      "WARNING:root:Adding step cell\tcells\t240\t7 mm\t0\t0\t0\t3\twait\t0\n",
      "WARNING:root:Adding step auto_cell\tw_e1\t260\t7 mm\t0\t0\t20\t100\t\t1\n"
     ]
    },
    {
     "name": "stdout",
     "output_type": "stream",
     "text": [
      "WHASSUZ ['cell\\tcells\\t240\\t7 mm\\t0\\t0\\t0\\t3\\twait\\t0', 'auto_cell\\tw_e1\\t260\\t7 mm\\t0\\t0\\t20\\t100\\t\\t1']\n",
      "ADDING\n",
      "ADDING\n"
     ]
    }
   ],
   "source": [
    "# Set up the Automation Method & Template \n",
    "TEMPLATE_PATH = r\"C:\\Users\\Luke\\Desktop\\Barracuda\\AutomatedCE\\var\\EclipseCellTemplate.txt\"\n",
    "METHOD_PATH = r\"C:\\Users\\Luke\\Desktop\\Barracuda\\AutomatedCE\\var\\Brae\\Cell.txt\"\n",
    "\n",
    "from L4 import AutomatedControl\n",
    "from L4 import Trajectory\n",
    "reload(AutomatedControl)\n",
    "reload(Trajectory)\n",
    "\n",
    "auto_program = AutomatedControl.AutoRun(ce_system)\n",
    "auto_program.set_template(TEMPLATE_PATH)\n",
    "auto_program.add_method(METHOD_PATH)\n",
    "auto_program.repetitions=6"
   ]
  },
  {
   "cell_type": "code",
   "execution_count": 74,
   "metadata": {},
   "outputs": [
    {
     "name": "stdout",
     "output_type": "stream",
     "text": [
      "After special True\n",
      "Time to wait is  3\n",
      "After special True\n",
      "Time to wait is  200\n"
     ]
    }
   ],
   "source": [
    "# Start the Method\n",
    "if not auto_program.continue_event.is_set():\n",
    "    auto_program.continue_event.set()\n",
    "else:\n",
    "    auto_program.start_run()"
   ]
  },
  {
   "cell_type": "code",
   "execution_count": null,
   "metadata": {
    "scrolled": true
   },
   "outputs": [
    {
     "name": "stderr",
     "output_type": "stream",
     "text": [
      "WARNING:root:STOP not implemented\n"
     ]
    }
   ],
   "source": [
    "# Stop the Method\n",
    "auto_program.stop_run()"
   ]
  },
  {
   "cell_type": "code",
   "execution_count": null,
   "metadata": {},
   "outputs": [],
   "source": []
  },
  {
   "cell_type": "code",
   "execution_count": 328,
   "metadata": {},
   "outputs": [],
   "source": [
    "auto_program.start_run()"
   ]
  },
  {
   "cell_type": "code",
   "execution_count": 89,
   "metadata": {},
   "outputs": [
    {
     "name": "stdout",
     "output_type": "stream",
     "text": [
      "Please enter the well name to move to (press enter to see a list): cells\n",
      "Please move the capillary using the fine adjustment knobs, or the z-stage base so that capillary is centered over this well.\n"
     ]
    }
   ],
   "source": [
    "name = get_value(\"Please enter the well name to move to (press enter to see a list): \", auto_program.template.wells.keys())\n",
    "well = auto_program.template.wells[name]\n",
    "ce_system.xy_stage.set_xy(well.xy)\n",
    "resp = input(\"Please move the capillary using the fine adjustment knobs, or the z-stage base so that capillary is centered over this well.\")\n"
   ]
  },
  {
   "cell_type": "code",
   "execution_count": 75,
   "metadata": {
    "scrolled": true
   },
   "outputs": [
    {
     "name": "stderr",
     "output_type": "stream",
     "text": [
      "Exception in thread Thread-31:\n",
      "Traceback (most recent call last):\n",
      "  File \"C:\\Users\\Luke\\Anaconda3\\envs\\CEpy37\\lib\\threading.py\", line 926, in _bootstrap_inner\n",
      "    self.run()\n",
      "  File \"C:\\Users\\Luke\\Anaconda3\\envs\\CEpy37\\lib\\threading.py\", line 870, in run\n",
      "    self._target(*self._args, **self._kwargs)\n",
      "  File \"C:\\Users\\Luke\\Desktop\\Barracuda\\AutomatedCE\\L2\\CameraControl.py\", line 196, in _sequence_update\n",
      "    img = self.controller.send_command(self.controller.core.get_last_image)\n",
      "  File \"C:\\Users\\Luke\\Desktop\\Barracuda\\AutomatedCE\\L1\\Controllers.py\", line 227, in send_command\n",
      "    raise e\n",
      "  File \"C:\\Users\\Luke\\Desktop\\Barracuda\\AutomatedCE\\L1\\Controllers.py\", line 219, in send_command\n",
      "    ans = command(*args)\n",
      "  File \"C:\\Users\\Luke\\Anaconda3\\envs\\CEpy37\\lib\\site-packages\\pycromanager\\core.py\", line 263, in <lambda>\n",
      "    fn = lambda instance, *args, signatures_list=tuple(methods_with_name): instance._translate_call(signatures_list, args)\n",
      "  File \"C:\\Users\\Luke\\Anaconda3\\envs\\CEpy37\\lib\\site-packages\\pycromanager\\core.py\", line 350, in _translate_call\n",
      "    return self._deserialize(self._socket.receive())\n",
      "  File \"C:\\Users\\Luke\\Anaconda3\\envs\\CEpy37\\lib\\site-packages\\pycromanager\\core.py\", line 97, in receive\n",
      "    self._check_exception(message)\n",
      "  File \"C:\\Users\\Luke\\Anaconda3\\envs\\CEpy37\\lib\\site-packages\\pycromanager\\core.py\", line 102, in _check_exception\n",
      "    raise Exception(response['value'])\n",
      "Exception: java.lang.Exception: Circular buffer is empty.\n",
      "mmcorej.MMCoreJJNI.CMMCore_getLastImage(Native Method)\n",
      "mmcorej.CMMCore.getLastImage(CMMCore.java:1040)\n",
      "sun.reflect.GeneratedMethodAccessor29.invoke(Unknown Source)\n",
      "sun.reflect.DelegatingMethodAccessorImpl.invoke(DelegatingMethodAccessorImpl.java:43)\n",
      "java.lang.reflect.Method.invoke(Method.java:498)\n",
      "org.micromanager.internal.zmq.ZMQServer.runMethod(ZMQServer.java:268)\n",
      "org.micromanager.internal.zmq.ZMQServer.parseAndExecuteCommand(ZMQServer.java:324)\n",
      "org.micromanager.internal.zmq.ZMQServer.lambda$initialize$1(ZMQServer.java:80)\n",
      "java.util.concurrent.FutureTask.run(FutureTask.java:266)\n",
      "java.util.concurrent.ThreadPoolExecutor.runWorker(ThreadPoolExecutor.java:1149)\n",
      "java.util.concurrent.ThreadPoolExecutor$Worker.run(ThreadPoolExecutor.java:624)\n",
      "java.lang.Thread.run(Thread.java:748)\n",
      "\n",
      "\n",
      "Exception in thread AutoRun:\n",
      "Traceback (most recent call last):\n",
      "  File \"C:\\Users\\Luke\\Anaconda3\\envs\\CEpy37\\lib\\threading.py\", line 926, in _bootstrap_inner\n",
      "    self.run()\n",
      "  File \"C:\\Users\\Luke\\Desktop\\Barracuda\\AutomatedCE\\L4\\Util.py\", line 19, in __run\n",
      "    self.__run_backup()\n",
      "  File \"C:\\Users\\Luke\\Anaconda3\\envs\\CEpy37\\lib\\threading.py\", line 870, in run\n",
      "    self._target(*self._args, **self._kwargs)\n",
      "  File \"C:\\Users\\Luke\\Desktop\\Barracuda\\AutomatedCE\\L4\\AutomatedControl.py\", line 645, in _run\n",
      "    FileIO.OutputElectropherogram(self.system, file_path)\n",
      "  File \"C:\\Users\\Luke\\Desktop\\Barracuda\\AutomatedCE\\L4\\FileIO.py\", line 87, in __init__\n",
      "    data = self.get_data(system)\n",
      "  File \"C:\\Users\\Luke\\Desktop\\Barracuda\\AutomatedCE\\L4\\FileIO.py\", line 128, in get_data\n",
      "    fx = interp1d(power_time, power_data[channel], kind='cubic')\n",
      "  File \"C:\\Users\\Luke\\AppData\\Roaming\\Python\\Python37\\site-packages\\scipy\\interpolate\\interpolate.py\", line 529, in __init__\n",
      "    check_finite=False)\n",
      "  File \"C:\\Users\\Luke\\AppData\\Roaming\\Python\\Python37\\site-packages\\scipy\\interpolate\\_bsplines.py\", line 789, in make_interp_spline\n",
      "    raise ValueError(\"Expect x to not have duplicates\")\n",
      "ValueError: Expect x to not have duplicates\n",
      "\n"
     ]
    }
   ],
   "source": [
    "# CE Display\n",
    "ce_gram = DisplayWindows.PLTCEDisplay(ce_system)\n",
    "#ce_disp.stop()\n",
    "#ce_disp.show()\n",
    "ce_gram.start_live_view()\n",
    "ce_system.detector.start()"
   ]
  },
  {
   "cell_type": "code",
   "execution_count": 3,
   "metadata": {},
   "outputs": [
    {
     "name": "stdout",
     "output_type": "stream",
     "text": [
      "HEYYOO\n"
     ]
    }
   ],
   "source": [
    "# Microscope Display\n",
    "cam = DisplayWindows.PLTMicroscopeDisplay(ce_system)\n",
    "ce_system.camera.stop()\n",
    "cam.show()\n",
    "cam.live_image()"
   ]
  },
  {
   "cell_type": "markdown",
   "metadata": {},
   "source": [
    "# Set the Focus Plane for the cells"
   ]
  },
  {
   "cell_type": "code",
   "execution_count": 20,
   "metadata": {},
   "outputs": [],
   "source": [
    "focus_plane = Focus.PlaneFocus(ce_system)\n",
    "\n",
    "focus_plane.get_three_points()\n"
   ]
  },
  {
   "cell_type": "code",
   "execution_count": 23,
   "metadata": {},
   "outputs": [],
   "source": [
    "# run this three times\n",
    "focus_plane.give_response()"
   ]
  },
  {
   "cell_type": "code",
   "execution_count": 24,
   "metadata": {},
   "outputs": [
    {
     "data": {
      "text/plain": [
       "True"
      ]
     },
     "execution_count": 24,
     "metadata": {},
     "output_type": "execute_result"
    }
   ],
   "source": [
    "focus_plane.find_a_plane()"
   ]
  },
  {
   "cell_type": "code",
   "execution_count": 25,
   "metadata": {},
   "outputs": [],
   "source": [
    "focus_search = Focus.FindFocus(ce_system)"
   ]
  },
  {
   "cell_type": "markdown",
   "metadata": {},
   "source": [
    "# Set the Capillary Adjustments"
   ]
  },
  {
   "cell_type": "code",
   "execution_count": 7,
   "metadata": {},
   "outputs": [],
   "source": [
    "# Move the objective to the height and run this cell to record it for next time\n",
    "obj_height = ce_system.objective.read_z()\n",
    "ce_system.objective.set_rel_z(+.05)"
   ]
  },
  {
   "cell_type": "code",
   "execution_count": 13,
   "metadata": {},
   "outputs": [],
   "source": [
    "ce_system.inlet_z.set_rel_z(-0.5)"
   ]
  },
  {
   "cell_type": "code",
   "execution_count": 6,
   "metadata": {},
   "outputs": [],
   "source": [
    "ce_system.inlet_z.set_z(4)"
   ]
  },
  {
   "cell_type": "code",
   "execution_count": 14,
   "metadata": {},
   "outputs": [],
   "source": [
    "# and record this height for next time \n",
    "cap_height = ce_system.inlet_z.read_z()\n",
    "cap_difference = obj_height - cap_height"
   ]
  },
  {
   "cell_type": "code",
   "execution_count": 15,
   "metadata": {},
   "outputs": [],
   "source": [
    "def get_cap_height(obj_height, cap_difference):\n",
    "    cap_height = obj_height - cap_difference\n",
    "    return cap_height"
   ]
  },
  {
   "cell_type": "code",
   "execution_count": 179,
   "metadata": {},
   "outputs": [],
   "source": [
    "import csv"
   ]
  },
  {
   "cell_type": "code",
   "execution_count": 180,
   "metadata": {},
   "outputs": [],
   "source": [
    "with open('save_me','w') as fout:\n",
    "    fout.write(f'cap_difference,{cap_difference}')"
   ]
  },
  {
   "cell_type": "code",
   "execution_count": 26,
   "metadata": {},
   "outputs": [],
   "source": [
    "with open('save_me','r') as fin:\n",
    "    cap_difference= float(fin.readline().split(',')[1])\n",
    "    "
   ]
  },
  {
   "cell_type": "code",
   "execution_count": 16,
   "metadata": {},
   "outputs": [
    {
     "data": {
      "text/plain": [
       "7.8378251316938545"
      ]
     },
     "execution_count": 16,
     "metadata": {},
     "output_type": "execute_result"
    }
   ],
   "source": [
    "cap_difference"
   ]
  },
  {
   "cell_type": "code",
   "execution_count": 26,
   "metadata": {},
   "outputs": [],
   "source": [
    "def get_brightest_blobs(image):\n",
    "    close_size=5\n",
    "    open_size=5\n",
    "    watershed_footprint = (5,5)\n",
    "    # Make sure types are the same\n",
    "    input_image = img_as_float(img)\n",
    "\n",
    "    # Filter Image\n",
    "    filtered_image = filters.median(input_image, behavior='ndimage')\n",
    "\n",
    "    # Edge Detection\n",
    "    edge_sobel = filters.sobel(filtered_image)\n",
    "\n",
    "    # Threshold\n",
    "    thresh = filters.threshold_otsu(filtered_image)\n",
    "    binary_otsu = filtered_image > thresh\n",
    "\n",
    "    # Binary Morphology Operations\n",
    "    structure_element = morphology.disk(close_size)\n",
    "    closed_image = morphology.binary_closing(binary_otsu, structure_element)\n",
    "    structure_element = morphology.disk(open_size)\n",
    "    opened_image = morphology.binary_opening(closed_image, structure_element)\n",
    "\n",
    "    # Watershed\n",
    "    distance = distance_transform_edt(opened_image)\n",
    "    local_maxi = peak_local_max(distance, indices=False, footprint=np.ones(watershed_footprint), labels=opened_image)\n",
    "    markers = label(local_maxi)[0]\n",
    "    labels = watershed(-distance, markers, mask=opened_image)\n",
    "    \n",
    "    # Labeling and Sorting\n",
    "    regions = regionprops_table(labels, intensity_image=img, properties=('label', 'centroid', 'max_intensity', 'mean_intensity'))\n",
    "    df = pd.DataFrame(regions)\n",
    "    df = df.sort_values(by=['mean_intensity','max_intensity'], ascending=False)\n",
    "    \n",
    "    return df\n",
    "\n",
    "def move_to_blob(df):\n",
    "    if df.shape[0] > 0:\n",
    "        y=df['centroid-0'][0]*bins\n",
    "        x=df['centroid-1'][0]*bins\n",
    "\n",
    "        movex = (x-target_x)*conversion\n",
    "        movey = (y-target_y)*conversion\n",
    "        ce_system.xy_stage.set_rel_x(movex)\n",
    "        ce_system.xy_stage.set_rel_y(-movey)\n",
    "        \n",
    "def limited_fire(ce_system, gravity_drop, voltage_level, injection_time):\n",
    "    time.sleep(delay)\n",
    "    print('Fire')\n",
    "    ce_system.outlet_z.set_rel_z(-gravity_drop)\n",
    "    ce_system.high_voltage.set_voltage(voltage_level)\n",
    "    ce_system.high_voltage.start()\n",
    "    start_time = time.time()\n",
    "    ce_system.lysis_laser.laser_fire()\n",
    "    ce_system.objective.set_rel_z(-0.010)\n",
    "\n",
    "    while time.time()-start_time < injection_time:\n",
    "        if time.time()-start_time < 3:\n",
    "            ce_system.objective.set_rel_z(0.005)\n",
    "            ce_system.xy_stage.set_rel_x(0.001)\n",
    "            ce_system.lysis_laser.laser_fire()\n",
    "        time.sleep(0.35)\n",
    "    ce_system.high_voltage.stop()\n",
    "    print(f\"Finished {time.time()-start_time}\")\n",
    "    ce_system.outlet_z.set_rel_z(gravity_drop)"
   ]
  },
  {
   "cell_type": "code",
   "execution_count": 27,
   "metadata": {
    "scrolled": true
   },
   "outputs": [],
   "source": [
    "# Bring the Cells into focus\n",
    "fluor_channel = 3\n",
    "focus_plane.get_plane_focus()\n"
   ]
  },
  {
   "cell_type": "code",
   "execution_count": 28,
   "metadata": {
    "scrolled": false
   },
   "outputs": [
    {
     "ename": "NameError",
     "evalue": "name 'ImageSaver' is not defined",
     "output_type": "error",
     "traceback": [
      "\u001b[1;31m---------------------------------------------------------------------------\u001b[0m",
      "\u001b[1;31mNameError\u001b[0m                                 Traceback (most recent call last)",
      "\u001b[1;32m<ipython-input-28-7af91d04f872>\u001b[0m in \u001b[0;36m<module>\u001b[1;34m\u001b[0m\n\u001b[0;32m      1\u001b[0m \u001b[0mdata_dir\u001b[0m \u001b[1;33m=\u001b[0m \u001b[1;34mr\"C:\\Users\\Luke\\Documents\\Brae\\9-19-2020\\images\"\u001b[0m\u001b[1;33m\u001b[0m\u001b[1;33m\u001b[0m\u001b[0m\n\u001b[1;32m----> 2\u001b[1;33m \u001b[0mfluor_saver\u001b[0m \u001b[1;33m=\u001b[0m \u001b[0mImageSaver\u001b[0m\u001b[1;33m(\u001b[0m\u001b[0mce_system\u001b[0m\u001b[1;33m,\u001b[0m \u001b[0mfolder_prefix\u001b[0m\u001b[1;33m=\u001b[0m\u001b[1;34m'Picking'\u001b[0m\u001b[1;33m,\u001b[0m \u001b[0mdata_folder\u001b[0m\u001b[1;33m=\u001b[0m\u001b[0mdata_dir\u001b[0m\u001b[1;33m)\u001b[0m\u001b[1;33m\u001b[0m\u001b[1;33m\u001b[0m\u001b[0m\n\u001b[0m\u001b[0;32m      3\u001b[0m \u001b[0mfocus_saver\u001b[0m \u001b[1;33m=\u001b[0m \u001b[0mImageSaver\u001b[0m\u001b[1;33m(\u001b[0m\u001b[0mce_system\u001b[0m\u001b[1;33m,\u001b[0m \u001b[0mfolder_prefix\u001b[0m\u001b[1;33m=\u001b[0m\u001b[1;34m'Focusing'\u001b[0m\u001b[1;33m,\u001b[0m \u001b[0mdata_folder\u001b[0m\u001b[1;33m=\u001b[0m\u001b[0mdata_dir\u001b[0m\u001b[1;33m)\u001b[0m\u001b[1;33m\u001b[0m\u001b[1;33m\u001b[0m\u001b[0m\n\u001b[0;32m      4\u001b[0m \u001b[0mlysis_saver\u001b[0m \u001b[1;33m=\u001b[0m \u001b[0mImageSaver\u001b[0m\u001b[1;33m(\u001b[0m\u001b[0mce_system\u001b[0m\u001b[1;33m,\u001b[0m \u001b[0mfolder_prefix\u001b[0m\u001b[1;33m=\u001b[0m\u001b[1;34m'Lysis'\u001b[0m\u001b[1;33m,\u001b[0m \u001b[0mdata_folder\u001b[0m\u001b[1;33m=\u001b[0m\u001b[0mdata_dir\u001b[0m\u001b[1;33m)\u001b[0m\u001b[1;33m\u001b[0m\u001b[1;33m\u001b[0m\u001b[0m\n\u001b[0;32m      5\u001b[0m \u001b[1;33m\u001b[0m\u001b[0m\n",
      "\u001b[1;31mNameError\u001b[0m: name 'ImageSaver' is not defined"
     ]
    }
   ],
   "source": [
    "data_dir = r\"C:\\Users\\Luke\\Documents\\Brae\\9-19-2020\\images\"\n",
    "fluor_saver = ImageSaver(ce_system, folder_prefix='Picking', data_folder=data_dir)\n",
    "focus_saver = ImageSaver(ce_system, folder_prefix='Focusing', data_folder=data_dir)\n",
    "lysis_saver = ImageSaver(ce_system, folder_prefix='Lysis', data_folder=data_dir)\n",
    "\n",
    "def automatic_sampling():\n",
    "    # Bring the Cells into focus\n",
    "    fluor_channel = 3\n",
    "    focus_plane.get_plane_focus()\n",
    "    time.sleep(3)\n",
    "    \n",
    "    # Test Alec's Focus and get data\n",
    "    pre_fluoresence()\n",
    "    focus_saver.add_callback()\n",
    "    focus_search = Focus.FindFocus(ce_system)\n",
    "    focus_search.search_step_global()\n",
    "    focus_saver.remove_callback()\n",
    "    post_fluoresence()\n",
    "    focus_saver.save_image()\n",
    "    \n",
    "    # We don't Trust Alec's function yet\n",
    "    fluor_channel = 3\n",
    "    focus_plane.get_plane_focus()\n",
    "    \n",
    "    # Get Fluoresence Image for Best chance\n",
    "    fluor_channel = 1\n",
    "    pre_fluoresence()\n",
    "    fluor_saver.add_callback()\n",
    "    img = ce_system.camera.snap()\n",
    "    fluor_saver.remove_callback()\n",
    "    post_fluoresence()\n",
    "    \n",
    "    \n",
    "    # Move to the brighest blob\n",
    "    blobs = get_brightest_blobs(img)\n",
    "    move_to_blob(blobs)\n",
    "    \n",
    "    \n",
    "    # Bring the Cells into focus\n",
    "    fluor_channel = 3\n",
    "    focus_plane.get_plane_focus()\n",
    "    lysis_saver.add_callback()\n",
    "    time.sleep(0.5)\n",
    "    \n",
    "    # on reruns, you just need to run this command when you have the cells in focus\n",
    "    resp= True\n",
    "    if resp:\n",
    "        obj_height = ce_system.objective.read_z()\n",
    "        print(obj_height)\n",
    "        cap_z = get_cap_height(obj_height, cap_difference)\n",
    "        z = ce_system.inlet_z.read_z()\n",
    "        rel_z = cap_z-z\n",
    "        rel_z += 0.02\n",
    "        ce_system.inlet_z.set_rel_z(rel_z)\n",
    "    else:\n",
    "        print(\"Bring cells into focus.\")\n",
    "        raise RuntimeError(\"Cells not in Focus\")\n",
    "\n",
    "    time.sleep(5)\n",
    "    \n",
    "    # Start the Single Cell Injection\n",
    "    limited_fire(ce_system, gravity_drop, voltage_level, injection_time)\n",
    "    \n",
    "    # Prepare to start the method\n",
    "    ce_system.inlet_z.set_rel_z(3)\n",
    "    time.sleep(3)\n",
    "    lysis_saver.remove_callback()\n",
    "    lysis_saver.save_image()\n",
    "    \n",
    "    # Start the Method\n",
    "    ce_system.objective.set_rel_z(-3)\n",
    "    if not auto_program.continue_event.is_set():\n",
    "        auto_program.continue_event.set()\n",
    "    else:\n",
    "        auto_program.start_run()"
   ]
  },
  {
   "cell_type": "markdown",
   "metadata": {},
   "source": [
    "# Find the Brightest Cell"
   ]
  },
  {
   "cell_type": "code",
   "execution_count": 194,
   "metadata": {},
   "outputs": [],
   "source": [
    "# PARAMETERS\n",
    "target_x = 871\n",
    "target_y = 585\n",
    "rgb_chnl = 'R'\n",
    "fluor_channel = 1\n",
    "wait = 0.25\n",
    "exp = 500\n",
    "_old_exp=100\n",
    "_old_bin = 1\n",
    "_old_channel = 0\n",
    "bins = 1\n",
    "conversion =0.0003125\n",
    "obj_40x = 0.0001607717041800643\n",
    "\n",
    "def pre_fluoresence():\n",
    "    # SNAP a FLUOR IMAGE\n",
    "    # Set to new values\n",
    "    ce_system.inlet_rgb.turn_off_channel(rgb_chnl)\n",
    "    ce_system.camera.stop()\n",
    "    ce_system.filter_wheel.set_channel(fluor_channel)\n",
    "    ce_system.excitation_shutter.set_auto_on()\n",
    "    #_old_exp = ce_system.camera.exposure\n",
    "    ce_system.camera.set_exposure(exp)\n",
    "    #ce_system.camera.set_binning(bins)\n",
    "    #_old_bin = ce_system.camera.bin_size\n",
    "    time.sleep(wait)\n",
    "    \n",
    "def post_fluoresence():\n",
    "    # Return to old values\n",
    "    ce_system.camera.set_exposure(_old_exp)\n",
    "    #ce_system.camera.set_binning(_old_bin)\n",
    "    ce_system.excitation_shutter.set_auto_off()\n",
    "    ce_system.filter_wheel.set_channel(_old_channel)\n",
    "    ce_system.inlet_rgb.turn_on_channel(rgb_chnl)\n",
    "\n",
    "    ce_system.camera.continuous_snap()"
   ]
  },
  {
   "cell_type": "code",
   "execution_count": 271,
   "metadata": {},
   "outputs": [],
   "source": [
    "# Bring the Cells into focus\n",
    "fluor_channel = 3\n",
    "focus_plane.get_plane_focus()\n"
   ]
  },
  {
   "cell_type": "code",
   "execution_count": 236,
   "metadata": {},
   "outputs": [
    {
     "name": "stdout",
     "output_type": "stream",
     "text": [
      "HEYYOO\n"
     ]
    }
   ],
   "source": [
    "# Search for the best focal plane near here\n",
    "pre_fluoresence()\n",
    "focus_search.search_step_global()\n",
    "post_fluoresence()"
   ]
  },
  {
   "cell_type": "code",
   "execution_count": 258,
   "metadata": {},
   "outputs": [
    {
     "name": "stdout",
     "output_type": "stream",
     "text": [
      "HEYYOO\n"
     ]
    }
   ],
   "source": [
    "fluor_channel = 1\n",
    "pre_fluoresence()\n",
    "img = ce_system.camera.snap()\n",
    "post_fluoresence()\n"
   ]
  },
  {
   "cell_type": "code",
   "execution_count": 184,
   "metadata": {},
   "outputs": [
    {
     "data": {
      "text/plain": [
       "<matplotlib.image.AxesImage at 0x2394716c148>"
      ]
     },
     "execution_count": 184,
     "metadata": {},
     "output_type": "execute_result"
    }
   ],
   "source": [
    "plt.figure()\n",
    "plt.imshow(img)"
   ]
  },
  {
   "cell_type": "code",
   "execution_count": 259,
   "metadata": {},
   "outputs": [],
   "source": [
    "close_size=5\n",
    "open_size=5\n",
    "watershed_footprint = (5,5)\n",
    "# Make sure types are the same\n",
    "input_image = img_as_float(img)\n",
    "\n",
    "# Filter Image\n",
    "filtered_image = filters.median(input_image, behavior='ndimage')\n",
    "\n",
    "# Edge Detection\n",
    "edge_sobel = filters.sobel(filtered_image)\n",
    "\n",
    "# Threshold\n",
    "thresh = filters.threshold_otsu(filtered_image)\n",
    "binary_otsu = filtered_image > thresh\n",
    "\n",
    "# Binary Morphology Operations\n",
    "structure_element = morphology.disk(close_size)\n",
    "closed_image = morphology.binary_closing(binary_otsu, structure_element)\n",
    "structure_element = morphology.disk(open_size)\n",
    "opened_image = morphology.binary_opening(closed_image, structure_element)\n",
    "\n",
    "# Watershed\n",
    "distance = distance_transform_edt(opened_image)\n",
    "local_maxi = peak_local_max(distance, indices=False, footprint=np.ones(watershed_footprint), labels=opened_image)\n",
    "markers = label(local_maxi)[0]\n",
    "labels = watershed(-distance, markers, mask=opened_image)\n",
    "\n",
    "plt.figure()\n",
    "plt.imshow(labels)\n",
    "\n",
    "regions = regionprops_table(labels, intensity_image=img, properties=('label', 'centroid', 'max_intensity', 'mean_intensity'))\n",
    "\n",
    "\n",
    "df = pd.DataFrame(regions)\n",
    "\n",
    "df = df.sort_values(by=['mean_intensity','max_intensity'], ascending=False)"
   ]
  },
  {
   "cell_type": "code",
   "execution_count": 260,
   "metadata": {},
   "outputs": [],
   "source": [
    "if df.shape[0] > 0:\n",
    "    y=df['centroid-0'][0]*bins\n",
    "    x=df['centroid-1'][0]*bins\n",
    "    \n",
    "    movex = (x-target_x)*conversion\n",
    "    movey = (y-target_y)*conversion\n",
    "    ce_system.xy_stage.set_rel_x(movex)\n",
    "    ce_system.xy_stage.set_rel_y(-movey)"
   ]
  },
  {
   "cell_type": "markdown",
   "metadata": {},
   "source": [
    "# Single Cell Injection/Load "
   ]
  },
  {
   "cell_type": "code",
   "execution_count": 261,
   "metadata": {},
   "outputs": [
    {
     "name": "stdout",
     "output_type": "stream",
     "text": [
      "are the cells in focus? (You may crush the capillary if not...) y\n",
      "9.00415013417229\n"
     ]
    }
   ],
   "source": [
    "# on reruns, you just need to run this command when you have the cells in focus\n",
    "resp = get_yes_no(\"are the cells in focus? (You may crush the capillary if not...)\")\n",
    "if resp:\n",
    "    obj_height = ce_system.objective.read_z()\n",
    "    print(obj_height)\n",
    "    cap_z = get_cap_height(obj_height, cap_difference)\n",
    "    z = ce_system.inlet_z.read_z()\n",
    "    rel_z = cap_z-z\n",
    "    rel_z += 0.02\n",
    "    ce_system.inlet_z.set_rel_z(rel_z)\n",
    "else:\n",
    "    print(\"Bring cells into focus.\")"
   ]
  },
  {
   "cell_type": "code",
   "execution_count": 225,
   "metadata": {},
   "outputs": [],
   "source": [
    "# Raise the objective for optimal plasma formation\n",
    "ce_system.objective.set_rel_z(-.01)"
   ]
  },
  {
   "cell_type": "code",
   "execution_count": 139,
   "metadata": {},
   "outputs": [],
   "source": [
    "# Lower the capillary (ADJUSTMENT)\n",
    "ce_system.inlet_z.set_rel_z(-0.03)"
   ]
  },
  {
   "cell_type": "code",
   "execution_count": 262,
   "metadata": {},
   "outputs": [],
   "source": [
    "# General Injection Parameters\n",
    "injection_time = 5 # in seconds\n",
    "gravity_drop = 0 # in millimeters\n",
    "voltage_level = 7 # in kilovolts\n",
    "delay = 1 # inseconds"
   ]
  },
  {
   "cell_type": "code",
   "execution_count": 263,
   "metadata": {},
   "outputs": [
    {
     "name": "stdout",
     "output_type": "stream",
     "text": [
      "Fire\n"
     ]
    },
    {
     "name": "stderr",
     "output_type": "stream",
     "text": [
      "WARNING:root:No data to plot\n"
     ]
    },
    {
     "name": "stdout",
     "output_type": "stream",
     "text": [
      "Finished 5.284869194030762\n"
     ]
    }
   ],
   "source": [
    "# Start the Single Cell Injection\n",
    "import threading\n",
    "\n",
    "def limited_fire(ce_system, gravity_drop, voltage_level, injection_time):\n",
    "    time.sleep(delay)\n",
    "    print('Fire')\n",
    "    ce_system.outlet_z.set_rel_z(-gravity_drop)\n",
    "    ce_system.high_voltage.set_voltage(voltage_level)\n",
    "    ce_system.high_voltage.start()\n",
    "    ce_system.objective.set_rel_z(-0.02)\n",
    "    start_time = time.time()\n",
    "    while time.time()-start_time < injection_time:\n",
    "        time.sleep(0.5)\n",
    "        ce_system.objective.set_rel_z(0.005)\n",
    "        ce_system.xy_stage.set_rel_x(0.001)\n",
    "        ce_system.lysis_laser.laser_fire()\n",
    "    ce_system.high_voltage.stop()\n",
    "    print(f\"Finished {time.time()-start_time}\")\n",
    "    ce_system.outlet_z.set_rel_z(gravity_drop)\n",
    "    \n",
    "\n",
    "threading.Thread(target=limited_fire, args=(ce_system, gravity_drop, voltage_level, injection_time)).start()"
   ]
  },
  {
   "cell_type": "code",
   "execution_count": 244,
   "metadata": {},
   "outputs": [
    {
     "name": "stdout",
     "output_type": "stream",
     "text": [
      "Press enter to fire, press q to exitq\n"
     ]
    }
   ],
   "source": [
    "resp = \"\"\n",
    "while resp != 'q':\n",
    "    resp=input(\"Press enter to fire, press q to exit\")\n",
    "    if resp != 'q':\n",
    "        ce_system.lysis_laser.laser_fire()"
   ]
  },
  {
   "cell_type": "code",
   "execution_count": 264,
   "metadata": {},
   "outputs": [],
   "source": [
    "\n",
    "\n"
   ]
  },
  {
   "cell_type": "code",
   "execution_count": 265,
   "metadata": {},
   "outputs": [
    {
     "name": "stdout",
     "output_type": "stream",
     "text": [
      "After special True\n",
      "Time to wait is  3\n"
     ]
    },
    {
     "name": "stderr",
     "output_type": "stream",
     "text": [
      "WARNING:root:No data to plot\n"
     ]
    },
    {
     "name": "stdout",
     "output_type": "stream",
     "text": [
      "After special True\n",
      "Time to wait is  80\n"
     ]
    },
    {
     "name": "stderr",
     "output_type": "stream",
     "text": [
      "WARNING:root:No data to plot\n"
     ]
    }
   ],
   "source": [
    "# Start the Method\n",
    "ce_system.objective.set_rel_z(-3)\n",
    "if not auto_program.continue_event.is_set():\n",
    "    auto_program.continue_event.set()\n",
    "else:\n",
    "    auto_program.start_run()"
   ]
  },
  {
   "cell_type": "markdown",
   "metadata": {},
   "source": [
    "# PUT YOUR CRAP FUNCTIONS HERE"
   ]
  },
  {
   "cell_type": "code",
   "execution_count": 5,
   "metadata": {},
   "outputs": [],
   "source": [
    "# Start Rinse\n",
    "ce_system.outlet_pressure.rinse_pressure()"
   ]
  },
  {
   "cell_type": "code",
   "execution_count": 4,
   "metadata": {},
   "outputs": [],
   "source": [
    "# Stop Rinse \n",
    "ce_system.outlet_pressure.release()"
   ]
  },
  {
   "cell_type": "code",
   "execution_count": 4,
   "metadata": {},
   "outputs": [],
   "source": [
    "ce_system.lysis_laser.startup()"
   ]
  },
  {
   "cell_type": "code",
   "execution_count": 78,
   "metadata": {},
   "outputs": [],
   "source": [
    "laser = ce_system.lysis_laser"
   ]
  },
  {
   "cell_type": "code",
   "execution_count": 292,
   "metadata": {},
   "outputs": [],
   "source": [
    "laser.laser_standby()"
   ]
  },
  {
   "cell_type": "code",
   "execution_count": 291,
   "metadata": {},
   "outputs": [],
   "source": [
    "laser.laser_stop()"
   ]
  },
  {
   "cell_type": "code",
   "execution_count": 293,
   "metadata": {},
   "outputs": [],
   "source": [
    "laser.laser_fire()"
   ]
  },
  {
   "cell_type": "code",
   "execution_count": 11,
   "metadata": {},
   "outputs": [],
   "source": [
    "ce_system.objective.set_rel_z(-3)"
   ]
  },
  {
   "cell_type": "code",
   "execution_count": 127,
   "metadata": {},
   "outputs": [
    {
     "data": {
      "text/plain": [
       "'R:On, G:Off, B:Off'"
      ]
     },
     "execution_count": 127,
     "metadata": {},
     "output_type": "execute_result"
    }
   ],
   "source": [
    "ce_system.inlet_rgb.turn_on_channel('R')\n"
   ]
  },
  {
   "cell_type": "code",
   "execution_count": 126,
   "metadata": {
    "scrolled": true
   },
   "outputs": [
    {
     "data": {
      "text/plain": [
       "'R:Off, G:Off, B:Off'"
      ]
     },
     "execution_count": 126,
     "metadata": {},
     "output_type": "execute_result"
    }
   ],
   "source": [
    "ce_system.inlet_rgb.turn_off_channel('R')\n"
   ]
  },
  {
   "cell_type": "code",
   "execution_count": 58,
   "metadata": {},
   "outputs": [
    {
     "data": {
      "text/plain": [
       "[28.52200042501092, -1.8983000282868743]"
      ]
     },
     "execution_count": 58,
     "metadata": {},
     "output_type": "execute_result"
    }
   ],
   "source": [
    "xy = ce_system.xy_stage.read_xy()\n",
    "xy"
   ]
  },
  {
   "cell_type": "code",
   "execution_count": 68,
   "metadata": {},
   "outputs": [],
   "source": [
    "ce_system.xy_stage.set_xy(xy)"
   ]
  },
  {
   "cell_type": "code",
   "execution_count": 10,
   "metadata": {},
   "outputs": [],
   "source": [
    "ce_system.inlet_z.set_z(10)"
   ]
  },
  {
   "cell_type": "code",
   "execution_count": 147,
   "metadata": {},
   "outputs": [],
   "source": [
    "ce_system.outlet_pressure.seal()"
   ]
  },
  {
   "cell_type": "code",
   "execution_count": 6,
   "metadata": {},
   "outputs": [],
   "source": [
    "cam = ce_system.camera"
   ]
  },
  {
   "cell_type": "code",
   "execution_count": 7,
   "metadata": {},
   "outputs": [],
   "source": [
    "ce_system.inlet_z.controller.open()"
   ]
  },
  {
   "cell_type": "code",
   "execution_count": 9,
   "metadata": {},
   "outputs": [],
   "source": [
    "ce_system.inlet_z.startup()"
   ]
  },
  {
   "cell_type": "code",
   "execution_count": 3,
   "metadata": {},
   "outputs": [],
   "source": [
    "output = r\"C:\\Users\\Luke\\Documents\\Data\\images\"\n",
    "im_sav = ImageSaver(ce_system, data_folder=output, prefix='testing')"
   ]
  },
  {
   "cell_type": "code",
   "execution_count": 4,
   "metadata": {},
   "outputs": [],
   "source": [
    "im_sav.add_callback()"
   ]
  },
  {
   "cell_type": "code",
   "execution_count": 7,
   "metadata": {},
   "outputs": [
    {
     "name": "stdout",
     "output_type": "stream",
     "text": [
      "HEYYOO\n"
     ]
    },
    {
     "data": {
      "text/plain": [
       "True"
      ]
     },
     "execution_count": 7,
     "metadata": {},
     "output_type": "execute_result"
    }
   ],
   "source": [
    "cam.continuous_snap()"
   ]
  },
  {
   "cell_type": "code",
   "execution_count": 8,
   "metadata": {},
   "outputs": [
    {
     "data": {
      "text/plain": [
       "True"
      ]
     },
     "execution_count": 8,
     "metadata": {},
     "output_type": "execute_result"
    }
   ],
   "source": [
    "cam.stop()"
   ]
  },
  {
   "cell_type": "code",
   "execution_count": 9,
   "metadata": {},
   "outputs": [],
   "source": [
    "im_sav.remove_callback()"
   ]
  },
  {
   "cell_type": "code",
   "execution_count": 14,
   "metadata": {},
   "outputs": [
    {
     "name": "stderr",
     "output_type": "stream",
     "text": [
      "C:\\Users\\Luke\\AppData\\Roaming\\Python\\Python37\\site-packages\\ipykernel_launcher.py:35: UserWarning: C:\\Users\\Luke\\Documents\\Data\\images\\img.tiff is a low contrast image\n",
      "C:\\Users\\Luke\\AppData\\Roaming\\Python\\Python37\\site-packages\\ipykernel_launcher.py:35: UserWarning: C:\\Users\\Luke\\Documents\\Data\\images\\img_00000.tiff is a low contrast image\n",
      "C:\\Users\\Luke\\AppData\\Roaming\\Python\\Python37\\site-packages\\ipykernel_launcher.py:35: UserWarning: C:\\Users\\Luke\\Documents\\Data\\images\\img_00001.tiff is a low contrast image\n",
      "C:\\Users\\Luke\\AppData\\Roaming\\Python\\Python37\\site-packages\\ipykernel_launcher.py:35: UserWarning: C:\\Users\\Luke\\Documents\\Data\\images\\img_00002.tiff is a low contrast image\n",
      "C:\\Users\\Luke\\AppData\\Roaming\\Python\\Python37\\site-packages\\ipykernel_launcher.py:35: UserWarning: C:\\Users\\Luke\\Documents\\Data\\images\\img_00003.tiff is a low contrast image\n",
      "C:\\Users\\Luke\\AppData\\Roaming\\Python\\Python37\\site-packages\\ipykernel_launcher.py:35: UserWarning: C:\\Users\\Luke\\Documents\\Data\\images\\img_00004.tiff is a low contrast image\n",
      "C:\\Users\\Luke\\AppData\\Roaming\\Python\\Python37\\site-packages\\ipykernel_launcher.py:35: UserWarning: C:\\Users\\Luke\\Documents\\Data\\images\\img_00005.tiff is a low contrast image\n",
      "C:\\Users\\Luke\\AppData\\Roaming\\Python\\Python37\\site-packages\\ipykernel_launcher.py:35: UserWarning: C:\\Users\\Luke\\Documents\\Data\\images\\img_00006.tiff is a low contrast image\n",
      "C:\\Users\\Luke\\AppData\\Roaming\\Python\\Python37\\site-packages\\ipykernel_launcher.py:35: UserWarning: C:\\Users\\Luke\\Documents\\Data\\images\\img_00007.tiff is a low contrast image\n",
      "C:\\Users\\Luke\\AppData\\Roaming\\Python\\Python37\\site-packages\\ipykernel_launcher.py:35: UserWarning: C:\\Users\\Luke\\Documents\\Data\\images\\img_00008.tiff is a low contrast image\n",
      "C:\\Users\\Luke\\AppData\\Roaming\\Python\\Python37\\site-packages\\ipykernel_launcher.py:35: UserWarning: C:\\Users\\Luke\\Documents\\Data\\images\\img_00009.tiff is a low contrast image\n"
     ]
    }
   ],
   "source": [
    "im_sav.save_image(unique_folder=False)"
   ]
  },
  {
   "cell_type": "code",
   "execution_count": null,
   "metadata": {},
   "outputs": [],
   "source": []
  }
 ],
 "metadata": {
  "kernelspec": {
   "display_name": "Python 3",
   "language": "python",
   "name": "python3"
  },
  "language_info": {
   "codemirror_mode": {
    "name": "ipython",
    "version": 3
   },
   "file_extension": ".py",
   "mimetype": "text/x-python",
   "name": "python",
   "nbconvert_exporter": "python",
   "pygments_lexer": "ipython3",
   "version": "3.7.9"
  }
 },
 "nbformat": 4,
 "nbformat_minor": 2
}
