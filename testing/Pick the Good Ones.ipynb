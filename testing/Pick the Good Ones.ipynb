{
 "cells": [
  {
   "cell_type": "code",
   "execution_count": null,
   "metadata": {},
   "outputs": [],
   "source": [
    "# Reset and Restart \n",
    "\n",
    "import sys\n",
    "import os\n",
    "import numpy as np\n",
    "import time\n",
    "from imp import reload\n",
    "\n",
    "# Set the working directory to the AutomatedCE folder so we have access to L1-L4 modules\n",
    "resp = os.getcwd()\n",
    "if 'testing' in resp[-7:]:\n",
    "    os.chdir(os.path.abspath(os.path.join(os.getcwd(), '..')))\n",
    "    print(f\"new directory is: {os.getcwd()}\")\n",
    "import testing.inputs  \n",
    "reload(testing.inputs)\n",
    "from testing.inputs import *\n",
    "from L4 import DisplayWindows\n",
    "reload(DisplayWindows)\n",
    "\n",
    "CONFIG_PATH = r\"C:\\Users\\NikonTE300CE\\Desktop\\Barracuda\\AutomatedCE\\var\\TE300.cfg\"\n",
    "from L3 import SystemsBuilder\n",
    "reload(SystemsBuilder)\n",
    "\n",
    "ce_system = SystemsBuilder.CESystem()\n",
    "\n",
    "ce_system.load_config(CONFIG_PATH)\n",
    "ce_system.open_controllers()\n",
    "ce_system.startup_utilities()\n",
    "\n",
    "%matplotlib qt"
   ]
  },
  {
   "cell_type": "markdown",
   "metadata": {},
   "source": [
    "# Automation Objects"
   ]
  },
  {
   "cell_type": "code",
   "execution_count": null,
   "metadata": {},
   "outputs": [],
   "source": [
    "# Set up the Automation Method & Template \n",
    "TEMPLATE_PATH = r\"C:\\Users\\NikonTE300CE\\Desktop\\Barracuda\\AutomatedCE\\var\\TE300CellChamber.txt\"\n",
    "METHOD_PATH = r\"C:\\Users\\NikonTE300CE\\Desktop\\Barracuda\\AutomatedCE\\var\\Brae\\SingleCell.txt\"\n",
    "\n",
    "from L4 import AutomatedControl\n",
    "from L4 import Trajectory\n",
    "reload(AutomatedControl)\n",
    "reload(Trajectory)\n",
    "\n",
    "auto_program = AutomatedControl.AutoRun(ce_system)\n",
    "auto_program.set_template(TEMPLATE_PATH)\n",
    "auto_program.add_method(METHOD_PATH)\n",
    "auto_program.repetitions=6"
   ]
  },
  {
   "cell_type": "code",
   "execution_count": null,
   "metadata": {},
   "outputs": [],
   "source": [
    "# Start the Method\n",
    "if not auto_program.continue_event.is_set():\n",
    "    auto_program.continue_event.set()\n",
    "else:\n",
    "    auto_program.start_run()"
   ]
  },
  {
   "cell_type": "code",
   "execution_count": null,
   "metadata": {},
   "outputs": [],
   "source": [
    "# Stop the Method\n",
    "auto_program.stop_run()"
   ]
  },
  {
   "cell_type": "code",
   "execution_count": null,
   "metadata": {},
   "outputs": [],
   "source": [
    "# CE Display\n",
    "ce_gram = DisplayWindows.PLTCEDisplay(ce_system)\n",
    "#ce_disp.stop()\n",
    "#ce_disp.show()\n",
    "ce_gram.start_live_view()"
   ]
  },
  {
   "cell_type": "markdown",
   "metadata": {},
   "source": [
    "# Set the Capillary Adjustments"
   ]
  },
  {
   "cell_type": "code",
   "execution_count": null,
   "metadata": {},
   "outputs": [],
   "source": [
    "# Move the objective to the height and run this cell to record it for next time\n",
    "obj_height = ce_system.objective.read_z()\n",
    "ce_system.objective.set_rel_z(+.05)"
   ]
  },
  {
   "cell_type": "code",
   "execution_count": null,
   "metadata": {},
   "outputs": [],
   "source": [
    "# and record this height for next time \n",
    "cap_height = ce_system.inlet_z.read_z()\n",
    "cap_difference = obj_height - cap_height\n",
    "\n",
    "def get_cap_height(obj_height, cap_difference):\n",
    "    cap_height = obj_height - cap_difference\n",
    "    return cap_height"
   ]
  },
  {
   "cell_type": "markdown",
   "metadata": {},
   "source": [
    "# Find the Brightest Cell"
   ]
  },
  {
   "cell_type": "code",
   "execution_count": null,
   "metadata": {},
   "outputs": [],
   "source": [
    "# PARAMETERS\n",
    "target_x = 695\n",
    "target_y = 485\n",
    "rgb_chnl = 'R'\n",
    "fluor_channel = 1\n",
    "wait = 0.25\n",
    "exp = 250\n",
    "_old_exp=100\n",
    "_old_bin = 1\n",
    "_old_channel = 0\n",
    "bins = 8"
   ]
  },
  {
   "cell_type": "code",
   "execution_count": null,
   "metadata": {},
   "outputs": [],
   "source": [
    "# SNAP a FLUOR IMAGE\n",
    "# Set to new values\n",
    "ce_system.inlet_rgb.turn_off_channel('R')\n",
    "ce_system.camera.stop()\n",
    "ce_system.filter_wheel.set_channel(fluor_channel)\n",
    "ce_system.excitation_shutter.set_auto_on()\n",
    "#_old_exp = ce_system.camera.exposure\n",
    "ce_system.camera.set_exposure(exp)\n",
    "ce_system.camera.set_binning(bins)\n",
    "#_old_bin = ce_system.camera.bin_size\n",
    "time.sleep(wait)\n",
    "\n",
    "img = ce_system.camera.snap()\n",
    "\n",
    "# Return to old values\n",
    "ce_system.camera.set_exposure(_old_exp)\n",
    "ce_system.camera.set_binning(_old_bin)\n",
    "ce_system.excitation_shutter.set_auto_off()\n",
    "ce_system.filter_wheel.set_channel(_old_channel)\n",
    "ce_system.inlet_rgb.turn_on_channel('R')"
   ]
  },
  {
   "cell_type": "code",
   "execution_count": null,
   "metadata": {},
   "outputs": [],
   "source": [
    "close_size=5\n",
    "open_size=5\n",
    "watershed_footprint = (5,5)\n",
    "# Make sure types are the same\n",
    "input_image = img_as_float(img)\n",
    "\n",
    "# Filter Image\n",
    "filtered_image = filters.median(input_image, behavior='ndimage')\n",
    "\n",
    "# Edge Detection\n",
    "edge_sobel = filters.sobel(filtered_image)\n",
    "\n",
    "# Threshold\n",
    "thresh = filters.threshold_otsu(filtered_image)\n",
    "binary_otsu = filtered_image > thresh\n",
    "\n",
    "# Binary Morphology Operations\n",
    "structure_element = morphology.disk(close_size)\n",
    "closed_image = morphology.binary_closing(binary_otsu, structure_element)\n",
    "structure_element = morphology.disk(open_size)\n",
    "opened_image = morphology.binary_opening(closed_image, structure_element)\n",
    "\n",
    "# Watershed\n",
    "distance = distance_transform_edt(opened_image)\n",
    "local_maxi = peak_local_max(distance, indices=False, footprint=np.ones(watershed_footprint), labels=opened_image)\n",
    "markers = label(local_maxi)[0]\n",
    "labels = watershed(-distance, markers, mask=opened_image)\n",
    "\n",
    "plt.imshow(labels)\n",
    "\n",
    "regions = regionprops_table(labels, intensity_image=img, properties=('label', 'centroid', 'max_intensity', 'mean_intensity'))\n",
    "\n",
    "\n",
    "df = pd.DataFrame(regions)\n",
    "\n",
    "df = df.sort_values(by=['mean_intensity','max_intensity'], ascending=False)\n",
    "\n",
    "if df.shape[0] > 0:\n",
    "    y=df['centroid-0'][0]*bins\n",
    "    x=df['centroid-1'][0]*bins\n",
    "    \n",
    "    movex = (x-target_x)*0.0001063\n",
    "    movey = (y-target_y)*0.0001063\n",
    "    ce_system.xy_stage.set_rel_x(movex)\n",
    "    ce_system.xy_stage.set_rel_y(-movey)\n"
   ]
  },
  {
   "cell_type": "markdown",
   "metadata": {},
   "source": [
    "# Single Cell Injection/Load "
   ]
  },
  {
   "cell_type": "code",
   "execution_count": null,
   "metadata": {},
   "outputs": [],
   "source": [
    "# on reruns, you just need to run this command when you have the cells in focus\n",
    "resp = get_yes_no(\"are the cells in focus? (You may crush the capillary if not...)\")\n",
    "if resp:\n",
    "    obj_height = ce_system.objective.read_z()\n",
    "    print(obj_height)\n",
    "    cap_z = get_cap_height(obj_height, cap_difference)\n",
    "    z = ce_system.inlet_z.read_z()\n",
    "    rel_z = cap_z-z\n",
    "    rel_z += 0.02\n",
    "    ce_system.inlet_z.set_rel_z(rel_z)\n",
    "else:\n",
    "    print(\"Bring cells into focus.\")"
   ]
  },
  {
   "cell_type": "code",
   "execution_count": null,
   "metadata": {},
   "outputs": [],
   "source": [
    "# Raise the objective for optimal plasma formation\n",
    "ce_system.objective.set_rel_z(+0.015)"
   ]
  },
  {
   "cell_type": "code",
   "execution_count": null,
   "metadata": {},
   "outputs": [],
   "source": [
    "# Lower the capillary (ADJUSTMENT)\n",
    "ce_system.inlet_z.set_rel_z(-0.1)"
   ]
  },
  {
   "cell_type": "code",
   "execution_count": null,
   "metadata": {},
   "outputs": [],
   "source": [
    "# General Injection Parameters\n",
    "injection_time = 5 # in seconds\n",
    "gravity_drop = 0 # in millimeters\n",
    "voltage_level = 10 # in kilovolts\n",
    "delay = 1 # inseconds"
   ]
  },
  {
   "cell_type": "code",
   "execution_count": null,
   "metadata": {},
   "outputs": [],
   "source": [
    "# Start the Single Cell Injection\n",
    "import threading\n",
    "\n",
    "def limited_fire(ce_system, gravity_drop, voltage_level, injection_time):\n",
    "    time.sleep(delay)\n",
    "    print('Fire')\n",
    "    ce_system.outlet_z.set_rel_z(-gravity_drop)\n",
    "    ce_system.high_voltage.set_voltage(voltage_level)\n",
    "    ce_system.high_voltage.start()\n",
    "    start_time = time.time()\n",
    "    while time.time()-start_time < injection_time:\n",
    "        time.sleep(0.01)\n",
    "    ce_system.high_voltage.stop()\n",
    "    print(f\"Finished {time.time()-start_time}\")\n",
    "    ce_system.outlet_z.set_rel_z(gravity_drop)\n",
    "    \n",
    "\n",
    "threading.Thread(target=limited_fire, args=(ce_system, gravity_drop, voltage_level, injection_time)).start()"
   ]
  },
  {
   "cell_type": "code",
   "execution_count": null,
   "metadata": {},
   "outputs": [],
   "source": [
    "ce_system.inlet_z.set_rel_z(5)"
   ]
  },
  {
   "cell_type": "markdown",
   "metadata": {},
   "source": [
    "# PUT YOUR CRAP FUNCTIONS HERE"
   ]
  },
  {
   "cell_type": "code",
   "execution_count": null,
   "metadata": {},
   "outputs": [],
   "source": [
    "# Start Rinse\n",
    "ce_system.outlet_pressure.rinse_pressure()"
   ]
  },
  {
   "cell_type": "code",
   "execution_count": null,
   "metadata": {},
   "outputs": [],
   "source": [
    "# Stop Rinse \n",
    "ce_system.outlet_pressure.release()"
   ]
  }
 ],
 "metadata": {
  "kernelspec": {
   "display_name": "Python 3",
   "language": "python",
   "name": "python3"
  },
  "language_info": {
   "codemirror_mode": {
    "name": "ipython",
    "version": 3
   },
   "file_extension": ".py",
   "mimetype": "text/x-python",
   "name": "python",
   "nbconvert_exporter": "python",
   "pygments_lexer": "ipython3",
   "version": "3.7.9"
  }
 },
 "nbformat": 4,
 "nbformat_minor": 2
}
