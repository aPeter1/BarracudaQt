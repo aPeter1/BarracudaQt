{
 "cells": [
  {
   "cell_type": "code",
   "execution_count": 1,
   "metadata": {},
   "outputs": [
    {
     "name": "stderr",
     "output_type": "stream",
     "text": [
      "WARNING:root:python2path is not a var in system_config.txt\n"
     ]
    },
    {
     "name": "stdout",
     "output_type": "stream",
     "text": [
      "new directory is: C:\\Users\\NikonTE300CE\\Desktop\\Barracuda\\AutomatedCE\n",
      "C:\\Users\\NikonTE300CE\\Desktop\\Barracuda\\AutomatedCE\\L1\\MicroControlServer.py\n",
      "daq\n",
      "newwave\n",
      "{'outlet_pressure': <L2.PressureControl.ArduinoPressure object at 0x000001DB1B500308>, 'xy_stage': <L2.XYControl.PriorXY object at 0x000001DB1B42C608>, 'objective': <L2.ZControl.PriorZ object at 0x000001DB1B5003C8>, 'outlet_z': <L2.ZControl.ArduinoZ object at 0x000001DB1B500448>, 'inlet_rgb': <L2.LightControl.RGBArduino object at 0x000001DB1B500348>, 'inlet_z': <L2.ZControl.KinesisZ object at 0x000001DB1B500548>, 'high_voltage': <L2.HighVoltageControl.SpellmanPowerSupply object at 0x000001DB1B500388>, 'camera': <L2.CameraControl.PycromanagerControl object at 0x000001DB1B500608>, 'detector': <L2.DetectorControl.PhotomultiplierDetector object at 0x000001DB1B5009C8>, 'lysis_laser': <L2.LaserControl.NewWaveBNC object at 0x000001DB1B500D48>, 'excitation_wheel': <L2.FilterWheelControl.LumencorFilter object at 0x000001DB1B500F88>, 'filter_wheel': <L2.FilterWheelControl.PriorFilter object at 0x000001DB0242D808>}\n",
      "OPENING:  ard1 <L1.Controllers.ArduinoController object at 0x000001DB1B42C588> using port: COM8\n",
      "OPENING:  pr1 <L1.Controllers.PriorController object at 0x000001DB1B42C508> using port: COM4\n",
      "OPENING:  mmc1 <L1.Controllers.PycromanagerController object at 0x000001DB1B42C648> using port: pycromanager\n",
      "OPENING:  daq1 <L1.DAQControllers.NiDaq object at 0x000001DB1B42C688>\n",
      "OPENING:  ks1 <L1.Controllers.SimulatedController object at 0x000001DB1B42C788> using port: 49125264\n",
      "OPENING:  lmn <L1.Controllers.LumencorController object at 0x000001DB1B467DC8> using port: COM7\n",
      "Starting up: outlet_pressure, <L2.PressureControl.ArduinoPressure object at 0x000001DB1B500308>\n",
      "Starting up: xy_stage, <L2.XYControl.PriorXY object at 0x000001DB1B42C608>\n",
      "Starting up: objective, <L2.ZControl.PriorZ object at 0x000001DB1B5003C8>\n",
      "Starting up: outlet_z, <L2.ZControl.ArduinoZ object at 0x000001DB1B500448>\n",
      "Starting up: inlet_rgb, <L2.LightControl.RGBArduino object at 0x000001DB1B500348>\n",
      "Starting up: inlet_z, <L2.ZControl.KinesisZ object at 0x000001DB1B500548>\n",
      "Starting up: high_voltage, <L2.HighVoltageControl.SpellmanPowerSupply object at 0x000001DB1B500388>\n",
      "Starting up: camera, <L2.CameraControl.PycromanagerControl object at 0x000001DB1B500608>\n",
      "Starting up: detector, <L2.DetectorControl.PhotomultiplierDetector object at 0x000001DB1B5009C8>\n",
      "Starting up: lysis_laser, <L2.LaserControl.NewWaveBNC object at 0x000001DB1B500D48>\n",
      "Starting up: excitation_wheel, <L2.FilterWheelControl.LumencorFilter object at 0x000001DB1B500F88>\n",
      "Starting up: filter_wheel, <L2.FilterWheelControl.PriorFilter object at 0x000001DB0242D808>\n"
     ]
    }
   ],
   "source": [
    "# Reset and Restart \n",
    "\n",
    "import sys\n",
    "import os\n",
    "import numpy as np\n",
    "import time\n",
    "from imp import reload\n",
    "import threading\n",
    "import csv\n",
    "from pathlib import Path\n",
    "import numpy as np\n",
    "from scipy.ndimage import label, distance_transform_edt\n",
    "from skimage import io, img_as_float, filters, morphology\n",
    "from skimage.feature import peak_local_max\n",
    "from skimage.measure import regionprops, regionprops_table\n",
    "from skimage.morphology import watershed\n",
    "import pandas as pd\n",
    "import glob\n",
    "import skimage.measure as measure\n",
    "\n",
    "import matplotlib.pyplot as plt\n",
    "\n",
    "# Set the working directory to the AutomatedCE folder so we have access to L1-L4 modules\n",
    "resp = os.getcwd()\n",
    "if 'testing' in resp[-7:]:\n",
    "    os.chdir(os.path.abspath(os.path.join(os.getcwd(), '..')))\n",
    "    print(f\"new directory is: {os.getcwd()}\")\n",
    "import testing.inputs  \n",
    "reload(testing.inputs)\n",
    "from testing.inputs import *\n",
    "from L4 import DisplayWindows\n",
    "from L4 import FileIO\n",
    "\n",
    "reload(DisplayWindows)\n",
    "\n",
    "#CONFIG_PATH = r\"C:\\Users\\Luke\\Desktop\\Barracuda\\AutomatedCE\\var\\Eclipse.cfg\"\n",
    "CONFIG_PATH = r\"C:\\Users\\NikonTE300CE\\Desktop\\Barracuda\\AutomatedCE\\var\\TE300.cfg\"\n",
    "from L3 import SystemsBuilder\n",
    "reload(SystemsBuilder)\n",
    "\n",
    "ce_system = SystemsBuilder.CESystem()\n",
    "\n",
    "ce_system.load_config(CONFIG_PATH)\n",
    "ce_system.open_controllers()\n",
    "ce_system.startup_utilities()\n",
    "\n",
    "%matplotlib qt"
   ]
  },
  {
   "cell_type": "code",
   "execution_count": 6,
   "metadata": {},
   "outputs": [],
   "source": [
    "from testing.te300_auto_utils import *"
   ]
  },
  {
   "cell_type": "code",
   "execution_count": 7,
   "metadata": {},
   "outputs": [
    {
     "data": {
      "text/plain": [
       "<module 'L4.Focus' from 'C:\\\\Users\\\\NikonTE300CE\\\\Desktop\\\\Barracuda\\\\AutomatedCE\\\\L4\\\\Focus.py'>"
      ]
     },
     "execution_count": 7,
     "metadata": {},
     "output_type": "execute_result"
    }
   ],
   "source": [
    "from L4 import Focus\n",
    "reload(Focus)"
   ]
  },
  {
   "cell_type": "code",
   "execution_count": 51,
   "metadata": {},
   "outputs": [
    {
     "name": "stdout",
     "output_type": "stream",
     "text": [
      "HEYYOO\n"
     ]
    }
   ],
   "source": [
    "# Microscope Display\n",
    "cam = DisplayWindows.PLTMicroscopeDisplay(ce_system)\n",
    "ce_system.camera.stop()\n",
    "cam.show()\n",
    "cam.live_image()"
   ]
  },
  {
   "cell_type": "code",
   "execution_count": 8,
   "metadata": {},
   "outputs": [
    {
     "data": {
      "text/plain": [
       "True"
      ]
     },
     "execution_count": 8,
     "metadata": {},
     "output_type": "execute_result"
    }
   ],
   "source": [
    "ce_system.camera.stop()"
   ]
  },
  {
   "cell_type": "code",
   "execution_count": 9,
   "metadata": {},
   "outputs": [],
   "source": [
    "ce_system.camera.set_binning(1)"
   ]
  },
  {
   "cell_type": "code",
   "execution_count": 10,
   "metadata": {},
   "outputs": [
    {
     "name": "stdout",
     "output_type": "stream",
     "text": [
      "HEYYOO\n"
     ]
    },
    {
     "data": {
      "text/plain": [
       "True"
      ]
     },
     "execution_count": 10,
     "metadata": {},
     "output_type": "execute_result"
    }
   ],
   "source": [
    "ce_system.camera.continuous_snap()"
   ]
  },
  {
   "cell_type": "code",
   "execution_count": 115,
   "metadata": {},
   "outputs": [],
   "source": [
    "# PARAMETERS\n",
    "target_x = 871\n",
    "target_y = 585\n",
    "rgb_chnl = 'R'\n",
    "fluor_channel = 1\n",
    "wait = 0.25\n",
    "exp = 500\n",
    "_old_exp=10\n",
    "_old_bin = 1\n",
    "_old_channel = 0\n",
    "bins = 4\n",
    "conversion =0.0003125\n",
    "obj_40x = 0.0001607717041800643\n",
    "\n",
    "\n",
    "def pre_fluoresence(auto_shutter=False):\n",
    "    # SNAP a FLUOR IMAGE\n",
    "    # Set to new values\n",
    "    ce_system.inlet_rgb.turn_off_channel(rgb_chnl)\n",
    "    ce_system.camera.stop()\n",
    "    ce_system.filter_wheel.set_channel(fluor_channel)\n",
    "    ce_system.camera.set_binning(bins)\n",
    "    ce_system.camera.set_exposure(exp)\n",
    "    if auto_shutter:\n",
    "        ce_system.excitation_shutter.set_auto_on()\n",
    "    #_old_exp = ce_system.camera.exposure\n",
    "    #ce_system.camera.set_binning(bins)\n",
    "    #_old_bin = ce_system.camera.bin_size\n",
    "    time.sleep(wait)\n",
    "    \n",
    "def post_fluoresence(auto_shutter=False):\n",
    "    # Return to old values\n",
    "    ce_system.camera.set_exposure(_old_exp)\n",
    "    ce_system.camera.set_binning(_old_bin)\n",
    "    ce_system.excitation_shutter.set_auto_off()\n",
    "    ce_system.filter_wheel.set_channel(_old_channel)\n",
    "    ce_system.inlet_rgb.turn_on_channel(rgb_chnl)\n",
    "    ce_system.camera.continuous_snap()\n",
    "\n",
    "def get_cap_height(obj_height, cap_difference):\n",
    "    cap_height = obj_height - cap_difference\n",
    "    return cap_height\n",
    "\n",
    "def get_brightest_blobs(image):\n",
    "    close_size=5\n",
    "    open_size=5\n",
    "    watershed_footprint = (5,5)\n",
    "    # Make sure types are the same\n",
    "    input_image = img_as_float(img)\n",
    "\n",
    "    # Filter Image\n",
    "    filtered_image = filters.median(input_image, behavior='ndimage')\n",
    "\n",
    "    # Edge Detection\n",
    "    edge_sobel = filters.sobel(filtered_image)\n",
    "\n",
    "    # Threshold\n",
    "    thresh = filters.threshold_otsu(filtered_image)\n",
    "    binary_otsu = filtered_image > thresh\n",
    "\n",
    "    # Binary Morphology Operations\n",
    "    structure_element = morphology.disk(close_size)\n",
    "    closed_image = morphology.binary_closing(binary_otsu, structure_element)\n",
    "    structure_element = morphology.disk(open_size)\n",
    "    opened_image = morphology.binary_opening(closed_image, structure_element)\n",
    "\n",
    "    # Watershed\n",
    "    distance = distance_transform_edt(opened_image)\n",
    "    local_maxi = peak_local_max(distance, indices=False, footprint=np.ones(watershed_footprint), labels=opened_image)\n",
    "    markers = label(local_maxi)[0]\n",
    "    labels = watershed(-distance, markers, mask=opened_image)\n",
    "    \n",
    "    # Labeling and Sorting\n",
    "    regions = regionprops_table(labels, intensity_image=img, properties=('label', 'centroid', 'max_intensity', 'mean_intensity'))\n",
    "    df = pd.DataFrame(regions)\n",
    "    df = df.sort_values(by=['mean_intensity','max_intensity'], ascending=False)\n",
    "    \n",
    "    return df\n",
    "\n",
    "def move_to_blob(df):\n",
    "    if df.shape[0] > 0:\n",
    "        y=df['centroid-0'][0]*bins\n",
    "        x=df['centroid-1'][0]*bins\n",
    "\n",
    "        movex = (x-target_x)*conversion\n",
    "        movey = (y-target_y)*conversion\n",
    "        ce_system.xy_stage.set_rel_x(movex)\n",
    "        ce_system.xy_stage.set_rel_y(-movey)\n",
    "        \n",
    "def limited_fire(ce_system, gravity_drop, voltage_level, injection_time):\n",
    "    time.sleep(delay)\n",
    "    print('Fire')\n",
    "    ce_system.outlet_z.set_rel_z(-gravity_drop)\n",
    "    ce_system.high_voltage.set_voltage(voltage_level)\n",
    "    ce_system.high_voltage.start()\n",
    "    start_time = time.time()\n",
    "    ce_system.lysis_laser.laser_fire()\n",
    "    ce_system.objective.set_rel_z(-0.010)\n",
    "\n",
    "    while time.time()-start_time < injection_time:\n",
    "        if time.time()-start_time < 3:\n",
    "            ce_system.objective.set_rel_z(0.005)\n",
    "            ce_system.xy_stage.set_rel_x(0.001)\n",
    "            ce_system.lysis_laser.laser_fire()\n",
    "        time.sleep(0.35)\n",
    "    ce_system.high_voltage.stop()\n",
    "    print(f\"Finished {time.time()-start_time}\")\n",
    "    ce_system.outlet_z.set_rel_z(gravity_drop)"
   ]
  },
  {
   "cell_type": "code",
   "execution_count": 25,
   "metadata": {},
   "outputs": [],
   "source": [
    "pre_fluoresence(auto_shutter=True)"
   ]
  },
  {
   "cell_type": "code",
   "execution_count": 26,
   "metadata": {},
   "outputs": [],
   "source": [
    "img = ce_system.camera.snap()"
   ]
  },
  {
   "cell_type": "code",
   "execution_count": 28,
   "metadata": {},
   "outputs": [
    {
     "data": {
      "text/plain": [
       "(array([1.357042e+06, 4.398000e+03, 3.571000e+03, 2.640000e+03,\n",
       "        2.147000e+03, 2.006000e+03, 2.355000e+03, 1.316000e+03,\n",
       "        4.730000e+02, 3.080000e+02]),\n",
       " array([122. , 208.6, 295.2, 381.8, 468.4, 555. , 641.6, 728.2, 814.8,\n",
       "        901.4, 988. ]),\n",
       " <BarContainer object of 10 artists>)"
      ]
     },
     "execution_count": 28,
     "metadata": {},
     "output_type": "execute_result"
    }
   ],
   "source": [
    "fig,ax = plt.subplots()\n",
    "ax.hist(img.flatten())"
   ]
  },
  {
   "cell_type": "code",
   "execution_count": 27,
   "metadata": {},
   "outputs": [
    {
     "data": {
      "text/plain": [
       "<matplotlib.image.AxesImage at 0x27c28f76548>"
      ]
     },
     "execution_count": 27,
     "metadata": {},
     "output_type": "execute_result"
    }
   ],
   "source": [
    "ax.imshow(img)"
   ]
  },
  {
   "cell_type": "code",
   "execution_count": 29,
   "metadata": {},
   "outputs": [
    {
     "name": "stdout",
     "output_type": "stream",
     "text": [
      "HEYYOO\n"
     ]
    }
   ],
   "source": [
    "post_fluoresence(auto_shutter=True)"
   ]
  },
  {
   "cell_type": "code",
   "execution_count": 9,
   "metadata": {},
   "outputs": [],
   "source": [
    "las = ce_system.lysis_laser"
   ]
  },
  {
   "cell_type": "code",
   "execution_count": 10,
   "metadata": {},
   "outputs": [],
   "source": [
    "las.laser_standby()"
   ]
  },
  {
   "cell_type": "code",
   "execution_count": 89,
   "metadata": {},
   "outputs": [],
   "source": [
    "las.laser_fire()"
   ]
  },
  {
   "cell_type": "code",
   "execution_count": 52,
   "metadata": {},
   "outputs": [
    {
     "data": {
      "text/plain": [
       "'R:On, G:Off, B:On'"
      ]
     },
     "execution_count": 52,
     "metadata": {},
     "output_type": "execute_result"
    }
   ],
   "source": [
    "ce_system.inlet_rgb.turn_on_channel('R')\n",
    "ce_system.inlet_rgb.turn_off_channel('G')"
   ]
  },
  {
   "cell_type": "code",
   "execution_count": 13,
   "metadata": {},
   "outputs": [],
   "source": [
    "import threading\n",
    "import time\n",
    "fire_event = threading.Event()\n",
    "fire_event.set()\n",
    "def fire_laser():\n",
    "    while fire_event.is_set():\n",
    "        las.laser_fire()\n",
    "        time.sleep(0.5)\n",
    "        \n",
    "#threading.Thread(target=fire_laser).start()"
   ]
  },
  {
   "cell_type": "code",
   "execution_count": 56,
   "metadata": {},
   "outputs": [],
   "source": [
    "fire_event.clear()"
   ]
  },
  {
   "cell_type": "code",
   "execution_count": 68,
   "metadata": {},
   "outputs": [],
   "source": [
    "import L4.image_util as img_util"
   ]
  },
  {
   "cell_type": "code",
   "execution_count": 14,
   "metadata": {},
   "outputs": [],
   "source": [
    "fs = Focus.FindFocus(ce_system)"
   ]
  },
  {
   "cell_type": "code",
   "execution_count": 116,
   "metadata": {},
   "outputs": [
    {
     "name": "stdout",
     "output_type": "stream",
     "text": [
      "Position: 8.837125131683424\n",
      "Position: 8.847100131832063\n",
      "Position: 8.853075131921099\n",
      "Position: 8.843025131771341\n",
      "Position: 8.841025131741539\n"
     ]
    },
    {
     "ename": "KeyboardInterrupt",
     "evalue": "",
     "output_type": "error",
     "traceback": [
      "\u001b[1;31m---------------------------------------------------------------------------\u001b[0m",
      "\u001b[1;31mKeyboardInterrupt\u001b[0m                         Traceback (most recent call last)",
      "\u001b[1;32m<ipython-input-116-c67b06ff64bd>\u001b[0m in \u001b[0;36m<module>\u001b[1;34m\u001b[0m\n\u001b[0;32m      4\u001b[0m \u001b[0mpre_fluoresence\u001b[0m\u001b[1;33m(\u001b[0m\u001b[0mauto_shutter\u001b[0m\u001b[1;33m=\u001b[0m\u001b[1;32mTrue\u001b[0m\u001b[1;33m)\u001b[0m\u001b[1;33m\u001b[0m\u001b[1;33m\u001b[0m\u001b[0m\n\u001b[0;32m      5\u001b[0m \u001b[0mims\u001b[0m\u001b[1;33m.\u001b[0m\u001b[0madd_callback\u001b[0m\u001b[1;33m(\u001b[0m\u001b[1;33m)\u001b[0m\u001b[1;33m\u001b[0m\u001b[1;33m\u001b[0m\u001b[0m\n\u001b[1;32m----> 6\u001b[1;33m \u001b[0mfs\u001b[0m\u001b[1;33m.\u001b[0m\u001b[0msearch_fibonacci\u001b[0m\u001b[1;33m(\u001b[0m\u001b[1;33m)\u001b[0m\u001b[1;33m\u001b[0m\u001b[1;33m\u001b[0m\u001b[0m\n\u001b[0m\u001b[0;32m      7\u001b[0m \u001b[0mims\u001b[0m\u001b[1;33m.\u001b[0m\u001b[0mremove_callback\u001b[0m\u001b[1;33m(\u001b[0m\u001b[1;33m)\u001b[0m\u001b[1;33m\u001b[0m\u001b[1;33m\u001b[0m\u001b[0m\n\u001b[0;32m      8\u001b[0m \u001b[0mims\u001b[0m\u001b[1;33m.\u001b[0m\u001b[0msave_image\u001b[0m\u001b[1;33m(\u001b[0m\u001b[0mfolder_prefix\u001b[0m\u001b[1;33m=\u001b[0m\u001b[1;34m'fibonacci'\u001b[0m\u001b[1;33m)\u001b[0m\u001b[1;33m\u001b[0m\u001b[1;33m\u001b[0m\u001b[0m\n",
      "\u001b[1;32m~\\Desktop\\Barracuda\\AutomatedCE\\L4\\Focus.py\u001b[0m in \u001b[0;36msearch_fibonacci\u001b[1;34m(self, z_multiplier)\u001b[0m\n\u001b[0;32m    228\u001b[0m             \u001b[1;32melif\u001b[0m \u001b[0mmeasure_difference\u001b[0m \u001b[1;33m<\u001b[0m \u001b[1;36m0\u001b[0m \u001b[1;32mand\u001b[0m \u001b[0mcurrent_camera_position\u001b[0m \u001b[1;33m==\u001b[0m \u001b[1;34m'L'\u001b[0m\u001b[1;33m:\u001b[0m\u001b[1;33m\u001b[0m\u001b[1;33m\u001b[0m\u001b[0m\n\u001b[0;32m    229\u001b[0m                 \u001b[0mself\u001b[0m\u001b[1;33m.\u001b[0m\u001b[0mmove_z\u001b[0m\u001b[1;33m(\u001b[0m\u001b[1;33m-\u001b[0m\u001b[1;33m(\u001b[0m\u001b[0mfibonacci_numbers\u001b[0m\u001b[1;33m[\u001b[0m\u001b[1;33m-\u001b[0m\u001b[0mn\u001b[0m\u001b[1;33m]\u001b[0m \u001b[1;33m-\u001b[0m \u001b[0mfibonacci_numbers\u001b[0m\u001b[1;33m[\u001b[0m\u001b[1;33m-\u001b[0m\u001b[0mn\u001b[0m \u001b[1;33m-\u001b[0m \u001b[1;36m1\u001b[0m\u001b[1;33m]\u001b[0m\u001b[1;33m)\u001b[0m \u001b[1;33m*\u001b[0m \u001b[0mz_multiplier\u001b[0m\u001b[1;33m)\u001b[0m\u001b[1;33m\u001b[0m\u001b[1;33m\u001b[0m\u001b[0m\n\u001b[1;32m--> 230\u001b[1;33m                 \u001b[0mimage_array\u001b[0m \u001b[1;33m=\u001b[0m \u001b[0mself\u001b[0m\u001b[1;33m.\u001b[0m\u001b[0msnap_image\u001b[0m\u001b[1;33m(\u001b[0m\u001b[1;33m)\u001b[0m\u001b[1;33m\u001b[0m\u001b[1;33m\u001b[0m\u001b[0m\n\u001b[0m\u001b[0;32m    231\u001b[0m                 \u001b[0md_b\u001b[0m\u001b[1;33m,\u001b[0m \u001b[0md_r\u001b[0m\u001b[1;33m,\u001b[0m \u001b[0md_e\u001b[0m\u001b[1;33m,\u001b[0m \u001b[0md_s\u001b[0m\u001b[1;33m,\u001b[0m \u001b[0md_v\u001b[0m\u001b[1;33m,\u001b[0m \u001b[0md_p\u001b[0m \u001b[1;33m=\u001b[0m \u001b[0mc_b\u001b[0m\u001b[1;33m,\u001b[0m \u001b[0mc_r\u001b[0m\u001b[1;33m,\u001b[0m \u001b[0mc_e\u001b[0m\u001b[1;33m,\u001b[0m \u001b[0mc_s\u001b[0m\u001b[1;33m,\u001b[0m \u001b[0mc_v\u001b[0m\u001b[1;33m,\u001b[0m \u001b[0mc_p\u001b[0m\u001b[1;33m\u001b[0m\u001b[1;33m\u001b[0m\u001b[0m\n\u001b[0;32m    232\u001b[0m                 \u001b[0mc_b\u001b[0m\u001b[1;33m,\u001b[0m \u001b[0mc_r\u001b[0m\u001b[1;33m,\u001b[0m \u001b[0mc_e\u001b[0m\u001b[1;33m,\u001b[0m \u001b[0mc_s\u001b[0m\u001b[1;33m,\u001b[0m \u001b[0mc_v\u001b[0m\u001b[1;33m,\u001b[0m \u001b[0mc_p\u001b[0m \u001b[1;33m=\u001b[0m \u001b[0mget_measures\u001b[0m\u001b[1;33m(\u001b[0m\u001b[0mimage_array\u001b[0m\u001b[1;33m)\u001b[0m\u001b[1;33m\u001b[0m\u001b[1;33m\u001b[0m\u001b[0m\n",
      "\u001b[1;32m~\\Desktop\\Barracuda\\AutomatedCE\\L4\\Focus.py\u001b[0m in \u001b[0;36msnap_image\u001b[1;34m(self, auto_shutter)\u001b[0m\n\u001b[0;32m    139\u001b[0m \u001b[1;33m\u001b[0m\u001b[0m\n\u001b[0;32m    140\u001b[0m     \u001b[1;32mdef\u001b[0m \u001b[0msnap_image\u001b[0m\u001b[1;33m(\u001b[0m\u001b[0mself\u001b[0m\u001b[1;33m,\u001b[0m \u001b[0mauto_shutter\u001b[0m\u001b[1;33m=\u001b[0m\u001b[1;32mTrue\u001b[0m\u001b[1;33m)\u001b[0m\u001b[1;33m:\u001b[0m\u001b[1;33m\u001b[0m\u001b[1;33m\u001b[0m\u001b[0m\n\u001b[1;32m--> 141\u001b[1;33m         \u001b[0mimg\u001b[0m \u001b[1;33m=\u001b[0m \u001b[0mself\u001b[0m\u001b[1;33m.\u001b[0m\u001b[0msystem\u001b[0m\u001b[1;33m.\u001b[0m\u001b[0mcamera\u001b[0m\u001b[1;33m.\u001b[0m\u001b[0msnap\u001b[0m\u001b[1;33m(\u001b[0m\u001b[1;33m)\u001b[0m\u001b[1;33m\u001b[0m\u001b[1;33m\u001b[0m\u001b[0m\n\u001b[0m\u001b[0;32m    142\u001b[0m         \u001b[1;32mreturn\u001b[0m \u001b[0mimg\u001b[0m\u001b[1;33m\u001b[0m\u001b[1;33m\u001b[0m\u001b[0m\n\u001b[0;32m    143\u001b[0m \u001b[1;33m\u001b[0m\u001b[0m\n",
      "\u001b[1;32m~\\Desktop\\Barracuda\\AutomatedCE\\L2\\CameraControl.py\u001b[0m in \u001b[0;36msnap\u001b[1;34m(self)\u001b[0m\n\u001b[0;32m    179\u001b[0m         \u001b[0mself\u001b[0m\u001b[1;33m.\u001b[0m\u001b[0mpresnap\u001b[0m\u001b[1;33m(\u001b[0m\u001b[1;33m)\u001b[0m\u001b[1;33m\u001b[0m\u001b[1;33m\u001b[0m\u001b[0m\n\u001b[0;32m    180\u001b[0m         \u001b[0mself\u001b[0m\u001b[1;33m.\u001b[0m\u001b[0mcontroller\u001b[0m\u001b[1;33m.\u001b[0m\u001b[0msend_command\u001b[0m\u001b[1;33m(\u001b[0m\u001b[0mself\u001b[0m\u001b[1;33m.\u001b[0m\u001b[0mcontroller\u001b[0m\u001b[1;33m.\u001b[0m\u001b[0mcore\u001b[0m\u001b[1;33m.\u001b[0m\u001b[0msnap_image\u001b[0m\u001b[1;33m)\u001b[0m\u001b[1;33m\u001b[0m\u001b[1;33m\u001b[0m\u001b[0m\n\u001b[1;32m--> 181\u001b[1;33m         \u001b[0mimg\u001b[0m \u001b[1;33m=\u001b[0m \u001b[0mself\u001b[0m\u001b[1;33m.\u001b[0m\u001b[0mcontroller\u001b[0m\u001b[1;33m.\u001b[0m\u001b[0msend_command\u001b[0m\u001b[1;33m(\u001b[0m\u001b[0mself\u001b[0m\u001b[1;33m.\u001b[0m\u001b[0mcontroller\u001b[0m\u001b[1;33m.\u001b[0m\u001b[0mcore\u001b[0m\u001b[1;33m.\u001b[0m\u001b[0mget_image\u001b[0m\u001b[1;33m)\u001b[0m\u001b[1;33m\u001b[0m\u001b[1;33m\u001b[0m\u001b[0m\n\u001b[0m\u001b[0;32m    182\u001b[0m         \u001b[0mself\u001b[0m\u001b[1;33m.\u001b[0m\u001b[0mpostsnap\u001b[0m\u001b[1;33m(\u001b[0m\u001b[1;33m)\u001b[0m\u001b[1;33m\u001b[0m\u001b[1;33m\u001b[0m\u001b[0m\n\u001b[0;32m    183\u001b[0m         \u001b[0mimg\u001b[0m \u001b[1;33m=\u001b[0m \u001b[0mself\u001b[0m\u001b[1;33m.\u001b[0m\u001b[0m_reshape\u001b[0m\u001b[1;33m(\u001b[0m\u001b[0mimg\u001b[0m\u001b[1;33m)\u001b[0m\u001b[1;33m\u001b[0m\u001b[1;33m\u001b[0m\u001b[0m\n",
      "\u001b[1;32m~\\Desktop\\Barracuda\\AutomatedCE\\L1\\Controllers.py\u001b[0m in \u001b[0;36msend_command\u001b[1;34m(self, command, **kwargs)\u001b[0m\n\u001b[0;32m    232\u001b[0m                     \u001b[1;32mraise\u001b[0m \u001b[0me\u001b[0m\u001b[1;33m\u001b[0m\u001b[1;33m\u001b[0m\u001b[0m\n\u001b[0;32m    233\u001b[0m \u001b[1;33m\u001b[0m\u001b[0m\n\u001b[1;32m--> 234\u001b[1;33m             \u001b[0mtime\u001b[0m\u001b[1;33m.\u001b[0m\u001b[0msleep\u001b[0m\u001b[1;33m(\u001b[0m\u001b[0mself\u001b[0m\u001b[1;33m.\u001b[0m\u001b[0m_delay_time\u001b[0m\u001b[1;33m)\u001b[0m\u001b[1;33m\u001b[0m\u001b[1;33m\u001b[0m\u001b[0m\n\u001b[0m\u001b[0;32m    235\u001b[0m \u001b[1;33m\u001b[0m\u001b[0m\n\u001b[0;32m    236\u001b[0m         \u001b[1;32mreturn\u001b[0m \u001b[0mans\u001b[0m\u001b[1;33m\u001b[0m\u001b[1;33m\u001b[0m\u001b[0m\n",
      "\u001b[1;31mKeyboardInterrupt\u001b[0m: "
     ]
    }
   ],
   "source": [
    "old_z = ce_system.objective.read_z()\n",
    "save_to = r\"C:\\Users\\Luke\\Documents\\Brae\\10-3-2020 focus\\focus imgs\"\n",
    "ims = img_util.ImageSaver(ce_system, 'calcein_focus', data_folder=save_to)\n",
    "pre_fluoresence(auto_shutter=True)\n",
    "ims.add_callback()\n",
    "fs.search_fibonacci()\n",
    "ims.remove_callback()\n",
    "ims.save_image(folder_prefix='fibonacci')\n",
    "post_fluoresence()\n",
    "\n",
    "ce_system.objective.set_z(old_z)\n",
    "time.sleep(3)\n",
    "\n",
    "\n",
    "\n",
    "save_to = r\"C:\\Users\\Luke\\Documents\\Brae\\10-3-2020 focus\\focus imgs\"\n",
    "ims = img_util.ImageSaver(ce_system, 'calcein_focus', data_folder=save_to)\n",
    "pre_fluoresence(auto_shutter=True)\n",
    "ims.add_callback()\n",
    "fs.search_step_global()\n",
    "ims.remove_callback()\n",
    "ims.save_image(folder_prefix='step_global')\n",
    "post_fluoresence()\n"
   ]
  },
  {
   "cell_type": "code",
   "execution_count": 81,
   "metadata": {},
   "outputs": [
    {
     "name": "stdout",
     "output_type": "stream",
     "text": [
      "meaure: -1, step: -2, pos= 8.748500130362808\n",
      "meaure: -3, step: -1, pos= 8.755450130466372\n",
      "meaure: 1, step: 0, pos= 8.762400130569935\n",
      "meaure: -1, step: 1, pos= 8.76937513067387\n",
      "meaure: -5, step: 2, pos= 8.776300130777061\n",
      "meaure: 1, step: 3, pos= 8.783275130880996\n",
      "meaure: -1, step: 4, pos= 8.790250130984932\n"
     ]
    },
    {
     "name": "stderr",
     "output_type": "stream",
     "text": [
      "C:\\Users\\Luke\\Desktop\\Barracuda\\AutomatedCE\\L4\\image_util.py:109: UserWarning: C:\\Users\\Luke\\Documents\\Brae\\10-3-2020 focus\\focus imgs\\step_global_00000\\img.tiff is a low contrast image\n",
      "  io.imsave(data_file, image)\n",
      "C:\\Users\\Luke\\Desktop\\Barracuda\\AutomatedCE\\L4\\image_util.py:109: UserWarning: C:\\Users\\Luke\\Documents\\Brae\\10-3-2020 focus\\focus imgs\\step_global_00000\\img_00000.tiff is a low contrast image\n",
      "  io.imsave(data_file, image)\n",
      "C:\\Users\\Luke\\Desktop\\Barracuda\\AutomatedCE\\L4\\image_util.py:109: UserWarning: C:\\Users\\Luke\\Documents\\Brae\\10-3-2020 focus\\focus imgs\\step_global_00000\\img_00001.tiff is a low contrast image\n",
      "  io.imsave(data_file, image)\n",
      "C:\\Users\\Luke\\Desktop\\Barracuda\\AutomatedCE\\L4\\image_util.py:109: UserWarning: C:\\Users\\Luke\\Documents\\Brae\\10-3-2020 focus\\focus imgs\\step_global_00000\\img_00002.tiff is a low contrast image\n",
      "  io.imsave(data_file, image)\n",
      "C:\\Users\\Luke\\Desktop\\Barracuda\\AutomatedCE\\L4\\image_util.py:109: UserWarning: C:\\Users\\Luke\\Documents\\Brae\\10-3-2020 focus\\focus imgs\\step_global_00000\\img_00003.tiff is a low contrast image\n",
      "  io.imsave(data_file, image)\n",
      "C:\\Users\\Luke\\Desktop\\Barracuda\\AutomatedCE\\L4\\image_util.py:109: UserWarning: C:\\Users\\Luke\\Documents\\Brae\\10-3-2020 focus\\focus imgs\\step_global_00000\\img_00004.tiff is a low contrast image\n",
      "  io.imsave(data_file, image)\n",
      "C:\\Users\\Luke\\Desktop\\Barracuda\\AutomatedCE\\L4\\image_util.py:109: UserWarning: C:\\Users\\Luke\\Documents\\Brae\\10-3-2020 focus\\focus imgs\\step_global_00000\\img_00005.tiff is a low contrast image\n",
      "  io.imsave(data_file, image)\n",
      "C:\\Users\\Luke\\Desktop\\Barracuda\\AutomatedCE\\L4\\image_util.py:109: UserWarning: C:\\Users\\Luke\\Documents\\Brae\\10-3-2020 focus\\focus imgs\\step_global_00000\\img_00006.tiff is a low contrast image\n",
      "  io.imsave(data_file, image)\n"
     ]
    },
    {
     "name": "stdout",
     "output_type": "stream",
     "text": [
      "HEYYOO\n"
     ]
    }
   ],
   "source": [
    "save_to = r\"C:\\Users\\Luke\\Documents\\Brae\\10-3-2020 focus\\focus imgs\"\n",
    "ims = img_util.ImageSaver(ce_system, 'calcein_focus', data_folder=save_to)\n",
    "pre_fluoresence(auto_shutter=True)\n",
    "ims.add_callback()\n",
    "fs.search_step_global()\n",
    "ims.remove_callback()\n",
    "ims.save_image(folder_prefix='step_global')\n",
    "post_fluoresence()\n"
   ]
  },
  {
   "cell_type": "code",
   "execution_count": 16,
   "metadata": {},
   "outputs": [],
   "source": [
    "target_x = 871\n",
    "target_y = 585\n",
    "rgb_chnl = 'B'\n",
    "fluor_channel = 4\n",
    "wait = 0.25\n",
    "exp = 500\n",
    "_old_exp=10\n",
    "_old_bin = 1\n",
    "_old_channel = 1\n",
    "light_channel = 'cyan'\n",
    "bins = 4\n",
    "obj_60x = 0.0001927525057825752\n",
    "conversion = obj_60x"
   ]
  },
  {
   "cell_type": "code",
   "execution_count": 18,
   "metadata": {},
   "outputs": [],
   "source": [
    "from L4 import image_util as img_util"
   ]
  },
  {
   "cell_type": "code",
   "execution_count": 73,
   "metadata": {},
   "outputs": [
    {
     "name": "stderr",
     "output_type": "stream",
     "text": [
      "C:\\Users\\Luke\\Desktop\\Barracuda\\AutomatedCE\\L4\\image_util.py:109: UserWarning: C:\\Users\\Luke\\Documents\\Brae\\10-3-2020 focus\\focus imgs\\test_00000\\img.tiff is a low contrast image\n",
      "  io.imsave(data_file, image)\n",
      "C:\\Users\\Luke\\Desktop\\Barracuda\\AutomatedCE\\L4\\image_util.py:109: UserWarning: C:\\Users\\Luke\\Documents\\Brae\\10-3-2020 focus\\focus imgs\\test_00000\\img_00000.tiff is a low contrast image\n",
      "  io.imsave(data_file, image)\n",
      "C:\\Users\\Luke\\Desktop\\Barracuda\\AutomatedCE\\L4\\image_util.py:109: UserWarning: C:\\Users\\Luke\\Documents\\Brae\\10-3-2020 focus\\focus imgs\\test_00000\\img_00001.tiff is a low contrast image\n",
      "  io.imsave(data_file, image)\n",
      "C:\\Users\\Luke\\Desktop\\Barracuda\\AutomatedCE\\L4\\image_util.py:109: UserWarning: C:\\Users\\Luke\\Documents\\Brae\\10-3-2020 focus\\focus imgs\\test_00000\\img_00002.tiff is a low contrast image\n",
      "  io.imsave(data_file, image)\n",
      "C:\\Users\\Luke\\Desktop\\Barracuda\\AutomatedCE\\L4\\image_util.py:109: UserWarning: C:\\Users\\Luke\\Documents\\Brae\\10-3-2020 focus\\focus imgs\\test_00000\\img_00003.tiff is a low contrast image\n",
      "  io.imsave(data_file, image)\n",
      "C:\\Users\\Luke\\Desktop\\Barracuda\\AutomatedCE\\L4\\image_util.py:109: UserWarning: C:\\Users\\Luke\\Documents\\Brae\\10-3-2020 focus\\focus imgs\\test_00000\\img_00004.tiff is a low contrast image\n",
      "  io.imsave(data_file, image)\n",
      "C:\\Users\\Luke\\Desktop\\Barracuda\\AutomatedCE\\L4\\image_util.py:109: UserWarning: C:\\Users\\Luke\\Documents\\Brae\\10-3-2020 focus\\focus imgs\\test_00000\\img_00005.tiff is a low contrast image\n",
      "  io.imsave(data_file, image)\n",
      "C:\\Users\\Luke\\Desktop\\Barracuda\\AutomatedCE\\L4\\image_util.py:109: UserWarning: C:\\Users\\Luke\\Documents\\Brae\\10-3-2020 focus\\focus imgs\\test_00000\\img_00006.tiff is a low contrast image\n",
      "  io.imsave(data_file, image)\n",
      "C:\\Users\\Luke\\Desktop\\Barracuda\\AutomatedCE\\L4\\image_util.py:109: UserWarning: C:\\Users\\Luke\\Documents\\Brae\\10-3-2020 focus\\focus imgs\\test_00000\\img_00007.tiff is a low contrast image\n",
      "  io.imsave(data_file, image)\n",
      "C:\\Users\\Luke\\Desktop\\Barracuda\\AutomatedCE\\L4\\image_util.py:109: UserWarning: C:\\Users\\Luke\\Documents\\Brae\\10-3-2020 focus\\focus imgs\\test_00000\\img_00008.tiff is a low contrast image\n",
      "  io.imsave(data_file, image)\n",
      "C:\\Users\\Luke\\Desktop\\Barracuda\\AutomatedCE\\L4\\image_util.py:109: UserWarning: C:\\Users\\Luke\\Documents\\Brae\\10-3-2020 focus\\focus imgs\\test_00000\\img_00009.tiff is a low contrast image\n",
      "  io.imsave(data_file, image)\n",
      "C:\\Users\\Luke\\Desktop\\Barracuda\\AutomatedCE\\L4\\image_util.py:109: UserWarning: C:\\Users\\Luke\\Documents\\Brae\\10-3-2020 focus\\focus imgs\\test_00000\\img_00010.tiff is a low contrast image\n",
      "  io.imsave(data_file, image)\n",
      "C:\\Users\\Luke\\Desktop\\Barracuda\\AutomatedCE\\L4\\image_util.py:109: UserWarning: C:\\Users\\Luke\\Documents\\Brae\\10-3-2020 focus\\focus imgs\\test_00000\\img_00011.tiff is a low contrast image\n",
      "  io.imsave(data_file, image)\n"
     ]
    }
   ],
   "source": [
    "ims.save_image(folder_prefix='test')"
   ]
  },
  {
   "cell_type": "code",
   "execution_count": 81,
   "metadata": {},
   "outputs": [
    {
     "name": "stdout",
     "output_type": "stream",
     "text": [
      "HEYYOO\n"
     ]
    }
   ],
   "source": [
    "save_to = r\"C:\\Users\\NikonTE300CE\\Desktop\\Brae\\10-3-2020\"\n",
    "ims = img_util.ImageSaver(ce_system, 'calcein_leaking', data_folder=save_to)\n",
    "imf = img_util.ImageSaver(ce_system, 'calcein_lysis', data_folder=save_to)\n",
    "def run():\n",
    "    dis = 0.0\n",
    "    x,y = 0.025, 0.025\n",
    "    ce_system.xy_stage.set_rel_xy([-x,y])\n",
    "\n",
    "    pre_fluoresence(ce_system, auto_shutter=False)\n",
    "    ims.add_callback()\n",
    "    ce_system.camera.snap()\n",
    "    ce_system.xy_stage.set_rel_xy([x,-y])\n",
    "\n",
    "    #post_fluoresence(auto_shutter=True)\n",
    "    ce_system.filter_wheel.set_channel('1')\n",
    "    #imf.add_callback()\n",
    "    time.sleep(0.5)\n",
    "    las.laser_standby()\n",
    "    las.laser_fire()\n",
    "    ce_system.filter_wheel.set_channel('4')\n",
    "    ce_system.xy_stage.set_rel_xy([-x,y])\n",
    "\n",
    "    #time.sleep(1)\n",
    "    #imf.remove_callback()\n",
    "    pre_fluoresence(ce_system, auto_shutter=True)\n",
    "    #ims.add_callback()\n",
    "    st = time.time()\n",
    "    while time.time()-st<15:\n",
    "        ce_system.camera.snap()\n",
    "        time.sleep(exp/2000) \n",
    "    ims.remove_callback()\n",
    "    post_fluoresence(ce_system)\n",
    "\n",
    "threading.Thread(target=run).start()"
   ]
  },
  {
   "cell_type": "code",
   "execution_count": 82,
   "metadata": {},
   "outputs": [],
   "source": [
    "ims.save_image(image_prefix='2um 60x te300 423 HI ')\n",
    "#imf.save_image()"
   ]
  },
  {
   "cell_type": "code",
   "execution_count": 117,
   "metadata": {},
   "outputs": [
    {
     "name": "stdout",
     "output_type": "stream",
     "text": [
      "HEYYOO\n"
     ]
    }
   ],
   "source": [
    "post_fluoresence()"
   ]
  },
  {
   "cell_type": "code",
   "execution_count": 96,
   "metadata": {},
   "outputs": [],
   "source": [
    "las.laser_fire()"
   ]
  },
  {
   "cell_type": "code",
   "execution_count": 40,
   "metadata": {},
   "outputs": [
    {
     "ename": "TypeError",
     "evalue": "pre_fluoresence() missing 1 required positional argument: 'ce_system'",
     "output_type": "error",
     "traceback": [
      "\u001b[1;31m---------------------------------------------------------------------------\u001b[0m",
      "\u001b[1;31mTypeError\u001b[0m                                 Traceback (most recent call last)",
      "\u001b[1;32m<ipython-input-40-d8e172963bc9>\u001b[0m in \u001b[0;36m<module>\u001b[1;34m\u001b[0m\n\u001b[1;32m----> 1\u001b[1;33m \u001b[0mpre_fluoresence\u001b[0m\u001b[1;33m(\u001b[0m\u001b[1;33m)\u001b[0m\u001b[1;33m\u001b[0m\u001b[1;33m\u001b[0m\u001b[0m\n\u001b[0m",
      "\u001b[1;31mTypeError\u001b[0m: pre_fluoresence() missing 1 required positional argument: 'ce_system'"
     ]
    }
   ],
   "source": [
    "pre_fluoresence()"
   ]
  },
  {
   "cell_type": "code",
   "execution_count": 60,
   "metadata": {},
   "outputs": [],
   "source": [
    "ce_system.excitation_wheel.set_intensity(['cyan'],1)"
   ]
  },
  {
   "cell_type": "code",
   "execution_count": 64,
   "metadata": {},
   "outputs": [],
   "source": [
    "ce_system.excitation_wheel.set_channel(['cyan'])\n",
    "ce_system.filter_wheel.set_channel('4')"
   ]
  },
  {
   "cell_type": "code",
   "execution_count": 50,
   "metadata": {},
   "outputs": [],
   "source": [
    "post_fluoresence(ce_system)"
   ]
  },
  {
   "cell_type": "code",
   "execution_count": 55,
   "metadata": {},
   "outputs": [
    {
     "data": {
      "text/plain": [
       "True"
      ]
     },
     "execution_count": 55,
     "metadata": {},
     "output_type": "execute_result"
    }
   ],
   "source": [
    "ce_system.camera.set_exposure(200)"
   ]
  },
  {
   "cell_type": "code",
   "execution_count": 57,
   "metadata": {},
   "outputs": [
    {
     "data": {
      "text/plain": [
       "'R:Off, G:Off, B:On'"
      ]
     },
     "execution_count": 57,
     "metadata": {},
     "output_type": "execute_result"
    }
   ],
   "source": [
    "ce_system.inlet_rgb.turn_off_channel('R')"
   ]
  },
  {
   "cell_type": "code",
   "execution_count": 65,
   "metadata": {},
   "outputs": [],
   "source": [
    "ce_system.filter_wheel.set_channel('1')"
   ]
  },
  {
   "cell_type": "code",
   "execution_count": 67,
   "metadata": {},
   "outputs": [],
   "source": [
    "x,y = 0.025, 0.025\n",
    "\n",
    "ce_system.xy_stage.set_rel_xy([-x,y])\n"
   ]
  },
  {
   "cell_type": "code",
   "execution_count": null,
   "metadata": {},
   "outputs": [],
   "source": []
  }
 ],
 "metadata": {
  "kernelspec": {
   "display_name": "Python 3",
   "language": "python",
   "name": "python3"
  },
  "language_info": {
   "codemirror_mode": {
    "name": "ipython",
    "version": 3
   },
   "file_extension": ".py",
   "mimetype": "text/x-python",
   "name": "python",
   "nbconvert_exporter": "python",
   "pygments_lexer": "ipython3",
   "version": "3.7.9"
  }
 },
 "nbformat": 4,
 "nbformat_minor": 4
}
