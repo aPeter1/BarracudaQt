{
 "cells": [
  {
   "cell_type": "code",
   "execution_count": 1,
   "metadata": {},
   "outputs": [
    {
     "name": "stdout",
     "output_type": "stream",
     "text": [
      "new directory is: C:\\Users\\Luke\\Desktop\\Barracuda\\AutomatedCE\n"
     ]
    },
    {
     "name": "stderr",
     "output_type": "stream",
     "text": [
      "WARNING:root:python2path is not a var in system_config.txt\n"
     ]
    },
    {
     "name": "stdout",
     "output_type": "stream",
     "text": [
      "C:\\Users\\Luke\\Desktop\\Barracuda\\AutomatedCE\\L1\\MicroControlServer.py\n"
     ]
    },
    {
     "name": "stderr",
     "output_type": "stream",
     "text": [
      "WARNING:root:Path to Thorlabs Kinesis was not found. \n",
      " Change System Config setting if thorlabs is needed. \n"
     ]
    }
   ],
   "source": [
    "import sys\n",
    "import os\n",
    "import numpy as np\n",
    "import time\n",
    "from imp import reload\n",
    "\n",
    "# Set the working directory to the AutomatedCE folder so we have access to L1-L4 modules\n",
    "resp = os.getcwd()\n",
    "if 'testing' in resp[-7:]:\n",
    "    os.chdir(os.path.abspath(os.path.join(os.getcwd(), '..')))\n",
    "    print(f\"new directory is: {os.getcwd()}\")\n",
    "    \n",
    "from testing.inputs import *\n",
    "from L4 import DisplayWindows"
   ]
  },
  {
   "cell_type": "markdown",
   "metadata": {},
   "source": [
    "## Step 1. Load the CE System with a Config File\n",
    "\n",
    "Select one of the predesigned configurations (TE300, Eclipse Ti, Simulation). See an example config under \"/config/test-system.cfg\". \n",
    "\n",
    "Change the variable CONFIG_PATH to the absolute path where the config file resides. \n",
    "\n",
    "Be sure to make the string a raw string by prepending *'r'*. **Example:** r\"C:\\path\\to\\config\\\"*"
   ]
  },
  {
   "cell_type": "code",
   "execution_count": 2,
   "metadata": {},
   "outputs": [
    {
     "name": "stdout",
     "output_type": "stream",
     "text": [
      "{'outlet_pressure': <L2.PressureControl.ArduinoPressure object at 0x000001466C291948>, 'xy_stage': <L2.XYControl.PycromanagerXY object at 0x000001466C291888>, 'objective': <L2.ZControl.PycromanagerZ object at 0x000001466C291A08>, 'outlet_z': <L2.ZControl.ArduinoZ object at 0x000001466C291A88>, 'inlet_z': <L2.ZControl.ArduinoZ object at 0x000001466C291988>, 'inlet_rgb': <L2.LightControl.RGBArduino object at 0x000001466C291AC8>, 'filter_wheel': None, 'excitation_shutter': None, 'camera': <L2.CameraControl.PycromanagerControl object at 0x000001466C291B88>, 'high_voltage': <L2.HighVoltageControl.SpellmanPowerSupply object at 0x000001466C291E88>, 'detector': <L2.DetectorControl.PhotomultiplierDetector object at 0x000001466C291D88>}\n"
     ]
    }
   ],
   "source": [
    "CONFIG_PATH = r\"C:\\Users\\Luke\\Desktop\\Barracuda\\AutomatedCE\\var\\Eclipse.cfg\"\n",
    "from L3 import SystemsBuilder\n",
    "reload(SystemsBuilder)\n",
    "\n",
    "ce_system = SystemsBuilder.CESystem()\n",
    "ce_system.load_config(CONFIG_PATH)\n",
    "ce_system.open_controllers()\n",
    "ce_system.startup_utilities()"
   ]
  },
  {
   "cell_type": "code",
   "execution_count": 4,
   "metadata": {},
   "outputs": [],
   "source": [
    "ce_system.outlet_z.set_rel_z(-10)"
   ]
  },
  {
   "cell_type": "markdown",
   "metadata": {},
   "source": [
    "# Step 2. Prepare the Capillary for Electrophoresis\n",
    "\n",
    "We need to prep the capillary for CE. This involves rinsing the capillary surface and removing contaminants as well as re-establsihing a deprotonated silanol layer. We also need to align the capillary with detection objective. \n",
    "\n",
    "### Step 2.1 Rinse the capillary (Repeatable)\n",
    "\n",
    "Rinse the capillary according to your method. A good place to start is 10 min with HCl, 30 min with NaOH, 2 min with water. If this is your first rinse of the day,rinse with an empty vial first to make sure there are no leaks on the outlet side of the apparatus. "
   ]
  },
  {
   "cell_type": "code",
   "execution_count": 13,
   "metadata": {},
   "outputs": [],
   "source": [
    "# Start Rinse\n",
    "ce_system.outlet_pressure.rinse_pressure()"
   ]
  },
  {
   "cell_type": "code",
   "execution_count": 21,
   "metadata": {},
   "outputs": [],
   "source": [
    "# Stop Rinse \n",
    "ce_system.outlet_pressure.release()"
   ]
  },
  {
   "cell_type": "markdown",
   "metadata": {},
   "source": [
    "### Step 2.2 Align the capillary with fluorescein. \n",
    "\n",
    "Place a vial with 125 nM fluorescein in the outlet. Once the pressure is rinsing adjust the capillary position using the two set screws as well as the adjustable objective collar until the signal is maximized for the detector being used. (PMT gain voltage should be set to 250 mV, or the lowest setting with appreciable gain). "
   ]
  },
  {
   "cell_type": "code",
   "execution_count": 8,
   "metadata": {},
   "outputs": [
    {
     "name": "stderr",
     "output_type": "stream",
     "text": [
      "WARNING:root:No data to plot\n"
     ]
    }
   ],
   "source": [
    "# Run the CE View\n",
    "from L4 import DisplayWindows\n",
    "reload(DisplayWindows)\n",
    "%matplotlib qt\n",
    "ce_disp = DisplayWindows.PLTCEDisplay(ce_system)\n",
    "ce_disp.show()\n",
    "ce_system.detector.start()\n",
    "ce_disp.start_live_view()"
   ]
  },
  {
   "cell_type": "code",
   "execution_count": null,
   "metadata": {},
   "outputs": [],
   "source": [
    "resp = get_yes_no(\"Is fluorescein in the outlet and ready to be rinsed with?\")\n",
    "\n",
    "if resp:\n",
    "    ce_system.outlet_pressure.rinse_pressure()\n",
    "    print(\"Adjust the capillary inlet while maximizing the signal\")\n",
    "if not resp:\n",
    "    print(\"Please insert the fluorscein in the outlet, then re-run this cell.\")"
   ]
  },
  {
   "cell_type": "markdown",
   "metadata": {},
   "source": [
    "When finished. Record the maximum signal, along with the detector used, its gain setting (or bias when using SiPM), and the fluorescein concentration in the calibration log (located on the desktop). \n",
    "\n",
    "Run the next cell to stop the pressure rinse. "
   ]
  },
  {
   "cell_type": "code",
   "execution_count": null,
   "metadata": {},
   "outputs": [],
   "source": [
    "ce_system.outlet_pressure.release()"
   ]
  },
  {
   "cell_type": "markdown",
   "metadata": {},
   "source": [
    "### Step 2.2 Post Fluorescein Rinse\n",
    "\n",
    "Take a vial and add close to 4 mL of H20. Insert it into the outlet and then remove it. This removes any residual Fluorescein from the capillary, electrode, or other surfaces.  \n",
    "\n",
    "Repeat with a second vial, with liquid slightly higher or the same height. \n",
    "\n",
    "Finally switch with separation buffer and rinse for 10 min. "
   ]
  },
  {
   "cell_type": "code",
   "execution_count": null,
   "metadata": {},
   "outputs": [],
   "source": [
    "resp = get_yes_no(\"Have you done the pre-fluorescein rinses?\")\n",
    "if not resp:\n",
    "    print(\"Please follow instructions in step 2.2\")\n",
    "else:\n",
    "    resp = get_yes_no(\"Is the separation buffer placed in the outlet?\")\n",
    "    if resp:\n",
    "        ce_system.outlet_pressure.rinse_pressure()\n",
    "        print(\"Run the next cell when finished\")\n",
    "    else:\n",
    "        print(\"Please place the separation buffer in the outlet before rinsing.\")"
   ]
  },
  {
   "cell_type": "code",
   "execution_count": null,
   "metadata": {},
   "outputs": [],
   "source": [
    "ce_system.outlet_pressure.rinse_pressure()"
   ]
  },
  {
   "cell_type": "markdown",
   "metadata": {},
   "source": [
    "# Step 3. Calibrate the Capillary Inlet\n",
    "\n",
    "The method for calibration depends on the z-stage used to raise the capillary inlet. Select the correct route for the hardware employed. "
   ]
  },
  {
   "cell_type": "markdown",
   "metadata": {},
   "source": [
    "## Thorlabs Kinesis Z Stage\n",
    "\n",
    "### Step 3.1 Lower the Capillary (thorlabs)\n",
    "Move the capillary to a safe location where it will not be crushed if the stage lowers too far. Using the controls on the Z-stage itself, lower the capillary till as far as it will go. \n"
   ]
  },
  {
   "cell_type": "code",
   "execution_count": null,
   "metadata": {},
   "outputs": [],
   "source": [
    "resp = get_yes_no(\"Have you lowered the Kinesis Z stage to its lowest position? (y/n):  \")\n",
    "if not resp:\n",
    "    print(\"Please make sure the Kinesis stage is lowered to its lowest position before continuing\")\n",
    "else:\n",
    "    print(\"Proceed to the next cell.\")\n",
    "    "
   ]
  },
  {
   "cell_type": "markdown",
   "metadata": {},
   "source": [
    "### Step 3.2 Home the Capillary (thorlabs)\n",
    "\n",
    "Thorlabs needs to register the home position. In the next cell we will call the go_home command to home the capillary. "
   ]
  },
  {
   "cell_type": "code",
   "execution_count": null,
   "metadata": {},
   "outputs": [],
   "source": [
    "ce_system.inlet_z.homing()"
   ]
  },
  {
   "cell_type": "markdown",
   "metadata": {},
   "source": [
    "### Step 3.1 (Arduino/Optics-Focus)\n",
    "The optics focus moves the capillary all the way up during the home step. Once this is done, move the capillary to a safe position and lower (with 1-5mm increments) until the capillary is at 0 mm. "
   ]
  },
  {
   "cell_type": "code",
   "execution_count": null,
   "metadata": {},
   "outputs": [],
   "source": [
    "ce_system.inlet_z.set_rel_z(-5)"
   ]
  },
  {
   "cell_type": "code",
   "execution_count": null,
   "metadata": {},
   "outputs": [],
   "source": [
    "ce_system.inlet_z.set_z(0)"
   ]
  },
  {
   "cell_type": "code",
   "execution_count": null,
   "metadata": {},
   "outputs": [],
   "source": [
    "resp = get_yes_no(\"Have you lowered the Arduino Z stage to 0 mm? (y/n):  \")\n",
    "if not resp:\n",
    "    print(\"Please make sure the Aduino stage is lowered to 1 mm position before continuing\")\n",
    "else:\n",
    "    print(\"Proceed to the step 3.3 \")"
   ]
  },
  {
   "cell_type": "markdown",
   "metadata": {},
   "source": [
    "### Step 3.3 Adjust Capillary Position (all stages)\n",
    "\n",
    "Adjust the capillary position by sliding the detection apparatus up or down the optical support post. The capillary should be level with the bottom of the template for single-cell assays, or the top-of the template for well-based assays. \n",
    "\n",
    "*Aligning to the top of the template is a minor safety feature to prevent the user from sending the capillary to Zero position unexpetedly and crashing the capillary against the bottom of the template. However, capillary needs to be able to reach at least the glass slide of the cell reservoir for single-cell assays*\n"
   ]
  },
  {
   "cell_type": "code",
   "execution_count": null,
   "metadata": {},
   "outputs": [],
   "source": [
    "resp = get_yes_no(\"Have you adjusted the capillary height manually so that it is flush (level) with the top or bottom of the template? (y/n):  \")\n",
    "if not resp:\n",
    "    print(\"Please make sure the capillary is moved to the correct height with respect to the template before continuing\")\n",
    "else:\n",
    "    print(\"Proceed to the next cell\")"
   ]
  },
  {
   "cell_type": "markdown",
   "metadata": {},
   "source": [
    "### Step 3.4 Raise the capillary to a safe height\n",
    "\n",
    "The next cell will raise the capillary height to a location where it ***should*** be safe for any XY movements. Verify the capillary will not crash at this new height. "
   ]
  },
  {
   "cell_type": "code",
   "execution_count": null,
   "metadata": {},
   "outputs": [],
   "source": [
    "target_z = get_float(\"Please enter a safe height to move the stage to: \")\n",
    "# Move the capillary up and wait for it to stop\n",
    "ce_system.inlet_z.set_z(target_z)\n",
    "ce_system.inlet_z.wait_for_target(target_z)\n",
    "\n",
    "resp = get_yes_no(\"Is the capillary at a safe location?: \")\n",
    "if resp:\n",
    "    print(\"Continue to next step\")\n",
    "else:\n",
    "    print(\"Please raise the capillary to an appropriate height\")"
   ]
  },
  {
   "cell_type": "markdown",
   "metadata": {},
   "source": [
    "# Step 4. Home the XY Stage\n",
    "\n",
    "This next step provides the calibration for the XY axis for the XY stage and capillary inlet. \n"
   ]
  },
  {
   "cell_type": "markdown",
   "metadata": {},
   "source": [
    "### Step 4.1 (Nikon Eclipse)\n",
    "\n",
    "The nikon eclipse has a home position defined to the center of the template. It is best to use this as the home position. For the capillary alignment, align the capillary concentrically with the objective. The capillary should be within 0.5 mm of the center of the objective if using PCR tubes at any point. "
   ]
  },
  {
   "cell_type": "code",
   "execution_count": null,
   "metadata": {},
   "outputs": [],
   "source": [
    "resp = get_yes_no(\"Is the capillary aligned with the objective?\")\n",
    "if resp:\n",
    "    print(\"Continue to next step\")\n",
    "else:\n",
    "    print(\"Please raise align the capillary with the objective\")"
   ]
  },
  {
   "cell_type": "markdown",
   "metadata": {},
   "source": [
    "# Step 5 Verify your calibration\n",
    "\n",
    "Steps 3-4 calibrate the capillaries position with the microscope's position. Now we need to verify that our alignment is correct. To do this we will move the capillary to a well and make sure that it is centered over the well. Then we will lower the capillary to a height specified by the method to make sure the capillary can reach the liquid. \n"
   ]
  },
  {
   "cell_type": "markdown",
   "metadata": {},
   "source": [
    "### Step 5.1. Load the Template File\n",
    "\n",
    "The template file tells the program where to move the XY stage for each well as well as how high to raise the capillary inlet during a move. Change the variable TEMPLATE_PATH to the absolute path where the template.txt file resides. "
   ]
  },
  {
   "cell_type": "code",
   "execution_count": 5,
   "metadata": {},
   "outputs": [],
   "source": [
    "TEMPLATE_PATH = r\"C:\\Users\\Luke\\Desktop\\Barracuda\\AutomatedCE\\var\\EclipseCellTemplate.txt\"\n",
    "from L4 import AutomatedControl\n",
    "reload(AutomatedControl)\n",
    "\n",
    "auto_program = AutomatedControl.AutoRun(ce_system)\n",
    "auto_program.set_template(TEMPLATE_PATH)"
   ]
  },
  {
   "cell_type": "markdown",
   "metadata": {},
   "source": [
    "### Step 5.2 Raise the capillary to a safe height "
   ]
  },
  {
   "cell_type": "code",
   "execution_count": 22,
   "metadata": {},
   "outputs": [
    {
     "name": "stdout",
     "output_type": "stream",
     "text": [
      "Set the capillary to a safe travel height:  24\n",
      "Proceed to next cell\n"
     ]
    }
   ],
   "source": [
    "z = get_float(\"Set the capillary to a safe travel height: \")\n",
    "ce_system.inlet_z.set_z(z)\n",
    "print(\"Proceed to next cell\")"
   ]
  },
  {
   "cell_type": "markdown",
   "metadata": {},
   "source": [
    "### Step 5.2 Center the Capillary over a well"
   ]
  },
  {
   "cell_type": "code",
   "execution_count": 13,
   "metadata": {},
   "outputs": [
    {
     "name": "stdout",
     "output_type": "stream",
     "text": [
      "Please enter the well name to move to (press enter to see a list): w_e0\n",
      "Please move the capillary using the fine adjustment knobs, or the z-stage base so that capillary is centered over this well.\n"
     ]
    }
   ],
   "source": [
    "name = get_value(\"Please enter the well name to move to (press enter to see a list): \", auto_program.template.wells.keys())\n",
    "well = auto_program.template.wells[name]\n",
    "ce_system.xy_stage.set_xy(well.xy)\n",
    "resp = input(\"Please move the capillary using the fine adjustment knobs, or the z-stage base so that capillary is centered over this well.\")\n"
   ]
  },
  {
   "cell_type": "markdown",
   "metadata": {},
   "source": [
    "### Step 5.3 Lower the capillary to the height described in the method file\n"
   ]
  },
  {
   "cell_type": "code",
   "execution_count": 14,
   "metadata": {},
   "outputs": [
    {
     "name": "stdout",
     "output_type": "stream",
     "text": [
      "What height should the capillary be lowered to? 7\n",
      "Is the capillary touching the liquid in this well?  y\n",
      "Calibration Finished\n"
     ]
    }
   ],
   "source": [
    "height_z = get_float(\"What height should the capillary be lowered to?\")\n",
    "prev_height = ce_system.inlet_z.read_z()\n",
    "ce_system.inlet_z.set_z(height_z)\n",
    "resp = get_yes_no(\"Is the capillary touching the liquid in this well? \")\n",
    "if not resp:\n",
    "    print(\"Adjust the height of the capillary manually (and carefully!) so that the capillary is touching the liquid\")\n",
    "else:\n",
    "    print(\"Calibration Finished\")\n",
    "ce_system.inlet_z.set_z(prev_height)"
   ]
  },
  {
   "cell_type": "markdown",
   "metadata": {},
   "source": [
    "# Step 6. Load a method\n",
    "\n",
    "Load a method file. Verify your method file in excel and make sure the run is set up as intended. You can add multiple files to the same auto_program\n"
   ]
  },
  {
   "cell_type": "code",
   "execution_count": 18,
   "metadata": {},
   "outputs": [],
   "source": [
    "file_to_add = r\"C:\\Users\\Luke\\Desktop\\Barracuda\\AutomatedCE\\var\\SF Standards.txt\"\n",
    "auto_program.add_method(file_to_add)\n"
   ]
  },
  {
   "cell_type": "code",
   "execution_count": 19,
   "metadata": {},
   "outputs": [],
   "source": [
    "auto_program.repetitions=3"
   ]
  },
  {
   "cell_type": "markdown",
   "metadata": {},
   "source": [
    "If you need to reset the methods (remove and start over) run the next cell"
   ]
  },
  {
   "cell_type": "code",
   "execution_count": 17,
   "metadata": {},
   "outputs": [],
   "source": [
    "auto_program.methods=[]"
   ]
  },
  {
   "cell_type": "markdown",
   "metadata": {},
   "source": [
    "### Step 6.2  Run your method (repeatable)\n",
    "\n",
    "When you are ready to start your method, run the next cell. "
   ]
  },
  {
   "cell_type": "code",
   "execution_count": 20,
   "metadata": {
    "scrolled": true
   },
   "outputs": [
    {
     "name": "stderr",
     "output_type": "stream",
     "text": [
      "C:\\Users\\Luke\\Desktop\\Barracuda\\AutomatedCE\\L4\\DisplayWindows.py:270: UserWarning: Attempting to set identical left == right == 0.0 results in singular transformations; automatically expanding.\n",
      "  ax1.set_xlim(min(data['time_data']), max(data['time_data']))\n",
      "WARNING:root:No data to plot\n",
      "WARNING:root:No data to plot\n",
      "WARNING:root:No data to plot\n",
      "WARNING:root:No data to plot\n",
      "WARNING:root:No data to plot\n",
      "WARNING:root:No data to plot\n",
      "WARNING:root:No data to plot\n",
      "WARNING:root:No data to plot\n",
      "WARNING:root:No data to plot\n",
      "WARNING:root:No data to plot\n",
      "ERROR:root:Nidaq did not read samples correctly\n",
      "WARNING:root:No data to plot\n",
      "WARNING:root:No data to plot\n"
     ]
    }
   ],
   "source": [
    "%matplotlib qt\n",
    "auto_program.start_run()\n",
    "ce_disp = DisplayWindows.PLTCEDisplay(ce_system)\n",
    "\n",
    "ce_disp.show()\n",
    "ce_disp.start_live_view()"
   ]
  },
  {
   "cell_type": "code",
   "execution_count": 8,
   "metadata": {},
   "outputs": [],
   "source": [
    "%matplotlib qt\n",
    "\n",
    "ce_disp = DisplayWindows.PLTCEDisplay(ce_system)\n",
    "\n",
    "ce_disp.show()\n",
    "ce_disp.start_live_view()"
   ]
  },
  {
   "cell_type": "markdown",
   "metadata": {},
   "source": [
    "### 6.3 Manual Single Cell Methods\n",
    "\n",
    "For a manual single cell run, the method assumes the user will start the program after the cell as been loaded. The first step of the method should be the first step you want to perform following lysing and loading a cell into the capillary (ie. separation step). The method should end at the well where the cells are plated, or wherever you would like to regain manual control over the instrument. \n",
    "\n",
    "The injection/loading of the cell can be done in two ways. In either case at the start of the next cell are a few parameters for you to specify: **injection time, delay, gravity drop, and voltage level**. \n",
    "1. **Injection time** refers to how long the injection should last and is only applied in methods 6.3a. \n",
    "1. **Delay** is the amount of time to delay the injection steps after running the cell, the word 'Fire' will be printed once the delay is finished.\n",
    "1. **Gravity drop** is how far to lower the outlet in mm from its current position. \n",
    "1. **Voltage level** is the amount of voltage to apply. \n",
    "\n",
    "In the first way the cell is loaded using a preset amount of time. The injection volume will be much more consistent, but if the cell is not loaded, the user will either choose to run a blank (no cell), rinse the capillary to remove the ECB, or start the auto-method. \n",
    "\n",
    "The second way, the loading parameters are held till the user presses the space-bar to continue the run. The injection volume may change run to run, but the user decides when to stop which means a higher likely-hood over loading a cell (at the expense of possible greater de-stacking. \n",
    "\n",
    "\n",
    "\n"
   ]
  },
  {
   "cell_type": "code",
   "execution_count": 23,
   "metadata": {},
   "outputs": [
    {
     "name": "stderr",
     "output_type": "stream",
     "text": [
      "C:\\Users\\Luke\\Anaconda3\\envs\\CEpy37\\lib\\site-packages\\skimage\\exposure\\exposure.py:351: RuntimeWarning: invalid value encountered in true_divide\n",
      "  image = (image - imin) / float(imax - imin)\n"
     ]
    }
   ],
   "source": [
    "# General Injection Parameters\n",
    "injection_time = 5 # in seconds\n",
    "gravity_drop = 10 # in millimeters\n",
    "voltage_level = 0 # in kilovolts\n",
    "delay = 0 # inseconds\n",
    "\n",
    "\n",
    "ce_disp = DisplayWindows.PLTMicroscopeDisplay(ce_system)\n",
    "%matplotlib qt\n",
    "\n",
    "ce_disp.show()\n",
    "ce_disp.live_image()"
   ]
  },
  {
   "cell_type": "code",
   "execution_count": 24,
   "metadata": {},
   "outputs": [],
   "source": [
    "# Move the objective to the height and run this cell to record it for next time\n",
    "obj_height = ce_system.objective.read_z()"
   ]
  },
  {
   "cell_type": "code",
   "execution_count": 25,
   "metadata": {},
   "outputs": [],
   "source": [
    "# Lower the capillary \n",
    "ce_system.inlet_z.set_z(5)"
   ]
  },
  {
   "cell_type": "code",
   "execution_count": null,
   "metadata": {},
   "outputs": [],
   "source": [
    "ce_system.inlet_z.set_rel_z(-0.01)"
   ]
  },
  {
   "cell_type": "code",
   "execution_count": 59,
   "metadata": {},
   "outputs": [],
   "source": [
    "# and record this height for next time \n",
    "cap_height = ce_system.inlet_z.read_z()"
   ]
  },
  {
   "cell_type": "code",
   "execution_count": 63,
   "metadata": {},
   "outputs": [],
   "source": [
    "cap_difference = obj_height - cap_height"
   ]
  },
  {
   "cell_type": "code",
   "execution_count": 64,
   "metadata": {},
   "outputs": [],
   "source": [
    "def get_cap_height(obj_height, cap_difference):\n",
    "    cap_height = obj_height - cap_difference\n",
    "    return cap_height"
   ]
  },
  {
   "cell_type": "code",
   "execution_count": 69,
   "metadata": {},
   "outputs": [],
   "source": [
    "ce_system.inlet_z.set_rel_z(5)"
   ]
  },
  {
   "cell_type": "code",
   "execution_count": 68,
   "metadata": {},
   "outputs": [],
   "source": [
    "obj_height = ce_system.objective.read_z()\n",
    "cap_z = get_cap_height(obj_height, cap_difference)\n",
    "ce_system.inlet_z.set_z(cap_z)"
   ]
  },
  {
   "cell_type": "code",
   "execution_count": 37,
   "metadata": {},
   "outputs": [
    {
     "ename": "NameError",
     "evalue": "name 'img' is not defined",
     "output_type": "error",
     "traceback": [
      "\u001b[1;31m---------------------------------------------------------------------------\u001b[0m",
      "\u001b[1;31mNameError\u001b[0m                                 Traceback (most recent call last)",
      "\u001b[1;32m<ipython-input-37-587214695b50>\u001b[0m in \u001b[0;36m<module>\u001b[1;34m\u001b[0m\n\u001b[0;32m      1\u001b[0m \u001b[1;32mimport\u001b[0m \u001b[0mmatplotlib\u001b[0m\u001b[1;33m.\u001b[0m\u001b[0mpyplot\u001b[0m \u001b[1;32mas\u001b[0m \u001b[0mplt\u001b[0m\u001b[1;33m\u001b[0m\u001b[1;33m\u001b[0m\u001b[0m\n\u001b[1;32m----> 2\u001b[1;33m \u001b[0mplt\u001b[0m\u001b[1;33m.\u001b[0m\u001b[0mimshow\u001b[0m\u001b[1;33m(\u001b[0m\u001b[0mimg\u001b[0m\u001b[1;33m,\u001b[0m \u001b[0mcmap\u001b[0m\u001b[1;33m=\u001b[0m\u001b[1;34m'gray'\u001b[0m\u001b[1;33m)\u001b[0m\u001b[1;33m\u001b[0m\u001b[1;33m\u001b[0m\u001b[0m\n\u001b[0m",
      "\u001b[1;31mNameError\u001b[0m: name 'img' is not defined"
     ]
    }
   ],
   "source": [
    "import matplotlib.pyplot as plt \n",
    "plt.imshow(img, cmap='gray')"
   ]
  },
  {
   "cell_type": "code",
   "execution_count": 14,
   "metadata": {},
   "outputs": [],
   "source": [
    "img = ce_system.camera.snap()"
   ]
  },
  {
   "cell_type": "markdown",
   "metadata": {},
   "source": [
    "### 6.3a Injection Time Limited Loading\n",
    "\n",
    "Run the following block when the cell is ready to by lysed and loaded. \n",
    "\n",
    "**For the eclipse system you will have to manually press the fire button after running the cell"
   ]
  },
  {
   "cell_type": "code",
   "execution_count": null,
   "metadata": {},
   "outputs": [],
   "source": [
    "time.sleep(delay)\n",
    "print('Fire')\n",
    "ce_system.outlet_z.set_rel_z(-gravity_drop)\n",
    "ce_system.high_voltage.set_voltage(voltage_level)\n",
    "ce_system.high_voltage.start()\n",
    "ce_system.lysis_laser.laser_standby()\n",
    "ce_system.lysis_laser.laser_fire()\n",
    "start_time = time.time()\n",
    "while time.time()-start_time < injection_time:\n",
    "    time.sleep(0.01)\n",
    "ce_system.high_voltage.stop()\n",
    "ce_system.outlet_z.set_rel_z(gravity_drop)\n",
    "\n"
   ]
  },
  {
   "cell_type": "markdown",
   "metadata": {},
   "source": [
    "### 6.3b Unlimited Loading\n",
    "\n",
    "Run the following block when the cell is ready to by lysed and loaded. \n",
    "\n",
    "Run the block after when the loading process is complete. \n",
    "\n",
    "**For the eclipse system you will have to manually press the fire button after running the cell**\n"
   ]
  },
  {
   "cell_type": "code",
   "execution_count": null,
   "metadata": {},
   "outputs": [],
   "source": [
    "print(\"hi\")"
   ]
  },
  {
   "cell_type": "code",
   "execution_count": null,
   "metadata": {},
   "outputs": [],
   "source": [
    "time.sleep(delay)\n",
    "print('Fire')\n",
    "ce_system.outlet_z.set_rel_z(-gravity_drop)\n",
    "ce_system.high_voltage.set_voltage(voltage_level)\n",
    "ce_system.high_voltage.start()\n",
    "ce_system.lysis_laser.laser_standby()\n",
    "ce_system.lysis_laser.laser_fire()\n",
    "start_time = time.time()"
   ]
  },
  {
   "cell_type": "code",
   "execution_count": null,
   "metadata": {},
   "outputs": [],
   "source": [
    "ce_system.high_voltage.stop()\n",
    "ce_system.outlet_z.set_rel_z(gravity_drop)"
   ]
  },
  {
   "cell_type": "markdown",
   "metadata": {},
   "source": [
    "# Step 7. End of Day\n",
    "\n",
    "1. Repeat Step 2.1, this time rinse for 5 min with water, then 30 min with air. Run the next cell when you are finished rinsing.\n",
    "2. Turn off all equipment. "
   ]
  },
  {
   "cell_type": "code",
   "execution_count": 17,
   "metadata": {},
   "outputs": [
    {
     "ename": "AttributeError",
     "evalue": "'NoneType' object has no attribute 'shutdown'",
     "output_type": "error",
     "traceback": [
      "\u001b[1;31m---------------------------------------------------------------------------\u001b[0m",
      "\u001b[1;31mAttributeError\u001b[0m                            Traceback (most recent call last)",
      "\u001b[1;32m<ipython-input-17-b68a8e444e1e>\u001b[0m in \u001b[0;36m<module>\u001b[1;34m\u001b[0m\n\u001b[1;32m----> 1\u001b[1;33m \u001b[0mce_system\u001b[0m\u001b[1;33m.\u001b[0m\u001b[0mshutdown_utilities\u001b[0m\u001b[1;33m(\u001b[0m\u001b[1;33m)\u001b[0m\u001b[1;33m\u001b[0m\u001b[1;33m\u001b[0m\u001b[0m\n\u001b[0m",
      "\u001b[1;32m~\\Desktop\\Barracuda\\AutomatedCE\\L3\\SystemsBuilder.py\u001b[0m in \u001b[0;36mshutdown_utilities\u001b[1;34m(self)\u001b[0m\n\u001b[0;32m    426\u001b[0m         \"\"\"\n\u001b[0;32m    427\u001b[0m         \u001b[1;32mfor\u001b[0m \u001b[0m_\u001b[0m\u001b[1;33m,\u001b[0m \u001b[0mutility\u001b[0m \u001b[1;32min\u001b[0m \u001b[0mself\u001b[0m\u001b[1;33m.\u001b[0m\u001b[0mutilities\u001b[0m\u001b[1;33m.\u001b[0m\u001b[0mitems\u001b[0m\u001b[1;33m(\u001b[0m\u001b[1;33m)\u001b[0m\u001b[1;33m:\u001b[0m\u001b[1;33m\u001b[0m\u001b[1;33m\u001b[0m\u001b[0m\n\u001b[1;32m--> 428\u001b[1;33m             \u001b[0mutility\u001b[0m\u001b[1;33m.\u001b[0m\u001b[0mshutdown\u001b[0m\u001b[1;33m(\u001b[0m\u001b[1;33m)\u001b[0m\u001b[1;33m\u001b[0m\u001b[1;33m\u001b[0m\u001b[0m\n\u001b[0m\u001b[0;32m    429\u001b[0m \u001b[1;33m\u001b[0m\u001b[0m\n\u001b[0;32m    430\u001b[0m \u001b[1;33m\u001b[0m\u001b[0m\n",
      "\u001b[1;31mAttributeError\u001b[0m: 'NoneType' object has no attribute 'shutdown'"
     ]
    }
   ],
   "source": [
    "ce_system.shutdown_utilities()"
   ]
  },
  {
   "cell_type": "code",
   "execution_count": null,
   "metadata": {},
   "outputs": [],
   "source": [
    "ce_system.close_controllers()"
   ]
  },
  {
   "cell_type": "code",
   "execution_count": null,
   "metadata": {},
   "outputs": [],
   "source": [
    "ce_system.open_controllers()"
   ]
  },
  {
   "cell_type": "code",
   "execution_count": null,
   "metadata": {},
   "outputs": [],
   "source": [
    "cam_disp = DisplayWindows.PLTMicroscopeDisplay(ce_system)"
   ]
  },
  {
   "cell_type": "code",
   "execution_count": null,
   "metadata": {},
   "outputs": [],
   "source": [
    "cam_disp.show()"
   ]
  },
  {
   "cell_type": "code",
   "execution_count": null,
   "metadata": {},
   "outputs": [],
   "source": [
    "cam_disp.stop_live_image()"
   ]
  },
  {
   "cell_type": "code",
   "execution_count": null,
   "metadata": {},
   "outputs": [],
   "source": [
    "cam_disp.percentiles = 0"
   ]
  },
  {
   "cell_type": "code",
   "execution_count": null,
   "metadata": {},
   "outputs": [],
   "source": [
    "ce_system.camera.set_exposure(45)"
   ]
  },
  {
   "cell_type": "code",
   "execution_count": null,
   "metadata": {},
   "outputs": [],
   "source": [
    "cam_disp.live_image()"
   ]
  },
  {
   "cell_type": "code",
   "execution_count": null,
   "metadata": {},
   "outputs": [],
   "source": []
  }
 ],
 "metadata": {
  "kernelspec": {
   "display_name": "Python 3",
   "language": "python",
   "name": "python3"
  },
  "language_info": {
   "codemirror_mode": {
    "name": "ipython",
    "version": 3
   },
   "file_extension": ".py",
   "mimetype": "text/x-python",
   "name": "python",
   "nbconvert_exporter": "python",
   "pygments_lexer": "ipython3",
   "version": "3.7.4"
  }
 },
 "nbformat": 4,
 "nbformat_minor": 2
}
