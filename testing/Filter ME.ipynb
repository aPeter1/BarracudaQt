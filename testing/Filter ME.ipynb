{
 "cells": [
  {
   "cell_type": "code",
   "execution_count": 16,
   "metadata": {},
   "outputs": [],
   "source": [
    "import pandas as pd\n",
    "from scipy import signal\n",
    "from scipy.signal import find_peaks\n",
    "import glob\n",
    "import numpy as np\n",
    "import matplotlib.pyplot as plt"
   ]
  },
  {
   "cell_type": "code",
   "execution_count": 5,
   "metadata": {},
   "outputs": [],
   "source": [
    "\n",
    "\n",
    "def filter_butter(separation, cutoff: float, order: int):\n",
    "    \"\"\"\n",
    "    Butterworth digital filter, applies the filter forwards and backwards so the end result\n",
    "    won't have a phase shift. Order will be multiplied by 2 (once for each pass of the filter).\n",
    "\n",
    "    :param separation: Separation to filter\n",
    "    :param cutoff: Digital filter cutoff\n",
    "    :param order: Order for the single pass of the filter\n",
    "    :return: filtered RFu\n",
    "    \"\"\"\n",
    "\n",
    "    # Filtering Functions\n",
    "    # noinspection PyTupleAssignmentBalance\n",
    "    def butter_lowpass():\n",
    "        nyq = 0.5 * dt\n",
    "        normal_cutoff = cutoff / nyq\n",
    "        b, a = signal.butter(order, normal_cutoff, btype='low', analog=False)\n",
    "        return b, a\n",
    "\n",
    "    dt = 1 / np.median(np.diff(separation.time_data))\n",
    "    b, a = butter_lowpass()\n",
    "    rfu_filtered = signal.filtfilt(b, a, separation.rfu, padlen=24, padtype='constant')\n",
    "\n",
    "    return rfu_filtered\n",
    "\n",
    "\n",
    "def filter_savgol(separation, window_size: int, poly_order: int):\n",
    "    \"\"\"\n",
    "    Performs a savintsky-golay filter of the dataset, applying a gaussian window of the specified size across\n",
    "    the dataset.\n",
    "\n",
    "    :param separation:\n",
    "    :param window_size: must be odd number, size of window\n",
    "    :param poly_order:  Polynomial to apply for fit\n",
    "    :return:\n",
    "    \"\"\"\n",
    "\n",
    "    mode = 'mirror'\n",
    "    return signal.savgol_filter(separation.rfu, window_size, poly_order, mode=mode)\n",
    "\n"
   ]
  },
  {
   "cell_type": "code",
   "execution_count": 3,
   "metadata": {},
   "outputs": [
    {
     "name": "stdout",
     "output_type": "stream",
     "text": [
      "C:\\Users\\Luke\\Desktop\\Brae\\10-15-2020\\mixture_low_conductivity.csv\n",
      "C:\\Users\\Luke\\Desktop\\Brae\\10-15-2020\\mixture_low_conductivity_00000.csv\n",
      "C:\\Users\\Luke\\Desktop\\Brae\\10-15-2020\\mixture_low_conductivity_00001.csv\n",
      "C:\\Users\\Luke\\Desktop\\Brae\\10-15-2020\\mixture_low_conductivity_00002.csv\n",
      "C:\\Users\\Luke\\Desktop\\Brae\\10-15-2020\\mixture_low_conductivity_00003.csv\n",
      "C:\\Users\\Luke\\Desktop\\Brae\\10-15-2020\\mixture_low_conductivity_00004.csv\n",
      "C:\\Users\\Luke\\Desktop\\Brae\\10-15-2020\\mixture_low_conductivity_00005.csv\n",
      "C:\\Users\\Luke\\Desktop\\Brae\\10-15-2020\\mixture_low_conductivity_00006.csv\n",
      "C:\\Users\\Luke\\Desktop\\Brae\\10-15-2020\\mixture_low_conductivity_00007.csv\n",
      "C:\\Users\\Luke\\Desktop\\Brae\\10-15-2020\\mixture_low_conductivity_sfd.csv\n",
      "C:\\Users\\Luke\\Desktop\\Brae\\10-15-2020\\mixture_low_conductivity_sfd_00000.csv\n",
      "C:\\Users\\Luke\\Desktop\\Brae\\10-15-2020\\mixture_low_conductivity_sfd_00001.csv\n",
      "C:\\Users\\Luke\\Desktop\\Brae\\10-15-2020\\mixture_low_conductivity_sfd_00002.csv\n",
      "C:\\Users\\Luke\\Desktop\\Brae\\10-15-2020\\mixture_low_conductivity_sfd_00003.csv\n",
      "C:\\Users\\Luke\\Desktop\\Brae\\10-15-2020\\mixture_low_conductivity_sfd_00004.csv\n"
     ]
    }
   ],
   "source": [
    "# BUTTER FILTER YOUR DATA\n",
    "DATA_FOLDER = r\"C:\\Users\\Luke\\Desktop\\Brae\\10-15-2020\"\n",
    "for file in glob.glob(DATA_FOLDER+\"\\*.csv\"):\n",
    "    print(file)\n",
    "    df = pd.read_csv(file)\n",
    "    df['rfu']=filter_butter(df, cutoff=0.8, order=2)\n",
    "    file_out = file[:-4]+'_filtered.csv'\n",
    "    df.to_csv(file_out, index=False)\n",
    "    "
   ]
  },
  {
   "cell_type": "code",
   "execution_count": 19,
   "metadata": {},
   "outputs": [
    {
     "name": "stdout",
     "output_type": "stream",
     "text": [
      "C:\\Users\\Luke\\Documents\\Brae\\9-17-2020\\Fluorescein_00000.csv\n",
      "C:\\Users\\Luke\\Documents\\Brae\\9-17-2020\\Fluorescein_00001.csv\n",
      "C:\\Users\\Luke\\Documents\\Brae\\9-17-2020\\Fluorescein_00002.csv\n",
      "C:\\Users\\Luke\\Documents\\Brae\\9-17-2020\\TEST.csv\n",
      "C:\\Users\\Luke\\Documents\\Brae\\9-17-2020\\TEST_00000.csv\n",
      "C:\\Users\\Luke\\Documents\\Brae\\9-17-2020\\TEST_00001.csv\n",
      "C:\\Users\\Luke\\Documents\\Brae\\9-17-2020\\TEST_00002.csv\n",
      "C:\\Users\\Luke\\Documents\\Brae\\9-17-2020\\TEST_00003.csv\n",
      "C:\\Users\\Luke\\Documents\\Brae\\9-17-2020\\TEST_00004.csv\n",
      "C:\\Users\\Luke\\Documents\\Brae\\9-17-2020\\TEST_00005.csv\n",
      "C:\\Users\\Luke\\Documents\\Brae\\9-17-2020\\TEST_00006.csv\n",
      "C:\\Users\\Luke\\Documents\\Brae\\9-17-2020\\TEST_00007.csv\n",
      "C:\\Users\\Luke\\Documents\\Brae\\9-17-2020\\TEST_00008.csv\n",
      "C:\\Users\\Luke\\Documents\\Brae\\9-17-2020\\TEST_00009.csv\n",
      "C:\\Users\\Luke\\Documents\\Brae\\9-17-2020\\TEST_00010.csv\n",
      "C:\\Users\\Luke\\Documents\\Brae\\9-17-2020\\TEST_00011.csv\n"
     ]
    }
   ],
   "source": [
    "# SAVINSKY GOLAY FILTER YOUR DATA\n",
    "DATA_FOLDER = r\"C:\\Users\\Luke\\Documents\\Brae\\9-17-2020\"\n",
    "\n",
    "for file in glob.glob(DATA_FOLDER+\"\\*.csv\"):\n",
    "    print(file)\n",
    "    df = pd.read_csv(file)\n",
    "    df['rfu']=filter_savgol(df, window_size=19, poly_order=2)\n",
    "    file_out = file[:-4]+'_filtered.csv'\n",
    "    df.to_csv(file_out, index=False)\n",
    "    "
   ]
  },
  {
   "cell_type": "code",
   "execution_count": 4,
   "metadata": {},
   "outputs": [
    {
     "data": {
      "text/html": [
       "<div>\n",
       "<style scoped>\n",
       "    .dataframe tbody tr th:only-of-type {\n",
       "        vertical-align: middle;\n",
       "    }\n",
       "\n",
       "    .dataframe tbody tr th {\n",
       "        vertical-align: top;\n",
       "    }\n",
       "\n",
       "    .dataframe thead th {\n",
       "        text-align: right;\n",
       "    }\n",
       "</style>\n",
       "<table border=\"1\" class=\"dataframe\">\n",
       "  <thead>\n",
       "    <tr style=\"text-align: right;\">\n",
       "      <th></th>\n",
       "      <th>time_data</th>\n",
       "      <th>rfu</th>\n",
       "      <th>voltage</th>\n",
       "      <th>current</th>\n",
       "    </tr>\n",
       "  </thead>\n",
       "  <tbody>\n",
       "    <tr>\n",
       "      <th>0</th>\n",
       "      <td>0.000</td>\n",
       "      <td>0.002416</td>\n",
       "      <td>-0.040993</td>\n",
       "      <td>0.580308</td>\n",
       "    </tr>\n",
       "    <tr>\n",
       "      <th>1</th>\n",
       "      <td>0.125</td>\n",
       "      <td>0.002434</td>\n",
       "      <td>-0.040419</td>\n",
       "      <td>0.589898</td>\n",
       "    </tr>\n",
       "    <tr>\n",
       "      <th>2</th>\n",
       "      <td>0.250</td>\n",
       "      <td>0.002454</td>\n",
       "      <td>-0.040554</td>\n",
       "      <td>0.575666</td>\n",
       "    </tr>\n",
       "    <tr>\n",
       "      <th>3</th>\n",
       "      <td>0.375</td>\n",
       "      <td>0.002471</td>\n",
       "      <td>-0.040819</td>\n",
       "      <td>0.568612</td>\n",
       "    </tr>\n",
       "    <tr>\n",
       "      <th>4</th>\n",
       "      <td>0.500</td>\n",
       "      <td>0.002485</td>\n",
       "      <td>-0.040730</td>\n",
       "      <td>0.581711</td>\n",
       "    </tr>\n",
       "    <tr>\n",
       "      <th>...</th>\n",
       "      <td>...</td>\n",
       "      <td>...</td>\n",
       "      <td>...</td>\n",
       "      <td>...</td>\n",
       "    </tr>\n",
       "    <tr>\n",
       "      <th>588</th>\n",
       "      <td>73.500</td>\n",
       "      <td>0.002535</td>\n",
       "      <td>-0.040526</td>\n",
       "      <td>0.579692</td>\n",
       "    </tr>\n",
       "    <tr>\n",
       "      <th>589</th>\n",
       "      <td>73.625</td>\n",
       "      <td>0.002535</td>\n",
       "      <td>-0.041019</td>\n",
       "      <td>0.565467</td>\n",
       "    </tr>\n",
       "    <tr>\n",
       "      <th>590</th>\n",
       "      <td>73.750</td>\n",
       "      <td>0.002535</td>\n",
       "      <td>-0.041615</td>\n",
       "      <td>0.571156</td>\n",
       "    </tr>\n",
       "    <tr>\n",
       "      <th>591</th>\n",
       "      <td>73.875</td>\n",
       "      <td>0.002534</td>\n",
       "      <td>-0.040311</td>\n",
       "      <td>0.570405</td>\n",
       "    </tr>\n",
       "    <tr>\n",
       "      <th>592</th>\n",
       "      <td>74.000</td>\n",
       "      <td>0.002534</td>\n",
       "      <td>-0.040838</td>\n",
       "      <td>0.586011</td>\n",
       "    </tr>\n",
       "  </tbody>\n",
       "</table>\n",
       "<p>593 rows × 4 columns</p>\n",
       "</div>"
      ],
      "text/plain": [
       "     time_data       rfu   voltage   current\n",
       "0        0.000  0.002416 -0.040993  0.580308\n",
       "1        0.125  0.002434 -0.040419  0.589898\n",
       "2        0.250  0.002454 -0.040554  0.575666\n",
       "3        0.375  0.002471 -0.040819  0.568612\n",
       "4        0.500  0.002485 -0.040730  0.581711\n",
       "..         ...       ...       ...       ...\n",
       "588     73.500  0.002535 -0.040526  0.579692\n",
       "589     73.625  0.002535 -0.041019  0.565467\n",
       "590     73.750  0.002535 -0.041615  0.571156\n",
       "591     73.875  0.002534 -0.040311  0.570405\n",
       "592     74.000  0.002534 -0.040838  0.586011\n",
       "\n",
       "[593 rows x 4 columns]"
      ]
     },
     "execution_count": 4,
     "metadata": {},
     "output_type": "execute_result"
    }
   ],
   "source": [
    "# Find Peak\n",
    "df"
   ]
  },
  {
   "cell_type": "code",
   "execution_count": 6,
   "metadata": {},
   "outputs": [
    {
     "data": {
      "text/plain": [
       "(array([ 15, 298, 578], dtype=int64),\n",
       " 15      1.875\n",
       " 298    37.250\n",
       " 578    72.250\n",
       " Name: time_data, dtype: float64,\n",
       " 15     0.002517\n",
       " 298    0.019244\n",
       " 578    0.002537\n",
       " Name: rfu, dtype: float64)"
      ]
     },
     "execution_count": 6,
     "metadata": {},
     "output_type": "execute_result"
    }
   ],
   "source": [
    "from scipy import signal\n",
    "xs = df['time_data']\n",
    "data = df['rfu']\n",
    "peakind = signal.find_peaks_cwt(data, np.arange(15,150))\n",
    "peakind, xs[peakind], data[peakind]"
   ]
  },
  {
   "cell_type": "code",
   "execution_count": 26,
   "metadata": {},
   "outputs": [
    {
     "data": {
      "image/png": "[encoded data removed]",
      "text/plain": [
       "<Figure size 432x288 with 1 Axes>"
      ]
     },
     "metadata": {
      "needs_background": "light"
     },
     "output_type": "display_data"
    }
   ],
   "source": [
    "import matplotlib.pyplot as plt\n",
    "from scipy.misc import electrocardiogram\n",
    "from scipy.signal import find_peaks\n",
    "xs = df['time_data']\n",
    "data = df['rfu']\n",
    "peaks, properties = find_peaks(data, height=0.001, threshold=0.00001, width=3, rel_height=0.98)\n",
    "plt.plot(data)\n",
    "plt.plot(peaks, data[peaks], \"x\")\n",
    "plt.vlines(x=peaks, ymin=data[peaks] - properties[\"prominences\"],\n",
    "           ymax = data[peaks], color = \"C1\")\n",
    "plt.hlines(y=properties[\"width_heights\"], xmin=properties[\"left_ips\"],\n",
    "           xmax=properties[\"right_ips\"], color = \"C1\")\n",
    "plt.show()"
   ]
  },
  {
   "cell_type": "code",
   "execution_count": 53,
   "metadata": {},
   "outputs": [
    {
     "name": "stdout",
     "output_type": "stream",
     "text": [
      "['15', '.csv']\n",
      "3.4533812130685976e-06 0.0027687046442306526\n",
      "['15', '']\n",
      "2.8525009181463164e-06 0.0028486276703514066\n",
      "['15', '']\n",
      "4.26719413661123e-06 0.002834376812452168\n",
      "['2', '.csv']\n",
      "3.910232621442275e-06 0.0016096938726349972\n",
      "['2', '']\n",
      "4.021085875265329e-06 0.00160843691781284\n",
      "['2', '']\n",
      "4.068660902946817e-06 0.0016159257342859986\n",
      "['4', '.csv']\n",
      "4.3908637064948485e-06 0.00183164926974365\n",
      "['4', '']\n",
      "3.4880143326889497e-06 0.0018389278224287594\n",
      "['4', '']\n",
      "3.5375325581242264e-06 0.001833432333055462\n",
      "['6', '.csv']\n",
      "3.126582210399401e-06 0.002008313674660194\n",
      "['6', '']\n",
      "4.208172216491841e-06 0.002037111513393897\n",
      "['6', '']\n",
      "4.043117867616534e-06 0.002041202929470878\n"
     ]
    }
   ],
   "source": [
    "# SAVINSKY GOLAY FILTER YOUR DATA\n",
    "def get_label(name):\n",
    "    if name.find('sfd')>=0:\n",
    "        return 'SFD'\n",
    "    else:\n",
    "        return \"Gravity\"\n",
    "    \n",
    "def get_label(name):\n",
    "    name = name.split('_')\n",
    "    name = name[2].split('mw')\n",
    "    print(name)\n",
    "    return name[0]\n",
    "\n",
    "    \n",
    "def find_noise(Y, width=50, skip=5):\n",
    "    noise = np.nan\n",
    "    background = np.nan\n",
    "    for i in range(skip,len(Y)-width-skip):\n",
    "        new_noise = np.std(Y[i:i+width])\n",
    "        \n",
    "        if new_noise < noise or np.isnan(noise):\n",
    "            noise = new_noise\n",
    "            background = np.median(Y) \n",
    "    print(noise, background)\n",
    "    return noise, background\n",
    "    \n",
    "\n",
    "DATA_FOLDER = r\"C:\\Users\\Luke\\Desktop\\Brae\\10-15-2020 borate\"\n",
    "data = {'label':[],'max':[], 'SNR':[], 'noise':[], \"background\":[], \"location\":[],'file':[]}\n",
    "for file in glob.glob(DATA_FOLDER+\"\\*.csv\"):\n",
    "    df = pd.read_csv(file)\n",
    "    df['rfu']=filter_butter(df, cutoff=2,order=2 )\n",
    "    lbl = get_label(file)\n",
    "    noise, background = find_noise(df['rfu'])\n",
    "    peaks, properties = find_peaks(df['rfu'], height=10*noise+background)\n",
    "    for pk in peaks:\n",
    "        data['label'].append(lbl)\n",
    "        data['max'].append(df['rfu'].values[pk]-background)\n",
    "        data['SNR'].append((df['rfu'].values[pk]-background)/noise)\n",
    "        data['noise'].append(noise)\n",
    "        data['background'].append(background)\n",
    "        data['location'].append(pk)\n",
    "        data['file'].append(file)\n",
    "    "
   ]
  },
  {
   "cell_type": "code",
   "execution_count": 54,
   "metadata": {},
   "outputs": [
    {
     "data": {
      "text/html": [
       "<div>\n",
       "<style scoped>\n",
       "    .dataframe tbody tr th:only-of-type {\n",
       "        vertical-align: middle;\n",
       "    }\n",
       "\n",
       "    .dataframe tbody tr th {\n",
       "        vertical-align: top;\n",
       "    }\n",
       "\n",
       "    .dataframe thead th {\n",
       "        text-align: right;\n",
       "    }\n",
       "</style>\n",
       "<table border=\"1\" class=\"dataframe\">\n",
       "  <thead>\n",
       "    <tr style=\"text-align: right;\">\n",
       "      <th></th>\n",
       "      <th>label</th>\n",
       "      <th>max</th>\n",
       "      <th>SNR</th>\n",
       "      <th>noise</th>\n",
       "      <th>background</th>\n",
       "      <th>location</th>\n",
       "      <th>file</th>\n",
       "      <th>normal_snr</th>\n",
       "      <th>normal_max</th>\n",
       "      <th>normal_noise</th>\n",
       "    </tr>\n",
       "  </thead>\n",
       "  <tbody>\n",
       "    <tr>\n",
       "      <th>5</th>\n",
       "      <td>15</td>\n",
       "      <td>0.005419</td>\n",
       "      <td>1569.145371</td>\n",
       "      <td>0.000003</td>\n",
       "      <td>0.002769</td>\n",
       "      <td>323</td>\n",
       "      <td>C:\\Users\\Luke\\Desktop\\Brae\\10-15-2020 borate\\m...</td>\n",
       "      <td>0.147871</td>\n",
       "      <td>0.179020</td>\n",
       "      <td>0.786492</td>\n",
       "    </tr>\n",
       "    <tr>\n",
       "      <th>15</th>\n",
       "      <td>15</td>\n",
       "      <td>0.030270</td>\n",
       "      <td>10611.615794</td>\n",
       "      <td>0.000003</td>\n",
       "      <td>0.002849</td>\n",
       "      <td>314</td>\n",
       "      <td>C:\\Users\\Luke\\Desktop\\Brae\\10-15-2020 borate\\m...</td>\n",
       "      <td>1.000000</td>\n",
       "      <td>1.000000</td>\n",
       "      <td>0.649645</td>\n",
       "    </tr>\n",
       "    <tr>\n",
       "      <th>25</th>\n",
       "      <td>15</td>\n",
       "      <td>0.024767</td>\n",
       "      <td>5803.973152</td>\n",
       "      <td>0.000004</td>\n",
       "      <td>0.002834</td>\n",
       "      <td>314</td>\n",
       "      <td>C:\\Users\\Luke\\Desktop\\Brae\\10-15-2020 borate\\m...</td>\n",
       "      <td>0.546945</td>\n",
       "      <td>0.818202</td>\n",
       "      <td>0.971835</td>\n",
       "    </tr>\n",
       "    <tr>\n",
       "      <th>31</th>\n",
       "      <td>2</td>\n",
       "      <td>0.010419</td>\n",
       "      <td>2664.445362</td>\n",
       "      <td>0.000004</td>\n",
       "      <td>0.001610</td>\n",
       "      <td>315</td>\n",
       "      <td>C:\\Users\\Luke\\Desktop\\Brae\\10-15-2020 borate\\m...</td>\n",
       "      <td>0.251088</td>\n",
       "      <td>0.344193</td>\n",
       "      <td>0.890538</td>\n",
       "    </tr>\n",
       "    <tr>\n",
       "      <th>42</th>\n",
       "      <td>2</td>\n",
       "      <td>0.010134</td>\n",
       "      <td>2520.122221</td>\n",
       "      <td>0.000004</td>\n",
       "      <td>0.001608</td>\n",
       "      <td>315</td>\n",
       "      <td>C:\\Users\\Luke\\Desktop\\Brae\\10-15-2020 borate\\m...</td>\n",
       "      <td>0.237487</td>\n",
       "      <td>0.334779</td>\n",
       "      <td>0.915785</td>\n",
       "    </tr>\n",
       "    <tr>\n",
       "      <th>49</th>\n",
       "      <td>2</td>\n",
       "      <td>0.010596</td>\n",
       "      <td>2604.214120</td>\n",
       "      <td>0.000004</td>\n",
       "      <td>0.001616</td>\n",
       "      <td>315</td>\n",
       "      <td>C:\\Users\\Luke\\Desktop\\Brae\\10-15-2020 borate\\m...</td>\n",
       "      <td>0.245412</td>\n",
       "      <td>0.350043</td>\n",
       "      <td>0.926620</td>\n",
       "    </tr>\n",
       "    <tr>\n",
       "      <th>56</th>\n",
       "      <td>4</td>\n",
       "      <td>0.018415</td>\n",
       "      <td>4193.977389</td>\n",
       "      <td>0.000004</td>\n",
       "      <td>0.001832</td>\n",
       "      <td>315</td>\n",
       "      <td>C:\\Users\\Luke\\Desktop\\Brae\\10-15-2020 borate\\m...</td>\n",
       "      <td>0.395225</td>\n",
       "      <td>0.608371</td>\n",
       "      <td>1.000000</td>\n",
       "    </tr>\n",
       "    <tr>\n",
       "      <th>67</th>\n",
       "      <td>4</td>\n",
       "      <td>0.017076</td>\n",
       "      <td>4895.607197</td>\n",
       "      <td>0.000003</td>\n",
       "      <td>0.001839</td>\n",
       "      <td>315</td>\n",
       "      <td>C:\\Users\\Luke\\Desktop\\Brae\\10-15-2020 borate\\m...</td>\n",
       "      <td>0.461344</td>\n",
       "      <td>0.564128</td>\n",
       "      <td>0.794380</td>\n",
       "    </tr>\n",
       "    <tr>\n",
       "      <th>78</th>\n",
       "      <td>4</td>\n",
       "      <td>0.017195</td>\n",
       "      <td>4860.592439</td>\n",
       "      <td>0.000004</td>\n",
       "      <td>0.001833</td>\n",
       "      <td>314</td>\n",
       "      <td>C:\\Users\\Luke\\Desktop\\Brae\\10-15-2020 borate\\m...</td>\n",
       "      <td>0.458045</td>\n",
       "      <td>0.568044</td>\n",
       "      <td>0.805658</td>\n",
       "    </tr>\n",
       "    <tr>\n",
       "      <th>88</th>\n",
       "      <td>6</td>\n",
       "      <td>0.018690</td>\n",
       "      <td>5977.664291</td>\n",
       "      <td>0.000003</td>\n",
       "      <td>0.002008</td>\n",
       "      <td>315</td>\n",
       "      <td>C:\\Users\\Luke\\Desktop\\Brae\\10-15-2020 borate\\m...</td>\n",
       "      <td>0.563313</td>\n",
       "      <td>0.617439</td>\n",
       "      <td>0.712065</td>\n",
       "    </tr>\n",
       "    <tr>\n",
       "      <th>99</th>\n",
       "      <td>6</td>\n",
       "      <td>0.014885</td>\n",
       "      <td>3537.148467</td>\n",
       "      <td>0.000004</td>\n",
       "      <td>0.002037</td>\n",
       "      <td>315</td>\n",
       "      <td>C:\\Users\\Luke\\Desktop\\Brae\\10-15-2020 borate\\m...</td>\n",
       "      <td>0.333328</td>\n",
       "      <td>0.491744</td>\n",
       "      <td>0.958393</td>\n",
       "    </tr>\n",
       "    <tr>\n",
       "      <th>105</th>\n",
       "      <td>6</td>\n",
       "      <td>0.014013</td>\n",
       "      <td>3465.776793</td>\n",
       "      <td>0.000004</td>\n",
       "      <td>0.002041</td>\n",
       "      <td>315</td>\n",
       "      <td>C:\\Users\\Luke\\Desktop\\Brae\\10-15-2020 borate\\m...</td>\n",
       "      <td>0.326602</td>\n",
       "      <td>0.462924</td>\n",
       "      <td>0.920802</td>\n",
       "    </tr>\n",
       "  </tbody>\n",
       "</table>\n",
       "</div>"
      ],
      "text/plain": [
       "     label       max           SNR     noise  background  location  \\\n",
       "5       15  0.005419   1569.145371  0.000003    0.002769       323   \n",
       "15      15  0.030270  10611.615794  0.000003    0.002849       314   \n",
       "25      15  0.024767   5803.973152  0.000004    0.002834       314   \n",
       "31       2  0.010419   2664.445362  0.000004    0.001610       315   \n",
       "42       2  0.010134   2520.122221  0.000004    0.001608       315   \n",
       "49       2  0.010596   2604.214120  0.000004    0.001616       315   \n",
       "56       4  0.018415   4193.977389  0.000004    0.001832       315   \n",
       "67       4  0.017076   4895.607197  0.000003    0.001839       315   \n",
       "78       4  0.017195   4860.592439  0.000004    0.001833       314   \n",
       "88       6  0.018690   5977.664291  0.000003    0.002008       315   \n",
       "99       6  0.014885   3537.148467  0.000004    0.002037       315   \n",
       "105      6  0.014013   3465.776793  0.000004    0.002041       315   \n",
       "\n",
       "                                                  file  normal_snr  \\\n",
       "5    C:\\Users\\Luke\\Desktop\\Brae\\10-15-2020 borate\\m...    0.147871   \n",
       "15   C:\\Users\\Luke\\Desktop\\Brae\\10-15-2020 borate\\m...    1.000000   \n",
       "25   C:\\Users\\Luke\\Desktop\\Brae\\10-15-2020 borate\\m...    0.546945   \n",
       "31   C:\\Users\\Luke\\Desktop\\Brae\\10-15-2020 borate\\m...    0.251088   \n",
       "42   C:\\Users\\Luke\\Desktop\\Brae\\10-15-2020 borate\\m...    0.237487   \n",
       "49   C:\\Users\\Luke\\Desktop\\Brae\\10-15-2020 borate\\m...    0.245412   \n",
       "56   C:\\Users\\Luke\\Desktop\\Brae\\10-15-2020 borate\\m...    0.395225   \n",
       "67   C:\\Users\\Luke\\Desktop\\Brae\\10-15-2020 borate\\m...    0.461344   \n",
       "78   C:\\Users\\Luke\\Desktop\\Brae\\10-15-2020 borate\\m...    0.458045   \n",
       "88   C:\\Users\\Luke\\Desktop\\Brae\\10-15-2020 borate\\m...    0.563313   \n",
       "99   C:\\Users\\Luke\\Desktop\\Brae\\10-15-2020 borate\\m...    0.333328   \n",
       "105  C:\\Users\\Luke\\Desktop\\Brae\\10-15-2020 borate\\m...    0.326602   \n",
       "\n",
       "     normal_max  normal_noise  \n",
       "5      0.179020      0.786492  \n",
       "15     1.000000      0.649645  \n",
       "25     0.818202      0.971835  \n",
       "31     0.344193      0.890538  \n",
       "42     0.334779      0.915785  \n",
       "49     0.350043      0.926620  \n",
       "56     0.608371      1.000000  \n",
       "67     0.564128      0.794380  \n",
       "78     0.568044      0.805658  \n",
       "88     0.617439      0.712065  \n",
       "99     0.491744      0.958393  \n",
       "105    0.462924      0.920802  "
      ]
     },
     "execution_count": 54,
     "metadata": {},
     "output_type": "execute_result"
    }
   ],
   "source": [
    "df2 = pd.DataFrame(data)\n",
    "df2['label']=pd.to_numeric(df2['label'])\n",
    "df2['normal_snr']=df2['SNR']/max(df2['SNR'])\n",
    "df2['normal_max']=df2['max']/max(df2['max'])\n",
    "\n",
    "df2['normal_noise']=df2['noise']/max(df2['noise'])\n",
    "fluor_peak = df2[df2['location'].between(300, 450, inclusive=False)]\n",
    "fluor_peak = fluor_peak[fluor_peak['SNR']>1000]\n",
    "fluor_peak\n"
   ]
  },
  {
   "cell_type": "code",
   "execution_count": 41,
   "metadata": {},
   "outputs": [
    {
     "name": "stdout",
     "output_type": "stream",
     "text": [
      "C:\\Users\\Luke\\Desktop\\Brae\\10-15-2020\\mixture_low_conductivity_00001.csv\n",
      "3.74156453912304e-06 0.002414369467164163\n",
      "C:\\Users\\Luke\\Desktop\\Brae\\10-15-2020\\mixture_low_conductivity_00003.csv\n",
      "3.786975002271515e-06 0.002401662486740762\n",
      "C:\\Users\\Luke\\Desktop\\Brae\\10-15-2020\\mixture_low_conductivity_00004.csv\n",
      "3.527916670992805e-06 0.002484534230505612\n",
      "C:\\Users\\Luke\\Desktop\\Brae\\10-15-2020\\mixture_low_conductivity_00005.csv\n",
      "4.8541131183305e-06 0.0025434224220000114\n",
      "C:\\Users\\Luke\\Desktop\\Brae\\10-15-2020\\mixture_low_conductivity_00006.csv\n",
      "4.94475034847181e-06 0.002578588360769192\n",
      "C:\\Users\\Luke\\Desktop\\Brae\\10-15-2020\\mixture_low_conductivity_00007.csv\n",
      "5.951207420584219e-06 0.002629268143630629\n",
      "C:\\Users\\Luke\\Desktop\\Brae\\10-15-2020\\mixture_low_conductivity_sfd.csv\n",
      "5.421328548019131e-06 0.002540651745059399\n",
      "C:\\Users\\Luke\\Desktop\\Brae\\10-15-2020\\mixture_low_conductivity_sfd_00000.csv\n",
      "3.3149638359519674e-06 0.0025044626450341856\n",
      "C:\\Users\\Luke\\Desktop\\Brae\\10-15-2020\\mixture_low_conductivity_sfd_00001.csv\n",
      "4.982934149237527e-06 0.002577795650778041\n",
      "C:\\Users\\Luke\\Desktop\\Brae\\10-15-2020\\mixture_low_conductivity_sfd_00002.csv\n",
      "3.981234503207034e-06 0.0025866228894032336\n",
      "C:\\Users\\Luke\\Desktop\\Brae\\10-15-2020\\mixture_low_conductivity_sfd_00003.csv\n",
      "3.643815819379729e-06 0.002618028232895299\n",
      "C:\\Users\\Luke\\Desktop\\Brae\\10-15-2020\\mixture_low_conductivity_sfd_00004.csv\n",
      "4.332475550516983e-06 0.002621599675115204\n"
     ]
    }
   ],
   "source": [
    "# SAVINSKY GOLAY FILTER YOUR DATA\n",
    "def get_label(name):\n",
    "    if name.find('sfd')>=0:\n",
    "        return 'SFD'\n",
    "    else:\n",
    "        return \"Gravity\"\n",
    "\n",
    "    \n",
    "def find_noise(Y, width=50, skip=5):\n",
    "    noise = np.nan\n",
    "    background = np.nan\n",
    "    for i in range(skip,len(Y)-width-skip):\n",
    "        new_noise = np.std(Y[i:i+width])\n",
    "        \n",
    "        if new_noise < noise or np.isnan(noise):\n",
    "            noise = new_noise\n",
    "            background = np.median(Y) \n",
    "    print(noise, background)\n",
    "    return noise, background\n",
    "    \n",
    "\n",
    "DATA_FOLDER = r\"C:\\Users\\Luke\\Desktop\\Brae\\10-15-2020\"\n",
    "data = {'label':[],'max':[], 'SNR':[], 'noise':[], \"background\":[], \"location\":[],'file':[],\"CA\":[]}\n",
    "for file in glob.glob(DATA_FOLDER+\"\\*.csv\"):\n",
    "    print(file)\n",
    "    df = pd.read_csv(file)\n",
    "    df['rfu']=filter_butter(df, cutoff=2,order=2 )\n",
    "    lbl = get_label(file)\n",
    "    noise, background = find_noise(df['rfu'])\n",
    "    peaks, properties = find_peaks(df['rfu'], height=10*noise+background, threshold=0.00001, width=3, rel_height=0.98)\n",
    "    for pk, start, stop in zip(peaks, properties['left_ips'], properties['right_ips']):\n",
    "        area = np.trapz(df['rfu'].values[int(start):int(stop)]-background,df['time_data'].values[int(start):int(stop)])\n",
    "        ca = area/df['time_data'].values[pk]\n",
    "        data['label'].append(lbl)\n",
    "        data['max'].append(df['rfu'].values[pk]-background)\n",
    "        data['SNR'].append((df['rfu'].values[pk]-background)/noise)\n",
    "        data['noise'].append(noise)\n",
    "        data['background'].append(background)\n",
    "        data['location'].append(pk)\n",
    "        data['file'].append(file)\n",
    "        data['CA'].append(ca)\n",
    "    "
   ]
  },
  {
   "cell_type": "code",
   "execution_count": 42,
   "metadata": {
    "scrolled": true
   },
   "outputs": [
    {
     "data": {
      "text/html": [
       "<div>\n",
       "<style scoped>\n",
       "    .dataframe tbody tr th:only-of-type {\n",
       "        vertical-align: middle;\n",
       "    }\n",
       "\n",
       "    .dataframe tbody tr th {\n",
       "        vertical-align: top;\n",
       "    }\n",
       "\n",
       "    .dataframe thead th {\n",
       "        text-align: right;\n",
       "    }\n",
       "</style>\n",
       "<table border=\"1\" class=\"dataframe\">\n",
       "  <thead>\n",
       "    <tr style=\"text-align: right;\">\n",
       "      <th></th>\n",
       "      <th>label</th>\n",
       "      <th>max</th>\n",
       "      <th>SNR</th>\n",
       "      <th>noise</th>\n",
       "      <th>background</th>\n",
       "      <th>location</th>\n",
       "      <th>file</th>\n",
       "      <th>CA</th>\n",
       "    </tr>\n",
       "  </thead>\n",
       "  <tbody>\n",
       "    <tr>\n",
       "      <th>3</th>\n",
       "      <td>Gravity</td>\n",
       "      <td>0.069585</td>\n",
       "      <td>18597.938644</td>\n",
       "      <td>0.000004</td>\n",
       "      <td>0.002414</td>\n",
       "      <td>295</td>\n",
       "      <td>C:\\Users\\Luke\\Desktop\\Brae\\10-15-2020\\mixture_...</td>\n",
       "      <td>0.001446</td>\n",
       "    </tr>\n",
       "    <tr>\n",
       "      <th>8</th>\n",
       "      <td>Gravity</td>\n",
       "      <td>0.073792</td>\n",
       "      <td>19485.771463</td>\n",
       "      <td>0.000004</td>\n",
       "      <td>0.002402</td>\n",
       "      <td>293</td>\n",
       "      <td>C:\\Users\\Luke\\Desktop\\Brae\\10-15-2020\\mixture_...</td>\n",
       "      <td>0.001524</td>\n",
       "    </tr>\n",
       "    <tr>\n",
       "      <th>12</th>\n",
       "      <td>Gravity</td>\n",
       "      <td>0.074750</td>\n",
       "      <td>21188.054341</td>\n",
       "      <td>0.000004</td>\n",
       "      <td>0.002485</td>\n",
       "      <td>293</td>\n",
       "      <td>C:\\Users\\Luke\\Desktop\\Brae\\10-15-2020\\mixture_...</td>\n",
       "      <td>0.001526</td>\n",
       "    </tr>\n",
       "    <tr>\n",
       "      <th>17</th>\n",
       "      <td>Gravity</td>\n",
       "      <td>0.073233</td>\n",
       "      <td>15086.718864</td>\n",
       "      <td>0.000005</td>\n",
       "      <td>0.002543</td>\n",
       "      <td>293</td>\n",
       "      <td>C:\\Users\\Luke\\Desktop\\Brae\\10-15-2020\\mixture_...</td>\n",
       "      <td>0.001576</td>\n",
       "    </tr>\n",
       "    <tr>\n",
       "      <th>23</th>\n",
       "      <td>Gravity</td>\n",
       "      <td>0.074948</td>\n",
       "      <td>15157.096759</td>\n",
       "      <td>0.000005</td>\n",
       "      <td>0.002579</td>\n",
       "      <td>293</td>\n",
       "      <td>C:\\Users\\Luke\\Desktop\\Brae\\10-15-2020\\mixture_...</td>\n",
       "      <td>0.001590</td>\n",
       "    </tr>\n",
       "    <tr>\n",
       "      <th>28</th>\n",
       "      <td>Gravity</td>\n",
       "      <td>0.076319</td>\n",
       "      <td>12824.111324</td>\n",
       "      <td>0.000006</td>\n",
       "      <td>0.002629</td>\n",
       "      <td>293</td>\n",
       "      <td>C:\\Users\\Luke\\Desktop\\Brae\\10-15-2020\\mixture_...</td>\n",
       "      <td>0.001599</td>\n",
       "    </tr>\n",
       "    <tr>\n",
       "      <th>33</th>\n",
       "      <td>SFD</td>\n",
       "      <td>0.041948</td>\n",
       "      <td>7737.642373</td>\n",
       "      <td>0.000005</td>\n",
       "      <td>0.002541</td>\n",
       "      <td>293</td>\n",
       "      <td>C:\\Users\\Luke\\Desktop\\Brae\\10-15-2020\\mixture_...</td>\n",
       "      <td>0.001255</td>\n",
       "    </tr>\n",
       "    <tr>\n",
       "      <th>37</th>\n",
       "      <td>SFD</td>\n",
       "      <td>0.043274</td>\n",
       "      <td>13054.252153</td>\n",
       "      <td>0.000003</td>\n",
       "      <td>0.002504</td>\n",
       "      <td>293</td>\n",
       "      <td>C:\\Users\\Luke\\Desktop\\Brae\\10-15-2020\\mixture_...</td>\n",
       "      <td>0.001273</td>\n",
       "    </tr>\n",
       "    <tr>\n",
       "      <th>42</th>\n",
       "      <td>SFD</td>\n",
       "      <td>0.040504</td>\n",
       "      <td>8128.565845</td>\n",
       "      <td>0.000005</td>\n",
       "      <td>0.002578</td>\n",
       "      <td>294</td>\n",
       "      <td>C:\\Users\\Luke\\Desktop\\Brae\\10-15-2020\\mixture_...</td>\n",
       "      <td>0.001248</td>\n",
       "    </tr>\n",
       "    <tr>\n",
       "      <th>47</th>\n",
       "      <td>SFD</td>\n",
       "      <td>0.042188</td>\n",
       "      <td>10596.830367</td>\n",
       "      <td>0.000004</td>\n",
       "      <td>0.002587</td>\n",
       "      <td>294</td>\n",
       "      <td>C:\\Users\\Luke\\Desktop\\Brae\\10-15-2020\\mixture_...</td>\n",
       "      <td>0.001237</td>\n",
       "    </tr>\n",
       "    <tr>\n",
       "      <th>50</th>\n",
       "      <td>SFD</td>\n",
       "      <td>0.042573</td>\n",
       "      <td>11683.758867</td>\n",
       "      <td>0.000004</td>\n",
       "      <td>0.002618</td>\n",
       "      <td>294</td>\n",
       "      <td>C:\\Users\\Luke\\Desktop\\Brae\\10-15-2020\\mixture_...</td>\n",
       "      <td>0.001255</td>\n",
       "    </tr>\n",
       "    <tr>\n",
       "      <th>53</th>\n",
       "      <td>SFD</td>\n",
       "      <td>0.043933</td>\n",
       "      <td>10140.372724</td>\n",
       "      <td>0.000004</td>\n",
       "      <td>0.002622</td>\n",
       "      <td>294</td>\n",
       "      <td>C:\\Users\\Luke\\Desktop\\Brae\\10-15-2020\\mixture_...</td>\n",
       "      <td>0.001269</td>\n",
       "    </tr>\n",
       "  </tbody>\n",
       "</table>\n",
       "</div>"
      ],
      "text/plain": [
       "      label       max           SNR     noise  background  location  \\\n",
       "3   Gravity  0.069585  18597.938644  0.000004    0.002414       295   \n",
       "8   Gravity  0.073792  19485.771463  0.000004    0.002402       293   \n",
       "12  Gravity  0.074750  21188.054341  0.000004    0.002485       293   \n",
       "17  Gravity  0.073233  15086.718864  0.000005    0.002543       293   \n",
       "23  Gravity  0.074948  15157.096759  0.000005    0.002579       293   \n",
       "28  Gravity  0.076319  12824.111324  0.000006    0.002629       293   \n",
       "33      SFD  0.041948   7737.642373  0.000005    0.002541       293   \n",
       "37      SFD  0.043274  13054.252153  0.000003    0.002504       293   \n",
       "42      SFD  0.040504   8128.565845  0.000005    0.002578       294   \n",
       "47      SFD  0.042188  10596.830367  0.000004    0.002587       294   \n",
       "50      SFD  0.042573  11683.758867  0.000004    0.002618       294   \n",
       "53      SFD  0.043933  10140.372724  0.000004    0.002622       294   \n",
       "\n",
       "                                                 file        CA  \n",
       "3   C:\\Users\\Luke\\Desktop\\Brae\\10-15-2020\\mixture_...  0.001446  \n",
       "8   C:\\Users\\Luke\\Desktop\\Brae\\10-15-2020\\mixture_...  0.001524  \n",
       "12  C:\\Users\\Luke\\Desktop\\Brae\\10-15-2020\\mixture_...  0.001526  \n",
       "17  C:\\Users\\Luke\\Desktop\\Brae\\10-15-2020\\mixture_...  0.001576  \n",
       "23  C:\\Users\\Luke\\Desktop\\Brae\\10-15-2020\\mixture_...  0.001590  \n",
       "28  C:\\Users\\Luke\\Desktop\\Brae\\10-15-2020\\mixture_...  0.001599  \n",
       "33  C:\\Users\\Luke\\Desktop\\Brae\\10-15-2020\\mixture_...  0.001255  \n",
       "37  C:\\Users\\Luke\\Desktop\\Brae\\10-15-2020\\mixture_...  0.001273  \n",
       "42  C:\\Users\\Luke\\Desktop\\Brae\\10-15-2020\\mixture_...  0.001248  \n",
       "47  C:\\Users\\Luke\\Desktop\\Brae\\10-15-2020\\mixture_...  0.001237  \n",
       "50  C:\\Users\\Luke\\Desktop\\Brae\\10-15-2020\\mixture_...  0.001255  \n",
       "53  C:\\Users\\Luke\\Desktop\\Brae\\10-15-2020\\mixture_...  0.001269  "
      ]
     },
     "execution_count": 42,
     "metadata": {},
     "output_type": "execute_result"
    }
   ],
   "source": [
    "df2 = pd.DataFrame(data)\n",
    "fluor_peak = df2[df2['location'].between(250, 350, inclusive=False)]\n",
    "fluor_peak = fluor_peak[fluor_peak['SNR']>1000]\n",
    "fluor_peak"
   ]
  },
  {
   "cell_type": "code",
   "execution_count": 52,
   "metadata": {},
   "outputs": [
    {
     "name": "stdout",
     "output_type": "stream",
     "text": [
      "Grav Mean: 1.543e-03 +/- 5.738e-05 \n",
      "SFD Mean: 1.256e-03 +/- 1.354e-05\n",
      "spontaneous fluid dispacement volume: 2.186e-10\n",
      "Mass LOD: 6.413e-21\n"
     ]
    }
   ],
   "source": [
    "grav = fluor_peak[fluor_peak['label']=='Gravity']\n",
    "sfd = fluor_peak[fluor_peak['label']=='SFD']\n",
    "g_u = grav['CA'].mean()\n",
    "g_e = grav['CA'].std()\n",
    "s_u = sfd['CA'].mean()\n",
    "s_e = sfd['CA'].std()\n",
    "\n",
    "g_v = 50e-12\n",
    "s_v = g_v/((g_u-s_u)/s_u) \n",
    "print(f'Grav Mean: {g_u:.3e} +/- {g_e:.3e} \\nSFD Mean: {s_u:.3e} +/- {s_e:.3e}')\n",
    "print(f'spontaneous fluid dispacement volume: {s_v:.3e}')\n",
    "\n",
    "s_snr = sfd['SNR'].mean()\n",
    "s_noise = sfd['noise'].mean()\n",
    "factor = s_snr/3\n",
    "moles = s_v * 100e-9 \n",
    "moles_lod = moles/factor\n",
    "\n",
    "print(f'Mass LOD: {moles_lod:.3e}')"
   ]
  },
  {
   "cell_type": "code",
   "execution_count": 49,
   "metadata": {},
   "outputs": [
    {
     "data": {
      "text/plain": [
       "3407.856796071155"
      ]
     },
     "execution_count": 49,
     "metadata": {},
     "output_type": "execute_result"
    }
   ],
   "source": [
    "s_snr/3"
   ]
  },
  {
   "cell_type": "code",
   "execution_count": 57,
   "metadata": {
    "scrolled": true
   },
   "outputs": [
    {
     "data": {
      "text/plain": [
       "<matplotlib.collections.PathCollection at 0x1e55ad480c8>"
      ]
     },
     "execution_count": 57,
     "metadata": {},
     "output_type": "execute_result"
    },
    {
     "data": {
      "image/png": "[encoded data removed]",
      "text/plain": [
       "<Figure size 432x288 with 1 Axes>"
      ]
     },
     "metadata": {
      "needs_background": "light"
     },
     "output_type": "display_data"
    }
   ],
   "source": [
    "plt.scatter(fluor_peak['label'], fluor_peak['SNR'])"
   ]
  },
  {
   "cell_type": "code",
   "execution_count": 215,
   "metadata": {},
   "outputs": [
    {
     "data": {
      "text/plain": [
       "<AxesSubplot:xlabel='label', ylabel='SNR'>"
      ]
     },
     "execution_count": 215,
     "metadata": {},
     "output_type": "execute_result"
    },
    {
     "data": {
      "image/png": "[encoded data removed]",
      "text/plain": [
       "<Figure size 432x288 with 1 Axes>"
      ]
     },
     "metadata": {
      "needs_background": "light"
     },
     "output_type": "display_data"
    }
   ],
   "source": [
    "sns.lineplot(x='label', y='SNR', data = fluor_peak )"
   ]
  },
  {
   "cell_type": "code",
   "execution_count": 211,
   "metadata": {},
   "outputs": [
    {
     "data": {
      "image/png": "[encoded data removed]",
      "text/plain": [
       "<Figure size 432x288 with 1 Axes>"
      ]
     },
     "metadata": {
      "needs_background": "light"
     },
     "output_type": "display_data"
    }
   ],
   "source": [
    "sns.lineplot(x='label', y='normal_max', data=fluor_peak )\n",
    "sns.lineplot(x='label', y='normal_noise', data=fluor_peak)\n",
    "pass"
   ]
  },
  {
   "cell_type": "code",
   "execution_count": 224,
   "metadata": {},
   "outputs": [
    {
     "data": {
      "text/plain": [
       "[<matplotlib.lines.Line2D at 0x1e944055048>]"
      ]
     },
     "execution_count": 224,
     "metadata": {},
     "output_type": "execute_result"
    },
    {
     "data": {
      "image/png": "[encoded data removed]",
      "text/plain": [
       "<Figure size 432x288 with 1 Axes>"
      ]
     },
     "metadata": {
      "needs_background": "light"
     },
     "output_type": "display_data"
    }
   ],
   "source": [
    "plt.plot(df['rfu'].values[0:800])"
   ]
  },
  {
   "cell_type": "code",
   "execution_count": 71,
   "metadata": {},
   "outputs": [
    {
     "data": {
      "text/plain": [
       "4"
      ]
     },
     "execution_count": 71,
     "metadata": {},
     "output_type": "execute_result"
    }
   ],
   "source": [
    "len(peaks)"
   ]
  },
  {
   "cell_type": "code",
   "execution_count": 114,
   "metadata": {},
   "outputs": [],
   "source": [
    "df2 = pd.DataFrame(data)"
   ]
  },
  {
   "cell_type": "code",
   "execution_count": 81,
   "metadata": {},
   "outputs": [
    {
     "data": {
      "text/html": [
       "<div>\n",
       "<style scoped>\n",
       "    .dataframe tbody tr th:only-of-type {\n",
       "        vertical-align: middle;\n",
       "    }\n",
       "\n",
       "    .dataframe tbody tr th {\n",
       "        vertical-align: top;\n",
       "    }\n",
       "\n",
       "    .dataframe thead th {\n",
       "        text-align: right;\n",
       "    }\n",
       "</style>\n",
       "<table border=\"1\" class=\"dataframe\">\n",
       "  <thead>\n",
       "    <tr style=\"text-align: right;\">\n",
       "      <th></th>\n",
       "      <th>label</th>\n",
       "      <th>max</th>\n",
       "      <th>SNR</th>\n",
       "      <th>noise</th>\n",
       "      <th>background</th>\n",
       "      <th>location</th>\n",
       "    </tr>\n",
       "  </thead>\n",
       "  <tbody>\n",
       "    <tr>\n",
       "      <th>0</th>\n",
       "      <td>Gravity</td>\n",
       "      <td>0.000155</td>\n",
       "      <td>26.896275</td>\n",
       "      <td>0.000006</td>\n",
       "      <td>0.000006</td>\n",
       "      <td>167</td>\n",
       "    </tr>\n",
       "    <tr>\n",
       "      <th>1</th>\n",
       "      <td>Gravity</td>\n",
       "      <td>0.000473</td>\n",
       "      <td>82.367854</td>\n",
       "      <td>0.000006</td>\n",
       "      <td>0.000006</td>\n",
       "      <td>187</td>\n",
       "    </tr>\n",
       "    <tr>\n",
       "      <th>2</th>\n",
       "      <td>Gravity</td>\n",
       "      <td>0.001886</td>\n",
       "      <td>328.210883</td>\n",
       "      <td>0.000006</td>\n",
       "      <td>0.000006</td>\n",
       "      <td>201</td>\n",
       "    </tr>\n",
       "    <tr>\n",
       "      <th>3</th>\n",
       "      <td>Gravity</td>\n",
       "      <td>0.005778</td>\n",
       "      <td>1005.377653</td>\n",
       "      <td>0.000006</td>\n",
       "      <td>0.000006</td>\n",
       "      <td>216</td>\n",
       "    </tr>\n",
       "    <tr>\n",
       "      <th>4</th>\n",
       "      <td>Gravity</td>\n",
       "      <td>0.000974</td>\n",
       "      <td>169.489183</td>\n",
       "      <td>0.000006</td>\n",
       "      <td>0.000006</td>\n",
       "      <td>283</td>\n",
       "    </tr>\n",
       "  </tbody>\n",
       "</table>\n",
       "</div>"
      ],
      "text/plain": [
       "     label       max          SNR     noise  background  location\n",
       "0  Gravity  0.000155    26.896275  0.000006    0.000006       167\n",
       "1  Gravity  0.000473    82.367854  0.000006    0.000006       187\n",
       "2  Gravity  0.001886   328.210883  0.000006    0.000006       201\n",
       "3  Gravity  0.005778  1005.377653  0.000006    0.000006       216\n",
       "4  Gravity  0.000974   169.489183  0.000006    0.000006       283"
      ]
     },
     "execution_count": 81,
     "metadata": {},
     "output_type": "execute_result"
    }
   ],
   "source": [
    "df2.head()"
   ]
  },
  {
   "cell_type": "code",
   "execution_count": 17,
   "metadata": {},
   "outputs": [
    {
     "data": {
      "image/png": "[encoded data removed]",
      "text/plain": [
       "<Figure size 432x288 with 1 Axes>"
      ]
     },
     "metadata": {
      "needs_background": "light"
     },
     "output_type": "display_data"
    }
   ],
   "source": [
    "plt.hist(df2['location'], bins=400)\n",
    "pass"
   ]
  },
  {
   "cell_type": "code",
   "execution_count": 107,
   "metadata": {},
   "outputs": [
    {
     "data": {
      "text/plain": [
       "100.0"
      ]
     },
     "execution_count": 107,
     "metadata": {},
     "output_type": "execute_result"
    }
   ],
   "source": [
    "800/8"
   ]
  },
  {
   "cell_type": "code",
   "execution_count": null,
   "metadata": {},
   "outputs": [],
   "source": []
  }
 ],
 "metadata": {
  "kernelspec": {
   "display_name": "Python 3",
   "language": "python",
   "name": "python3"
  },
  "language_info": {
   "codemirror_mode": {
    "name": "ipython",
    "version": 3
   },
   "file_extension": ".py",
   "mimetype": "text/x-python",
   "name": "python",
   "nbconvert_exporter": "python",
   "pygments_lexer": "ipython3",
   "version": "3.7.9"
  }
 },
 "nbformat": 4,
 "nbformat_minor": 4
}
