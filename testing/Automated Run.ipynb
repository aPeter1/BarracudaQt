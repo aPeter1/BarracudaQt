{
 "cells": [
  {
   "cell_type": "code",
   "execution_count": 1,
   "metadata": {},
   "outputs": [
    {
     "name": "stdout",
     "output_type": "stream",
     "text": [
      "new directory is: C:\\Users\\NikonTE300CE\\Desktop\\Barracuda\\AutomatedCE\n"
     ]
    },
    {
     "name": "stderr",
     "output_type": "stream",
     "text": [
      "WARNING:root:python2path is not a var in system_config.txt\n"
     ]
    },
    {
     "name": "stdout",
     "output_type": "stream",
     "text": [
      "C:\\Users\\NikonTE300CE\\Desktop\\Barracuda\\AutomatedCE\\L1\\MicroControlServer.py\n"
     ]
    }
   ],
   "source": [
    "import sys\n",
    "import os\n",
    "import numpy as np\n",
    "import time\n",
    "from imp import reload\n",
    "\n",
    "# Set the working directory to the AutomatedCE folder so we have access to L1-L4 modules\n",
    "resp = os.getcwd()\n",
    "if 'testing' in resp[-7:]:\n",
    "    os.chdir(os.path.abspath(os.path.join(os.getcwd(), '..')))\n",
    "    print(f\"new directory is: {os.getcwd()}\")\n",
    "import testing.inputs  \n",
    "reload(testing.inputs)\n",
    "from testing.inputs import *\n",
    "from L4 import DisplayWindows"
   ]
  },
  {
   "cell_type": "markdown",
   "metadata": {},
   "source": [
    "## Step 1. Load the CE System with a Config File\n",
    "\n",
    "Select one of the predesigned configurations (TE300, Eclipse Ti, Simulation). See an example config under \"/config/test-system.cfg\". \n",
    "\n",
    "Change the variable CONFIG_PATH to the absolute path where the config file resides. \n",
    "\n",
    "Be sure to make the string a raw string by prepending *'r'*. **Example:** r\"C:\\path\\to\\config\\\"*"
   ]
  },
  {
   "cell_type": "code",
   "execution_count": 3,
   "metadata": {},
   "outputs": [
    {
     "name": "stdout",
     "output_type": "stream",
     "text": [
      "{'outlet_pressure': <L2.PressureControl.ArduinoPressure object at 0x00000230BD0BD548>, 'xy_stage': <L2.XYControl.PriorXY object at 0x00000230BDC0EA88>, 'objective': <L2.ZControl.PriorZ object at 0x00000230BD0BD408>, 'outlet_z': <L2.ZControl.ArduinoZ object at 0x00000230BD0BD508>, 'inlet_rgb': <L2.LightControl.RGBArduino object at 0x00000230BD0BD448>, 'inlet_z': <L2.ZControl.KinesisZ object at 0x00000230BD0BD108>, 'high_voltage': <L2.HighVoltageControl.SpellmanPowerSupply object at 0x00000230BD0BD4C8>, 'camera': <L2.CameraControl.PycromanagerControl object at 0x00000230BD0BD808>, 'detector': <L2.DetectorControl.PhotomultiplierDetector object at 0x00000230BD0BD088>}\n"
     ]
    }
   ],
   "source": [
    "CONFIG_PATH = r\"C:\\Users\\NikonTE300CE\\Desktop\\Barracuda\\AutomatedCE\\var\\TE300.cfg\"\n",
    "from L3 import SystemsBuilder\n",
    "reload(SystemsBuilder)\n",
    "\n",
    "ce_system = SystemsBuilder.CESystem()\n",
    "try:\n",
    "    ce_system.load_config(CONFIG_PATH)\n",
    "    ce_system.open_controllers()\n",
    "    ce_system.startup_utilities()\n",
    "except Exception as e:\n",
    "    \n",
    "    print(\"Error Opening CE System\")\n",
    "    print(e)\n",
    "    ce_system.close_controllers()"
   ]
  },
  {
   "cell_type": "markdown",
   "metadata": {},
   "source": [
    "# Step 2. Prepare the Capillary for Electrophoresis\n",
    "\n",
    "We need to prep the capillary for CE. This involves rinsing the capillary surface and removing contaminants as well as re-establsihing a deprotonated silanol layer. We also need to align the capillary with detection objective. \n",
    "\n",
    "### Step 2.1 Rinse the capillary (Repeatable)\n",
    "\n",
    "Rinse the capillary according to your method. A good place to start is 10 min with HCl, 30 min with NaOH, 2 min with water. If this is your first rinse of the day,rinse with an empty vial first to make sure there are no leaks on the outlet side of the apparatus. "
   ]
  },
  {
   "cell_type": "code",
   "execution_count": 16,
   "metadata": {},
   "outputs": [],
   "source": [
    "# Start Rinse\n",
    "ce_system.outlet_pressure.rinse_pressure()"
   ]
  },
  {
   "cell_type": "code",
   "execution_count": 15,
   "metadata": {},
   "outputs": [],
   "source": [
    "# Stop Rinse \n",
    "ce_system.outlet_pressure.release()"
   ]
  },
  {
   "cell_type": "markdown",
   "metadata": {},
   "source": [
    "### Step 2.2 Align the capillary with fluorescein. \n",
    "\n",
    "Place a vial with 125 nM fluorescein in the outlet. Once the pressure is rinsing adjust the capillary position using the two set screws as well as the adjustable objective collar until the signal is maximized for the detector being used. (PMT gain voltage should be set to 250 mV, or the lowest setting with appreciable gain). "
   ]
  },
  {
   "cell_type": "code",
   "execution_count": 17,
   "metadata": {},
   "outputs": [
    {
     "name": "stderr",
     "output_type": "stream",
     "text": [
      "WARNING:root:No data to plot\n"
     ]
    }
   ],
   "source": [
    "# Run the CE View\n",
    "from L4 import DisplayWindows\n",
    "reload(DisplayWindows)\n",
    "%matplotlib qt\n",
    "ce_disp = DisplayWindows.PLTCEDisplay(ce_system)\n",
    "ce_disp.show()\n",
    "ce_system.detector.start()\n",
    "ce_disp.start_live_view()"
   ]
  },
  {
   "cell_type": "code",
   "execution_count": 10,
   "metadata": {},
   "outputs": [
    {
     "name": "stdout",
     "output_type": "stream",
     "text": [
      "Is fluorescein in the outlet and ready to be rinsed with? y\n",
      "Adjust the capillary inlet while maximizing the signal\n"
     ]
    }
   ],
   "source": [
    "resp = get_yes_no(\"Is fluorescein in the outlet and ready to be rinsed with?\")\n",
    "\n",
    "if resp:\n",
    "    ce_system.outlet_pressure.rinse_pressure()\n",
    "    print(\"Adjust the capillary inlet while maximizing the signal\")\n",
    "if not resp:\n",
    "    print(\"Please insert the fluorscein in the outlet, then re-run this cell.\")"
   ]
  },
  {
   "cell_type": "markdown",
   "metadata": {},
   "source": [
    "When finished. Record the maximum signal, along with the detector used, its gain setting (or bias when using SiPM), and the fluorescein concentration in the calibration log (located on the desktop). \n",
    "\n",
    "Run the next cell to stop the pressure rinse. "
   ]
  },
  {
   "cell_type": "code",
   "execution_count": 18,
   "metadata": {},
   "outputs": [],
   "source": [
    "ce_system.outlet_pressure.release()"
   ]
  },
  {
   "cell_type": "markdown",
   "metadata": {},
   "source": [
    "### Step 2.2 Post Fluorescein Rinse\n",
    "\n",
    "Take a vial and add close to 4 mL of H20. Insert it into the outlet and then remove it. This removes any residual Fluorescein from the capillary, electrode, or other surfaces.  \n",
    "\n",
    "Repeat with a second vial, with liquid slightly higher or the same height. \n",
    "\n",
    "Finally switch with separation buffer and rinse for 10 min. "
   ]
  },
  {
   "cell_type": "code",
   "execution_count": 22,
   "metadata": {},
   "outputs": [
    {
     "name": "stdout",
     "output_type": "stream",
     "text": [
      "Have you done the pre-fluorescein rinses? y\n",
      "Is the separation buffer placed in the outlet? y\n",
      "Run the next cell when finished\n"
     ]
    }
   ],
   "source": [
    "resp = get_yes_no(\"Have you done the pre-fluorescein rinses?\")\n",
    "if not resp:\n",
    "    print(\"Please follow instructions in step 2.2\")\n",
    "else:\n",
    "    resp = get_yes_no(\"Is the separation buffer placed in the outlet?\")\n",
    "    if resp:\n",
    "        ce_system.outlet_pressure.rinse_pressure()\n",
    "        print(\"Run the next cell when finished\")\n",
    "    else:\n",
    "        print(\"Please place the separation buffer in the outlet before rinsing.\")"
   ]
  },
  {
   "cell_type": "code",
   "execution_count": 25,
   "metadata": {},
   "outputs": [],
   "source": [
    "ce_system.outlet_pressure.release()"
   ]
  },
  {
   "cell_type": "markdown",
   "metadata": {},
   "source": [
    "# Step 3. Calibrate the Capillary Inlet\n",
    "\n",
    "The method for calibration depends on the z-stage used to raise the capillary inlet. Select the correct route for the hardware employed. "
   ]
  },
  {
   "cell_type": "markdown",
   "metadata": {},
   "source": [
    "## Thorlabs Kinesis Z Stage\n",
    "\n",
    "### Step 3.1 Lower the Capillary (thorlabs)\n",
    "Move the capillary to a safe location where it will not be crushed if the stage lowers too far. Using the controls on the Z-stage itself, lower the capillary till as far as it will go. \n"
   ]
  },
  {
   "cell_type": "code",
   "execution_count": 100,
   "metadata": {},
   "outputs": [
    {
     "name": "stdout",
     "output_type": "stream",
     "text": [
      "Have you lowered the Kinesis Z stage to its lowest position? (y/n):   y\n",
      "Proceed to the next cell.\n"
     ]
    }
   ],
   "source": [
    "resp = get_yes_no(\"Have you lowered the Kinesis Z stage to its lowest position? (y/n):  \")\n",
    "if not resp:\n",
    "    print(\"Please make sure the Kinesis stage is lowered to its lowest position before continuing\")\n",
    "else:\n",
    "    print(\"Proceed to the next cell.\")\n",
    "    "
   ]
  },
  {
   "cell_type": "markdown",
   "metadata": {},
   "source": [
    "### Step 3.2 Home the Capillary (thorlabs)\n",
    "\n",
    "Thorlabs needs to register the home position. In the next cell we will call the go_home command to home the capillary. "
   ]
  },
  {
   "cell_type": "code",
   "execution_count": 101,
   "metadata": {},
   "outputs": [],
   "source": [
    "ce_system.inlet_z.homing()"
   ]
  },
  {
   "cell_type": "markdown",
   "metadata": {},
   "source": [
    "### Step 3.1 (Arduino/Optics-Focus)\n",
    "The optics focus moves the capillary all the way up during the home step. Once this is done, move the capillary to a safe position and lower (with 1-5mm increments) until the capillary is at 0 mm. "
   ]
  },
  {
   "cell_type": "code",
   "execution_count": 12,
   "metadata": {},
   "outputs": [],
   "source": [
    "ce_system.inlet_z.set_rel_z(-5)"
   ]
  },
  {
   "cell_type": "code",
   "execution_count": null,
   "metadata": {},
   "outputs": [],
   "source": [
    "ce_system.inlet_z.set_z(0)"
   ]
  },
  {
   "cell_type": "code",
   "execution_count": null,
   "metadata": {},
   "outputs": [],
   "source": [
    "resp = get_yes_no(\"Have you lowered the Arduino Z stage to 0 mm? (y/n):  \")\n",
    "if not resp:\n",
    "    print(\"Please make sure the Aduino stage is lowered to 1 mm position before continuing\")\n",
    "else:\n",
    "    print(\"Proceed to the step 3.3 \")"
   ]
  },
  {
   "cell_type": "markdown",
   "metadata": {},
   "source": [
    "### Step 3.3 Adjust Capillary Position (all stages)\n",
    "\n",
    "Adjust the capillary position by sliding the detection apparatus up or down the optical support post. The capillary should be level with the bottom of the template for single-cell assays, or the top-of the template for well-based assays. \n",
    "\n",
    "*Aligning to the top of the template is a minor safety feature to prevent the user from sending the capillary to Zero position unexpetedly and crashing the capillary against the bottom of the template. However, capillary needs to be able to reach at least the glass slide of the cell reservoir for single-cell assays*\n"
   ]
  },
  {
   "cell_type": "code",
   "execution_count": 102,
   "metadata": {},
   "outputs": [
    {
     "name": "stdout",
     "output_type": "stream",
     "text": [
      "Have you adjusted the capillary height manually so that it is flush (level) with the top or bottom of the template? (y/n):   y\n",
      "Proceed to the next cell\n"
     ]
    }
   ],
   "source": [
    "resp = get_yes_no(\"Have you adjusted the capillary height manually so that it is flush (level) with the top or bottom of the template? (y/n):  \")\n",
    "if not resp:\n",
    "    print(\"Please make sure the capillary is moved to the correct height with respect to the template before continuing\")\n",
    "else:\n",
    "    print(\"Proceed to the next cell\")"
   ]
  },
  {
   "cell_type": "markdown",
   "metadata": {},
   "source": [
    "### Step 3.4 Raise the capillary to a safe height\n",
    "\n",
    "The next cell will raise the capillary height to a location where it ***should*** be safe for any XY movements. Verify the capillary will not crash at this new height. "
   ]
  },
  {
   "cell_type": "code",
   "execution_count": 103,
   "metadata": {},
   "outputs": [
    {
     "name": "stdout",
     "output_type": "stream",
     "text": [
      "Please enter a safe height to move the stage to:  34\n",
      "Is the capillary at a safe location?:  y\n",
      "Continue to next step\n"
     ]
    }
   ],
   "source": [
    "target_z = get_float(\"Please enter a safe height to move the stage to: \")\n",
    "# Move the capillary up and wait for it to stop\n",
    "ce_system.inlet_z.set_z(target_z)\n",
    "ce_system.inlet_z.wait_for_target(target_z)\n",
    "\n",
    "resp = get_yes_no(\"Is the capillary at a safe location?: \")\n",
    "if resp:\n",
    "    print(\"Continue to next step\")\n",
    "else:\n",
    "    print(\"Please raise the capillary to an appropriate height\")"
   ]
  },
  {
   "cell_type": "markdown",
   "metadata": {},
   "source": [
    "# Step 4. Home the XY Stage\n",
    "\n",
    "This next step provides the calibration for the XY axis for the XY stage and capillary inlet. \n"
   ]
  },
  {
   "cell_type": "markdown",
   "metadata": {},
   "source": [
    "### Step 4.1 (TE300, Prior)\n",
    "\n",
    "The TE300 does not have the encoders wired to tell it where absolute 0,0 is. Thus, we need to tell the microcontroller where 0,0 is for each template. The home position will likely vary as you switch templates and you may need to investigate the template.txt file for the template you plan to use. \n",
    "\n",
    "1. Move the template's home well (0,0) over the objective using the motorized XY stage\n",
    "2. Align the capillary over the well or the objective\n"
   ]
  },
  {
   "cell_type": "code",
   "execution_count": 111,
   "metadata": {},
   "outputs": [
    {
     "name": "stdout",
     "output_type": "stream",
     "text": [
      "Is the capillary aligned with the objective and home well? y\n"
     ]
    },
    {
     "ename": "IndexError",
     "evalue": "list index out of range",
     "output_type": "error",
     "traceback": [
      "\u001b[1;31m---------------------------------------------------------------------------\u001b[0m",
      "\u001b[1;31mIndexError\u001b[0m                                Traceback (most recent call last)",
      "\u001b[1;32m<ipython-input-111-b5c8c7227314>\u001b[0m in \u001b[0;36m<module>\u001b[1;34m\u001b[0m\n\u001b[0;32m      1\u001b[0m \u001b[0mresp\u001b[0m \u001b[1;33m=\u001b[0m \u001b[0mget_yes_no\u001b[0m\u001b[1;33m(\u001b[0m\u001b[1;34m\"Is the capillary aligned with the objective and home well?\"\u001b[0m\u001b[1;33m)\u001b[0m\u001b[1;33m\u001b[0m\u001b[1;33m\u001b[0m\u001b[0m\n\u001b[0;32m      2\u001b[0m \u001b[1;32mif\u001b[0m \u001b[0mresp\u001b[0m\u001b[1;33m:\u001b[0m\u001b[1;33m\u001b[0m\u001b[1;33m\u001b[0m\u001b[0m\n\u001b[1;32m----> 3\u001b[1;33m     \u001b[0mce_system\u001b[0m\u001b[1;33m.\u001b[0m\u001b[0mxy_stage\u001b[0m\u001b[1;33m.\u001b[0m\u001b[0mset_home\u001b[0m\u001b[1;33m(\u001b[0m\u001b[1;33m)\u001b[0m\u001b[1;33m\u001b[0m\u001b[1;33m\u001b[0m\u001b[0m\n\u001b[0m\u001b[0;32m      4\u001b[0m     \u001b[0mprint\u001b[0m\u001b[1;33m(\u001b[0m\u001b[1;34m\"Home set at this position.\"\u001b[0m\u001b[1;33m)\u001b[0m\u001b[1;33m\u001b[0m\u001b[1;33m\u001b[0m\u001b[0m\n\u001b[0;32m      5\u001b[0m     \u001b[0mprint\u001b[0m\u001b[1;33m(\u001b[0m\u001b[1;34m\"Continue to next step\"\u001b[0m\u001b[1;33m)\u001b[0m\u001b[1;33m\u001b[0m\u001b[1;33m\u001b[0m\u001b[0m\n",
      "\u001b[1;32m~\\Desktop\\Barracuda\\AutomatedCE\\L2\\XYControl.py\u001b[0m in \u001b[0;36mset_home\u001b[1;34m(self)\u001b[0m\n\u001b[0;32m    377\u001b[0m         \u001b[1;34m\"\"\" Sets the current position as home position for the stage \"\"\"\u001b[0m\u001b[1;33m\u001b[0m\u001b[1;33m\u001b[0m\u001b[0m\n\u001b[0;32m    378\u001b[0m         \u001b[0mself\u001b[0m\u001b[1;33m.\u001b[0m\u001b[0mcontroller\u001b[0m\u001b[1;33m.\u001b[0m\u001b[0msend_command\u001b[0m\u001b[1;33m(\u001b[0m\u001b[1;34m\"Z \\r\"\u001b[0m\u001b[1;33m)\u001b[0m\u001b[1;33m\u001b[0m\u001b[1;33m\u001b[0m\u001b[0m\n\u001b[1;32m--> 379\u001b[1;33m         \u001b[0mself\u001b[0m\u001b[1;33m.\u001b[0m\u001b[0mread_xy\u001b[0m\u001b[1;33m(\u001b[0m\u001b[1;33m)\u001b[0m\u001b[1;33m\u001b[0m\u001b[1;33m\u001b[0m\u001b[0m\n\u001b[0m\u001b[0;32m    380\u001b[0m \u001b[1;33m\u001b[0m\u001b[0m\n\u001b[0;32m    381\u001b[0m     \u001b[1;32mdef\u001b[0m \u001b[0mgo_home\u001b[0m\u001b[1;33m(\u001b[0m\u001b[0mself\u001b[0m\u001b[1;33m)\u001b[0m\u001b[1;33m:\u001b[0m\u001b[1;33m\u001b[0m\u001b[1;33m\u001b[0m\u001b[0m\n",
      "\u001b[1;32m~\\Desktop\\Barracuda\\AutomatedCE\\L2\\XYControl.py\u001b[0m in \u001b[0;36mread_xy\u001b[1;34m(self)\u001b[0m\n\u001b[0;32m    360\u001b[0m             \u001b[0mresponse\u001b[0m \u001b[1;33m=\u001b[0m \u001b[0mself\u001b[0m\u001b[1;33m.\u001b[0m\u001b[0mcontroller\u001b[0m\u001b[1;33m.\u001b[0m\u001b[0msend_command\u001b[0m\u001b[1;33m(\u001b[0m\u001b[1;34m\"\\r\"\u001b[0m\u001b[1;33m)\u001b[0m\u001b[1;33m.\u001b[0m\u001b[0msplit\u001b[0m\u001b[1;33m(\u001b[0m\u001b[1;34m','\u001b[0m\u001b[1;33m)\u001b[0m\u001b[1;33m\u001b[0m\u001b[1;33m\u001b[0m\u001b[0m\n\u001b[0;32m    361\u001b[0m         \u001b[0mxy\u001b[0m \u001b[1;33m=\u001b[0m \u001b[1;33m[\u001b[0m\u001b[0meval\u001b[0m\u001b[1;33m(\u001b[0m\u001b[0mx\u001b[0m\u001b[1;33m)\u001b[0m \u001b[1;32mfor\u001b[0m \u001b[0mx\u001b[0m \u001b[1;32min\u001b[0m \u001b[0mresponse\u001b[0m\u001b[1;33m[\u001b[0m\u001b[1;36m0\u001b[0m\u001b[1;33m:\u001b[0m\u001b[1;36m2\u001b[0m\u001b[1;33m]\u001b[0m\u001b[1;33m]\u001b[0m\u001b[1;33m\u001b[0m\u001b[1;33m\u001b[0m\u001b[0m\n\u001b[1;32m--> 362\u001b[1;33m         \u001b[0mxy\u001b[0m \u001b[1;33m=\u001b[0m \u001b[0mself\u001b[0m\u001b[1;33m.\u001b[0m\u001b[0m_scale_values\u001b[0m\u001b[1;33m(\u001b[0m\u001b[0mxy\u001b[0m\u001b[1;33m)\u001b[0m\u001b[1;33m\u001b[0m\u001b[1;33m\u001b[0m\u001b[0m\n\u001b[0m\u001b[0;32m    363\u001b[0m         \u001b[0mself\u001b[0m\u001b[1;33m.\u001b[0m\u001b[0mpos\u001b[0m \u001b[1;33m=\u001b[0m \u001b[0mxy\u001b[0m\u001b[1;33m\u001b[0m\u001b[1;33m\u001b[0m\u001b[0m\n\u001b[0;32m    364\u001b[0m         \u001b[1;32mreturn\u001b[0m \u001b[0mxy\u001b[0m\u001b[1;33m\u001b[0m\u001b[1;33m\u001b[0m\u001b[0m\n",
      "\u001b[1;32m~\\Desktop\\Barracuda\\AutomatedCE\\L2\\XYControl.py\u001b[0m in \u001b[0;36m_scale_values\u001b[1;34m(self, xy)\u001b[0m\n\u001b[0;32m     41\u001b[0m         \u001b[0mxy\u001b[0m \u001b[1;33m=\u001b[0m \u001b[1;33m[\u001b[0m\u001b[0mx\u001b[0m \u001b[1;33m/\u001b[0m \u001b[0mself\u001b[0m\u001b[1;33m.\u001b[0m\u001b[0m_scale\u001b[0m \u001b[1;32mfor\u001b[0m \u001b[0mx\u001b[0m \u001b[1;32min\u001b[0m \u001b[0mxy\u001b[0m\u001b[1;33m]\u001b[0m\u001b[1;33m\u001b[0m\u001b[1;33m\u001b[0m\u001b[0m\n\u001b[0;32m     42\u001b[0m         \u001b[0mxy\u001b[0m\u001b[1;33m[\u001b[0m\u001b[1;36m0\u001b[0m\u001b[1;33m]\u001b[0m \u001b[1;33m*=\u001b[0m \u001b[0mself\u001b[0m\u001b[1;33m.\u001b[0m\u001b[0m_x_inversion\u001b[0m\u001b[1;33m\u001b[0m\u001b[1;33m\u001b[0m\u001b[0m\n\u001b[1;32m---> 43\u001b[1;33m         \u001b[0mxy\u001b[0m\u001b[1;33m[\u001b[0m\u001b[1;36m1\u001b[0m\u001b[1;33m]\u001b[0m \u001b[1;33m*=\u001b[0m \u001b[0mself\u001b[0m\u001b[1;33m.\u001b[0m\u001b[0m_y_inversion\u001b[0m\u001b[1;33m\u001b[0m\u001b[1;33m\u001b[0m\u001b[0m\n\u001b[0m\u001b[0;32m     44\u001b[0m         \u001b[1;32mreturn\u001b[0m \u001b[0mxy\u001b[0m\u001b[1;33m\u001b[0m\u001b[1;33m\u001b[0m\u001b[0m\n\u001b[0;32m     45\u001b[0m \u001b[1;33m\u001b[0m\u001b[0m\n",
      "\u001b[1;31mIndexError\u001b[0m: list index out of range"
     ]
    }
   ],
   "source": [
    "resp = get_yes_no(\"Is the capillary aligned with the objective and home well?\")\n",
    "if resp:\n",
    "    ce_system.xy_stage.set_home()\n",
    "    print(\"Home set at this position.\")\n",
    "    print(\"Continue to next step\")\n",
    "else:\n",
    "    print(\"Please raise align the capillary with the objective\")   \n"
   ]
  },
  {
   "cell_type": "code",
   "execution_count": 119,
   "metadata": {},
   "outputs": [],
   "source": [
    "f1 = ce_system.xy_stage.controller.send_command(\"Z \\r\")\n",
    "f2 = ce_system.xy_stage.controller.send_command(\"\\r\")\n"
   ]
  },
  {
   "cell_type": "code",
   "execution_count": 130,
   "metadata": {},
   "outputs": [
    {
     "data": {
      "text/plain": [
       "'0'"
      ]
     },
     "execution_count": 130,
     "metadata": {},
     "output_type": "execute_result"
    }
   ],
   "source": [
    "f2 = ce_system.xy_stage.controller.send_command(\"Z \\r\")\n",
    "f2"
   ]
  },
  {
   "cell_type": "code",
   "execution_count": null,
   "metadata": {},
   "outputs": [],
   "source": [
    "response = self.controller.send_command(\"\\r\").split(',')\n"
   ]
  },
  {
   "cell_type": "markdown",
   "metadata": {},
   "source": [
    "### Step 4.1 (Nikon Eclipse)\n",
    "\n",
    "The nikon eclipse has a home position defined to the center of the template. It is best to use this as the home position. For the capillary alignment, align the capillary concentrically with the objective. The capillary should be within 0.5 mm of the center of the objective if using PCR tubes at any point. "
   ]
  },
  {
   "cell_type": "code",
   "execution_count": 31,
   "metadata": {},
   "outputs": [
    {
     "name": "stdout",
     "output_type": "stream",
     "text": [
      "Is the capillary aligned with the objective? y\n",
      "Continue to next step\n"
     ]
    }
   ],
   "source": [
    "resp = get_yes_no(\"Is the capillary aligned with the objective?\")\n",
    "if resp:\n",
    "    print(\"Continue to next step\")\n",
    "else:\n",
    "    print(\"Please raise align the capillary with the objective\")"
   ]
  },
  {
   "cell_type": "markdown",
   "metadata": {},
   "source": [
    "# Step 5 Verify your calibration\n",
    "\n",
    "Steps 3-4 calibrate the capillaries position with the microscope's position. Now we need to verify that our alignment is correct. To do this we will move the capillary to a well and make sure that it is centered over the well. Then we will lower the capillary to a height specified by the method to make sure the capillary can reach the liquid. \n"
   ]
  },
  {
   "cell_type": "markdown",
   "metadata": {},
   "source": [
    "### Step 5.1. Load the Template File\n",
    "\n",
    "The template file tells the program where to move the XY stage for each well as well as how high to raise the capillary inlet during a move. Change the variable TEMPLATE_PATH to the absolute path where the template.txt file resides. "
   ]
  },
  {
   "cell_type": "code",
   "execution_count": 36,
   "metadata": {},
   "outputs": [],
   "source": [
    "TEMPLATE_PATH = r\"C:\\Users\\NikonTE300CE\\Desktop\\Barracuda\\AutomatedCE\\var\\80WellTemplate.txt\"\n",
    "from L4 import AutomatedControl\n",
    "from L4 import Trajectory\n",
    "reload(AutomatedControl)\n",
    "reload(Trajectory)\n",
    "\n",
    "\n",
    "auto_program = AutomatedControl.AutoRun(ce_system)\n",
    "auto_program.set_template(TEMPLATE_PATH)"
   ]
  },
  {
   "cell_type": "markdown",
   "metadata": {},
   "source": [
    "### Step 5.2 Raise the capillary to a safe height "
   ]
  },
  {
   "cell_type": "code",
   "execution_count": 23,
   "metadata": {},
   "outputs": [
    {
     "name": "stdout",
     "output_type": "stream",
     "text": [
      "Set the capillary to a safe travel height:  25\n",
      "Proceed to next cell\n"
     ]
    }
   ],
   "source": [
    "z = get_float(\"Set the capillary to a safe travel height: \")\n",
    "ce_system.inlet_z.set_z(z)\n",
    "print(\"Proceed to next cell\")"
   ]
  },
  {
   "cell_type": "markdown",
   "metadata": {},
   "source": [
    "### Step 5.2 Center the Capillary over a well"
   ]
  },
  {
   "cell_type": "code",
   "execution_count": 27,
   "metadata": {},
   "outputs": [
    {
     "name": "stdout",
     "output_type": "stream",
     "text": [
      "Please enter the well name to move to (press enter to see a list): w_a0\n",
      "Please move the capillary using the fine adjustment knobs, or the z-stage base so that capillary is centered over this well.\n"
     ]
    }
   ],
   "source": [
    "name = get_value(\"Please enter the well name to move to (press enter to see a list): \", auto_program.template.wells.keys())\n",
    "well = auto_program.template.wells[name]\n",
    "ce_system.xy_stage.set_xy(well.xy)\n",
    "resp = input(\"Please move the capillary using the fine adjustment knobs, or the z-stage base so that capillary is centered over this well.\")\n"
   ]
  },
  {
   "cell_type": "code",
   "execution_count": 28,
   "metadata": {},
   "outputs": [
    {
     "data": {
      "text/plain": [
       "'R:Off, G:Off, B:Off'"
      ]
     },
     "execution_count": 28,
     "metadata": {},
     "output_type": "execute_result"
    }
   ],
   "source": [
    "ce_system.inlet_rgb.turn_off_channel('R')"
   ]
  },
  {
   "cell_type": "code",
   "execution_count": 29,
   "metadata": {},
   "outputs": [
    {
     "data": {
      "text/plain": [
       "'R:Off, G:Off, B:On'"
      ]
     },
     "execution_count": 29,
     "metadata": {},
     "output_type": "execute_result"
    }
   ],
   "source": [
    "ce_system.inlet_rgb.turn_on_channel('B')"
   ]
  },
  {
   "cell_type": "markdown",
   "metadata": {},
   "source": [
    "### Step 5.3 Lower the capillary to the height described in the method file\n"
   ]
  },
  {
   "cell_type": "code",
   "execution_count": 30,
   "metadata": {},
   "outputs": [
    {
     "name": "stdout",
     "output_type": "stream",
     "text": [
      "What height should the capillary be lowered to? 5\n",
      "Is the capillary touching the liquid in this well?  y\n",
      "Calibration Finished\n"
     ]
    }
   ],
   "source": [
    "height_z = get_float(\"What height should the capillary be lowered to?\")\n",
    "prev_height = ce_system.inlet_z.read_z()\n",
    "ce_system.inlet_z.set_z(height_z)\n",
    "resp = get_yes_no(\"Is the capillary touching the liquid in this well? \")\n",
    "if not resp:\n",
    "    print(\"Adjust the height of the capillary manually (and carefully!) so that the capillary is touching the liquid\")\n",
    "else:\n",
    "    print(\"Calibration Finished\")\n",
    "ce_system.inlet_z.set_z(prev_height)"
   ]
  },
  {
   "cell_type": "markdown",
   "metadata": {},
   "source": [
    "Optional> \n",
    "Read out the height you are currently at..."
   ]
  },
  {
   "cell_type": "code",
   "execution_count": 24,
   "metadata": {},
   "outputs": [
    {
     "name": "stdout",
     "output_type": "stream",
     "text": [
      "You are at 9.277067 mm\n"
     ]
    }
   ],
   "source": [
    "print(\"You are at {} mm\".format(ce_system.inlet_z.read_z()))\n"
   ]
  },
  {
   "cell_type": "code",
   "execution_count": 13,
   "metadata": {},
   "outputs": [
    {
     "name": "stdout",
     "output_type": "stream",
     "text": [
      "Would you like to lower the capillary? y\n",
      "What would you like to lower it to? 25\n"
     ]
    }
   ],
   "source": [
    "resp = get_yes_no(\"Would you like to lower the capillary?\")\n",
    "if resp:\n",
    "    resp = get_float(\"What would you like to lower it to?\")\n",
    "    ce_system.inlet_z.set_z(resp)\n",
    "else:\n",
    "    pass"
   ]
  },
  {
   "cell_type": "markdown",
   "metadata": {},
   "source": [
    "# Step 6. Load a method\n",
    "\n",
    "Load a method file. Verify your method file in excel and make sure the run is set up as intended. You can add multiple files to the same auto_program\n"
   ]
  },
  {
   "cell_type": "code",
   "execution_count": 95,
   "metadata": {},
   "outputs": [],
   "source": [
    "auto_program.methods=[]"
   ]
  },
  {
   "cell_type": "code",
   "execution_count": 96,
   "metadata": {
    "scrolled": true
   },
   "outputs": [],
   "source": [
    "file_to_add = r\"C:\\Users\\NikonTE300CE\\Desktop\\Barracuda\\AutomatedCE\\var\\CollectionDNA.txt\"\n",
    "auto_program.add_method(file_to_add)"
   ]
  },
  {
   "cell_type": "code",
   "execution_count": 97,
   "metadata": {},
   "outputs": [],
   "source": [
    "auto_program.repetitions=6"
   ]
  },
  {
   "cell_type": "markdown",
   "metadata": {},
   "source": [
    "If you need to reset the methods (remove and start over) run the next cell"
   ]
  },
  {
   "cell_type": "markdown",
   "metadata": {},
   "source": [
    "### Step 6.2  Run your method (repeatable)\n",
    "\n",
    "When you are ready to start your method, run the next cell. "
   ]
  },
  {
   "cell_type": "code",
   "execution_count": 98,
   "metadata": {
    "scrolled": true
   },
   "outputs": [],
   "source": [
    "%matplotlib qt\n",
    "\n",
    "ce_gram = DisplayWindows.PLTCEDisplay(ce_system)\n",
    "#ce_disp.stop()\n",
    "#ce_disp.show()\n",
    "ce_gram.start_live_view()\n"
   ]
  },
  {
   "cell_type": "code",
   "execution_count": 99,
   "metadata": {},
   "outputs": [
    {
     "name": "stderr",
     "output_type": "stream",
     "text": [
      "C:\\Users\\NikonTE300CE\\Desktop\\Barracuda\\AutomatedCE\\L4\\DisplayWindows.py:270: UserWarning: Attempting to set identical left == right == 0.0 results in singular transformations; automatically expanding.\n",
      "  ax1.set_xlim(min(data['time_data']), max(data['time_data']))\n",
      "WARNING:root:No data to plot\n",
      "ERROR:root:Nidaq did not read samples correctly\n",
      "WARNING:root:No data to plot\n",
      "WARNING:root:No data to plot\n",
      "WARNING:root:No data to plot\n",
      "WARNING:root:No data to plot\n",
      "WARNING:root:No data to plot\n",
      "WARNING:root:No data to plot\n",
      "WARNING:root:No data to plot\n"
     ]
    }
   ],
   "source": [
    "auto_program.start_run()"
   ]
  },
  {
   "cell_type": "code",
   "execution_count": 82,
   "metadata": {},
   "outputs": [
    {
     "name": "stderr",
     "output_type": "stream",
     "text": [
      "ERROR:root:ERR: <class 'L2.LaserControl.LaserAbstraction'> did not stop. \n",
      " type object 'LaserAbstraction' has no attribute 'stop'\n"
     ]
    }
   ],
   "source": [
    "auto_program.stop_run()"
   ]
  },
  {
   "cell_type": "code",
   "execution_count": 94,
   "metadata": {},
   "outputs": [
    {
     "data": {
      "text/plain": [
       "False"
      ]
     },
     "execution_count": 94,
     "metadata": {},
     "output_type": "execute_result"
    }
   ],
   "source": [
    "auto_program.traced_thread.is_alive()"
   ]
  },
  {
   "cell_type": "code",
   "execution_count": 92,
   "metadata": {},
   "outputs": [],
   "source": [
    "while not auto_program._queue.empty():\n",
    "    auto_program._queue.get()"
   ]
  },
  {
   "cell_type": "code",
   "execution_count": 91,
   "metadata": {},
   "outputs": [
    {
     "data": {
      "text/plain": [
       "1.0"
      ]
     },
     "execution_count": 91,
     "metadata": {},
     "output_type": "execute_result"
    }
   ],
   "source": [
    "ce_system.inlet_z.read_z()"
   ]
  },
  {
   "cell_type": "markdown",
   "metadata": {},
   "source": [
    "### 6.3 Manual Single Cell Methods\n",
    "\n",
    "For a manual single cell run, the method assumes the user will start the program after the cell as been loaded. The first step of the method should be the first step you want to perform following lysing and loading a cell into the capillary (ie. separation step). The method should end at the well where the cells are plated, or wherever you would like to regain manual control over the instrument. \n",
    "\n",
    "The injection/loading of the cell can be done in two ways. In either case at the start of the next cell are a few parameters for you to specify: **injection time, delay, gravity drop, and voltage level**. \n",
    "1. **Injection time** refers to how long the injection should last and is only applied in methods 6.3a. \n",
    "1. **Delay** is the amount of time to delay the injection steps after running the cell, the word 'Fire' will be printed once the delay is finished.\n",
    "1. **Gravity drop** is how far to lower the outlet in mm from its current position. \n",
    "1. **Voltage level** is the amount of voltage to apply. \n",
    "\n",
    "In the first way the cell is loaded using a preset amount of time. The injection volume will be much more consistent, but if the cell is not loaded, the user will either choose to run a blank (no cell), rinse the capillary to remove the ECB, or start the auto-method. \n",
    "\n",
    "The second way, the loading parameters are held till the user presses the space-bar to continue the run. The injection volume may change run to run, but the user decides when to stop which means a higher likely-hood over loading a cell (at the expense of possible greater de-stacking. \n",
    "\n",
    "\n",
    "\n"
   ]
  },
  {
   "cell_type": "code",
   "execution_count": 7,
   "metadata": {},
   "outputs": [],
   "source": [
    "# General Injection Parameters\n",
    "injection_time = 5 # in seconds\n",
    "gravity_drop = 0 # in millimeters\n",
    "voltage_level = 3 # in kilovolts\n",
    "delay = 1 # inseconds"
   ]
  },
  {
   "cell_type": "code",
   "execution_count": 47,
   "metadata": {},
   "outputs": [],
   "source": [
    "\n",
    "ce_disp = DisplayWindows.PLTMicroscopeDisplay(ce_system)\n",
    "%matplotlib qt\n",
    "ce_system.camera.stop()\n",
    "ce_disp.show()\n",
    "ce_disp.live_image()"
   ]
  },
  {
   "cell_type": "code",
   "execution_count": 182,
   "metadata": {},
   "outputs": [],
   "source": [
    "ce_system.inlet_z.set_z(24)"
   ]
  },
  {
   "cell_type": "code",
   "execution_count": 25,
   "metadata": {},
   "outputs": [],
   "source": [
    "ce_disp.percentiles=2\n",
    "ce_disp.gain =1\n",
    "ce_disp.gamma = 1.02"
   ]
  },
  {
   "cell_type": "code",
   "execution_count": 24,
   "metadata": {},
   "outputs": [],
   "source": [
    "ce_disp.percentiles=1"
   ]
  },
  {
   "cell_type": "code",
   "execution_count": 13,
   "metadata": {},
   "outputs": [
    {
     "data": {
      "text/plain": [
       "True"
      ]
     },
     "execution_count": 13,
     "metadata": {},
     "output_type": "execute_result"
    }
   ],
   "source": [
    "ce_system.camera.set_exposure(5)"
   ]
  },
  {
   "cell_type": "code",
   "execution_count": 238,
   "metadata": {},
   "outputs": [
    {
     "data": {
      "text/plain": [
       "True"
      ]
     },
     "execution_count": 238,
     "metadata": {},
     "output_type": "execute_result"
    }
   ],
   "source": [
    "ce_system.camera.stop()"
   ]
  },
  {
   "cell_type": "code",
   "execution_count": 183,
   "metadata": {},
   "outputs": [],
   "source": [
    "ce_system.outlet_pressure.rinse_pressure()\n"
   ]
  },
  {
   "cell_type": "code",
   "execution_count": 184,
   "metadata": {},
   "outputs": [],
   "source": [
    "ce_system.outlet_pressure.release()"
   ]
  },
  {
   "cell_type": "code",
   "execution_count": null,
   "metadata": {},
   "outputs": [],
   "source": [
    "ce_system.objective."
   ]
  },
  {
   "cell_type": "code",
   "execution_count": 7,
   "metadata": {},
   "outputs": [],
   "source": [
    "# Move the objective to the height and run this cell to record it for next time\n",
    "obj_height = ce_system.objective.read_z()\n",
    "ce_system.objective.max_z=1000000\n",
    "ce_system.objective.set_rel_z(+.05)\n"
   ]
  },
  {
   "cell_type": "code",
   "execution_count": 29,
   "metadata": {},
   "outputs": [],
   "source": [
    "# Lower the capillary \n",
    "ce_system.inlet_z.set_z(5)\n"
   ]
  },
  {
   "cell_type": "code",
   "execution_count": 115,
   "metadata": {},
   "outputs": [
    {
     "data": {
      "text/plain": [
       "-0.0269"
      ]
     },
     "execution_count": 115,
     "metadata": {},
     "output_type": "execute_result"
    }
   ],
   "source": [
    "ce_system.objective.read_z()"
   ]
  },
  {
   "cell_type": "code",
   "execution_count": 114,
   "metadata": {},
   "outputs": [],
   "source": [
    "ce_system.objective._scale = 10000"
   ]
  },
  {
   "cell_type": "code",
   "execution_count": 112,
   "metadata": {},
   "outputs": [],
   "source": [
    "ce_system.objective._offset =0"
   ]
  },
  {
   "cell_type": "code",
   "execution_count": 25,
   "metadata": {},
   "outputs": [],
   "source": [
    "ce_system.inlet_z.set_rel_z(-.01)"
   ]
  },
  {
   "cell_type": "code",
   "execution_count": 26,
   "metadata": {},
   "outputs": [],
   "source": [
    "# and record this height for next time \n",
    "cap_height = ce_system.inlet_z.read_z()"
   ]
  },
  {
   "cell_type": "code",
   "execution_count": 27,
   "metadata": {},
   "outputs": [],
   "source": [
    "cap_difference = obj_height - cap_height"
   ]
  },
  {
   "cell_type": "code",
   "execution_count": 28,
   "metadata": {},
   "outputs": [],
   "source": [
    "def get_cap_height(obj_height, cap_difference):\n",
    "    cap_height = obj_height - cap_difference\n",
    "    return cap_height"
   ]
  },
  {
   "cell_type": "code",
   "execution_count": 86,
   "metadata": {},
   "outputs": [],
   "source": [
    "ce_system.objective.max_z = 100000"
   ]
  },
  {
   "cell_type": "markdown",
   "metadata": {},
   "source": [
    "# Macros\n"
   ]
  },
  {
   "cell_type": "code",
   "execution_count": 49,
   "metadata": {},
   "outputs": [
    {
     "name": "stdout",
     "output_type": "stream",
     "text": [
      "are the cells in focus? (You may crush the capillary if not...) y\n"
     ]
    }
   ],
   "source": [
    "# on reruns, you just need to run this command when you have the cells in focus\n",
    "resp = get_yes_no(\"are the cells in focus? (You may crush the capillary if not...)\")\n",
    "if resp:\n",
    "    obj_height = ce_system.objective.read_z()\n",
    "    cap_z = get_cap_height(obj_height, cap_difference)\n",
    "    ce_system.inlet_z.set_z(cap_z)\n",
    "else:\n",
    "    print(\"Bring cells into focus.\")"
   ]
  },
  {
   "cell_type": "code",
   "execution_count": 103,
   "metadata": {},
   "outputs": [
    {
     "data": {
      "text/plain": [
       "273.1"
      ]
     },
     "execution_count": 103,
     "metadata": {},
     "output_type": "execute_result"
    }
   ],
   "source": [
    "obj_height"
   ]
  },
  {
   "cell_type": "code",
   "execution_count": 35,
   "metadata": {},
   "outputs": [],
   "source": [
    "ce_system.objective.set_rel_z(+0.035)"
   ]
  },
  {
   "cell_type": "code",
   "execution_count": 36,
   "metadata": {},
   "outputs": [],
   "source": [
    "ce_system.inlet_z.set_rel_z(-0.04)"
   ]
  },
  {
   "cell_type": "code",
   "execution_count": 37,
   "metadata": {},
   "outputs": [],
   "source": [
    "# General Injection Parameters\n",
    "injection_time = 5 # in seconds\n",
    "gravity_drop = 0 # in millimeters\n",
    "voltage_level = 10 # in kilovolts\n",
    "delay = 1 # inseconds"
   ]
  },
  {
   "cell_type": "code",
   "execution_count": 38,
   "metadata": {},
   "outputs": [
    {
     "name": "stdout",
     "output_type": "stream",
     "text": [
      "Fire\n",
      "Finished 5.002622365951538\n"
     ]
    }
   ],
   "source": [
    "import threading\n",
    "\n",
    "\n",
    "def limited_fire(ce_system, gravity_drop, voltage_level, injection_time):\n",
    "    time.sleep(delay)\n",
    "    print('Fire')\n",
    "    ce_system.outlet_z.set_rel_z(-gravity_drop)\n",
    "    ce_system.high_voltage.set_voltage(voltage_level)\n",
    "    ce_system.high_voltage.start()\n",
    "    start_time = time.time()\n",
    "    while time.time()-start_time < injection_time:\n",
    "        time.sleep(0.01)\n",
    "    ce_system.high_voltage.stop()\n",
    "    print(f\"Finished {time.time()-start_time}\")\n",
    "    ce_system.outlet_z.set_rel_z(gravity_drop)\n",
    "    \n",
    "\n",
    "threading.Thread(target=limited_fire, args=(ce_system, gravity_drop, voltage_level, injection_time)).start()"
   ]
  },
  {
   "cell_type": "code",
   "execution_count": 39,
   "metadata": {},
   "outputs": [],
   "source": [
    "ce_system.inlet_z.set_z(24)"
   ]
  },
  {
   "cell_type": "code",
   "execution_count": 277,
   "metadata": {},
   "outputs": [],
   "source": [
    "ce_system.outlet_pressure.rinse_pressure()"
   ]
  },
  {
   "cell_type": "code",
   "execution_count": 276,
   "metadata": {},
   "outputs": [],
   "source": [
    "ce_system.outlet_pressure.release()"
   ]
  },
  {
   "cell_type": "code",
   "execution_count": 44,
   "metadata": {},
   "outputs": [],
   "source": [
    "auto_program.start_run()"
   ]
  },
  {
   "cell_type": "code",
   "execution_count": 261,
   "metadata": {},
   "outputs": [
    {
     "name": "stderr",
     "output_type": "stream",
     "text": [
      "WARNING:root:STOP not implemented\n",
      "WARNING:root:STOP not implemented\n",
      "ERROR:root:ERR: <class 'L2.LaserControl.LaserAbstraction'> did not stop. \n",
      " type object 'LaserAbstraction' has no attribute 'stop'\n"
     ]
    }
   ],
   "source": [
    "auto_program.stop_run()"
   ]
  },
  {
   "cell_type": "code",
   "execution_count": 270,
   "metadata": {},
   "outputs": [
    {
     "data": {
      "text/plain": [
       "True"
      ]
     },
     "execution_count": 270,
     "metadata": {},
     "output_type": "execute_result"
    }
   ],
   "source": [
    "auto_program.traced_thread.isAlive()"
   ]
  },
  {
   "cell_type": "code",
   "execution_count": 271,
   "metadata": {},
   "outputs": [
    {
     "data": {
      "text/plain": [
       "True"
      ]
     },
     "execution_count": 271,
     "metadata": {},
     "output_type": "execute_result"
    }
   ],
   "source": [
    "auto_program.traced_thread.killed"
   ]
  },
  {
   "cell_type": "code",
   "execution_count": 37,
   "metadata": {},
   "outputs": [
    {
     "ename": "NameError",
     "evalue": "name 'img' is not defined",
     "output_type": "error",
     "traceback": [
      "\u001b[1;31m---------------------------------------------------------------------------\u001b[0m",
      "\u001b[1;31mNameError\u001b[0m                                 Traceback (most recent call last)",
      "\u001b[1;32m<ipython-input-37-587214695b50>\u001b[0m in \u001b[0;36m<module>\u001b[1;34m\u001b[0m\n\u001b[0;32m      1\u001b[0m \u001b[1;32mimport\u001b[0m \u001b[0mmatplotlib\u001b[0m\u001b[1;33m.\u001b[0m\u001b[0mpyplot\u001b[0m \u001b[1;32mas\u001b[0m \u001b[0mplt\u001b[0m\u001b[1;33m\u001b[0m\u001b[1;33m\u001b[0m\u001b[0m\n\u001b[1;32m----> 2\u001b[1;33m \u001b[0mplt\u001b[0m\u001b[1;33m.\u001b[0m\u001b[0mimshow\u001b[0m\u001b[1;33m(\u001b[0m\u001b[0mimg\u001b[0m\u001b[1;33m,\u001b[0m \u001b[0mcmap\u001b[0m\u001b[1;33m=\u001b[0m\u001b[1;34m'gray'\u001b[0m\u001b[1;33m)\u001b[0m\u001b[1;33m\u001b[0m\u001b[1;33m\u001b[0m\u001b[0m\n\u001b[0m",
      "\u001b[1;31mNameError\u001b[0m: name 'img' is not defined"
     ]
    }
   ],
   "source": [
    "import matplotlib.pyplot as plt \n",
    "plt.imshow(img, cmap='gray')"
   ]
  },
  {
   "cell_type": "code",
   "execution_count": 14,
   "metadata": {},
   "outputs": [],
   "source": [
    "img = ce_system.camera.snap()"
   ]
  },
  {
   "cell_type": "code",
   "execution_count": null,
   "metadata": {},
   "outputs": [],
   "source": [
    "ce_system"
   ]
  },
  {
   "cell_type": "markdown",
   "metadata": {},
   "source": [
    "### 6.3a Injection Time Limited Loading\n",
    "\n",
    "Run the following block when the cell is ready to by lysed and loaded. \n",
    "\n",
    "**For the eclipse system you will have to manually press the fire button after running the cell"
   ]
  },
  {
   "cell_type": "markdown",
   "metadata": {},
   "source": [
    "### 6.3b Unlimited Loading\n",
    "\n",
    "Run the following block when the cell is ready to by lysed and loaded. \n",
    "\n",
    "Run the block after when the loading process is complete. \n",
    "\n",
    "**For the eclipse system you will have to manually press the fire button after running the cell**\n"
   ]
  },
  {
   "cell_type": "code",
   "execution_count": 308,
   "metadata": {},
   "outputs": [
    {
     "name": "stdout",
     "output_type": "stream",
     "text": [
      "Fire\n"
     ]
    }
   ],
   "source": [
    "time.sleep(delay)\n",
    "print('Fire')\n",
    "ce_system.outlet_z.set_rel_z(-gravity_drop)\n",
    "ce_system.high_voltage.set_voltage(voltage_level)\n",
    "ce_system.high_voltage.start()\n",
    "#ce_system.lysis_laser.laser_standby()\n",
    "#ce_system.lysis_laser.laser_fire()\n",
    "start_time = time.time()"
   ]
  },
  {
   "cell_type": "code",
   "execution_count": 310,
   "metadata": {},
   "outputs": [],
   "source": [
    "ce_system.high_voltage.stop()\n",
    "ce_system.outlet_z.set_rel_z(gravity_drop)"
   ]
  },
  {
   "cell_type": "code",
   "execution_count": 128,
   "metadata": {},
   "outputs": [],
   "source": [
    "ce_system.objective.set_rel_z(0.045)"
   ]
  },
  {
   "cell_type": "markdown",
   "metadata": {},
   "source": [
    "# Step 7. End of Day\n",
    "\n",
    "1. Repeat Step 2.1, this time rinse for 5 min with water, then 30 min with air. Run the next cell when you are finished rinsing.\n",
    "2. Turn off all equipment. "
   ]
  },
  {
   "cell_type": "code",
   "execution_count": 17,
   "metadata": {},
   "outputs": [
    {
     "ename": "AttributeError",
     "evalue": "'NoneType' object has no attribute 'shutdown'",
     "output_type": "error",
     "traceback": [
      "\u001b[1;31m---------------------------------------------------------------------------\u001b[0m",
      "\u001b[1;31mAttributeError\u001b[0m                            Traceback (most recent call last)",
      "\u001b[1;32m<ipython-input-17-b68a8e444e1e>\u001b[0m in \u001b[0;36m<module>\u001b[1;34m\u001b[0m\n\u001b[1;32m----> 1\u001b[1;33m \u001b[0mce_system\u001b[0m\u001b[1;33m.\u001b[0m\u001b[0mshutdown_utilities\u001b[0m\u001b[1;33m(\u001b[0m\u001b[1;33m)\u001b[0m\u001b[1;33m\u001b[0m\u001b[1;33m\u001b[0m\u001b[0m\n\u001b[0m",
      "\u001b[1;32m~\\Desktop\\Barracuda\\AutomatedCE\\L3\\SystemsBuilder.py\u001b[0m in \u001b[0;36mshutdown_utilities\u001b[1;34m(self)\u001b[0m\n\u001b[0;32m    426\u001b[0m         \"\"\"\n\u001b[0;32m    427\u001b[0m         \u001b[1;32mfor\u001b[0m \u001b[0m_\u001b[0m\u001b[1;33m,\u001b[0m \u001b[0mutility\u001b[0m \u001b[1;32min\u001b[0m \u001b[0mself\u001b[0m\u001b[1;33m.\u001b[0m\u001b[0mutilities\u001b[0m\u001b[1;33m.\u001b[0m\u001b[0mitems\u001b[0m\u001b[1;33m(\u001b[0m\u001b[1;33m)\u001b[0m\u001b[1;33m:\u001b[0m\u001b[1;33m\u001b[0m\u001b[1;33m\u001b[0m\u001b[0m\n\u001b[1;32m--> 428\u001b[1;33m             \u001b[0mutility\u001b[0m\u001b[1;33m.\u001b[0m\u001b[0mshutdown\u001b[0m\u001b[1;33m(\u001b[0m\u001b[1;33m)\u001b[0m\u001b[1;33m\u001b[0m\u001b[1;33m\u001b[0m\u001b[0m\n\u001b[0m\u001b[0;32m    429\u001b[0m \u001b[1;33m\u001b[0m\u001b[0m\n\u001b[0;32m    430\u001b[0m \u001b[1;33m\u001b[0m\u001b[0m\n",
      "\u001b[1;31mAttributeError\u001b[0m: 'NoneType' object has no attribute 'shutdown'"
     ]
    }
   ],
   "source": [
    "ce_system.shutdown_utilities()"
   ]
  },
  {
   "cell_type": "code",
   "execution_count": null,
   "metadata": {},
   "outputs": [],
   "source": [
    "ce_system.close_controllers()"
   ]
  },
  {
   "cell_type": "code",
   "execution_count": null,
   "metadata": {},
   "outputs": [],
   "source": [
    "ce_system.open_controllers()"
   ]
  },
  {
   "cell_type": "code",
   "execution_count": null,
   "metadata": {},
   "outputs": [],
   "source": [
    "cam_disp = DisplayWindows.PLTMicroscopeDisplay(ce_system)"
   ]
  },
  {
   "cell_type": "markdown",
   "metadata": {},
   "source": [
    "# Appendix A. Adding a Template\n"
   ]
  },
  {
   "cell_type": "code",
   "execution_count": 18,
   "metadata": {},
   "outputs": [],
   "source": [
    "from L4.AutomatedControl import TemplateMaker\n",
    "tm = TemplateMaker()"
   ]
  },
  {
   "cell_type": "code",
   "execution_count": null,
   "metadata": {},
   "outputs": [],
   "source": [
    "Add a well "
   ]
  },
  {
   "cell_type": "code",
   "execution_count": null,
   "metadata": {},
   "outputs": [],
   "source": [
    "cam_disp.show()"
   ]
  },
  {
   "cell_type": "code",
   "execution_count": null,
   "metadata": {},
   "outputs": [],
   "source": [
    "cam_disp.stop_live_image()"
   ]
  },
  {
   "cell_type": "code",
   "execution_count": null,
   "metadata": {},
   "outputs": [],
   "source": [
    "cam_disp.percentiles = 0"
   ]
  },
  {
   "cell_type": "code",
   "execution_count": null,
   "metadata": {},
   "outputs": [],
   "source": [
    "ce_system.camera.set_exposure(45)"
   ]
  },
  {
   "cell_type": "code",
   "execution_count": null,
   "metadata": {},
   "outputs": [],
   "source": [
    "cam_disp.live_image()"
   ]
  },
  {
   "cell_type": "code",
   "execution_count": 278,
   "metadata": {},
   "outputs": [
    {
     "name": "stderr",
     "output_type": "stream",
     "text": [
      "WARNING:root:'NoneType' object has no attribute 'shutdown'\n",
      "WARNING:root:None had error on shutdown\n",
      "WARNING:root:'NoneType' object has no attribute 'shutdown'\n",
      "WARNING:root:None had error on shutdown\n"
     ]
    }
   ],
   "source": [
    "ce_system.shutdown_utilities()"
   ]
  },
  {
   "cell_type": "code",
   "execution_count": 279,
   "metadata": {},
   "outputs": [
    {
     "data": {
      "text/plain": [
       "'R:Off, G:Off, B:Off'"
      ]
     },
     "execution_count": 279,
     "metadata": {},
     "output_type": "execute_result"
    }
   ],
   "source": [
    "ce_system.inlet_rgb.turn_off_channel('R')"
   ]
  },
  {
   "cell_type": "code",
   "execution_count": 282,
   "metadata": {},
   "outputs": [
    {
     "data": {
      "text/plain": [
       "'LB0\\r\\n'"
      ]
     },
     "execution_count": 282,
     "metadata": {},
     "output_type": "execute_result"
    }
   ],
   "source": [
    "ce_system.inlet_rgb.controller.send_command(\"LB0\\n\")"
   ]
  },
  {
   "cell_type": "code",
   "execution_count": 209,
   "metadata": {},
   "outputs": [],
   "source": [
    "data = {'start':[], 'stop':[], 'diff':[], 'xy':[], 'start_img':[], 'stop_img':[]}"
   ]
  },
  {
   "cell_type": "code",
   "execution_count": 269,
   "metadata": {},
   "outputs": [
    {
     "data": {
      "text/plain": [
       "0.03234000048191774"
      ]
     },
     "execution_count": 269,
     "metadata": {},
     "output_type": "execute_result"
    }
   ],
   "source": [
    "start_z = ce_system.objective.read_z()\n",
    "ce_system.objective.set_rel_z(np.mean(data['diff'][-5:]))\n",
    "ce_system.camera.stop()\n",
    "start_img = ce_system.camera.snap()\n",
    "ce_system.camera.continuous_snap()\n",
    "np.mean(data['diff'][-5:])"
   ]
  },
  {
   "cell_type": "code",
   "execution_count": 270,
   "metadata": {},
   "outputs": [
    {
     "name": "stdout",
     "output_type": "stream",
     "text": [
      "Average : 0.03362857192968046\n"
     ]
    }
   ],
   "source": [
    "import numpy as np\n",
    "stop_z = ce_system.objective.read_z()\n",
    "ce_system.camera.stop()\n",
    "stop_img = ce_system.camera.snap()\n",
    "ce_system.camera.continuous_snap()\n",
    "data['start'].append(start_z)\n",
    "data['stop'].append(stop_z)\n",
    "data['diff'].append(stop_z-start_z)\n",
    "data['xy'].append(ce_system.xy_stage.read_xy())\n",
    "data['start_img'].append(start_img)\n",
    "data['stop_img'].append(stop_img)\n",
    "\n",
    "print(f\"Average : {np.mean(data['diff'])}\")\n"
   ]
  },
  {
   "cell_type": "code",
   "execution_count": 230,
   "metadata": {},
   "outputs": [],
   "source": [
    "for key in data:\n",
    "    data[key]=data[key][0:-1]"
   ]
  },
  {
   "cell_type": "code",
   "execution_count": 271,
   "metadata": {},
   "outputs": [
    {
     "name": "stderr",
     "output_type": "stream",
     "text": [
      "C:\\Users\\Luke\\Anaconda3\\envs\\CEpy37\\lib\\site-packages\\skimage\\exposure\\exposure.py:351: RuntimeWarning: invalid value encountered in true_divide\n",
      "  image = (image - imin) / float(imax - imin)\n"
     ]
    }
   ],
   "source": [
    "import pandas as pd\n",
    "df = pd.DataFrame.from_dict(data)"
   ]
  },
  {
   "cell_type": "code",
   "execution_count": 329,
   "metadata": {
    "scrolled": true
   },
   "outputs": [],
   "source": [
    "%matplotlib qt\n",
    "#auto_program.start_run()\n",
    "ce_gram = DisplayWindows.PLTCEDisplay(ce_system)\n",
    "\n",
    "#ce_gram.show()\n",
    "ce_gram.start_live_view()"
   ]
  },
  {
   "cell_type": "code",
   "execution_count": 272,
   "metadata": {},
   "outputs": [],
   "source": [
    "df.to_csv('lysis_data')"
   ]
  }
 ],
 "metadata": {
  "kernelspec": {
   "display_name": "Python 3",
   "language": "python",
   "name": "python3"
  },
  "language_info": {
   "codemirror_mode": {
    "name": "ipython",
    "version": 3
   },
   "file_extension": ".py",
   "mimetype": "text/x-python",
   "name": "python",
   "nbconvert_exporter": "python",
   "pygments_lexer": "ipython3",
   "version": "3.7.4"
  }
 },
 "nbformat": 4,
 "nbformat_minor": 2
}
