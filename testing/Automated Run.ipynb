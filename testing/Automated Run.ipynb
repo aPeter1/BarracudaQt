{
 "cells": [
  {
   "cell_type": "code",
   "execution_count": 1,
   "metadata": {},
   "outputs": [
    {
     "name": "stdout",
     "output_type": "stream",
     "text": [
      "new directory is: C:\\Users\\Luke\\Desktop\\Barracuda\\AutomatedCE\n"
     ]
    }
   ],
   "source": [
    "import sys\n",
    "import os\n",
    "import numpy as np\n",
    "import time\n",
    "from imp import reload\n",
    "\n",
    "# Set the working directory to the AutomatedCE folder so we have access to L1-L4 modules\n",
    "resp = os.getcwd()\n",
    "if 'testing' in resp[-7:]:\n",
    "    os.chdir(os.path.abspath(os.path.join(os.getcwd(), '..')))\n",
    "    print(f\"new directory is: {os.getcwd()}\")\n",
    "    \n",
    "from testing.inputs import *"
   ]
  },
  {
   "cell_type": "code",
   "execution_count": 2,
   "metadata": {},
   "outputs": [],
   "source": []
  },
  {
   "cell_type": "markdown",
   "metadata": {},
   "source": [
    "## Step 1. Load the CE System with a Config File\n",
    "\n",
    "Select one of the predesigned configurations (TE300, Eclipse Ti, Simulation). See an example config under \"/config/test-system.cfg\". \n",
    "\n",
    "Change the variable CONFIG_PATH to the absolute path where the config file resides. \n",
    "\n",
    "Be sure to make the string a raw string by prepending *'r'*. **Example:** r\"C:\\path\\to\\config\\\"*"
   ]
  },
  {
   "cell_type": "code",
   "execution_count": 3,
   "metadata": {},
   "outputs": [
    {
     "name": "stderr",
     "output_type": "stream",
     "text": [
      "WARNING:root:python2path is not a var in system_config.txt\n"
     ]
    },
    {
     "name": "stdout",
     "output_type": "stream",
     "text": [
      "C:\\Users\\Luke\\Desktop\\Barracuda\\AutomatedCE\\L1\\MicroControlServer.py\n"
     ]
    },
    {
     "name": "stderr",
     "output_type": "stream",
     "text": [
      "WARNING:root:Path to Thorlabs Kinesis was not found. \n",
      " Change System Config setting if thorlabs is needed. \n"
     ]
    },
    {
     "name": "stdout",
     "output_type": "stream",
     "text": [
      "{'outlet_pressure': <L2.PressureControl.ArduinoPressure object at 0x0000024B5A4FCB48>, 'xy_stage': <L2.XYControl.PycromanagerXY object at 0x0000024B5A4FCA88>, 'objective': <L2.ZControl.PycromanagerZ object at 0x0000024B5A4FCC08>, 'outlet_z': <L2.ZControl.ArduinoZ object at 0x0000024B5A4FCC88>, 'inlet_z': <L2.ZControl.ArduinoZ object at 0x0000024B5A4FCB88>, 'filter_wheel': None, 'excitation_shutter': None, 'camera': <L2.CameraControl.PycromanagerControl object at 0x0000024B5A4FCE88>, 'high_voltage': <L2.HighVoltageControl.SpellmanPowerSupply object at 0x0000024B5A4FCD88>, 'detector': <L2.DetectorControl.PhotomultiplierDetector object at 0x0000024B5A500208>}\n"
     ]
    }
   ],
   "source": [
    "CONFIG_PATH = r\"C:\\Users\\Luke\\Desktop\\Barracuda\\AutomatedCE\\var\\Eclipse.cfg\"\n",
    "from L3 import SystemsBuilder\n",
    "reload(SystemsBuilder)\n",
    "\n",
    "ce_system = SystemsBuilder.CESystem()\n",
    "ce_system.load_config(CONFIG_PATH)\n",
    "ce_system.open_controllers()\n",
    "ce_system.startup_utilities()"
   ]
  },
  {
   "cell_type": "markdown",
   "metadata": {},
   "source": [
    "# Step 2. Load the Template File\n",
    "\n",
    "The template file tells the program where to move the XY stage for each well as well as how high to raise the capillary inlet during a move. Change the variable TEMPLATE_PATH to the absolute path where the template.txt file resides. "
   ]
  },
  {
   "cell_type": "code",
   "execution_count": 4,
   "metadata": {},
   "outputs": [],
   "source": [
    "TEMPLATE_PATH = r\"C:\\Users\\Luke\\Desktop\\Barracuda\\AutomatedCE\\var\\80WellTest.txt\"\n",
    "from L4 import AutomatedControl\n",
    "reload(AutomatedControl)\n",
    "\n",
    "auto_program = AutomatedControl.AutoRun(ce_system)\n",
    "auto_program.set_template(TEMPLATE_PATH)"
   ]
  },
  {
   "cell_type": "markdown",
   "metadata": {},
   "source": [
    "# Step 3. Calibrate the Capillary Inlet\n",
    "\n",
    "The method for calibration depends on the z-stage used to raise the capillary inlet. Select the correct route for the hardware employed. "
   ]
  },
  {
   "cell_type": "markdown",
   "metadata": {},
   "source": [
    "## Thorlabs Kinesis Z Stage\n",
    "\n",
    "### Step 3.1 Lower the Capillary (thorlabs)\n",
    "Move the capillary to a safe location where it will not be crushed if the stage lowers too far. Using the controls on the Z-stage itself, lower the capillary till as far as it will go. \n"
   ]
  },
  {
   "cell_type": "code",
   "execution_count": 8,
   "metadata": {},
   "outputs": [
    {
     "name": "stdout",
     "output_type": "stream",
     "text": [
      "Have you lowered the Kinesis Z stage to its lowest position? (y/n):  y\n",
      "Proceed to the next cell.\n"
     ]
    }
   ],
   "source": [
    "resp = get_yes_no(\"Have you lowered the Kinesis Z stage to its lowest position? (y/n):  \")\n",
    "if not resp:\n",
    "    print(\"Please make sure the Kinesis stage is lowered to its lowest position before continuing\")\n",
    "else:\n",
    "    print(\"Proceed to the next cell.\")\n",
    "    "
   ]
  },
  {
   "cell_type": "markdown",
   "metadata": {},
   "source": [
    "### Step 3.2 Home the Capillary (thorlabs)\n",
    "\n",
    "Thorlabs needs to register the home position. In the next cell we will call the go_home command to home the capillary. "
   ]
  },
  {
   "cell_type": "code",
   "execution_count": 9,
   "metadata": {},
   "outputs": [],
   "source": [
    "ce_system.inlet_z.homing()"
   ]
  },
  {
   "cell_type": "markdown",
   "metadata": {},
   "source": [
    "### Step 3.1 (Arduino/Optics-Focus)\n",
    "The optics focus moves the capillary all the way up during the home step. Once this is done, move the capillary to a safe position and lower (with 1-5mm increments) until the capillary is at 0 mm. "
   ]
  },
  {
   "cell_type": "code",
   "execution_count": 8,
   "metadata": {},
   "outputs": [],
   "source": [
    "ce_system.inlet_z.set_rel_z(-5)"
   ]
  },
  {
   "cell_type": "code",
   "execution_count": 12,
   "metadata": {},
   "outputs": [
    {
     "name": "stdout",
     "output_type": "stream",
     "text": [
      "Have you lowered the Arduino Z stage to 0 mm? (y/n):   y\n",
      "Proceed to the step 3.3 \n"
     ]
    }
   ],
   "source": [
    "resp = get_yes_no(\"Have you lowered the Arduino Z stage to 0 mm? (y/n):  \")\n",
    "if not resp:\n",
    "    print(\"Please make sure the Aduino stage is lowered to 1 mm position before continuing\")\n",
    "else:\n",
    "    print(\"Proceed to the step 3.3 \")"
   ]
  },
  {
   "cell_type": "markdown",
   "metadata": {},
   "source": [
    "### Step 3.3 Adjust Capillary Position (all stages)\n",
    "\n",
    "Adjust the capillary position by sliding the detection apparatus up or down the optical support post. The capillary should be level with the bottom of the template for single-cell assays, or the top-of the template for well-based assays. \n",
    "\n",
    "*Aligning to the top of the template is a minor safety feature to prevent the user from sending the capillary to Zero position unexpetedly and crashing the capillary against the bottom of the template. However, capillary needs to be able to reach at least the glass slide of the cell reservoir for single-cell assays*\n"
   ]
  },
  {
   "cell_type": "code",
   "execution_count": 10,
   "metadata": {},
   "outputs": [
    {
     "name": "stdout",
     "output_type": "stream",
     "text": [
      "Have you adjusted the capillary height manually so that it is flush (level) with the top or bottom of the template? (y/n):   y\n",
      "Proceed to the next cell\n"
     ]
    }
   ],
   "source": [
    "resp = get_yes_no(\"Have you adjusted the capillary height manually so that it is flush (level) with the top or bottom of the template? (y/n):  \")\n",
    "if not resp:\n",
    "    print(\"Please make sure the capillary is moved to the correct height with respect to the template before continuing\")\n",
    "else:\n",
    "    print(\"Proceed to the next cell\")"
   ]
  },
  {
   "cell_type": "markdown",
   "metadata": {},
   "source": [
    "### Step 3.4 Raise the capillary to a safe height\n",
    "\n",
    "The next cell will raise the capillary height to a location where it ***should*** be safe for any XY movements. Verify the capillary will not crash at this new height. "
   ]
  },
  {
   "cell_type": "code",
   "execution_count": 11,
   "metadata": {},
   "outputs": [
    {
     "name": "stdout",
     "output_type": "stream",
     "text": [
      "Please enter a safe height to move the stage to:  23\n",
      "Is the capillary at a safe location?:  y\n",
      "Continue to next cell\n"
     ]
    }
   ],
   "source": [
    "target_z = get_float(\"Please enter a safe height to move the stage to: \")\n",
    "# Move the capillary up and wait for it to stop\n",
    "ce_system.inlet_z.set_z(target_z)\n",
    "ce_system.inlet_z.wait_for_target(target_z)\n",
    "\n",
    "resp = get_yes_no(\"Is the capillary at a safe location?: \")\n",
    "if resp:\n",
    "    print(\"Continue to next step\")\n",
    "else:\n",
    "    print(\"Please raise the capillary to an appropriate height\")"
   ]
  },
  {
   "cell_type": "markdown",
   "metadata": {},
   "source": [
    "# Step 4. Home the XY Stage\n",
    "\n",
    "This next step provides the calibration for the XY axis for the XY stage and capillary inlet. \n"
   ]
  },
  {
   "cell_type": "markdown",
   "metadata": {},
   "source": [
    "### Step 4.1 (Nikon Eclipse)\n",
    "\n",
    "The nikon eclipse has a home position defined to the center of the template. It is best to use this as the home position. For the capillary alignment, align the capillary concentrically with the objective. The capillary should be within 0.5 mm of the center of the objective if using PCR tubes at any point. "
   ]
  },
  {
   "cell_type": "code",
   "execution_count": 12,
   "metadata": {},
   "outputs": [
    {
     "name": "stdout",
     "output_type": "stream",
     "text": [
      "Is the capillary aligned with the objective? y\n",
      "Continue to next step\n"
     ]
    }
   ],
   "source": [
    "resp = get_yes_no(\"Is the capillary aligned with the objective?\")\n",
    "if resp:\n",
    "    print(\"Continue to next step\")\n",
    "else:\n",
    "    print(\"Please raise align the capillary with the objective\")"
   ]
  },
  {
   "cell_type": "markdown",
   "metadata": {},
   "source": [
    "# Step 5 Verify your calibration\n",
    "\n",
    "Steps 3-4 calibrate the capillaries position with the microscope's position. Now we need to verify that our alignment is correct. To do this we will move the capillary to a well and make sure that it is centered over the well. Then we will lower the capillary to a height specified by the method to make sure the capillary can reach the liquid. \n"
   ]
  },
  {
   "cell_type": "markdown",
   "metadata": {},
   "source": [
    "### Step 5.2 Raise the capillary to a safe height "
   ]
  },
  {
   "cell_type": "code",
   "execution_count": 5,
   "metadata": {},
   "outputs": [
    {
     "name": "stdout",
     "output_type": "stream",
     "text": [
      "Set the capillary to a safe travel height:  23\n",
      "Proceed to next cell\n"
     ]
    }
   ],
   "source": [
    "z = get_float(\"Set the capillary to a safe travel height: \")\n",
    "ce_system.inlet_z.set_z(z)\n",
    "print(\"Proceed to next cell\")"
   ]
  },
  {
   "cell_type": "markdown",
   "metadata": {},
   "source": [
    "### Step 5.2 Center the Capillary over a well"
   ]
  },
  {
   "cell_type": "code",
   "execution_count": 13,
   "metadata": {
    "collapsed": true
   },
   "outputs": [
    {
     "name": "stdout",
     "output_type": "stream",
     "text": [
      "Please enter the well name to move to (press enter to see a list): k\n",
      "Please select one of the following wells:\n",
      "calibrate\n",
      "w_a0\n",
      "w_a1\n",
      "w_a2\n",
      "w_a3\n",
      "w_a4\n",
      "w_a5\n",
      "w_a6\n",
      "w_a7\n",
      "w_b0\n",
      "w_b1\n",
      "w_b2\n",
      "w_b3\n",
      "w_b4\n",
      "w_b5\n",
      "w_b6\n",
      "w_b7\n",
      "w_c0\n",
      "w_c1\n",
      "w_c2\n",
      "w_c3\n",
      "w_c4\n",
      "w_c5\n",
      "w_c6\n",
      "w_c7\n",
      "w_d0\n",
      "w_d1\n",
      "w_d2\n",
      "w_d3\n",
      "w_d4\n",
      "w_d5\n",
      "w_d6\n",
      "w_d7\n",
      "w_e0\n",
      "w_e1\n",
      "w_e2\n",
      "w_e3\n",
      "w_e4\n",
      "w_e5\n",
      "w_e6\n",
      "w_e7\n",
      "w_f0\n",
      "w_f1\n",
      "w_f2\n",
      "w_f3\n",
      "w_f4\n",
      "w_f5\n",
      "w_f6\n",
      "w_f7\n",
      "w_g0\n",
      "w_g1\n",
      "w_g2\n",
      "w_g3\n",
      "w_g4\n",
      "w_g5\n",
      "w_g6\n",
      "w_g7\n",
      "w_h0\n",
      "w_h1\n",
      "w_h2\n",
      "w_h3\n",
      "w_h4\n",
      "w_h5\n",
      "w_h6\n",
      "w_h7\n",
      "w_i0\n",
      "w_i1\n",
      "w_i2\n",
      "w_i3\n",
      "w_i4\n",
      "w_i5\n",
      "w_i6\n",
      "w_i7\n",
      "w_j0\n",
      "w_j1\n",
      "w_j2\n",
      "w_j3\n",
      "w_j4\n",
      "w_j5\n",
      "w_j6\n",
      "w_j7\n",
      "Please enter the well name to move to (press enter to see a list): w_j6\n",
      "Please move the capillary using the fine adjustment knobs, or the z-stage base so that capillary is centered over this well.\n"
     ]
    }
   ],
   "source": [
    "name = get_value(\"Please enter the well name to move to (press enter to see a list): \", auto_program.template.wells.keys())\n",
    "well = auto_program.template.wells[name]\n",
    "ce_system.xy_stage.set_xy(well.xy)\n",
    "resp = input(\"Please move the capillary using the fine adjustment knobs, or the z-stage base so that capillary is centered over this well.\")\n"
   ]
  },
  {
   "cell_type": "markdown",
   "metadata": {},
   "source": [
    "### Step 5.3 Lower the capillary to the height described in the method file\n"
   ]
  },
  {
   "cell_type": "code",
   "execution_count": 14,
   "metadata": {},
   "outputs": [
    {
     "name": "stdout",
     "output_type": "stream",
     "text": [
      "What height should the capillary be lowered to? 6.5\n",
      "Is the capillary touching the liquid in this well?  y\n",
      "Calibration Finished\n"
     ]
    }
   ],
   "source": [
    "height_z = get_float(\"What height should the capillary be lowered to?\")\n",
    "ce_system.inlet_z.set_z(height_z)\n",
    "resp = get_yes_no(\"Is the capillary touching the liquid in this well? \")\n",
    "if not resp:\n",
    "    print(\"Adjust the height of the capillary manually (and carefully!) so that the capillary is touching the liquid\")\n",
    "else:\n",
    "    print(\"Calibration Finished\")"
   ]
  },
  {
   "cell_type": "code",
   "execution_count": null,
   "metadata": {},
   "outputs": [],
   "source": []
  }
 ],
 "metadata": {
  "kernelspec": {
   "display_name": "Python 3",
   "language": "python",
   "name": "python3"
  },
  "language_info": {
   "codemirror_mode": {
    "name": "ipython",
    "version": 3
   },
   "file_extension": ".py",
   "mimetype": "text/x-python",
   "name": "python",
   "nbconvert_exporter": "python",
   "pygments_lexer": "ipython3",
   "version": "3.7.4"
  }
 },
 "nbformat": 4,
 "nbformat_minor": 2
}
