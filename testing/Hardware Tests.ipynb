{
 "cells": [
  {
   "cell_type": "code",
   "execution_count": 3,
   "metadata": {},
   "outputs": [],
   "source": [
    "import sys\n",
    "import os\n",
    "import numpy as np\n",
    "import time\n",
    "from imp import reload"
   ]
  },
  {
   "cell_type": "code",
   "execution_count": 4,
   "metadata": {},
   "outputs": [
    {
     "name": "stdout",
     "output_type": "stream",
     "text": [
      "new directory is: C:\\Users\\NikonTE300CE\\Desktop\\Barracuda\\AutomatedCE\n"
     ]
    }
   ],
   "source": [
    "# Set the working directory to the AutomatedCE folder so we have access to L1-L4 modules\n",
    "resp = os.getcwd()\n",
    "if 'testing' in resp[-7:]:\n",
    "    os.chdir(os.path.abspath(os.path.join(os.getcwd(), '..')))\n",
    "    print(f\"new directory is: {os.getcwd()}\")"
   ]
  },
  {
   "cell_type": "markdown",
   "metadata": {},
   "source": [
    "# Test 1: DAQ Controllers\n"
   ]
  },
  {
   "cell_type": "code",
   "execution_count": 3,
   "metadata": {},
   "outputs": [],
   "source": [
    "from L1 import DAQControllers"
   ]
  },
  {
   "cell_type": "markdown",
   "metadata": {},
   "source": [
    "## National Instruments DAQ\n",
    "\n",
    "Tests:\n",
    "1. Initialize the DAQ\n",
    "2. Set an analog output Voltage\n",
    "3. Read an analog input voltage\n",
    "4. Set an digitalouput voltage"
   ]
  },
  {
   "cell_type": "code",
   "execution_count": 4,
   "metadata": {},
   "outputs": [
    {
     "name": "stdout",
     "output_type": "stream",
     "text": [
      "Initialize complete...\n"
     ]
    }
   ],
   "source": [
    "ni = DAQControllers.NiDaq()\n",
    "\n",
    "def print_data(data,time,channels,*args):\n",
    "    print(f\"Total samples: {len(data[0])}, average: {np.mean(data)} V \")\n",
    "    \n",
    "ni.add_callback(print_data, ['ai0'], \"wave\",())\n",
    "print(\"Initialize complete...\")"
   ]
  },
  {
   "cell_type": "code",
   "execution_count": 5,
   "metadata": {},
   "outputs": [
    {
     "name": "stdout",
     "output_type": "stream",
     "text": [
      "Analog output voltage set, measure channel ao0. \n",
      "Meter should read 50 mV\n"
     ]
    }
   ],
   "source": [
    "ni.add_analog_output('ao0')\n",
    "ni.set_channel_voltage('ao0',0.05)\n",
    "ni.start_voltage()\n",
    "print(\"Analog output voltage set, measure channel ao0. \\nMeter should read 50 mV\")"
   ]
  },
  {
   "cell_type": "code",
   "execution_count": 6,
   "metadata": {},
   "outputs": [
    {
     "name": "stdout",
     "output_type": "stream",
     "text": [
      "Total samples: 100, average: -5.310797896931989 V \n",
      "There should be 100 samples read in 0.1 s \n",
      "\n",
      "\n"
     ]
    }
   ],
   "source": [
    "ni.add_analog_input('ai0')\n",
    "ni.set_sampling_frequency(1000)\n",
    "ni.start_measurement()\n",
    "time.sleep(.1)\n",
    "ni.stop_measurement()\n",
    "print(\"\\nThere should be 100 samples read in 0.1 s \\n\")"
   ]
  },
  {
   "cell_type": "code",
   "execution_count": 7,
   "metadata": {},
   "outputs": [
    {
     "name": "stdout",
     "output_type": "stream",
     "text": [
      "Digital output on Port0/line0 should read digital High\n"
     ]
    }
   ],
   "source": [
    "ni.add_do_channel('p0.0')\n",
    "ni.set_do_channel('p0.0', True)\n",
    "ni.update_do_channels()\n",
    "print(\"Digital output on Port0/line0 should read digital High\")"
   ]
  },
  {
   "cell_type": "markdown",
   "metadata": {},
   "source": [
    "# Test 2: Linear Motion Utilities\n",
    "\n",
    "tests:\n",
    "1. Home to Zero position\n",
    "2. Read and set position\n",
    "3. Stop movement"
   ]
  },
  {
   "cell_type": "markdown",
   "metadata": {},
   "source": [
    "### Thorlab Kinesis Motor"
   ]
  },
  {
   "cell_type": "code",
   "execution_count": 256,
   "metadata": {},
   "outputs": [
    {
     "data": {
      "text/plain": [
       "<module 'L1.Controllers' from 'C:\\\\Users\\\\NikonTE300CE\\\\Desktop\\\\Barracuda\\\\AutomatedCE\\\\L1\\\\Controllers.py'>"
      ]
     },
     "execution_count": 256,
     "metadata": {},
     "output_type": "execute_result"
    }
   ],
   "source": [
    "from L1 import Controllers\n",
    "from L2 import ZControl\n",
    "reload(ZControl)\n",
    "reload(Controllers)"
   ]
  },
  {
   "cell_type": "code",
   "execution_count": 104,
   "metadata": {
    "collapsed": true
   },
   "outputs": [
    {
     "ename": "DeviceNotReadyException",
     "evalue": "Device is not connected\n   at Thorlabs.MotionControl.DeviceManagerCLI.ThorlabsGenericCoreDeviceCLI.VerifyDeviceConnected(Int32 functionDepth)\r\n   at Thorlabs.MotionControl.GenericMotorCLI.GenericMotorCLI.Connect(String serialNo)",
     "output_type": "error",
     "traceback": [
      "\u001b[1;31m---------------------------------------------------------------------------\u001b[0m",
      "\u001b[1;31mDeviceNotReadyException\u001b[0m                   Traceback (most recent call last)",
      "\u001b[1;32m<ipython-input-104-458b5c2c9a2b>\u001b[0m in \u001b[0;36m<module>\u001b[1;34m\u001b[0m\n\u001b[0;32m      1\u001b[0m \u001b[0mser_num\u001b[0m \u001b[1;33m=\u001b[0m \u001b[1;34m'49125264'\u001b[0m\u001b[1;33m\u001b[0m\u001b[1;33m\u001b[0m\u001b[0m\n\u001b[0;32m      2\u001b[0m \u001b[0mz\u001b[0m \u001b[1;33m=\u001b[0m \u001b[0mZControl\u001b[0m\u001b[1;33m.\u001b[0m\u001b[0mKinesisZ\u001b[0m\u001b[1;33m(\u001b[0m\u001b[0mser_num\u001b[0m\u001b[1;33m,\u001b[0m\u001b[1;34m'zstage'\u001b[0m\u001b[1;33m)\u001b[0m\u001b[1;33m\u001b[0m\u001b[1;33m\u001b[0m\u001b[0m\n\u001b[1;32m----> 3\u001b[1;33m \u001b[0mz\u001b[0m\u001b[1;33m.\u001b[0m\u001b[0mstartup\u001b[0m\u001b[1;33m(\u001b[0m\u001b[1;33m)\u001b[0m\u001b[1;33m\u001b[0m\u001b[1;33m\u001b[0m\u001b[0m\n\u001b[0m\u001b[0;32m      4\u001b[0m \u001b[0mprint\u001b[0m\u001b[1;33m(\u001b[0m\u001b[1;34m\"Thorlabs Initialized...\"\u001b[0m\u001b[1;33m)\u001b[0m\u001b[1;33m\u001b[0m\u001b[1;33m\u001b[0m\u001b[0m\n",
      "\u001b[1;32m~\\Desktop\\Barracuda\\AutomatedCE\\L2\\ZControl.py\u001b[0m in \u001b[0;36mstartup\u001b[1;34m(self)\u001b[0m\n\u001b[0;32m    387\u001b[0m         \u001b[1;33m:\u001b[0m\u001b[1;32mreturn\u001b[0m\u001b[1;33m:\u001b[0m\u001b[1;33m\u001b[0m\u001b[1;33m\u001b[0m\u001b[0m\n\u001b[0;32m    388\u001b[0m         \"\"\"\n\u001b[1;32m--> 389\u001b[1;33m         \u001b[0mself\u001b[0m\u001b[1;33m.\u001b[0m\u001b[0m_open\u001b[0m\u001b[1;33m(\u001b[0m\u001b[1;33m)\u001b[0m\u001b[1;33m\u001b[0m\u001b[1;33m\u001b[0m\u001b[0m\n\u001b[0m\u001b[0;32m    390\u001b[0m         \u001b[0mself\u001b[0m\u001b[1;33m.\u001b[0m\u001b[0m_set_velocity\u001b[0m\u001b[1;33m(\u001b[0m\u001b[1;36m3.5\u001b[0m\u001b[1;33m)\u001b[0m\u001b[1;33m\u001b[0m\u001b[1;33m\u001b[0m\u001b[0m\n\u001b[0;32m    391\u001b[0m \u001b[1;33m\u001b[0m\u001b[0m\n",
      "\u001b[1;32m~\\Desktop\\Barracuda\\AutomatedCE\\L2\\ZControl.py\u001b[0m in \u001b[0;36m_open\u001b[1;34m(self)\u001b[0m\n\u001b[0;32m    367\u001b[0m         \u001b[0mself\u001b[0m\u001b[1;33m.\u001b[0m\u001b[0mDeviceManagerCLI\u001b[0m\u001b[1;33m.\u001b[0m\u001b[0mDeviceManagerCLI\u001b[0m\u001b[1;33m.\u001b[0m\u001b[0mBuildDeviceList\u001b[0m\u001b[1;33m(\u001b[0m\u001b[1;33m)\u001b[0m\u001b[1;33m\u001b[0m\u001b[1;33m\u001b[0m\u001b[0m\n\u001b[0;32m    368\u001b[0m         \u001b[0mself\u001b[0m\u001b[1;33m.\u001b[0m\u001b[0mdevice\u001b[0m \u001b[1;33m=\u001b[0m \u001b[0mself\u001b[0m\u001b[1;33m.\u001b[0m\u001b[0mIntegratedStepperMotorsCLI\u001b[0m\u001b[1;33m.\u001b[0m\u001b[0mLabJack\u001b[0m\u001b[1;33m.\u001b[0m\u001b[0mCreateLabJack\u001b[0m\u001b[1;33m(\u001b[0m\u001b[0mself\u001b[0m\u001b[1;33m.\u001b[0m\u001b[0m_ser_no\u001b[0m\u001b[1;33m)\u001b[0m\u001b[1;33m\u001b[0m\u001b[1;33m\u001b[0m\u001b[0m\n\u001b[1;32m--> 369\u001b[1;33m         \u001b[0mself\u001b[0m\u001b[1;33m.\u001b[0m\u001b[0mdevice\u001b[0m\u001b[1;33m.\u001b[0m\u001b[0mConnect\u001b[0m\u001b[1;33m(\u001b[0m\u001b[0mself\u001b[0m\u001b[1;33m.\u001b[0m\u001b[0m_ser_no\u001b[0m\u001b[1;33m)\u001b[0m\u001b[1;33m\u001b[0m\u001b[1;33m\u001b[0m\u001b[0m\n\u001b[0m\u001b[0;32m    370\u001b[0m         \u001b[0mself\u001b[0m\u001b[1;33m.\u001b[0m\u001b[0mdevice\u001b[0m\u001b[1;33m.\u001b[0m\u001b[0mLoadMotorConfiguration\u001b[0m\u001b[1;33m(\u001b[0m\u001b[0mself\u001b[0m\u001b[1;33m.\u001b[0m\u001b[0m_ser_no\u001b[0m\u001b[1;33m)\u001b[0m\u001b[1;33m\u001b[0m\u001b[1;33m\u001b[0m\u001b[0m\n\u001b[0;32m    371\u001b[0m         \u001b[0mself\u001b[0m\u001b[1;33m.\u001b[0m\u001b[0mdevice\u001b[0m\u001b[1;33m.\u001b[0m\u001b[0mWaitForSettingsInitialized\u001b[0m\u001b[1;33m(\u001b[0m\u001b[1;36m5000\u001b[0m\u001b[1;33m)\u001b[0m\u001b[1;33m\u001b[0m\u001b[1;33m\u001b[0m\u001b[0m\n",
      "\u001b[1;31mDeviceNotReadyException\u001b[0m: Device is not connected\n   at Thorlabs.MotionControl.DeviceManagerCLI.ThorlabsGenericCoreDeviceCLI.VerifyDeviceConnected(Int32 functionDepth)\r\n   at Thorlabs.MotionControl.GenericMotorCLI.GenericMotorCLI.Connect(String serialNo)"
     ]
    }
   ],
   "source": [
    "ser_num = '49125264'\n",
    "z = ZControl.KinesisZ(ser_num,'zstage')\n",
    "z.startup()\n",
    "print(\"Thorlabs Initialized...\")\n"
   ]
  },
  {
   "cell_type": "code",
   "execution_count": 257,
   "metadata": {},
   "outputs": [
    {
     "name": "stdout",
     "output_type": "stream",
     "text": [
      "TESTING12345\n",
      "\n",
      "[b'\\x00\\x00TESTING12345\\r\\n']\n",
      "0 59.75 60\n",
      "M0L+29.750\n",
      "\n",
      "[b'M0L+29.750\\r\\n', b'OK\\r\\n']\n",
      "TESTING12345\n",
      "\n",
      "[b'TESTING12345\\r\\n']\n",
      "0 59.75 60\n",
      "M0L+29.750\n",
      "\n",
      "[b'M0L+29.750\\r\\n', b'OK\\r\\n']\n"
     ]
    }
   ],
   "source": [
    "ctl = Controllers.ArduinoController(\"COM8\")\n",
    "ctl.open()\n",
    "z = ZControl.ArduinoZ(ctl, 'zstage')\n",
    "z.startup()"
   ]
  },
  {
   "cell_type": "code",
   "execution_count": 164,
   "metadata": {},
   "outputs": [
    {
     "data": {
      "text/plain": [
       "b'M0L?\\r\\n'"
      ]
     },
     "execution_count": 164,
     "metadata": {},
     "output_type": "execute_result"
    }
   ],
   "source": [
    "ctl._serial.write(\"M0L?\\n\".encode())\n",
    "a = ctl._serial.read_until('\\r\\n'.encode())\n",
    "a = ctl._serial.read_until('\\r\\n'.encode())\n",
    "a"
   ]
  },
  {
   "cell_type": "code",
   "execution_count": 224,
   "metadata": {},
   "outputs": [
    {
     "name": "stdout",
     "output_type": "stream",
     "text": [
      "b'M0L+10.200\\r\\nOK\\r\\n'\n",
      "M0L?\n",
      "\n",
      "[b'M0L?\\r\\n', b'L?0.108\\r\\n']\n",
      "ans is L?0.108\n",
      "\n",
      "30.108\n",
      "M0L?\n",
      "\n",
      "[b'M0L?\\r\\n', b'L?-0.250\\r\\n']\n",
      "ans is L?-0.250\n",
      "\n",
      "29.75\n",
      "M0L?\n",
      "\n",
      "[b'M0L?\\r\\n', b'L?-0.250\\r\\n']\n",
      "ans is L?-0.250\n",
      "\n",
      "29.75\n",
      "M0L?\n",
      "\n",
      "[b'M0L?\\r\\n', b'L?-0.250\\r\\n']\n",
      "ans is L?-0.250\n",
      "\n",
      "29.75\n",
      "M0L?\n",
      "\n",
      "[b'M0L?\\r\\n', b'L?-0.250\\r\\n']\n",
      "ans is L?-0.250\n",
      "\n",
      "29.75\n",
      "M0L?\n",
      "\n",
      "[b'M0L?\\r\\n', b'L?-0.250\\r\\n']\n",
      "ans is L?-0.250\n",
      "\n",
      "29.75\n",
      "M0L?\n",
      "\n",
      "[b'M0L?\\r\\n', b'L?-0.250\\r\\n']\n",
      "ans is L?-0.250\n",
      "\n",
      "29.75\n",
      "M0L?\n",
      "\n",
      "[b'M0L?\\r\\n', b'L?-0.250\\r\\n']\n",
      "ans is L?-0.250\n",
      "\n",
      "29.75\n",
      "M0L?\n",
      "\n",
      "[b'M0L?\\r\\n', b'L?-0.250\\r\\n']\n",
      "ans is L?-0.250\n",
      "\n",
      "29.75\n",
      "M0L?\n",
      "\n",
      "[b'M0L?\\r\\n', b'L?-0.250\\r\\n']\n",
      "ans is L?-0.250\n",
      "\n",
      "29.75\n",
      "M0L?\n",
      "\n",
      "[b'M0L?\\r\\n', b'L?-0.250\\r\\n']\n",
      "ans is L?-0.250\n",
      "\n",
      "29.75\n",
      "M0L?\n",
      "\n",
      "[b'M0L?\\r\\n', b'L?-0.250\\r\\n']\n",
      "ans is L?-0.250\n",
      "\n",
      "29.75\n",
      "M0L?\n",
      "\n",
      "[b'M0L?\\r\\n', b'L?-0.250\\r\\n']\n",
      "ans is L?-0.250\n",
      "\n",
      "29.75\n",
      "M0L?\n",
      "\n",
      "[b'M0L?\\r\\n', b'L?-0.250\\r\\n']\n",
      "ans is L?-0.250\n",
      "\n",
      "29.75\n",
      "M0L?\n",
      "\n",
      "[b'M0L?\\r\\n', b'L?-0.250\\r\\n']\n",
      "ans is L?-0.250\n",
      "\n",
      "29.75\n",
      "M0L?\n",
      "\n",
      "[b'M0L?\\r\\n', b'L?-0.250\\r\\n']\n",
      "ans is L?-0.250\n",
      "\n",
      "29.75\n",
      "M0L?\n",
      "\n",
      "[b'M0L?\\r\\n', b'L?-0.250\\r\\n']\n",
      "ans is L?-0.250\n",
      "\n",
      "29.75\n",
      "M0L?\n",
      "\n",
      "[b'M0L?\\r\\n', b'L?-0.250\\r\\n']\n",
      "ans is L?-0.250\n",
      "\n",
      "29.75\n",
      "M0L?\n",
      "\n",
      "[b'M0L?\\r\\n', b'L?-0.250\\r\\n']\n",
      "ans is L?-0.250\n",
      "\n",
      "29.75\n",
      "M0L?\n",
      "\n",
      "[b'M0L?\\r\\n', b'L?-0.250\\r\\n']\n",
      "ans is L?-0.250\n",
      "\n",
      "29.75\n",
      "M0L?\n",
      "\n",
      "[b'M0L?\\r\\n', b'L?-0.250\\r\\n']\n",
      "ans is L?-0.250\n",
      "\n",
      "29.75\n",
      "M0L?\n",
      "\n",
      "[b'M0L?\\r\\n', b'L?-0.250\\r\\n']\n",
      "ans is L?-0.250\n",
      "\n",
      "29.75\n",
      "M0L?\n",
      "\n",
      "[b'M0L?\\r\\n', b'L?-0.250\\r\\n']\n",
      "ans is L?-0.250\n",
      "\n",
      "29.75\n",
      "M0L?\n",
      "\n",
      "[b'M0L?\\r\\n', b'L?-0.250\\r\\n']\n",
      "ans is L?-0.250\n",
      "\n",
      "29.75\n",
      "M0L?\n",
      "\n",
      "[b'M0L?\\r\\n', b'L?-0.250\\r\\n']\n",
      "ans is L?-0.250\n",
      "\n",
      "29.75\n",
      "M0L?\n",
      "\n",
      "[b'M0L?\\r\\n', b'L?-0.250\\r\\n']\n",
      "ans is L?-0.250\n",
      "\n",
      "29.75\n",
      "M0L?\n",
      "\n",
      "[b'M0L?\\r\\n', b'L?-0.250\\r\\n']\n",
      "ans is L?-0.250\n",
      "\n",
      "29.75\n",
      "M0L?\n",
      "\n",
      "[b'M0L?\\r\\n', b'L?-0.250\\r\\n']\n",
      "ans is L?-0.250\n",
      "\n",
      "29.75\n",
      "M0L?\n",
      "\n",
      "[b'M0L?\\r\\n', b'L?-0.250\\r\\n']\n",
      "ans is L?-0.250\n",
      "\n",
      "29.75\n",
      "M0L?\n",
      "\n",
      "[b'M0L?\\r\\n', b'L?-0.250\\r\\n']\n",
      "ans is L?-0.250\n",
      "\n",
      "29.75\n",
      "M0L?\n",
      "\n",
      "[b'M0L?\\r\\n', b'L?-0.250\\r\\n']\n",
      "ans is L?-0.250\n",
      "\n",
      "29.75\n",
      "M0L?\n",
      "\n",
      "[b'M0L?\\r\\n', b'L?-0.250\\r\\n']\n",
      "ans is L?-0.250\n",
      "\n",
      "29.75\n",
      "M0L?\n",
      "\n",
      "[b'M0L?\\r\\n', b'L?-0.250\\r\\n']\n",
      "ans is L?-0.250\n",
      "\n",
      "29.75\n",
      "M0L?\n",
      "\n",
      "[b'M0L?\\r\\n', b'L?-0.250\\r\\n']\n",
      "ans is L?-0.250\n",
      "\n",
      "29.75\n",
      "M0L?\n",
      "\n",
      "[b'M0L?\\r\\n', b'L?-0.250\\r\\n']\n",
      "ans is L?-0.250\n",
      "\n",
      "29.75\n",
      "M0L?\n",
      "\n",
      "[b'M0L?\\r\\n', b'L?-0.250\\r\\n']\n",
      "ans is L?-0.250\n",
      "\n",
      "29.75\n",
      "M0L?\n",
      "\n",
      "[b'M0L?\\r\\n', b'L?-0.250\\r\\n']\n",
      "ans is L?-0.250\n",
      "\n",
      "29.75\n",
      "M0L?\n",
      "\n",
      "[b'M0L?\\r\\n', b'L?-0.250\\r\\n']\n",
      "ans is L?-0.250\n",
      "\n",
      "29.75\n",
      "M0L?\n",
      "\n",
      "[b'M0L?\\r\\n', b'L?-0.250\\r\\n']\n",
      "ans is L?-0.250\n",
      "\n",
      "29.75\n",
      "M0L?\n",
      "\n",
      "[b'M0L?\\r\\n', b'L?-0.250\\r\\n']\n",
      "ans is L?-0.250\n",
      "\n",
      "29.75\n",
      "M0L?\n",
      "\n"
     ]
    },
    {
     "ename": "KeyboardInterrupt",
     "evalue": "",
     "output_type": "error",
     "traceback": [
      "\u001b[1;31m---------------------------------------------------------------------------\u001b[0m",
      "\u001b[1;31mKeyboardInterrupt\u001b[0m                         Traceback (most recent call last)",
      "\u001b[1;32m<ipython-input-224-f8c07dd346d1>\u001b[0m in \u001b[0;36m<module>\u001b[1;34m\u001b[0m\n\u001b[0;32m      3\u001b[0m \u001b[0ma\u001b[0m \u001b[1;33m=\u001b[0m \u001b[0mctl\u001b[0m\u001b[1;33m.\u001b[0m\u001b[0m_serial\u001b[0m\u001b[1;33m.\u001b[0m\u001b[0mread_all\u001b[0m\u001b[1;33m(\u001b[0m\u001b[1;33m)\u001b[0m\u001b[1;33m\u001b[0m\u001b[1;33m\u001b[0m\u001b[0m\n\u001b[0;32m      4\u001b[0m \u001b[0mprint\u001b[0m\u001b[1;33m(\u001b[0m\u001b[0ma\u001b[0m\u001b[1;33m)\u001b[0m\u001b[1;33m\u001b[0m\u001b[1;33m\u001b[0m\u001b[0m\n\u001b[1;32m----> 5\u001b[1;33m \u001b[0mz\u001b[0m\u001b[1;33m.\u001b[0m\u001b[0mwait_for_move\u001b[0m\u001b[1;33m(\u001b[0m\u001b[1;33m)\u001b[0m\u001b[1;33m\u001b[0m\u001b[1;33m\u001b[0m\u001b[0m\n\u001b[0m",
      "\u001b[1;32m~\\Desktop\\Barracuda\\AutomatedCE\\L2\\ZControl.py\u001b[0m in \u001b[0;36mwait_for_move\u001b[1;34m(self)\u001b[0m\n\u001b[0;32m    102\u001b[0m     \u001b[1;32mdef\u001b[0m \u001b[0mwait_for_move\u001b[0m\u001b[1;33m(\u001b[0m\u001b[0mself\u001b[0m\u001b[1;33m)\u001b[0m\u001b[1;33m:\u001b[0m\u001b[1;33m\u001b[0m\u001b[1;33m\u001b[0m\u001b[0m\n\u001b[0;32m    103\u001b[0m         \u001b[0mpos\u001b[0m \u001b[1;33m=\u001b[0m \u001b[0mself\u001b[0m\u001b[1;33m.\u001b[0m\u001b[0mread_z\u001b[0m\u001b[1;33m(\u001b[0m\u001b[1;33m)\u001b[0m\u001b[1;33m\u001b[0m\u001b[1;33m\u001b[0m\u001b[0m\n\u001b[1;32m--> 104\u001b[1;33m         \u001b[1;32mwhile\u001b[0m \u001b[0mpos\u001b[0m\u001b[1;33m-\u001b[0m\u001b[0mself\u001b[0m\u001b[1;33m.\u001b[0m\u001b[0mread_z\u001b[0m\u001b[1;33m(\u001b[0m\u001b[1;33m)\u001b[0m\u001b[1;33m>\u001b[0m\u001b[1;36m0.1\u001b[0m\u001b[1;33m:\u001b[0m\u001b[1;33m\u001b[0m\u001b[1;33m\u001b[0m\u001b[0m\n\u001b[0m\u001b[0;32m    105\u001b[0m             \u001b[0mtime\u001b[0m\u001b[1;33m.\u001b[0m\u001b[0msleep\u001b[0m\u001b[1;33m(\u001b[0m\u001b[1;36m0.1\u001b[0m\u001b[1;33m)\u001b[0m\u001b[1;33m\u001b[0m\u001b[1;33m\u001b[0m\u001b[0m\n\u001b[0;32m    106\u001b[0m \u001b[1;33m\u001b[0m\u001b[0m\n",
      "\u001b[1;32m~\\Desktop\\Barracuda\\AutomatedCE\\L2\\ZControl.py\u001b[0m in \u001b[0;36mread_z\u001b[1;34m(self)\u001b[0m\n\u001b[0;32m    153\u001b[0m     \u001b[1;32mdef\u001b[0m \u001b[0mread_z\u001b[0m\u001b[1;33m(\u001b[0m\u001b[0mself\u001b[0m\u001b[1;33m)\u001b[0m\u001b[1;33m:\u001b[0m\u001b[1;33m\u001b[0m\u001b[1;33m\u001b[0m\u001b[0m\n\u001b[0;32m    154\u001b[0m         \u001b[1;34m\"\"\" Reads the z position\"\"\"\u001b[0m\u001b[1;33m\u001b[0m\u001b[1;33m\u001b[0m\u001b[0m\n\u001b[1;32m--> 155\u001b[1;33m         \u001b[0mz\u001b[0m \u001b[1;33m=\u001b[0m \u001b[0mself\u001b[0m\u001b[1;33m.\u001b[0m\u001b[0mcontroller\u001b[0m\u001b[1;33m.\u001b[0m\u001b[0msend_command\u001b[0m\u001b[1;33m(\u001b[0m\u001b[1;34m\"M0L?\\n\"\u001b[0m\u001b[1;33m)\u001b[0m\u001b[1;33m\u001b[0m\u001b[1;33m\u001b[0m\u001b[0m\n\u001b[0m\u001b[0;32m    156\u001b[0m         \u001b[0mprint\u001b[0m\u001b[1;33m(\u001b[0m\u001b[1;34mf\"ans is {z}\"\u001b[0m\u001b[1;33m)\u001b[0m\u001b[1;33m\u001b[0m\u001b[1;33m\u001b[0m\u001b[0m\n\u001b[0;32m    157\u001b[0m         \u001b[1;32mwhile\u001b[0m \u001b[1;34m\"L?\"\u001b[0m \u001b[1;33m!=\u001b[0m \u001b[0mz\u001b[0m\u001b[1;33m[\u001b[0m\u001b[1;36m0\u001b[0m\u001b[1;33m:\u001b[0m\u001b[1;36m2\u001b[0m\u001b[1;33m]\u001b[0m\u001b[1;33m:\u001b[0m\u001b[1;33m\u001b[0m\u001b[1;33m\u001b[0m\u001b[0m\n",
      "\u001b[1;32m~\\Desktop\\Barracuda\\AutomatedCE\\L1\\Controllers.py\u001b[0m in \u001b[0;36msend_command\u001b[1;34m(self, command)\u001b[0m\n\u001b[0;32m    148\u001b[0m             \u001b[0mprint\u001b[0m\u001b[1;33m(\u001b[0m\u001b[0mcommand\u001b[0m\u001b[1;33m)\u001b[0m\u001b[1;33m\u001b[0m\u001b[1;33m\u001b[0m\u001b[0m\n\u001b[0;32m    149\u001b[0m             \u001b[0mself\u001b[0m\u001b[1;33m.\u001b[0m\u001b[0m_serial\u001b[0m\u001b[1;33m.\u001b[0m\u001b[0mwrite\u001b[0m\u001b[1;33m(\u001b[0m\u001b[1;34mf\"{command}\"\u001b[0m\u001b[1;33m.\u001b[0m\u001b[0mencode\u001b[0m\u001b[1;33m(\u001b[0m\u001b[1;33m)\u001b[0m\u001b[1;33m)\u001b[0m\u001b[1;33m\u001b[0m\u001b[1;33m\u001b[0m\u001b[0m\n\u001b[1;32m--> 150\u001b[1;33m             \u001b[0mtime\u001b[0m\u001b[1;33m.\u001b[0m\u001b[0msleep\u001b[0m\u001b[1;33m(\u001b[0m\u001b[1;36m0.2\u001b[0m\u001b[1;33m)\u001b[0m\u001b[1;33m\u001b[0m\u001b[1;33m\u001b[0m\u001b[0m\n\u001b[0m\u001b[0;32m    151\u001b[0m             \u001b[0mresponse\u001b[0m \u001b[1;33m=\u001b[0m \u001b[0mself\u001b[0m\u001b[1;33m.\u001b[0m\u001b[0mread_buffer\u001b[0m\u001b[1;33m(\u001b[0m\u001b[1;33m)\u001b[0m\u001b[1;33m\u001b[0m\u001b[1;33m\u001b[0m\u001b[0m\n\u001b[0;32m    152\u001b[0m         \u001b[0mprint\u001b[0m\u001b[1;33m(\u001b[0m\u001b[0mresponse\u001b[0m\u001b[1;33m)\u001b[0m\u001b[1;33m\u001b[0m\u001b[1;33m\u001b[0m\u001b[0m\n",
      "\u001b[1;31mKeyboardInterrupt\u001b[0m: "
     ]
    }
   ],
   "source": [
    "ctl._serial.write(\"M0L+10.200\\n\".encode())\n",
    "time.sleep(0.2)\n",
    "a = ctl._serial.read_all()\n",
    "print(a)\n",
    "z.wait_for_move()"
   ]
  },
  {
   "cell_type": "code",
   "execution_count": 190,
   "metadata": {},
   "outputs": [
    {
     "data": {
      "text/plain": [
       "b'OK\\r\\nM0L?\\r\\n-0.250\\r\\nPause:\\r\\n'"
      ]
     },
     "execution_count": 190,
     "metadata": {},
     "output_type": "execute_result"
    }
   ],
   "source": [
    "ctl._serial.read_all()"
   ]
  },
  {
   "cell_type": "code",
   "execution_count": 234,
   "metadata": {},
   "outputs": [
    {
     "name": "stdout",
     "output_type": "stream",
     "text": [
      "0 59.75 60\n",
      "M0L+29.750\n",
      "\n",
      "[b'M0L+29.750\\r\\n', b'OK\\r\\n']\n"
     ]
    }
   ],
   "source": [
    "z.max_z=60\n",
    "z.set_z(59.75)"
   ]
  },
  {
   "cell_type": "code",
   "execution_count": 111,
   "metadata": {},
   "outputs": [],
   "source": [
    "z.z_inversion=1"
   ]
  },
  {
   "cell_type": "code",
   "execution_count": 78,
   "metadata": {},
   "outputs": [
    {
     "ename": "ValueError",
     "evalue": "could not convert string to float: 'Pause:'",
     "output_type": "error",
     "traceback": [
      "\u001b[1;31m---------------------------------------------------------------------------\u001b[0m",
      "\u001b[1;31mValueError\u001b[0m                                Traceback (most recent call last)",
      "\u001b[1;32m<ipython-input-78-fdafe3e27bb5>\u001b[0m in \u001b[0;36m<module>\u001b[1;34m\u001b[0m\n\u001b[1;32m----> 1\u001b[1;33m \u001b[0mz\u001b[0m\u001b[1;33m.\u001b[0m\u001b[0mset_rel_z\u001b[0m\u001b[1;33m(\u001b[0m\u001b[1;33m-\u001b[0m\u001b[1;36m5\u001b[0m\u001b[1;33m)\u001b[0m\u001b[1;33m\u001b[0m\u001b[1;33m\u001b[0m\u001b[0m\n\u001b[0m\u001b[0;32m      2\u001b[0m \u001b[0mz\u001b[0m\u001b[1;33m.\u001b[0m\u001b[0mread_z\u001b[0m\u001b[1;33m(\u001b[0m\u001b[1;33m)\u001b[0m\u001b[1;33m\u001b[0m\u001b[1;33m\u001b[0m\u001b[0m\n",
      "\u001b[1;32m~\\Desktop\\Barracuda\\AutomatedCE\\L2\\ZControl.py\u001b[0m in \u001b[0;36mset_rel_z\u001b[1;34m(self, rel_z)\u001b[0m\n\u001b[0;32m     81\u001b[0m \u001b[1;33m\u001b[0m\u001b[0m\n\u001b[0;32m     82\u001b[0m     \u001b[1;32mdef\u001b[0m \u001b[0mset_rel_z\u001b[0m\u001b[1;33m(\u001b[0m\u001b[0mself\u001b[0m\u001b[1;33m,\u001b[0m \u001b[0mrel_z\u001b[0m\u001b[1;33m:\u001b[0m \u001b[0mfloat\u001b[0m\u001b[1;33m)\u001b[0m\u001b[1;33m:\u001b[0m\u001b[1;33m\u001b[0m\u001b[1;33m\u001b[0m\u001b[0m\n\u001b[1;32m---> 83\u001b[1;33m         \u001b[0mpos\u001b[0m \u001b[1;33m=\u001b[0m \u001b[0mself\u001b[0m\u001b[1;33m.\u001b[0m\u001b[0mread_z\u001b[0m\u001b[1;33m(\u001b[0m\u001b[1;33m)\u001b[0m\u001b[1;33m\u001b[0m\u001b[1;33m\u001b[0m\u001b[0m\n\u001b[0m\u001b[0;32m     84\u001b[0m         \u001b[0mself\u001b[0m\u001b[1;33m.\u001b[0m\u001b[0mset_z\u001b[0m\u001b[1;33m(\u001b[0m\u001b[0mpos\u001b[0m \u001b[1;33m+\u001b[0m \u001b[0mrel_z\u001b[0m\u001b[1;33m)\u001b[0m\u001b[1;33m\u001b[0m\u001b[1;33m\u001b[0m\u001b[0m\n\u001b[0;32m     85\u001b[0m \u001b[1;33m\u001b[0m\u001b[0m\n",
      "\u001b[1;32m~\\Desktop\\Barracuda\\AutomatedCE\\L2\\ZControl.py\u001b[0m in \u001b[0;36mread_z\u001b[1;34m(self)\u001b[0m\n\u001b[0;32m    155\u001b[0m         \u001b[0mz\u001b[0m \u001b[1;33m=\u001b[0m \u001b[0mself\u001b[0m\u001b[1;33m.\u001b[0m\u001b[0mcontroller\u001b[0m\u001b[1;33m.\u001b[0m\u001b[0msend_command\u001b[0m\u001b[1;33m(\u001b[0m\u001b[1;34m\"M0L?\\n\"\u001b[0m\u001b[1;33m)\u001b[0m\u001b[1;33m\u001b[0m\u001b[1;33m\u001b[0m\u001b[0m\n\u001b[0;32m    156\u001b[0m \u001b[1;33m\u001b[0m\u001b[0m\n\u001b[1;32m--> 157\u001b[1;33m         \u001b[0mz\u001b[0m \u001b[1;33m=\u001b[0m \u001b[0mself\u001b[0m\u001b[1;33m.\u001b[0m\u001b[0m_scale_values\u001b[0m\u001b[1;33m(\u001b[0m\u001b[0mfloat\u001b[0m\u001b[1;33m(\u001b[0m\u001b[0mz\u001b[0m\u001b[1;33m.\u001b[0m\u001b[0mstrip\u001b[0m\u001b[1;33m(\u001b[0m\u001b[1;34m'\\n'\u001b[0m\u001b[1;33m)\u001b[0m\u001b[1;33m.\u001b[0m\u001b[0mstrip\u001b[0m\u001b[1;33m(\u001b[0m\u001b[1;34m'\\r'\u001b[0m\u001b[1;33m)\u001b[0m\u001b[1;33m)\u001b[0m\u001b[1;33m)\u001b[0m\u001b[1;33m\u001b[0m\u001b[1;33m\u001b[0m\u001b[0m\n\u001b[0m\u001b[0;32m    158\u001b[0m         \u001b[0mself\u001b[0m\u001b[1;33m.\u001b[0m\u001b[0mpos\u001b[0m \u001b[1;33m=\u001b[0m \u001b[0mz\u001b[0m\u001b[1;33m\u001b[0m\u001b[1;33m\u001b[0m\u001b[0m\n\u001b[0;32m    159\u001b[0m         \u001b[1;32mreturn\u001b[0m \u001b[0mz\u001b[0m\u001b[1;33m\u001b[0m\u001b[1;33m\u001b[0m\u001b[0m\n",
      "\u001b[1;31mValueError\u001b[0m: could not convert string to float: 'Pause:'"
     ]
    }
   ],
   "source": [
    "z.set_rel_z(-5)\n",
    "z.read_z()"
   ]
  },
  {
   "cell_type": "code",
   "execution_count": 258,
   "metadata": {},
   "outputs": [
    {
     "name": "stdout",
     "output_type": "stream",
     "text": [
      "0 59.75 60\n",
      "M0L+29.750\n",
      "\n",
      "[b'M0L+29.750\\r\\n', b'OK\\r\\n']\n",
      "Thorlabs should be at the 0 mm height, powerstep at 29.75 mm\n"
     ]
    }
   ],
   "source": [
    "# Check Homing Capability\n",
    "z.homing()\n",
    "print(\"Thorlabs should be at the 0 mm height, powerstep at 29.75 mm\")"
   ]
  },
  {
   "cell_type": "code",
   "execution_count": 264,
   "metadata": {},
   "outputs": [
    {
     "name": "stdout",
     "output_type": "stream",
     "text": [
      "0 29 30\n",
      "M0L-1.000\n",
      "\n",
      "[b'M0L-1.000\\r\\n', b'OK\\r\\n']\n",
      "M0L?\n",
      "\n",
      "[b'M0L?\\r\\n', b'L?-13.693\\r\\n']\n",
      "ans is L?-13.693\n",
      "\n",
      "16.307000000000002\n",
      "M0L?\n",
      "\n",
      "[b'M0L?\\r\\n', b'L?-11.559\\r\\n']\n",
      "ans is L?-11.559\n",
      "\n",
      "18.441000000000003\n",
      "M0L?\n",
      "\n",
      "[b'M0L?\\r\\n', b'L?-9.424\\r\\n']\n",
      "ans is L?-9.424\n",
      "\n",
      "20.576\n",
      "M0L?\n",
      "\n",
      "[b'M0L?\\r\\n', b'L?-7.286\\r\\n']\n",
      "ans is L?-7.286\n",
      "\n",
      "22.714\n",
      "M0L?\n",
      "\n",
      "[b'M0L?\\r\\n', b'L?-5.148\\r\\n']\n",
      "ans is L?-5.148\n",
      "\n",
      "24.852\n",
      "M0L?\n",
      "\n",
      "[b'M0L?\\r\\n', b'L?-3.020\\r\\n']\n",
      "ans is L?-3.020\n",
      "\n",
      "26.98\n",
      "M0L?\n",
      "\n",
      "[b'M0L?\\r\\n', b'L?-1.247\\r\\n']\n",
      "ans is L?-1.247\n",
      "\n",
      "28.753\n",
      "M0L?\n",
      "\n",
      "[b'M0L?\\r\\n', b'L?-1.000\\r\\n']\n",
      "ans is L?-1.000\n",
      "\n",
      "29.0\n",
      "M0L?\n",
      "\n",
      "[b'M0L?\\r\\n', b'L?-1.000\\r\\n']\n",
      "ans is L?-1.000\n",
      "\n",
      "29.0\n",
      "M0L?\n",
      "\n",
      "[b'M0L?\\r\\n', b'L?-1.000\\r\\n']\n",
      "ans is L?-1.000\n",
      "\n",
      "29.0\n",
      "M0L?\n",
      "\n",
      "[b'M0L?\\r\\n', b'L?-1.000\\r\\n']\n",
      "ans is L?-1.000\n",
      "\n",
      "29.0\n",
      "0 29.05 30\n",
      "M0L-0.950\n",
      "\n",
      "[b'M0L-0.950\\r\\n', b'OK\\r\\n']\n",
      "M0L?\n",
      "\n",
      "[b'M0L?\\r\\n', b'L?-0.950\\r\\n']\n",
      "ans is L?-0.950\n",
      "\n",
      "29.05\n",
      "Initial position was 29.0 mm, after move: 29.05 mm\n"
     ]
    }
   ],
   "source": [
    "# Check Movment capabilities \n",
    "z.set_z(29)\n",
    "z.wait_for_move()\n",
    "pos = z.read_z()\n",
    "z.set_rel_z(0.05)\n",
    "time.sleep(2)\n",
    "final = z.read_z()\n",
    "\n",
    "print(f\"Initial position was {pos} mm, after move: {final} mm\")\n",
    "assert pos != final, print(\"Check Z Stage, it appears it did not move\")"
   ]
  },
  {
   "cell_type": "code",
   "execution_count": 97,
   "metadata": {},
   "outputs": [
    {
     "name": "stdout",
     "output_type": "stream",
     "text": [
      "Thorlabs should stop moving before it reaches 31.743321\n",
      "Final position: 29.747266\n"
     ]
    }
   ],
   "source": [
    "# Check Stop Capabilities\n",
    "pos = z.read_z()\n",
    "z.set_rel_z(5)\n",
    "time.sleep(0.2)\n",
    "z.stop()\n",
    "z.read_z()\n",
    "\n",
    "print(f\"Thorlabs should stop moving before it reaches {pos+2}\")\n",
    "print(f\"Final position: {z.read_z()}\")"
   ]
  },
  {
   "cell_type": "code",
   "execution_count": 255,
   "metadata": {},
   "outputs": [],
   "source": [
    "z.shutdown()\n",
    "ctl.close()"
   ]
  },
  {
   "cell_type": "code",
   "execution_count": 98,
   "metadata": {},
   "outputs": [
    {
     "name": "stderr",
     "output_type": "stream",
     "text": [
      "Exception in thread Thread-32:\n",
      "Traceback (most recent call last):\n",
      "  File \"C:\\Users\\NikonTE300CE\\Miniconda3\\envs\\CEpy37\\lib\\threading.py\", line 926, in _bootstrap_inner\n",
      "    self.run()\n",
      "  File \"C:\\Users\\NikonTE300CE\\Miniconda3\\envs\\CEpy37\\lib\\threading.py\", line 870, in run\n",
      "    self._target(*self._args, **self._kwargs)\n",
      "Thorlabs.MotionControl.DeviceManagerCLI.MoveTimeoutException: Move failed to complete in time\n",
      "   at Thorlabs.MotionControl.GenericMotorCLI.GenericMotorCLI.Wait(Int32 waitTimeout)\n",
      "   at Thorlabs.MotionControl.GenericMotorCLI.AdvancedMotor.GenericAdvancedMotorCLI.MoveJog(MotorDirection direction, Int32 waitTimeout)\n",
      "\n",
      "Exception in thread Thread-33:\n",
      "Traceback (most recent call last):\n",
      "  File \"C:\\Users\\NikonTE300CE\\Miniconda3\\envs\\CEpy37\\lib\\threading.py\", line 926, in _bootstrap_inner\n",
      "    self.run()\n",
      "  File \"C:\\Users\\NikonTE300CE\\Miniconda3\\envs\\CEpy37\\lib\\threading.py\", line 870, in run\n",
      "    self._target(*self._args, **self._kwargs)\n",
      "Thorlabs.MotionControl.DeviceManagerCLI.MoveTimeoutException: Move failed to complete in time\n",
      "   at Thorlabs.MotionControl.GenericMotorCLI.GenericMotorCLI.Wait(Int32 waitTimeout)\n",
      "   at Thorlabs.MotionControl.GenericMotorCLI.AdvancedMotor.GenericAdvancedMotorCLI.MoveJog(MotorDirection direction, Int32 waitTimeout)\n",
      "\n"
     ]
    }
   ],
   "source": [
    "z.shutdown()"
   ]
  },
  {
   "cell_type": "markdown",
   "metadata": {},
   "source": [
    "### Arduino PowerStep Motion"
   ]
  },
  {
   "cell_type": "code",
   "execution_count": null,
   "metadata": {},
   "outputs": [],
   "source": []
  }
 ],
 "metadata": {
  "kernelspec": {
   "display_name": "Python 3",
   "language": "python",
   "name": "python3"
  },
  "language_info": {
   "codemirror_mode": {
    "name": "ipython",
    "version": 3
   },
   "file_extension": ".py",
   "mimetype": "text/x-python",
   "name": "python",
   "nbconvert_exporter": "python",
   "pygments_lexer": "ipython3",
   "version": "3.7.4"
  }
 },
 "nbformat": 4,
 "nbformat_minor": 2
}
