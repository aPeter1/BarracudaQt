{
 "cells": [
  {
   "cell_type": "code",
   "execution_count": 1,
   "metadata": {},
   "outputs": [],
   "source": [
    "import sys\n",
    "import os\n",
    "import numpy as np\n",
    "import time\n",
    "from imp import reload"
   ]
  },
  {
   "cell_type": "code",
   "execution_count": 2,
   "metadata": {},
   "outputs": [
    {
     "name": "stdout",
     "output_type": "stream",
     "text": [
      "new directory is: C:\\Users\\NikonTE300CE\\Desktop\\Barracuda\\AutomatedCE\n"
     ]
    }
   ],
   "source": [
    "# Set the working directory to the AutomatedCE folder so we have access to L1-L4 modules\n",
    "resp = os.getcwd()\n",
    "if 'testing' in resp[-7:]:\n",
    "    os.chdir(os.path.abspath(os.path.join(os.getcwd(), '..')))\n",
    "    print(f\"new directory is: {os.getcwd()}\")"
   ]
  },
  {
   "cell_type": "markdown",
   "metadata": {},
   "source": [
    "# Test 1: DAQ Controllers\n"
   ]
  },
  {
   "cell_type": "code",
   "execution_count": 3,
   "metadata": {},
   "outputs": [],
   "source": [
    "from L1 import DAQControllers"
   ]
  },
  {
   "cell_type": "markdown",
   "metadata": {},
   "source": [
    "## National Instruments DAQ\n",
    "\n",
    "Tests:\n",
    "1. Initialize the DAQ\n",
    "2. Set an analog output Voltage\n",
    "3. Read an analog input voltage\n",
    "4. Set an digitalouput voltage"
   ]
  },
  {
   "cell_type": "code",
   "execution_count": 4,
   "metadata": {},
   "outputs": [
    {
     "name": "stdout",
     "output_type": "stream",
     "text": [
      "Initialize complete...\n"
     ]
    }
   ],
   "source": [
    "ni = DAQControllers.NiDaq()\n",
    "\n",
    "def print_data(data,time,channels,*args):\n",
    "    print(f\"Total samples: {len(data[0])}, average: {np.mean(data)} V \")\n",
    "    \n",
    "ni.add_callback(print_data, ['ai0'], \"wave\",())\n",
    "print(\"Initialize complete...\")"
   ]
  },
  {
   "cell_type": "code",
   "execution_count": 5,
   "metadata": {},
   "outputs": [
    {
     "name": "stdout",
     "output_type": "stream",
     "text": [
      "Analog output voltage set, measure channel ao0. \n",
      "Meter should read 50 mV\n"
     ]
    }
   ],
   "source": [
    "ni.add_analog_output('ao0')\n",
    "ni.set_channel_voltage('ao0',0.05)\n",
    "ni.start_voltage()\n",
    "print(\"Analog output voltage set, measure channel ao0. \\nMeter should read 50 mV\")"
   ]
  },
  {
   "cell_type": "code",
   "execution_count": 6,
   "metadata": {},
   "outputs": [
    {
     "name": "stdout",
     "output_type": "stream",
     "text": [
      "Total samples: 100, average: -5.310797896931989 V \n",
      "There should be 100 samples read in 0.1 s \n",
      "\n",
      "\n"
     ]
    }
   ],
   "source": [
    "ni.add_analog_input('ai0')\n",
    "ni.set_sampling_frequency(1000)\n",
    "ni.start_measurement()\n",
    "time.sleep(.1)\n",
    "ni.stop_measurement()\n",
    "print(\"\\nThere should be 100 samples read in 0.1 s \\n\")"
   ]
  },
  {
   "cell_type": "code",
   "execution_count": 7,
   "metadata": {},
   "outputs": [
    {
     "name": "stdout",
     "output_type": "stream",
     "text": [
      "Digital output on Port0/line0 should read digital High\n"
     ]
    }
   ],
   "source": [
    "ni.add_do_channel('p0.0')\n",
    "ni.set_do_channel('p0.0', True)\n",
    "ni.update_do_channels()\n",
    "print(\"Digital output on Port0/line0 should read digital High\")"
   ]
  },
  {
   "cell_type": "markdown",
   "metadata": {},
   "source": [
    "# Test 2: Linear Motion Utilities\n",
    "\n",
    "tests:\n",
    "1. Home to Zero position\n",
    "2. Read and set position\n",
    "3. Stop movement"
   ]
  },
  {
   "cell_type": "code",
   "execution_count": 6,
   "metadata": {},
   "outputs": [
    {
     "name": "stdout",
     "output_type": "stream",
     "text": [
      "C:\\Users\\NikonTE300CE\\Desktop\\Barracuda\\AutomatedCE\\L1\\MicroControlServer.py\n"
     ]
    },
    {
     "data": {
      "text/plain": [
       "<module 'L1.Controllers' from 'C:\\\\Users\\\\NikonTE300CE\\\\Desktop\\\\Barracuda\\\\AutomatedCE\\\\L1\\\\Controllers.py'>"
      ]
     },
     "execution_count": 6,
     "metadata": {},
     "output_type": "execute_result"
    }
   ],
   "source": [
    "from L1 import Controllers\n",
    "from L2 import ZControl\n",
    "reload(ZControl)\n",
    "reload(Controllers)"
   ]
  },
  {
   "cell_type": "code",
   "execution_count": 3,
   "metadata": {},
   "outputs": [],
   "source": [
    "unit_scalars = {'mm':1, \"um\":1000}\n",
    "# Check Stop Capabilities\n",
    "def check_z_stop(z, units='mm'):\n",
    "    pos = z.read_z()\n",
    "    travel = 4 * unit_scalars[units]\n",
    "    z.set_rel_z(travel)\n",
    "    time.sleep(0.2)\n",
    "    z.stop()\n",
    "    z.read_z()\n",
    "\n",
    "    print(f\"Motor should stop moving before it reaches {pos+travel} {units}\")\n",
    "    print(f\"Final position: {z.read_z()} {units}\")"
   ]
  },
  {
   "cell_type": "code",
   "execution_count": 4,
   "metadata": {},
   "outputs": [],
   "source": [
    "# Check Homing Capability\n",
    "def check_z_homing(z):\n",
    "    z.homing()\n",
    "    print(\"Thorlabs should be at the 0 mm height, powerstep at 29.75 mm\")"
   ]
  },
  {
   "cell_type": "code",
   "execution_count": 5,
   "metadata": {},
   "outputs": [],
   "source": [
    "# Check Movment capabilities \n",
    "def check_z_movement(z, units = 'mm'):\n",
    "    \n",
    "    travel = 0.05 * unit_scalars[units]\n",
    "    pos = z.read_z()\n",
    "    z.set_rel_z(travel)\n",
    "    time.sleep(2)\n",
    "    final = z.read_z()\n",
    "\n",
    "    print(f\"Initial position was {pos} {units}, after move: {final} {units}\")\n",
    "    assert pos != final, print(\"Check Z Stage, it appears it did not move\")"
   ]
  },
  {
   "cell_type": "markdown",
   "metadata": {},
   "source": [
    "### Thorlab Kinesis Motor"
   ]
  },
  {
   "cell_type": "code",
   "execution_count": 39,
   "metadata": {},
   "outputs": [
    {
     "name": "stdout",
     "output_type": "stream",
     "text": [
      "Thorlabs Initialized...\n"
     ]
    }
   ],
   "source": [
    "ser_num = '49125264'\n",
    "z = ZControl.KinesisZ(ser_num,'zstage')\n",
    "z.startup()\n",
    "print(\"Thorlabs Initialized...\")\n"
   ]
  },
  {
   "cell_type": "code",
   "execution_count": 68,
   "metadata": {},
   "outputs": [
    {
     "ename": "TypeError",
     "evalue": "check_z_homing() takes 1 positional argument but 2 were given",
     "output_type": "error",
     "traceback": [
      "\u001b[1;31m---------------------------------------------------------------------------\u001b[0m",
      "\u001b[1;31mTypeError\u001b[0m                                 Traceback (most recent call last)",
      "\u001b[1;32m<ipython-input-68-f59563671e9b>\u001b[0m in \u001b[0;36m<module>\u001b[1;34m\u001b[0m\n\u001b[1;32m----> 1\u001b[1;33m \u001b[0mcheck_z_homing\u001b[0m\u001b[1;33m(\u001b[0m\u001b[0mz\u001b[0m\u001b[1;33m,\u001b[0m \u001b[1;34m'um'\u001b[0m\u001b[1;33m)\u001b[0m\u001b[1;33m\u001b[0m\u001b[1;33m\u001b[0m\u001b[0m\n\u001b[0m",
      "\u001b[1;31mTypeError\u001b[0m: check_z_homing() takes 1 positional argument but 2 were given"
     ]
    }
   ],
   "source": [
    "check_z_homing(z)"
   ]
  },
  {
   "cell_type": "code",
   "execution_count": 66,
   "metadata": {},
   "outputs": [
    {
     "name": "stdout",
     "output_type": "stream",
     "text": [
      "Initial position was 1.0 um, after move: 51.0 um\n"
     ]
    }
   ],
   "source": [
    "check_z_movement(z, 'mm')"
   ]
  },
  {
   "cell_type": "code",
   "execution_count": 70,
   "metadata": {},
   "outputs": [
    {
     "name": "stdout",
     "output_type": "stream",
     "text": [
      "Motor should stop moving before it reaches 4051.0 um\n",
      "Final position: 612.6 um\n"
     ]
    }
   ],
   "source": [
    "check_z_stop(z, 'mm')"
   ]
  },
  {
   "cell_type": "code",
   "execution_count": 71,
   "metadata": {},
   "outputs": [],
   "source": [
    "z.shutdown()"
   ]
  },
  {
   "cell_type": "markdown",
   "metadata": {},
   "source": [
    "### Arduino PowerStep Motion"
   ]
  },
  {
   "cell_type": "code",
   "execution_count": 34,
   "metadata": {},
   "outputs": [],
   "source": [
    "ctl = Controllers.ArduinoController(\"COM8\")\n",
    "ctl.open()\n",
    "z = ZControl.ArduinoZ(ctl, 'zstage')\n",
    "z.startup()"
   ]
  },
  {
   "cell_type": "code",
   "execution_count": 35,
   "metadata": {},
   "outputs": [
    {
     "name": "stdout",
     "output_type": "stream",
     "text": [
      "Thorlabs should be at the 0 mm height, powerstep at 29.75 mm\n"
     ]
    }
   ],
   "source": [
    "check_z_homing(z)"
   ]
  },
  {
   "cell_type": "code",
   "execution_count": 36,
   "metadata": {},
   "outputs": [
    {
     "name": "stdout",
     "output_type": "stream",
     "text": [
      "Initial position was 25.0 mm, after move: 25.05 mm\n"
     ]
    }
   ],
   "source": [
    "z.set_z(25)\n",
    "z.wait_for_move()\n",
    "check_z_movement(z)"
   ]
  },
  {
   "cell_type": "code",
   "execution_count": 37,
   "metadata": {},
   "outputs": [
    {
     "name": "stdout",
     "output_type": "stream",
     "text": [
      "Motor should stop moving before it reaches 27.05\n",
      "Final position: 26.887999999999998\n"
     ]
    }
   ],
   "source": [
    "check_z_stop(z)"
   ]
  },
  {
   "cell_type": "code",
   "execution_count": 38,
   "metadata": {},
   "outputs": [],
   "source": [
    "z.shutdown()\n",
    "ctl.close()"
   ]
  },
  {
   "cell_type": "markdown",
   "metadata": {},
   "source": [
    "### Prior Z Motion"
   ]
  },
  {
   "cell_type": "code",
   "execution_count": 7,
   "metadata": {},
   "outputs": [],
   "source": [
    "ctl = Controllers.PriorController(\"COM9\")\n",
    "ctl.open()\n",
    "z = ZControl.PriorZ(ctl,'zstage')\n",
    "z.startup()\n",
    "z.min_z = -100000\n",
    "z.max_z = 100000"
   ]
  },
  {
   "cell_type": "code",
   "execution_count": 58,
   "metadata": {},
   "outputs": [
    {
     "name": "stderr",
     "output_type": "stream",
     "text": [
      "WARNING:root:Homing not implemented\n"
     ]
    },
    {
     "name": "stdout",
     "output_type": "stream",
     "text": [
      "Thorlabs should be at the 0 mm height, powerstep at 29.75 mm\n"
     ]
    }
   ],
   "source": [
    "check_z_homing(z)"
   ]
  },
  {
   "cell_type": "code",
   "execution_count": 8,
   "metadata": {},
   "outputs": [
    {
     "name": "stdout",
     "output_type": "stream",
     "text": [
      "Initial position was 4051.0 um, after move: 4101.0 um\n"
     ]
    }
   ],
   "source": [
    "check_z_movement(z, 'um')"
   ]
  },
  {
   "cell_type": "code",
   "execution_count": 9,
   "metadata": {},
   "outputs": [
    {
     "name": "stdout",
     "output_type": "stream",
     "text": [
      "Motor should stop moving before it reaches 8101.0 um\n",
      "Final position: 4722.1 um\n"
     ]
    }
   ],
   "source": [
    "check_z_stop(z, 'um')"
   ]
  },
  {
   "cell_type": "code",
   "execution_count": 11,
   "metadata": {},
   "outputs": [],
   "source": [
    "z.shutdown()\n",
    "ctl.close()"
   ]
  },
  {
   "cell_type": "markdown",
   "metadata": {},
   "source": [
    "# Test 3: XY Stage \n",
    "\n",
    "tests:\n",
    "1. check acceleration and velocity settings\n",
    "2. check movement\n",
    "3. check stop\n"
   ]
  },
  {
   "cell_type": "code",
   "execution_count": 108,
   "metadata": {},
   "outputs": [
    {
     "data": {
      "text/plain": [
       "<module 'L1.Controllers' from 'C:\\\\Users\\\\NikonTE300CE\\\\Desktop\\\\Barracuda\\\\AutomatedCE\\\\L1\\\\Controllers.py'>"
      ]
     },
     "execution_count": 108,
     "metadata": {},
     "output_type": "execute_result"
    }
   ],
   "source": [
    "from L1 import Controllers\n",
    "from L2 import XYControl\n",
    "reload(XYControl)\n",
    "reload(Controllers)"
   ]
  },
  {
   "cell_type": "code",
   "execution_count": 120,
   "metadata": {},
   "outputs": [],
   "source": [
    "def check_xy_motor_params(xy):\n",
    "    a = xy.get_acceleration()\n",
    "    v = xy.get_velocity()\n",
    "    print(f\"{a} mm/s/s, and {v} mm/s should be the stage parameters\")\n",
    "    \n",
    "def check_xy_movement(xy):\n",
    "    pos = xy.read_xy()\n",
    "    xy.set_rel_xy([0.05,0.05])\n",
    "    time.sleep(.1)\n",
    "    final = xy.read_xy()\n",
    "    print(\"Stage should move 50 microns towards the back of the scope\"\n",
    "         \"and 50 microns towards the right.\")\n",
    "    print(f\"Original pos {pos}, \\nfinal pos {final} [mm,mm]\")\n",
    "    \n",
    "    \n",
    "def check_xy_stop(xy):\n",
    "    input(\"Move stage to center, press enter when ready\")\n",
    "    pos = xy.read_xy()\n",
    "    xy.set_rel_xy([5,5])\n",
    "    xy.stop()\n",
    "    final = xy.read_xy()\n",
    "    xy.stop()\n",
    "    print(\"Stage should stop before moving 5mm in x and y\\n\"\n",
    "         f\"Original pos: {pos}, final pos: {final}\")\n",
    "    if final[0]-pos[0] >=4.95 or final[1] - pos[1]>=4.95:\n",
    "        print(\"Warning: Stage does not stop when asked!\")\n",
    "    else:\n",
    "        print(\"Stage stopped before 5mm\")\n",
    "    "
   ]
  },
  {
   "cell_type": "markdown",
   "metadata": {},
   "source": [
    "### Prior XY Stage"
   ]
  },
  {
   "cell_type": "code",
   "execution_count": 109,
   "metadata": {},
   "outputs": [],
   "source": [
    "ctl = Controllers.PriorController('COM9')\n",
    "ctl.open()\n",
    "xy = XYControl.PriorXY(ctl,'xystage')\n",
    "xy.startup()"
   ]
  },
  {
   "cell_type": "code",
   "execution_count": 51,
   "metadata": {},
   "outputs": [
    {
     "name": "stdout",
     "output_type": "stream",
     "text": [
      "114.2 mm/s/s, and 19.0 mm/s should be the stage parameters\n"
     ]
    }
   ],
   "source": [
    "check_xy_motor_params(xy)"
   ]
  },
  {
   "cell_type": "code",
   "execution_count": 121,
   "metadata": {},
   "outputs": [
    {
     "name": "stdout",
     "output_type": "stream",
     "text": [
      "Stage should move 50 microns towards the back of the scopeand 50 microns towards the right.\n",
      "Original pos [6.679, -15.758], \n",
      "final pos [6.731, -15.706] [mm,mm]\n"
     ]
    }
   ],
   "source": [
    "check_xy_movement(xy)\n"
   ]
  },
  {
   "cell_type": "code",
   "execution_count": 119,
   "metadata": {},
   "outputs": [
    {
     "name": "stdout",
     "output_type": "stream",
     "text": [
      "Move stage to center, press enter when ready\n",
      "Stage should stop before moving 5mm in x and yOriginal pos: [3.524, -18.93], final pos: [6.679, -15.758]\n",
      "Stage stopped before 5mm\n"
     ]
    }
   ],
   "source": [
    "check_xy_stop(xy)"
   ]
  },
  {
   "cell_type": "code",
   "execution_count": 107,
   "metadata": {},
   "outputs": [],
   "source": [
    "xy.shutdown()\n",
    "ctl.close()"
   ]
  },
  {
   "cell_type": "markdown",
   "metadata": {},
   "source": [
    "# Test 4: Capillary Pressure Control\n",
    "test:\n",
    "1. Turn Pressure On\n",
    "2. Turn Vacuum On\n"
   ]
  },
  {
   "cell_type": "code",
   "execution_count": 129,
   "metadata": {},
   "outputs": [
    {
     "data": {
      "text/plain": [
       "<module 'L1.Controllers' from 'C:\\\\Users\\\\NikonTE300CE\\\\Desktop\\\\Barracuda\\\\AutomatedCE\\\\L1\\\\Controllers.py'>"
      ]
     },
     "execution_count": 129,
     "metadata": {},
     "output_type": "execute_result"
    }
   ],
   "source": [
    "from L1 import Controllers\n",
    "from L2 import PressureControl\n",
    "reload(PressureControl)\n",
    "reload(Controllers)"
   ]
  },
  {
   "cell_type": "code",
   "execution_count": 141,
   "metadata": {},
   "outputs": [],
   "source": [
    "def check_p_pressure(p):\n",
    "    p.rinse_pressure()\n",
    "    input(\"The line should be pressurized, verify and press enter to stop\")\n",
    "    p.release()\n",
    "    return\n",
    "\n",
    "def check_p_vacuum(p):\n",
    "    p.rinse_vacuum()\n",
    "    input(\"The line should be under vacuum, verify and press enter to stop\")\n",
    "    p.release()\n",
    "    return\n"
   ]
  },
  {
   "cell_type": "code",
   "execution_count": 131,
   "metadata": {},
   "outputs": [],
   "source": [
    "ctl = Controllers.ArduinoController('COM8')\n",
    "ctl.open()\n",
    "p = PressureControl.ArduinoPressure(ctl,'outletpressure')\n",
    "p.startup()"
   ]
  },
  {
   "cell_type": "code",
   "execution_count": 140,
   "metadata": {},
   "outputs": [
    {
     "name": "stdout",
     "output_type": "stream",
     "text": [
      "The line should be pressurized, verify and press enter to stop\n"
     ]
    }
   ],
   "source": [
    "check_p_pressure(p)"
   ]
  },
  {
   "cell_type": "code",
   "execution_count": 142,
   "metadata": {},
   "outputs": [
    {
     "name": "stdout",
     "output_type": "stream",
     "text": [
      "The line should be under vacuum, verify and press enter to stop\n"
     ]
    }
   ],
   "source": [
    "check_p_vacuum(p)"
   ]
  },
  {
   "cell_type": "code",
   "execution_count": 143,
   "metadata": {},
   "outputs": [],
   "source": [
    "p.shutdown()\n",
    "ctl.close()"
   ]
  },
  {
   "cell_type": "code",
   "execution_count": null,
   "metadata": {},
   "outputs": [],
   "source": []
  }
 ],
 "metadata": {
  "kernelspec": {
   "display_name": "Python 3",
   "language": "python",
   "name": "python3"
  },
  "language_info": {
   "codemirror_mode": {
    "name": "ipython",
    "version": 3
   },
   "file_extension": ".py",
   "mimetype": "text/x-python",
   "name": "python",
   "nbconvert_exporter": "python",
   "pygments_lexer": "ipython3",
   "version": "3.7.4"
  }
 },
 "nbformat": 4,
 "nbformat_minor": 2
}
