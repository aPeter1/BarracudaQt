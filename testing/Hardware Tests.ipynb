{
 "cells": [
  {
   "cell_type": "code",
   "execution_count": 1,
   "metadata": {},
   "outputs": [
    {
     "name": "stdout",
     "output_type": "stream",
     "text": [
      "new directory is: C:\\Users\\Luke\\Desktop\\Barracuda\\AutomatedCE\n"
     ]
    }
   ],
   "source": [
    "import sys\n",
    "import os\n",
    "import numpy as np\n",
    "import time\n",
    "from imp import reload\n",
    "\n",
    "# Set the working directory to the AutomatedCE folder so we have access to L1-L4 modules\n",
    "resp = os.getcwd()\n",
    "if 'testing' in resp[-7:]:\n",
    "    os.chdir(os.path.abspath(os.path.join(os.getcwd(), '..')))\n",
    "    print(f\"new directory is: {os.getcwd()}\")"
   ]
  },
  {
   "cell_type": "markdown",
   "metadata": {},
   "source": [
    "# Test 1: DAQ Controllers\n"
   ]
  },
  {
   "cell_type": "code",
   "execution_count": 40,
   "metadata": {},
   "outputs": [
    {
     "data": {
      "text/plain": [
       "<module 'L1.DAQControllers' from 'C:\\\\Users\\\\Luke\\\\Desktop\\\\Barracuda\\\\AutomatedCE\\\\L1\\\\DAQControllers.py'>"
      ]
     },
     "execution_count": 40,
     "metadata": {},
     "output_type": "execute_result"
    }
   ],
   "source": [
    "from L1 import DAQControllers\n",
    "reload(DAQControllers)"
   ]
  },
  {
   "cell_type": "markdown",
   "metadata": {},
   "source": [
    "## National Instruments DAQ\n",
    "\n",
    "Tests:\n",
    "1. Initialize the DAQ\n",
    "2. Set an analog output Voltage\n",
    "3. Read an analog input voltage\n",
    "4. Set an digitalouput voltage"
   ]
  },
  {
   "cell_type": "code",
   "execution_count": 41,
   "metadata": {},
   "outputs": [
    {
     "name": "stdout",
     "output_type": "stream",
     "text": [
      "Initialize complete...\n"
     ]
    }
   ],
   "source": [
    "ni = DAQControllers.NiDaq()\n",
    "\n",
    "def print_data(data,time,channels,*args):\n",
    "    print(f\"Total samples: {len(data[0])}, average: {np.mean(data)} V \")\n",
    "    \n",
    "ni.add_callback(print_data, ['ai0'], \"wave\",())\n",
    "print(\"Initialize complete...\")"
   ]
  },
  {
   "cell_type": "code",
   "execution_count": 42,
   "metadata": {},
   "outputs": [
    {
     "name": "stdout",
     "output_type": "stream",
     "text": [
      "Analog output voltage set, measure channel ao0. \n",
      "Meter should read 50 mV\n"
     ]
    }
   ],
   "source": [
    "ni.add_analog_output('ao0')\n",
    "ni.set_channel_voltage('ao0',0.05)\n",
    "ni.start_voltage()\n",
    "print(\"Analog output voltage set, measure channel ao0. \\nMeter should read 50 mV\")"
   ]
  },
  {
   "cell_type": "code",
   "execution_count": 43,
   "metadata": {
    "scrolled": true
   },
   "outputs": [
    {
     "name": "stdout",
     "output_type": "stream",
     "text": [
      "Total samples: 100, average: -0.07994368182079717 V \n",
      "\n",
      "There should be 100 samples read in 0.1 s \n",
      "\n"
     ]
    }
   ],
   "source": [
    "ni.add_analog_input('ai0')\n",
    "ni.set_sampling_frequency(1000)\n",
    "ni.start_measurement()\n",
    "time.sleep(.1)\n",
    "ni.stop_measurement()\n",
    "print(\"\\nThere should be 100 samples read in 0.1 s \\n\")"
   ]
  },
  {
   "cell_type": "code",
   "execution_count": 45,
   "metadata": {},
   "outputs": [
    {
     "name": "stderr",
     "output_type": "stream",
     "text": [
      "WARNING:root:Channel already added\n"
     ]
    },
    {
     "name": "stdout",
     "output_type": "stream",
     "text": [
      "Digital output on port1/line1 should read digital High\n"
     ]
    }
   ],
   "source": [
    "channel = 'p1.1'\n",
    "ni.add_do_channel(channel)\n",
    "ni.set_do_channel(channel, True)\n",
    "ni.update_do_channels()\n",
    "print(f\"Digital output on {ni.interpret_do_channels(channel)} should read digital High\")"
   ]
  },
  {
   "cell_type": "markdown",
   "metadata": {},
   "source": [
    "# Test 2: Linear Motion Utilities\n",
    "\n",
    "tests:\n",
    "1. Home to Zero position\n",
    "2. Read and set position\n",
    "3. Stop movement"
   ]
  },
  {
   "cell_type": "code",
   "execution_count": 37,
   "metadata": {},
   "outputs": [
    {
     "name": "stderr",
     "output_type": "stream",
     "text": [
      "WARNING:root:Path to Thorlabs Kinesis was not found. \n",
      " Change System Config setting if thorlabs is needed. \n",
      "WARNING:root:Path to Thorlabs Kinesis was not found. \n",
      " Change System Config setting if thorlabs is needed. \n"
     ]
    },
    {
     "data": {
      "text/plain": [
       "<module 'L1.Controllers' from 'C:\\\\Users\\\\Luke\\\\Desktop\\\\Barracuda\\\\AutomatedCE\\\\L1\\\\Controllers.py'>"
      ]
     },
     "execution_count": 37,
     "metadata": {},
     "output_type": "execute_result"
    }
   ],
   "source": [
    "from L1 import Controllers\n",
    "from L2 import ZControl\n",
    "reload(ZControl)\n",
    "reload(Controllers)"
   ]
  },
  {
   "cell_type": "code",
   "execution_count": 38,
   "metadata": {},
   "outputs": [],
   "source": [
    "unit_scalars = {'mm':1, \"um\":1000}\n",
    "# Check Stop Capabilities\n",
    "def check_z_stop(z, units='mm'):\n",
    "    pos = z.read_z()\n",
    "    travel = 4 * unit_scalars[units]\n",
    "    z.set_rel_z(travel)\n",
    "    time.sleep(0.2)\n",
    "    z.stop()\n",
    "    z.read_z()\n",
    "\n",
    "    print(f\"Motor should stop moving before it reaches {pos+travel} {units}\")\n",
    "    print(f\"Final position: {z.read_z()} {units}\")"
   ]
  },
  {
   "cell_type": "code",
   "execution_count": 39,
   "metadata": {},
   "outputs": [],
   "source": [
    "# Check Homing Capability\n",
    "def check_z_homing(z):\n",
    "    z.homing()\n",
    "    print(\"Thorlabs should be at the 0 mm height, powerstep at 29.75 mm\")"
   ]
  },
  {
   "cell_type": "code",
   "execution_count": 40,
   "metadata": {},
   "outputs": [],
   "source": [
    "# Check Movment capabilities \n",
    "def check_z_movement(z, units = 'mm'):\n",
    "    \n",
    "    travel = 0.05 * unit_scalars[units]\n",
    "    pos = z.read_z()\n",
    "    z.set_rel_z(travel)\n",
    "    time.sleep(2)\n",
    "    final = z.read_z()\n",
    "\n",
    "    print(f\"Initial position was {pos} {units}, after move: {final} {units}\")\n",
    "    assert pos != final, print(\"Check Z Stage, it appears it did not move\")"
   ]
  },
  {
   "cell_type": "markdown",
   "metadata": {},
   "source": [
    "### Thorlab Kinesis Motor"
   ]
  },
  {
   "cell_type": "code",
   "execution_count": 39,
   "metadata": {},
   "outputs": [
    {
     "name": "stdout",
     "output_type": "stream",
     "text": [
      "Thorlabs Initialized...\n"
     ]
    }
   ],
   "source": [
    "ser_num = '49125264'\n",
    "z = ZControl.KinesisZ(ser_num,'zstage')\n",
    "z.startup()\n",
    "print(\"Thorlabs Initialized...\")\n"
   ]
  },
  {
   "cell_type": "code",
   "execution_count": 68,
   "metadata": {},
   "outputs": [
    {
     "ename": "TypeError",
     "evalue": "check_z_homing() takes 1 positional argument but 2 were given",
     "output_type": "error",
     "traceback": [
      "\u001b[1;31m---------------------------------------------------------------------------\u001b[0m",
      "\u001b[1;31mTypeError\u001b[0m                                 Traceback (most recent call last)",
      "\u001b[1;32m<ipython-input-68-f59563671e9b>\u001b[0m in \u001b[0;36m<module>\u001b[1;34m\u001b[0m\n\u001b[1;32m----> 1\u001b[1;33m \u001b[0mcheck_z_homing\u001b[0m\u001b[1;33m(\u001b[0m\u001b[0mz\u001b[0m\u001b[1;33m,\u001b[0m \u001b[1;34m'um'\u001b[0m\u001b[1;33m)\u001b[0m\u001b[1;33m\u001b[0m\u001b[1;33m\u001b[0m\u001b[0m\n\u001b[0m",
      "\u001b[1;31mTypeError\u001b[0m: check_z_homing() takes 1 positional argument but 2 were given"
     ]
    }
   ],
   "source": [
    "check_z_homing(z)"
   ]
  },
  {
   "cell_type": "code",
   "execution_count": 66,
   "metadata": {},
   "outputs": [
    {
     "name": "stdout",
     "output_type": "stream",
     "text": [
      "Initial position was 1.0 um, after move: 51.0 um\n"
     ]
    }
   ],
   "source": [
    "check_z_movement(z, 'mm')"
   ]
  },
  {
   "cell_type": "code",
   "execution_count": 70,
   "metadata": {},
   "outputs": [
    {
     "name": "stdout",
     "output_type": "stream",
     "text": [
      "Motor should stop moving before it reaches 4051.0 um\n",
      "Final position: 612.6 um\n"
     ]
    }
   ],
   "source": [
    "check_z_stop(z, 'mm')"
   ]
  },
  {
   "cell_type": "code",
   "execution_count": 71,
   "metadata": {},
   "outputs": [],
   "source": [
    "z.shutdown()"
   ]
  },
  {
   "cell_type": "markdown",
   "metadata": {},
   "source": [
    "### Arduino PowerStep Motion"
   ]
  },
  {
   "cell_type": "code",
   "execution_count": 12,
   "metadata": {},
   "outputs": [],
   "source": [
    "ctl = Controllers.ArduinoController(\"COM7\")\n",
    "ctl.open()\n",
    "z = ZControl.ArduinoZ(ctl, 'zstage')\n",
    "z.startup()"
   ]
  },
  {
   "cell_type": "code",
   "execution_count": 14,
   "metadata": {},
   "outputs": [
    {
     "name": "stdout",
     "output_type": "stream",
     "text": [
      "Thorlabs should be at the 0 mm height, powerstep at 29.75 mm\n"
     ]
    }
   ],
   "source": [
    "check_z_homing(z)"
   ]
  },
  {
   "cell_type": "code",
   "execution_count": 15,
   "metadata": {},
   "outputs": [
    {
     "name": "stdout",
     "output_type": "stream",
     "text": [
      "Initial position was 25.0 mm, after move: 25.05 mm\n"
     ]
    }
   ],
   "source": [
    "z.set_z(25)\n",
    "z.wait_for_move()\n",
    "check_z_movement(z)"
   ]
  },
  {
   "cell_type": "code",
   "execution_count": 16,
   "metadata": {},
   "outputs": [
    {
     "name": "stdout",
     "output_type": "stream",
     "text": [
      "Motor should stop moving before it reaches 29.05 mm\n",
      "Final position: 26.845 mm\n"
     ]
    }
   ],
   "source": [
    "check_z_stop(z)"
   ]
  },
  {
   "cell_type": "code",
   "execution_count": 17,
   "metadata": {},
   "outputs": [],
   "source": [
    "z.shutdown()\n",
    "ctl.close()"
   ]
  },
  {
   "cell_type": "markdown",
   "metadata": {},
   "source": [
    "### Prior Z Motion"
   ]
  },
  {
   "cell_type": "code",
   "execution_count": 58,
   "metadata": {},
   "outputs": [
    {
     "name": "stderr",
     "output_type": "stream",
     "text": [
      "WARNING:root:Homing not implemented\n"
     ]
    },
    {
     "name": "stdout",
     "output_type": "stream",
     "text": [
      "Thorlabs should be at the 0 mm height, powerstep at 29.75 mm\n"
     ]
    }
   ],
   "source": [
    "check_z_homing(z)"
   ]
  },
  {
   "cell_type": "code",
   "execution_count": 7,
   "metadata": {},
   "outputs": [],
   "source": [
    "ctl = Controllers.PriorController(\"COM9\")\n",
    "ctl.open()\n",
    "z = ZControl.PriorZ(ctl,'zstage')\n",
    "z.startup()\n",
    "z.min_z = -100000\n",
    "z.max_z = 100000"
   ]
  },
  {
   "cell_type": "code",
   "execution_count": 8,
   "metadata": {},
   "outputs": [
    {
     "name": "stdout",
     "output_type": "stream",
     "text": [
      "Initial position was 4051.0 um, after move: 4101.0 um\n"
     ]
    }
   ],
   "source": [
    "check_z_movement(z, 'um')"
   ]
  },
  {
   "cell_type": "code",
   "execution_count": 9,
   "metadata": {},
   "outputs": [
    {
     "name": "stdout",
     "output_type": "stream",
     "text": [
      "Motor should stop moving before it reaches 8101.0 um\n",
      "Final position: 4722.1 um\n"
     ]
    }
   ],
   "source": [
    "check_z_stop(z, 'um')"
   ]
  },
  {
   "cell_type": "code",
   "execution_count": 44,
   "metadata": {},
   "outputs": [],
   "source": [
    "z.shutdown()\n",
    "ctl.close()"
   ]
  },
  {
   "cell_type": "code",
   "execution_count": 45,
   "metadata": {},
   "outputs": [
    {
     "name": "stderr",
     "output_type": "stream",
     "text": [
      "WARNING:root:Path to Thorlabs Kinesis was not found. \n",
      " Change System Config setting if thorlabs is needed. \n"
     ]
    },
    {
     "data": {
      "text/plain": [
       "<module 'L1.Controllers' from 'C:\\\\Users\\\\Luke\\\\Desktop\\\\Barracuda\\\\AutomatedCE\\\\L1\\\\Controllers.py'>"
      ]
     },
     "execution_count": 45,
     "metadata": {},
     "output_type": "execute_result"
    }
   ],
   "source": [
    "from L1 import Controllers\n",
    "from L2 import ZControl\n",
    "reload(ZControl)\n",
    "reload(Controllers)"
   ]
  },
  {
   "cell_type": "markdown",
   "metadata": {},
   "source": [
    "### Pycromanager Z Motion\n"
   ]
  },
  {
   "cell_type": "code",
   "execution_count": 46,
   "metadata": {},
   "outputs": [],
   "source": [
    "config = r\"C:\\Users\\Luke\\Desktop\\Barracuda\\AutomatedCE\\config\\NikonEclipseTi-NoLight.cfg\"\n",
    "ctl = Controllers.PycromanagerController(config = config)\n",
    "ctl.open()"
   ]
  },
  {
   "cell_type": "code",
   "execution_count": 47,
   "metadata": {},
   "outputs": [],
   "source": [
    "z = ZControl.PycromanagerZ(ctl,'zstage')\n",
    "z.startup()"
   ]
  },
  {
   "cell_type": "code",
   "execution_count": 48,
   "metadata": {},
   "outputs": [
    {
     "name": "stdout",
     "output_type": "stream",
     "text": [
      "Initial position was 0.0 mm, after move: 0.049925000743940476 mm\n"
     ]
    }
   ],
   "source": [
    "check_z_movement(z, 'mm')"
   ]
  },
  {
   "cell_type": "code",
   "execution_count": 49,
   "metadata": {},
   "outputs": [
    {
     "name": "stdout",
     "output_type": "stream",
     "text": [
      "Motor should stop moving before it reaches 4.049900000743568 mm\n",
      "Final position: 0.04990000074356794 mm\n"
     ]
    }
   ],
   "source": [
    "check_z_stop(z, 'mm')"
   ]
  },
  {
   "cell_type": "code",
   "execution_count": null,
   "metadata": {},
   "outputs": [],
   "source": [
    "z.shutdown()\n",
    "ctl.close()"
   ]
  },
  {
   "cell_type": "markdown",
   "metadata": {},
   "source": [
    "# Test 3: XY Stage \n",
    "\n",
    "tests:\n",
    "1. check acceleration and velocity settings\n",
    "2. check movement\n",
    "3. check stop\n"
   ]
  },
  {
   "cell_type": "code",
   "execution_count": 29,
   "metadata": {},
   "outputs": [
    {
     "data": {
      "text/plain": [
       "<module 'L1.Controllers' from 'C:\\\\Users\\\\Luke\\\\Desktop\\\\Barracuda\\\\AutomatedCE\\\\L1\\\\Controllers.py'>"
      ]
     },
     "execution_count": 29,
     "metadata": {},
     "output_type": "execute_result"
    }
   ],
   "source": [
    "from L1 import Controllers\n",
    "from L2 import XYControl\n",
    "reload(XYControl)\n",
    "reload(Controllers)"
   ]
  },
  {
   "cell_type": "code",
   "execution_count": 3,
   "metadata": {},
   "outputs": [],
   "source": [
    "def check_xy_motor_params(xy):\n",
    "    a = xy.get_acceleration()\n",
    "    v = xy.get_velocity()\n",
    "    print(f\"{a} mm/s/s, and {v} mm/s should be the stage parameters\")\n",
    "    \n",
    "def check_xy_movement(xy):\n",
    "    pos = xy.read_xy()\n",
    "    xy.set_rel_xy([0.05,0.05])\n",
    "    time.sleep(.1)\n",
    "    final = xy.read_xy()\n",
    "    print(\"Stage should move 50 microns towards the back of the scope\"\n",
    "         \"and 50 microns towards the right.\")\n",
    "    print(f\"Original pos {pos}, \\nfinal pos {final} [mm,mm]\")\n",
    "    \n",
    "    \n",
    "def check_xy_stop(xy):\n",
    "    input(\"Move stage to center, press enter when ready\")\n",
    "    pos = xy.read_xy()\n",
    "    xy.set_rel_xy([5,5])\n",
    "    xy.stop()\n",
    "    final = xy.read_xy()\n",
    "    xy.stop()\n",
    "    print(\"Stage should stop before moving 5mm in x and y\\n\"\n",
    "         f\"Original pos: {pos}, final pos: {final}\")\n",
    "    if final[0]-pos[0] >=4.95 or final[1] - pos[1]>=4.95:\n",
    "        print(\"Warning: Stage does not stop when asked!\")\n",
    "    else:\n",
    "        print(\"Stage stopped before 5mm\")\n",
    "    "
   ]
  },
  {
   "cell_type": "markdown",
   "metadata": {},
   "source": [
    "### Prior XY Stage"
   ]
  },
  {
   "cell_type": "code",
   "execution_count": 109,
   "metadata": {},
   "outputs": [],
   "source": [
    "ctl = Controllers.PriorController('COM9')\n",
    "ctl.open()\n",
    "xy = XYControl.PriorXY(ctl,'xystage')\n",
    "xy.startup()"
   ]
  },
  {
   "cell_type": "code",
   "execution_count": 51,
   "metadata": {},
   "outputs": [
    {
     "name": "stdout",
     "output_type": "stream",
     "text": [
      "114.2 mm/s/s, and 19.0 mm/s should be the stage parameters\n"
     ]
    }
   ],
   "source": [
    "check_xy_motor_params(xy)"
   ]
  },
  {
   "cell_type": "code",
   "execution_count": 121,
   "metadata": {},
   "outputs": [
    {
     "name": "stdout",
     "output_type": "stream",
     "text": [
      "Stage should move 50 microns towards the back of the scopeand 50 microns towards the right.\n",
      "Original pos [6.679, -15.758], \n",
      "final pos [6.731, -15.706] [mm,mm]\n"
     ]
    }
   ],
   "source": [
    "check_xy_movement(xy)\n"
   ]
  },
  {
   "cell_type": "code",
   "execution_count": 119,
   "metadata": {},
   "outputs": [
    {
     "name": "stdout",
     "output_type": "stream",
     "text": [
      "Move stage to center, press enter when ready\n",
      "Stage should stop before moving 5mm in x and yOriginal pos: [3.524, -18.93], final pos: [6.679, -15.758]\n",
      "Stage stopped before 5mm\n"
     ]
    }
   ],
   "source": [
    "check_xy_stop(xy)"
   ]
  },
  {
   "cell_type": "code",
   "execution_count": 36,
   "metadata": {},
   "outputs": [],
   "source": [
    "xy.shutdown()\n",
    "ctl.close()"
   ]
  },
  {
   "cell_type": "markdown",
   "metadata": {},
   "source": [
    "### MicroManager  Stage"
   ]
  },
  {
   "cell_type": "code",
   "execution_count": 30,
   "metadata": {},
   "outputs": [],
   "source": [
    "config = r\"C:\\Users\\Luke\\Desktop\\Barracuda\\AutomatedCE\\config\\NikonEclipseTi-NoLight.cfg\"\n",
    "ctl = Controllers.PycromanagerController(config = config)\n",
    "ctl.open()"
   ]
  },
  {
   "cell_type": "code",
   "execution_count": 32,
   "metadata": {},
   "outputs": [],
   "source": [
    "xy = XYControl.PycromanagerXY(ctl,'xystage')\n",
    "xy.startup()"
   ]
  },
  {
   "cell_type": "code",
   "execution_count": 33,
   "metadata": {},
   "outputs": [
    {
     "data": {
      "text/plain": [
       "[0.25010000372678043, 0.2499000037238002]"
      ]
     },
     "execution_count": 33,
     "metadata": {},
     "output_type": "execute_result"
    }
   ],
   "source": [
    "xy.read_xy()"
   ]
  },
  {
   "cell_type": "code",
   "execution_count": 34,
   "metadata": {},
   "outputs": [
    {
     "name": "stdout",
     "output_type": "stream",
     "text": [
      "Stage should move 50 microns towards the back of the scopeand 50 microns towards the right.\n",
      "Original pos [0.25010000372678043, 0.2499000037238002], \n",
      "final pos [0.25010000372678043, 0.2499000037238002] [mm,mm]\n"
     ]
    }
   ],
   "source": [
    "check_xy_movement(xy)"
   ]
  },
  {
   "cell_type": "code",
   "execution_count": 35,
   "metadata": {},
   "outputs": [
    {
     "name": "stdout",
     "output_type": "stream",
     "text": [
      "Move stage to center, press enter when ready\n",
      "Stage should stop before moving 5mm in x and y\n",
      "Original pos: [0.3001000044718385, 0.29990000446885823], final pos: [0.3001000044718385, 0.29990000446885823]\n",
      "Stage stopped before 5mm\n"
     ]
    }
   ],
   "source": [
    "check_xy_stop(xy)"
   ]
  },
  {
   "cell_type": "code",
   "execution_count": 28,
   "metadata": {},
   "outputs": [],
   "source": [
    "xy.shutdown()\n",
    "ctl.close()"
   ]
  },
  {
   "cell_type": "markdown",
   "metadata": {},
   "source": [
    "\n",
    "\n",
    "# Test 4: Capillary Pressure Control\n",
    "test:\n",
    "1. Turn Pressure On\n",
    "2. Turn Vacuum On\n"
   ]
  },
  {
   "cell_type": "code",
   "execution_count": 29,
   "metadata": {},
   "outputs": [
    {
     "data": {
      "text/plain": [
       "True"
      ]
     },
     "execution_count": 29,
     "metadata": {},
     "output_type": "execute_result"
    }
   ],
   "source": [
    "os.path.isfile(r'C:\\Users\\Luke\\Desktop\\Barracuda\\AutomatedCE\\L1\\MicroControlServer.py')"
   ]
  },
  {
   "cell_type": "code",
   "execution_count": 34,
   "metadata": {},
   "outputs": [
    {
     "data": {
      "text/plain": [
       "True"
      ]
     },
     "execution_count": 34,
     "metadata": {},
     "output_type": "execute_result"
    }
   ],
   "source": [
    "from L1.Util import get_system_var\n",
    "conda_path = sys.executable.split('CEpy37')[0]\n",
    "PYTHON2_PATH = os.path.join(conda_path, get_system_var('python2path')[0]) # r\"\\CEpy27\\python.exe\"\n",
    "os.path.isfile(PYTHON2_PATH)"
   ]
  },
  {
   "cell_type": "code",
   "execution_count": 33,
   "metadata": {},
   "outputs": [
    {
     "data": {
      "text/plain": [
       "['CEpy27\\\\python.exe']"
      ]
     },
     "execution_count": 33,
     "metadata": {},
     "output_type": "execute_result"
    }
   ],
   "source": [
    "get_system_var('python2path')"
   ]
  },
  {
   "cell_type": "code",
   "execution_count": 129,
   "metadata": {},
   "outputs": [
    {
     "data": {
      "text/plain": [
       "<module 'L1.Controllers' from 'C:\\\\Users\\\\NikonTE300CE\\\\Desktop\\\\Barracuda\\\\AutomatedCE\\\\L1\\\\Controllers.py'>"
      ]
     },
     "execution_count": 129,
     "metadata": {},
     "output_type": "execute_result"
    }
   ],
   "source": [
    "from L1 import Controllers\n",
    "from L2 import PressureControl\n",
    "reload(PressureControl)\n",
    "reload(Controllers)"
   ]
  },
  {
   "cell_type": "code",
   "execution_count": 141,
   "metadata": {},
   "outputs": [],
   "source": [
    "def check_p_pressure(p):\n",
    "    p.rinse_pressure()\n",
    "    input(\"The line should be pressurized, verify and press enter to stop\")\n",
    "    p.release()\n",
    "    return\n",
    "\n",
    "def check_p_vacuum(p):\n",
    "    p.rinse_vacuum()\n",
    "    input(\"The line should be under vacuum, verify and press enter to stop\")\n",
    "    p.release()\n",
    "    return\n"
   ]
  },
  {
   "cell_type": "code",
   "execution_count": 131,
   "metadata": {},
   "outputs": [],
   "source": [
    "ctl = Controllers.ArduinoController('COM8')\n",
    "ctl.open()\n",
    "p = PressureControl.ArduinoPressure(ctl,'outletpressure')\n",
    "p.startup()"
   ]
  },
  {
   "cell_type": "code",
   "execution_count": 140,
   "metadata": {},
   "outputs": [
    {
     "name": "stdout",
     "output_type": "stream",
     "text": [
      "The line should be pressurized, verify and press enter to stop\n"
     ]
    }
   ],
   "source": [
    "check_p_pressure(p)"
   ]
  },
  {
   "cell_type": "code",
   "execution_count": 142,
   "metadata": {},
   "outputs": [
    {
     "name": "stdout",
     "output_type": "stream",
     "text": [
      "The line should be under vacuum, verify and press enter to stop\n"
     ]
    }
   ],
   "source": [
    "check_p_vacuum(p)"
   ]
  },
  {
   "cell_type": "code",
   "execution_count": 143,
   "metadata": {},
   "outputs": [],
   "source": [
    "p.shutdown()\n",
    "ctl.close()"
   ]
  },
  {
   "cell_type": "code",
   "execution_count": 20,
   "metadata": {},
   "outputs": [
    {
     "data": {
      "text/plain": [
       "'C:\\\\Users\\\\Luke\\\\Anaconda3\\\\envs\\\\'"
      ]
     },
     "execution_count": 20,
     "metadata": {},
     "output_type": "execute_result"
    }
   ],
   "source": [
    "conda_path = sys.executable.split('CEpy37')[0]\n",
    "conda_path"
   ]
  },
  {
   "cell_type": "code",
   "execution_count": 24,
   "metadata": {},
   "outputs": [
    {
     "name": "stdout",
     "output_type": "stream",
     "text": [
      "C:\\Users\\Luke\\Desktop\\Barracuda\\AutomatedCE\\L1\\MicroControlServer.py\n"
     ]
    },
    {
     "ename": "FileNotFoundError",
     "evalue": "[WinError 2] The system cannot find the file specified",
     "output_type": "error",
     "traceback": [
      "\u001b[1;31m---------------------------------------------------------------------------\u001b[0m",
      "\u001b[1;31mFileNotFoundError\u001b[0m                         Traceback (most recent call last)",
      "\u001b[1;32m<ipython-input-24-9f91c8847955>\u001b[0m in \u001b[0;36m<module>\u001b[1;34m\u001b[0m\n\u001b[1;32m----> 1\u001b[1;33m \u001b[0mctl\u001b[0m\u001b[1;33m.\u001b[0m\u001b[0mopen\u001b[0m\u001b[1;33m(\u001b[0m\u001b[1;33m)\u001b[0m\u001b[1;33m\u001b[0m\u001b[1;33m\u001b[0m\u001b[0m\n\u001b[0m",
      "\u001b[1;32m~\\Desktop\\Barracuda\\AutomatedCE\\L1\\Controllers.py\u001b[0m in \u001b[0;36mopen\u001b[1;34m(self)\u001b[0m\n\u001b[0;32m    189\u001b[0m         \u001b[1;33m:\u001b[0m\u001b[1;32mreturn\u001b[0m \u001b[0mstate\u001b[0m\u001b[1;33m:\u001b[0m \u001b[0mbool\u001b[0m \u001b[1;33m(\u001b[0m\u001b[0mtrue\u001b[0m\u001b[1;33m/\u001b[0m\u001b[0mfalse\u001b[0m \u001b[1;32mif\u001b[0m \u001b[0mconfig\u001b[0m \u001b[0mloaded\u001b[0m \u001b[0mcorrectly\u001b[0m\u001b[1;33m)\u001b[0m\u001b[1;33m\u001b[0m\u001b[1;33m\u001b[0m\u001b[0m\n\u001b[0;32m    190\u001b[0m         \"\"\"\n\u001b[1;32m--> 191\u001b[1;33m         \u001b[0mself\u001b[0m\u001b[1;33m.\u001b[0m\u001b[0m_mmc\u001b[0m\u001b[1;33m.\u001b[0m\u001b[0mopen\u001b[0m\u001b[1;33m(\u001b[0m\u001b[1;33m)\u001b[0m\u001b[1;33m\u001b[0m\u001b[1;33m\u001b[0m\u001b[0m\n\u001b[0m\u001b[0;32m    192\u001b[0m         \u001b[0mcommand\u001b[0m \u001b[1;33m=\u001b[0m \u001b[1;34m'core,load_config,{}'\u001b[0m\u001b[1;33m.\u001b[0m\u001b[0mformat\u001b[0m\u001b[1;33m(\u001b[0m\u001b[0mself\u001b[0m\u001b[1;33m.\u001b[0m\u001b[0m_config\u001b[0m\u001b[1;33m)\u001b[0m\u001b[1;33m\u001b[0m\u001b[1;33m\u001b[0m\u001b[0m\n\u001b[0;32m    193\u001b[0m         \u001b[0mresponse\u001b[0m \u001b[1;33m=\u001b[0m \u001b[0mself\u001b[0m\u001b[1;33m.\u001b[0m\u001b[0msend_command\u001b[0m\u001b[1;33m(\u001b[0m\u001b[0mcommand\u001b[0m\u001b[1;33m)\u001b[0m\u001b[1;33m\u001b[0m\u001b[1;33m\u001b[0m\u001b[0m\n",
      "\u001b[1;32m~\\Desktop\\Barracuda\\AutomatedCE\\L1\\MicroControlClient.py\u001b[0m in \u001b[0;36mopen\u001b[1;34m(self)\u001b[0m\n\u001b[0;32m     76\u001b[0m             \u001b[0mtime\u001b[0m\u001b[1;33m.\u001b[0m\u001b[0msleep\u001b[0m\u001b[1;33m(\u001b[0m\u001b[1;36m1\u001b[0m\u001b[1;33m)\u001b[0m\u001b[1;33m\u001b[0m\u001b[1;33m\u001b[0m\u001b[0m\n\u001b[0;32m     77\u001b[0m     \u001b[1;32mdef\u001b[0m \u001b[0mopen\u001b[0m\u001b[1;33m(\u001b[0m\u001b[0mself\u001b[0m\u001b[1;33m)\u001b[0m\u001b[1;33m:\u001b[0m\u001b[1;33m\u001b[0m\u001b[1;33m\u001b[0m\u001b[0m\n\u001b[1;32m---> 78\u001b[1;33m         \u001b[1;34m\"\"\" Opens the Python 2 server and starts the connection\"\"\"\u001b[0m\u001b[1;33m\u001b[0m\u001b[1;33m\u001b[0m\u001b[0m\n\u001b[0m\u001b[0;32m     79\u001b[0m         \u001b[1;32mif\u001b[0m \u001b[0mself\u001b[0m\u001b[1;33m.\u001b[0m\u001b[0mconn\u001b[0m \u001b[1;32mis\u001b[0m \u001b[1;32mNone\u001b[0m\u001b[1;33m:\u001b[0m\u001b[1;33m\u001b[0m\u001b[1;33m\u001b[0m\u001b[0m\n\u001b[0;32m     80\u001b[0m             \u001b[0mself\u001b[0m\u001b[1;33m.\u001b[0m\u001b[0mstart_server\u001b[0m\u001b[1;33m(\u001b[0m\u001b[1;33m)\u001b[0m\u001b[1;33m\u001b[0m\u001b[1;33m\u001b[0m\u001b[0m\n",
      "\u001b[1;32m~\\Desktop\\Barracuda\\AutomatedCE\\L1\\MicroControlClient.py\u001b[0m in \u001b[0;36mstart_server\u001b[1;34m(self)\u001b[0m\n\u001b[0;32m     71\u001b[0m         \"\"\"\n\u001b[0;32m     72\u001b[0m         \u001b[0mprint\u001b[0m\u001b[1;33m(\u001b[0m\u001b[0mSERVER_FILE\u001b[0m\u001b[1;33m)\u001b[0m\u001b[1;33m\u001b[0m\u001b[1;33m\u001b[0m\u001b[0m\n\u001b[1;32m---> 73\u001b[1;33m         \u001b[1;32mwith\u001b[0m \u001b[0mself\u001b[0m\u001b[1;33m.\u001b[0m\u001b[0mlock\u001b[0m\u001b[1;33m:\u001b[0m\u001b[1;33m\u001b[0m\u001b[1;33m\u001b[0m\u001b[0m\n\u001b[0m\u001b[0;32m     74\u001b[0m             self.server = subprocess.Popen([PYTHON2_PATH,\n\u001b[0;32m     75\u001b[0m                                             SERVER_FILE, '{}'.format(self.address[1])], stdout=subprocess.PIPE, stdin=subprocess.PIPE)\n",
      "\u001b[1;32m~\\Anaconda3\\envs\\CEpy37\\lib\\subprocess.py\u001b[0m in \u001b[0;36m__init__\u001b[1;34m(self, args, bufsize, executable, stdin, stdout, stderr, preexec_fn, close_fds, shell, cwd, env, universal_newlines, startupinfo, creationflags, restore_signals, start_new_session, pass_fds, encoding, errors, text)\u001b[0m\n\u001b[0;32m    773\u001b[0m                                 \u001b[0mc2pread\u001b[0m\u001b[1;33m,\u001b[0m \u001b[0mc2pwrite\u001b[0m\u001b[1;33m,\u001b[0m\u001b[1;33m\u001b[0m\u001b[1;33m\u001b[0m\u001b[0m\n\u001b[0;32m    774\u001b[0m                                 \u001b[0merrread\u001b[0m\u001b[1;33m,\u001b[0m \u001b[0merrwrite\u001b[0m\u001b[1;33m,\u001b[0m\u001b[1;33m\u001b[0m\u001b[1;33m\u001b[0m\u001b[0m\n\u001b[1;32m--> 775\u001b[1;33m                                 restore_signals, start_new_session)\n\u001b[0m\u001b[0;32m    776\u001b[0m         \u001b[1;32mexcept\u001b[0m\u001b[1;33m:\u001b[0m\u001b[1;33m\u001b[0m\u001b[1;33m\u001b[0m\u001b[0m\n\u001b[0;32m    777\u001b[0m             \u001b[1;31m# Cleanup if the child failed starting.\u001b[0m\u001b[1;33m\u001b[0m\u001b[1;33m\u001b[0m\u001b[1;33m\u001b[0m\u001b[0m\n",
      "\u001b[1;32m~\\Anaconda3\\envs\\CEpy37\\lib\\subprocess.py\u001b[0m in \u001b[0;36m_execute_child\u001b[1;34m(self, args, executable, preexec_fn, close_fds, pass_fds, cwd, env, startupinfo, creationflags, shell, p2cread, p2cwrite, c2pread, c2pwrite, errread, errwrite, unused_restore_signals, unused_start_new_session)\u001b[0m\n\u001b[0;32m   1176\u001b[0m                                          \u001b[0menv\u001b[0m\u001b[1;33m,\u001b[0m\u001b[1;33m\u001b[0m\u001b[1;33m\u001b[0m\u001b[0m\n\u001b[0;32m   1177\u001b[0m                                          \u001b[0mos\u001b[0m\u001b[1;33m.\u001b[0m\u001b[0mfspath\u001b[0m\u001b[1;33m(\u001b[0m\u001b[0mcwd\u001b[0m\u001b[1;33m)\u001b[0m \u001b[1;32mif\u001b[0m \u001b[0mcwd\u001b[0m \u001b[1;32mis\u001b[0m \u001b[1;32mnot\u001b[0m \u001b[1;32mNone\u001b[0m \u001b[1;32melse\u001b[0m \u001b[1;32mNone\u001b[0m\u001b[1;33m,\u001b[0m\u001b[1;33m\u001b[0m\u001b[1;33m\u001b[0m\u001b[0m\n\u001b[1;32m-> 1178\u001b[1;33m                                          startupinfo)\n\u001b[0m\u001b[0;32m   1179\u001b[0m             \u001b[1;32mfinally\u001b[0m\u001b[1;33m:\u001b[0m\u001b[1;33m\u001b[0m\u001b[1;33m\u001b[0m\u001b[0m\n\u001b[0;32m   1180\u001b[0m                 \u001b[1;31m# Child is launched. Close the parent's copy of those pipe\u001b[0m\u001b[1;33m\u001b[0m\u001b[1;33m\u001b[0m\u001b[1;33m\u001b[0m\u001b[0m\n",
      "\u001b[1;31mFileNotFoundError\u001b[0m: [WinError 2] The system cannot find the file specified"
     ]
    }
   ],
   "source": [
    "ctl.open()"
   ]
  },
  {
   "cell_type": "markdown",
   "metadata": {},
   "source": [
    "# Test 5: High Voltage Power Supply\n",
    "\n",
    "test:\n",
    "1. Voltage changes\n",
    "2. Voltage Stop (during timed)\n",
    "\n",
    "**CAUTION:** For these tests, please verify that the system is correctly wired before running the tests.\n",
    "\n",
    "**WARNING: HIGH VOLTAGE**\n"
   ]
  },
  {
   "cell_type": "code",
   "execution_count": 2,
   "metadata": {},
   "outputs": [
    {
     "data": {
      "text/plain": [
       "<module 'L1.DAQControllers' from 'C:\\\\Users\\\\NikonTE300CE\\\\Desktop\\\\Barracuda\\\\AutomatedCE\\\\L1\\\\DAQControllers.py'>"
      ]
     },
     "execution_count": 2,
     "metadata": {},
     "output_type": "execute_result"
    }
   ],
   "source": [
    "from L1 import DAQControllers\n",
    "from L2 import HighVoltageControl\n",
    "reload(HighVoltageControl)\n",
    "reload(DAQControllers)"
   ]
  },
  {
   "cell_type": "code",
   "execution_count": 23,
   "metadata": {},
   "outputs": [],
   "source": [
    "def check_voltage_and_stop(hv):\n",
    "    hv.set_voltage(2)\n",
    "    input(\"Ensure the CE setup is safe to apply voltage, press enter when ready\")\n",
    "    hv.start()\n",
    "    time.sleep(1)\n",
    "    input(f\"Voltage set to {2} and reading {hv.get_voltage():.3f} kV, check gauge if this is correct, press enter to stop\")\n",
    "    \n",
    "    hv.stop()\n",
    "    time.sleep(1)\n",
    "    print(f\"Voltage should be at 0, reading {hv.get_voltage():.3f} kV\")\n",
    "    if not round(hv.get_voltage(),1) == 0:\n",
    "        print (\"WARNING: Voltage did not shut down\")"
   ]
  },
  {
   "cell_type": "markdown",
   "metadata": {},
   "source": [
    "### Spellman High Voltage Power Supply"
   ]
  },
  {
   "cell_type": "code",
   "execution_count": 3,
   "metadata": {},
   "outputs": [],
   "source": [
    "ctl = DAQControllers.NiDaq()\n",
    "ctl.open()\n",
    "hv = HighVoltageControl.SpellmanPowerSupply(ctl,'hv',hv_ao='ao0',hv_ai='ai1', ua_ai='ai2')\n",
    "hv.startup()"
   ]
  },
  {
   "cell_type": "code",
   "execution_count": 20,
   "metadata": {},
   "outputs": [
    {
     "name": "stdout",
     "output_type": "stream",
     "text": [
      "Voltage set to 2 and reading 2.001 kV, check gauge if this is correct, press enter to stop\n",
      "Voltage should be at 0, reading 0.011 kV\n"
     ]
    }
   ],
   "source": [
    "check_voltage_and_stop(hv)"
   ]
  },
  {
   "cell_type": "code",
   "execution_count": 22,
   "metadata": {},
   "outputs": [],
   "source": [
    "hv.shutdown()\n",
    "ctl.close()"
   ]
  },
  {
   "cell_type": "code",
   "execution_count": null,
   "metadata": {},
   "outputs": [],
   "source": []
  }
 ],
 "metadata": {
  "kernelspec": {
   "display_name": "Python 3",
   "language": "python",
   "name": "python3"
  },
  "language_info": {
   "codemirror_mode": {
    "name": "ipython",
    "version": 3
   },
   "file_extension": ".py",
   "mimetype": "text/x-python",
   "name": "python",
   "nbconvert_exporter": "python",
   "pygments_lexer": "ipython3",
   "version": "3.7.4"
  }
 },
 "nbformat": 4,
 "nbformat_minor": 2
}
