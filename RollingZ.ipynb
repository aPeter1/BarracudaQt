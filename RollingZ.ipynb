{
 "cells": [
  {
   "cell_type": "markdown",
   "metadata": {},
   "source": [
    "## Z Stack Annotation\n",
    "\n",
    "Allows a human to annotate what image is focus for a series of Z -stacks"
   ]
  },
  {
   "cell_type": "code",
   "execution_count": 1,
   "metadata": {},
   "outputs": [],
   "source": [
    "# Parameters\n",
    "IMG_DIR = r\"C:\\Users\\NikonEclipseTi\\Documents\\Barracuda\\BarracudaQt\\focus_data\"\n"
   ]
  },
  {
   "cell_type": "code",
   "execution_count": 2,
   "metadata": {},
   "outputs": [
    {
     "name": "stdout",
     "output_type": "stream",
     "text": [
      "There are 0 images to analyze\n"
     ]
    }
   ],
   "source": [
    "# Get a list of all images in a folder\n",
    "import os\n",
    "fl_imgs =[]\n",
    "for file in os.listdir(IMG_DIR):\n",
    "    if file.endswith(\".tiff\"):\n",
    "        if file.find('FL_')>0:\n",
    "            fl_imgs.append(os.path.join(IMG_DIR, file))\n",
    "\n",
    "print(\"There are {} images to analyze\".format(len(fl_imgs)))"
   ]
  },
  {
   "cell_type": "code",
   "execution_count": 2,
   "metadata": {},
   "outputs": [],
   "source": [
    "import pandas as pd\n",
    "import os\n"
   ]
  },
  {
   "cell_type": "code",
   "execution_count": 3,
   "metadata": {},
   "outputs": [
    {
     "data": {
      "text/html": [
       "<div>\n",
       "<style scoped>\n",
       "    .dataframe tbody tr th:only-of-type {\n",
       "        vertical-align: middle;\n",
       "    }\n",
       "\n",
       "    .dataframe tbody tr th {\n",
       "        vertical-align: top;\n",
       "    }\n",
       "\n",
       "    .dataframe thead th {\n",
       "        text-align: right;\n",
       "    }\n",
       "</style>\n",
       "<table border=\"1\" class=\"dataframe\">\n",
       "  <thead>\n",
       "    <tr style=\"text-align: right;\">\n",
       "      <th></th>\n",
       "      <th>Unnamed: 0</th>\n",
       "      <th>Unnamed: 0.1</th>\n",
       "      <th>capillary_z</th>\n",
       "      <th>img_folder</th>\n",
       "      <th>objective_z</th>\n",
       "      <th>slide_movement</th>\n",
       "      <th>well_num</th>\n",
       "      <th>x</th>\n",
       "      <th>y</th>\n",
       "    </tr>\n",
       "  </thead>\n",
       "  <tbody>\n",
       "    <tr>\n",
       "      <td>0</td>\n",
       "      <td>0</td>\n",
       "      <td>0.0</td>\n",
       "      <td>0.1</td>\n",
       "      <td>C:\\Users\\NikonEclipseTi\\Documents\\Barracuda\\Ba...</td>\n",
       "      <td>6137.875091</td>\n",
       "      <td>False</td>\n",
       "      <td>1</td>\n",
       "      <td>4155.100062</td>\n",
       "      <td>1584.900024</td>\n",
       "    </tr>\n",
       "    <tr>\n",
       "      <td>1</td>\n",
       "      <td>1</td>\n",
       "      <td>0.0</td>\n",
       "      <td>0.1</td>\n",
       "      <td>C:\\Users\\NikonEclipseTi\\Documents\\Barracuda\\Ba...</td>\n",
       "      <td>6148.550092</td>\n",
       "      <td>False</td>\n",
       "      <td>1</td>\n",
       "      <td>4213.300063</td>\n",
       "      <td>1442.000021</td>\n",
       "    </tr>\n",
       "    <tr>\n",
       "      <td>2</td>\n",
       "      <td>2</td>\n",
       "      <td>0.0</td>\n",
       "      <td>0.1</td>\n",
       "      <td>C:\\Users\\NikonEclipseTi\\Documents\\Barracuda\\Ba...</td>\n",
       "      <td>6149.275092</td>\n",
       "      <td>False</td>\n",
       "      <td>1</td>\n",
       "      <td>4281.200064</td>\n",
       "      <td>1327.100020</td>\n",
       "    </tr>\n",
       "    <tr>\n",
       "      <td>3</td>\n",
       "      <td>3</td>\n",
       "      <td>0.0</td>\n",
       "      <td>0.1</td>\n",
       "      <td>C:\\Users\\NikonEclipseTi\\Documents\\Barracuda\\Ba...</td>\n",
       "      <td>6149.875092</td>\n",
       "      <td>False</td>\n",
       "      <td>1</td>\n",
       "      <td>4186.500062</td>\n",
       "      <td>1197.500018</td>\n",
       "    </tr>\n",
       "    <tr>\n",
       "      <td>4</td>\n",
       "      <td>4</td>\n",
       "      <td>0.0</td>\n",
       "      <td>0.1</td>\n",
       "      <td>C:\\Users\\NikonEclipseTi\\Documents\\Barracuda\\Ba...</td>\n",
       "      <td>6150.225092</td>\n",
       "      <td>False</td>\n",
       "      <td>1</td>\n",
       "      <td>4149.900062</td>\n",
       "      <td>1093.900016</td>\n",
       "    </tr>\n",
       "  </tbody>\n",
       "</table>\n",
       "</div>"
      ],
      "text/plain": [
       "   Unnamed: 0  Unnamed: 0.1  capillary_z  \\\n",
       "0           0           0.0          0.1   \n",
       "1           1           0.0          0.1   \n",
       "2           2           0.0          0.1   \n",
       "3           3           0.0          0.1   \n",
       "4           4           0.0          0.1   \n",
       "\n",
       "                                          img_folder  objective_z  \\\n",
       "0  C:\\Users\\NikonEclipseTi\\Documents\\Barracuda\\Ba...  6137.875091   \n",
       "1  C:\\Users\\NikonEclipseTi\\Documents\\Barracuda\\Ba...  6148.550092   \n",
       "2  C:\\Users\\NikonEclipseTi\\Documents\\Barracuda\\Ba...  6149.275092   \n",
       "3  C:\\Users\\NikonEclipseTi\\Documents\\Barracuda\\Ba...  6149.875092   \n",
       "4  C:\\Users\\NikonEclipseTi\\Documents\\Barracuda\\Ba...  6150.225092   \n",
       "\n",
       "   slide_movement  well_num            x            y  \n",
       "0           False         1  4155.100062  1584.900024  \n",
       "1           False         1  4213.300063  1442.000021  \n",
       "2           False         1  4281.200064  1327.100020  \n",
       "3           False         1  4186.500062  1197.500018  \n",
       "4           False         1  4149.900062  1093.900016  "
      ]
     },
     "execution_count": 3,
     "metadata": {},
     "output_type": "execute_result"
    }
   ],
   "source": [
    "df = pd.read_csv(os.path.join(IMG_DIR, 'cell_data.csv'))\n",
    "df.head()"
   ]
  },
  {
   "cell_type": "code",
   "execution_count": 4,
   "metadata": {},
   "outputs": [
    {
     "data": {
      "text/plain": [
       "146"
      ]
     },
     "execution_count": 4,
     "metadata": {},
     "output_type": "execute_result"
    }
   ],
   "source": [
    "len(df.img_folder)"
   ]
  },
  {
   "cell_type": "code",
   "execution_count": 15,
   "metadata": {},
   "outputs": [],
   "source": [
    "import os\n",
    "# Cycle Through each folder\n",
    "def grab_images(folder_dir):\n",
    "    # Get a list of all images in a folder\n",
    "    folder_path = os.path.join(IMG_DIR, folder_dir)\n",
    "    imgs =[]\n",
    "    for file in os.listdir(folder_path):\n",
    "        if file.endswith(\".tiff\"):\n",
    "            imgs.append(os.path.join(folder_path,file))\n",
    "\n",
    "    print(\"There are {} images to analyze\".format(len(imgs)))\n",
    "    return imgs\n",
    "# Grab the 0 Image\n",
    "\n",
    "def get_pos(name):\n",
    "    z_pos = name.rsplit('\\\\')[-1].rstrip('.tiff')[-4:]\n",
    "    z_pos = int(z_pos)\n",
    "    return z_pos\n",
    "\n",
    "def find_image(number,imgs):\n",
    "    for name in imgs:\n",
    "        z_pos = get_pos(name)\n",
    "        if z_pos == number:\n",
    "            return name\n",
    "    return False\n",
    "\n",
    "\n",
    "# Display the 0 Image\n",
    "\n",
    "import matplotlib.pyplot as plt\n",
    "from PIL import Image\n",
    "\n",
    "# Display some Focus Measure \n",
    "import cv2\n",
    "import numpy as np\n",
    "\n",
    "def get_z_and_focus(imgs):\n",
    "    z_pos = []\n",
    "    focus = []\n",
    "    for img_name in imgs:\n",
    "        img = Image.open(img_name)\n",
    "        z_pos.append(get_pos(img_name))\n",
    "        focus.append(cv2.Laplacian(np.array(img), cv2.CV_16U).var())\n",
    "    return z_pos, focus\n",
    "\n",
    "# User Enters 'F' for up,  'D' for down, '' to record position\n",
    "from matplotlib.widgets import Button\n",
    "class Correct_Z(object):\n",
    "    ind = 0\n",
    "    folder_ind = 0\n",
    "    \n",
    "    def start(self):\n",
    "        Z,F = self.setup_images()\n",
    "\n",
    "        # Display Image and Focus\n",
    "        f, (a0, a1) = plt.subplots(2, 1, gridspec_kw={'height_ratios': [10, 1]})\n",
    "\n",
    "        a0.imshow(self.img)\n",
    "        a1.scatter(Z,F)\n",
    "        v_line = a1.axvline(self.ind)\n",
    "        \n",
    "        #Save a fields\n",
    "\n",
    "        self.a0=a0\n",
    "        self.a1=a1\n",
    "        self.v_line = v_line \n",
    "        \n",
    "        # Allow user to move through the images\n",
    "        plt.subplots_adjust(bottom=0.1)\n",
    "        self.axsave = plt.axes([0.59, 0.01, 0.1, 0.045])\n",
    "        self.axprev = plt.axes([0.7, 0.01, 0.1, 0.045])\n",
    "        self.axnext = plt.axes([0.81, 0.01, 0.1, 0.045])\n",
    "        self.bsave = Button(self.axsave, 'Save')\n",
    "        self.bsave.on_clicked(self.save_changes)\n",
    "        self.bnext = Button(self.axnext, 'Up')\n",
    "        self.bnext.on_clicked(self.up)\n",
    "        self.bprev = Button(self.axprev, 'Down')\n",
    "        self.bprev.on_clicked(self.down)\n",
    "        plt.show()\n",
    "        \n",
    "    def save_changes(self,event):\n",
    "        self.img.close()\n",
    "        for name in self.imgs:\n",
    "            fold = os.path.dirname(name)\n",
    "            pos = get_pos(name)\n",
    "            basename = os.path.basename(name)\n",
    "            if basename.find('MOD') > 1:\n",
    "                basename = basename[basename.find('MOD')+3:]\n",
    "            new_name = '{:+04.0f}-MOD'.format(self.ind+pos)+basename\n",
    "            os.rename(name, os.path.join(fold, new_name))\n",
    "        self.next_image()\n",
    "    \n",
    "    def next_image(self):\n",
    "        self.ind=0\n",
    "        self.folder_ind +=1\n",
    "        Z,F = self.setup_images()\n",
    "        self.a1.clear()\n",
    "        self.a1.scatter(Z,F)\n",
    "        self.v_line = self.a1.axvline(self.ind)\n",
    "        self.a0.clear()\n",
    "        self.a0.imshow(self.img)\n",
    "    \n",
    "    def setup_images(self):\n",
    "         # Get images from each folder\n",
    "        self.imgs = grab_images(df.img_folder[self.folder_ind])\n",
    "\n",
    "        # Get 0 image\n",
    "        img_name=find_image(self.ind,self.imgs)\n",
    "        self.img = Image.open(img_name)\n",
    "        \n",
    "        # Get Focus measure info\n",
    "        Z,F = get_z_and_focus(self.imgs)\n",
    "        return Z,F\n",
    "    \n",
    "    def move(self):\n",
    "        \n",
    "        if np.abs(self.ind)<10:\n",
    "            return 1\n",
    "        elif np.abs(self.ind)<25:\n",
    "            return 3\n",
    "        elif np.abs(self.ind)<50:\n",
    "            return 5\n",
    "        elif np.abs(self.ind)<100:\n",
    "            return 10\n",
    "        \n",
    "    def up(self, event):\n",
    "        self.img.close()\n",
    "        a0 = self.a0\n",
    "        self.ind += self.move()\n",
    "        a0.clear()\n",
    "        img_name = find_image(self.ind,self.imgs)\n",
    "        self.img = Image.open(img_name)\n",
    "        a0.imshow(self.img)\n",
    "        self.v_line.set_xdata(self.ind)\n",
    "        plt.draw()\n",
    "\n",
    "    def down(self, event):\n",
    "        self.img.close()\n",
    "        a0 = self.a0\n",
    "        self.ind -= self.move()\n",
    "        a0.clear()\n",
    "        img_name = find_image(self.ind,self.imgs)\n",
    "        self.img = Image.open(img_name)\n",
    "        a0.imshow(self.img)\n",
    "        self.v_line.set_xdata(self.ind)\n",
    "        plt.draw()\n",
    "\n",
    "# Cycles through images and renames them according to new position \"{modified_z}_z_stack_{original_z}.tiff\"\n"
   ]
  },
  {
   "cell_type": "code",
   "execution_count": 16,
   "metadata": {},
   "outputs": [
    {
     "name": "stdout",
     "output_type": "stream",
     "text": [
      "There are 49 images to analyze\n",
      "There are 49 images to analyze\n"
     ]
    }
   ],
   "source": [
    "%matplotlib qt \n",
    "z = Correct_Z()\n",
    "z.start()\n",
    "plt.show()"
   ]
  },
  {
   "cell_type": "code",
   "execution_count": null,
   "metadata": {},
   "outputs": [],
   "source": [
    "z.a1.clear()"
   ]
  },
  {
   "cell_type": "code",
   "execution_count": 58,
   "metadata": {},
   "outputs": [
    {
     "name": "stdout",
     "output_type": "stream",
     "text": [
      "There are 49 images to analyze\n"
     ]
    },
    {
     "data": {
      "text/plain": [
       "0"
      ]
     },
     "execution_count": 58,
     "metadata": {},
     "output_type": "execute_result"
    }
   ],
   "source": [
    "\n",
    "# Get images from each folder\n",
    "imgs = grab_images(df.img_folder[0])\n",
    "\n",
    "# Get 0 image\n",
    "img_name=find_image(0,imgs)\n",
    "img = Image.open(img_name)\n",
    "\n",
    "# Get Focus measure info\n",
    "Z,F = get_z_and_focus(imgs)\n",
    "\n",
    "# Display Image and Focus\n",
    "f, (a0, a1) = plt.subplots(2, 1, gridspec_kw={'height_ratios': [10, 1]})\n",
    "\n",
    "a0.imshow(img)\n",
    "a1.scatter(Z,F)\n",
    "v_line = a1.axvline(0)\n",
    "\n",
    "\n",
    "# Allow user to move through the images\n",
    "\n",
    "from matplotlib.widgets import Button\n",
    "callback = Position()\n",
    "plt.subplots_adjust(bottom=0.1)\n",
    "axprev = plt.axes([0.7, 0.01, 0.1, 0.045])\n",
    "axnext = plt.axes([0.81, 0.01, 0.1, 0.045])\n",
    "bnext = Button(axnext, 'Up')\n",
    "bnext.on_clicked(callback.up)\n",
    "bprev = Button(axprev, 'Down')\n",
    "bprev.on_clicked(callback.down)\n",
    "\n",
    "\n",
    "# User saves, and the images are renamed, Next image is shown "
   ]
  },
  {
   "cell_type": "code",
   "execution_count": 69,
   "metadata": {},
   "outputs": [],
   "source": [
    "# Cycle through images and rename each image\n",
    "name = imgs[1]\n",
    "fold = os.path.dirname(name)\n",
    "name = os.path.basename(name)\n",
    "if name.find('MOD') > 1:\n",
    "    name = name[name.find('MOD')+3:]\n",
    "os.rename(imgs[1], os.path.join(fold, '{:+04.0f}-MOD'+name))\n"
   ]
  },
  {
   "cell_type": "code",
   "execution_count": 79,
   "metadata": {},
   "outputs": [
    {
     "data": {
      "text/plain": [
       "'ack_+001.tiff'"
      ]
     },
     "execution_count": 79,
     "metadata": {},
     "output_type": "execute_result"
    }
   ],
   "source": [
    "name.find('_')\n",
    "name[name.find('_')+3:]"
   ]
  },
  {
   "cell_type": "code",
   "execution_count": 20,
   "metadata": {},
   "outputs": [
    {
     "data": {
      "text/plain": [
       "<matplotlib.collections.PathCollection at 0x24d816e7c08>"
      ]
     },
     "execution_count": 20,
     "metadata": {},
     "output_type": "execute_result"
    },
    {
     "data": {
      "image/png": "[encoded data removed]",
      "text/plain": [
       "<Figure size 432x288 with 1 Axes>"
      ]
     },
     "metadata": {
      "needs_background": "light"
     },
     "output_type": "display_data"
    }
   ],
   "source": [
    "plt.scatter(X[:],Y[:])"
   ]
  },
  {
   "cell_type": "code",
   "execution_count": 25,
   "metadata": {},
   "outputs": [
    {
     "data": {
      "text/plain": [
       "[(1, 'e'), (2, 'c'), (4, 'b'), (5, 'a'), (6, 'd')]"
      ]
     },
     "execution_count": 25,
     "metadata": {},
     "output_type": "execute_result"
    }
   ],
   "source": [
    "n\n"
   ]
  },
  {
   "cell_type": "code",
   "execution_count": null,
   "metadata": {},
   "outputs": [],
   "source": []
  }
 ],
 "metadata": {
  "kernelspec": {
   "display_name": "Python 3",
   "language": "python",
   "name": "python3"
  },
  "language_info": {
   "codemirror_mode": {
    "name": "ipython",
    "version": 3
   },
   "file_extension": ".py",
   "mimetype": "text/x-python",
   "name": "python",
   "nbconvert_exporter": "python",
   "pygments_lexer": "ipython3",
   "version": "3.7.4"
  }
 },
 "nbformat": 4,
 "nbformat_minor": 2
}
